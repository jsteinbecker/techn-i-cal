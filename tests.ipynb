{
 "cells": [
  {
   "cell_type": "code",
   "execution_count": 1,
   "metadata": {},
   "outputs": [],
   "source": [
    "import django\n",
    "import pandas as pd\n",
    "django.setup()"
   ]
  },
  {
   "cell_type": "code",
   "execution_count": 2,
   "metadata": {},
   "outputs": [],
   "source": [
    "import os\n",
    "os.environ[\"DJANGO_ALLOW_ASYNC_UNSAFE\"] = \"true\"\n",
    "\n",
    "from sch.models import *\n",
    "import datetime as dt\n",
    "from django.db.models import CharField\n",
    "from django.test import RequestFactory\n",
    "from sch.actions import *\n",
    "from sch.views2 import *"
   ]
  },
  {
   "cell_type": "code",
   "execution_count": 51,
   "metadata": {},
   "outputs": [
    {
     "ename": "FieldError",
     "evalue": "Cannot resolve keyword 'employee' into field. Choices are: action_log, id, last_update, number, percent, periods, scheduleemusr, slots, slug, start_date, status, tagged_items, tags, unfavorable_ratio, version, weeks, workdays, year",
     "output_type": "error",
     "traceback": [
      "\u001b[0;31m---------------------------------------------------------------------------\u001b[0m",
      "\u001b[0;31mFieldError\u001b[0m                                Traceback (most recent call last)",
      "File \u001b[0;32m/workspace/.pyenv_mirror/user/current/lib/python3.8/site-packages/django/db/models/sql/query.py:2142\u001b[0m, in \u001b[0;36mQuery.add_fields\u001b[0;34m(self, field_names, allow_m2m)\u001b[0m\n\u001b[1;32m   2139\u001b[0m \u001b[39mfor\u001b[39;00m name \u001b[39min\u001b[39;00m field_names:\n\u001b[1;32m   2140\u001b[0m     \u001b[39m# Join promotion note - we must not remove any rows here, so\u001b[39;00m\n\u001b[1;32m   2141\u001b[0m     \u001b[39m# if there is no existing joins, use outer join.\u001b[39;00m\n\u001b[0;32m-> 2142\u001b[0m     join_info \u001b[39m=\u001b[39m \u001b[39mself\u001b[39;49m\u001b[39m.\u001b[39;49msetup_joins(\n\u001b[1;32m   2143\u001b[0m         name\u001b[39m.\u001b[39;49msplit(LOOKUP_SEP), opts, alias, allow_many\u001b[39m=\u001b[39;49mallow_m2m\n\u001b[1;32m   2144\u001b[0m     )\n\u001b[1;32m   2145\u001b[0m     targets, final_alias, joins \u001b[39m=\u001b[39m \u001b[39mself\u001b[39m\u001b[39m.\u001b[39mtrim_joins(\n\u001b[1;32m   2146\u001b[0m         join_info\u001b[39m.\u001b[39mtargets,\n\u001b[1;32m   2147\u001b[0m         join_info\u001b[39m.\u001b[39mjoins,\n\u001b[1;32m   2148\u001b[0m         join_info\u001b[39m.\u001b[39mpath,\n\u001b[1;32m   2149\u001b[0m     )\n",
      "File \u001b[0;32m/workspace/.pyenv_mirror/user/current/lib/python3.8/site-packages/django/db/models/sql/query.py:1808\u001b[0m, in \u001b[0;36mQuery.setup_joins\u001b[0;34m(self, names, opts, alias, can_reuse, allow_many, reuse_with_filtered_relation)\u001b[0m\n\u001b[1;32m   1807\u001b[0m \u001b[39mtry\u001b[39;00m:\n\u001b[0;32m-> 1808\u001b[0m     path, final_field, targets, rest \u001b[39m=\u001b[39m \u001b[39mself\u001b[39;49m\u001b[39m.\u001b[39;49mnames_to_path(\n\u001b[1;32m   1809\u001b[0m         names[:pivot],\n\u001b[1;32m   1810\u001b[0m         opts,\n\u001b[1;32m   1811\u001b[0m         allow_many,\n\u001b[1;32m   1812\u001b[0m         fail_on_missing\u001b[39m=\u001b[39;49m\u001b[39mTrue\u001b[39;49;00m,\n\u001b[1;32m   1813\u001b[0m     )\n\u001b[1;32m   1814\u001b[0m \u001b[39mexcept\u001b[39;00m FieldError \u001b[39mas\u001b[39;00m exc:\n",
      "File \u001b[0;32m/workspace/.pyenv_mirror/user/current/lib/python3.8/site-packages/django/db/models/sql/query.py:1709\u001b[0m, in \u001b[0;36mQuery.names_to_path\u001b[0;34m(self, names, opts, allow_many, fail_on_missing)\u001b[0m\n\u001b[1;32m   1702\u001b[0m     available \u001b[39m=\u001b[39m \u001b[39msorted\u001b[39m(\n\u001b[1;32m   1703\u001b[0m         [\n\u001b[1;32m   1704\u001b[0m             \u001b[39m*\u001b[39mget_field_names_from_opts(opts),\n\u001b[0;32m   (...)\u001b[0m\n\u001b[1;32m   1707\u001b[0m         ]\n\u001b[1;32m   1708\u001b[0m     )\n\u001b[0;32m-> 1709\u001b[0m     \u001b[39mraise\u001b[39;00m FieldError(\n\u001b[1;32m   1710\u001b[0m         \u001b[39m\"\u001b[39m\u001b[39mCannot resolve keyword \u001b[39m\u001b[39m'\u001b[39m\u001b[39m%s\u001b[39;00m\u001b[39m'\u001b[39m\u001b[39m into field. \u001b[39m\u001b[39m\"\u001b[39m\n\u001b[1;32m   1711\u001b[0m         \u001b[39m\"\u001b[39m\u001b[39mChoices are: \u001b[39m\u001b[39m%s\u001b[39;00m\u001b[39m\"\u001b[39m \u001b[39m%\u001b[39m (name, \u001b[39m\"\u001b[39m\u001b[39m, \u001b[39m\u001b[39m\"\u001b[39m\u001b[39m.\u001b[39mjoin(available))\n\u001b[1;32m   1712\u001b[0m     )\n\u001b[1;32m   1713\u001b[0m \u001b[39mbreak\u001b[39;00m\n",
      "\u001b[0;31mFieldError\u001b[0m: Cannot resolve keyword 'employee' into field. Choices are: action_log, id, last_update, number, percent, periods, scheduleemusr, slots, slug, start_date, status, tagged_items, tags, unfavorable_ratio, version, weeks, workdays, year",
      "\nDuring handling of the above exception, another exception occurred:\n",
      "\u001b[0;31mFieldError\u001b[0m                                Traceback (most recent call last)",
      "\u001b[1;32m/workspace/techn-i-cal/tests.ipynb Cell 3\u001b[0m in \u001b[0;36m<cell line: 3>\u001b[0;34m()\u001b[0m\n\u001b[1;32m      <a href='vscode-notebook-cell://ssh-remote%2B7b2275736572223a226a747362696f2d746563686e6963616c2d6963666b6965333166646e222c22686f73744e616d65223a226a747362696f2d746563686e6963616c2d6963666b6965333166646e2e7373682e77732d757338332e676974706f642e696f227d/workspace/techn-i-cal/tests.ipynb#X15sdnNjb2RlLXJlbW90ZQ%3D%3D?line=0'>1</a>\u001b[0m \u001b[39mfrom\u001b[39;00m \u001b[39mdjango\u001b[39;00m\u001b[39m.\u001b[39;00m\u001b[39mdb\u001b[39;00m\u001b[39m.\u001b[39;00m\u001b[39mmodels\u001b[39;00m \u001b[39mimport\u001b[39;00m Sum\n\u001b[0;32m----> <a href='vscode-notebook-cell://ssh-remote%2B7b2275736572223a226a747362696f2d746563686e6963616c2d6963666b6965333166646e222c22686f73744e616d65223a226a747362696f2d746563686e6963616c2d6963666b6965333166646e2e7373682e77732d757338332e676974706f642e696f227d/workspace/techn-i-cal/tests.ipynb#X15sdnNjb2RlLXJlbW90ZQ%3D%3D?line=2'>3</a>\u001b[0m employee_hours \u001b[39m=\u001b[39m Schedule\u001b[39m.\u001b[39;49mobjects\u001b[39m.\u001b[39;49mfilter(slots__week__pk__in\u001b[39m=\u001b[39;49m\u001b[39mrange\u001b[39;49m(\u001b[39m1\u001b[39;49m,\u001b[39m7\u001b[39;49m)) \\\n\u001b[1;32m      <a href='vscode-notebook-cell://ssh-remote%2B7b2275736572223a226a747362696f2d746563686e6963616c2d6963666b6965333166646e222c22686f73744e616d65223a226a747362696f2d746563686e6963616c2d6963666b6965333166646e2e7373682e77732d757338332e676974706f642e696f227d/workspace/techn-i-cal/tests.ipynb#X15sdnNjb2RlLXJlbW90ZQ%3D%3D?line=3'>4</a>\u001b[0m     \u001b[39m.\u001b[39;49mvalues(\u001b[39m'\u001b[39;49m\u001b[39memployee\u001b[39;49m\u001b[39m'\u001b[39;49m) \\\n\u001b[1;32m      <a href='vscode-notebook-cell://ssh-remote%2B7b2275736572223a226a747362696f2d746563686e6963616c2d6963666b6965333166646e222c22686f73744e616d65223a226a747362696f2d746563686e6963616c2d6963666b6965333166646e2e7373682e77732d757338332e676974706f642e696f227d/workspace/techn-i-cal/tests.ipynb#X15sdnNjb2RlLXJlbW90ZQ%3D%3D?line=4'>5</a>\u001b[0m     \u001b[39m.\u001b[39mannotate(total_hours\u001b[39m=\u001b[39mSum(\u001b[39m'\u001b[39m\u001b[39mslots__hours\u001b[39m\u001b[39m'\u001b[39m)) \\\n\u001b[1;32m      <a href='vscode-notebook-cell://ssh-remote%2B7b2275736572223a226a747362696f2d746563686e6963616c2d6963666b6965333166646e222c22686f73744e616d65223a226a747362696f2d746563686e6963616c2d6963666b6965333166646e2e7373682e77732d757338332e676974706f642e696f227d/workspace/techn-i-cal/tests.ipynb#X15sdnNjb2RlLXJlbW90ZQ%3D%3D?line=5'>6</a>\u001b[0m     \u001b[39m.\u001b[39morder_by(\u001b[39m'\u001b[39m\u001b[39memployee\u001b[39m\u001b[39m'\u001b[39m)\n",
      "File \u001b[0;32m/workspace/.pyenv_mirror/user/current/lib/python3.8/site-packages/django/db/models/query.py:1297\u001b[0m, in \u001b[0;36mQuerySet.values\u001b[0;34m(self, *fields, **expressions)\u001b[0m\n\u001b[1;32m   1295\u001b[0m \u001b[39mdef\u001b[39;00m \u001b[39mvalues\u001b[39m(\u001b[39mself\u001b[39m, \u001b[39m*\u001b[39mfields, \u001b[39m*\u001b[39m\u001b[39m*\u001b[39mexpressions):\n\u001b[1;32m   1296\u001b[0m     fields \u001b[39m+\u001b[39m\u001b[39m=\u001b[39m \u001b[39mtuple\u001b[39m(expressions)\n\u001b[0;32m-> 1297\u001b[0m     clone \u001b[39m=\u001b[39m \u001b[39mself\u001b[39;49m\u001b[39m.\u001b[39;49m_values(\u001b[39m*\u001b[39;49mfields, \u001b[39m*\u001b[39;49m\u001b[39m*\u001b[39;49mexpressions)\n\u001b[1;32m   1298\u001b[0m     clone\u001b[39m.\u001b[39m_iterable_class \u001b[39m=\u001b[39m ValuesIterable\n\u001b[1;32m   1299\u001b[0m     \u001b[39mreturn\u001b[39;00m clone\n",
      "File \u001b[0;32m/workspace/.pyenv_mirror/user/current/lib/python3.8/site-packages/django/db/models/query.py:1292\u001b[0m, in \u001b[0;36mQuerySet._values\u001b[0;34m(self, *fields, **expressions)\u001b[0m\n\u001b[1;32m   1290\u001b[0m     clone \u001b[39m=\u001b[39m clone\u001b[39m.\u001b[39mannotate(\u001b[39m*\u001b[39m\u001b[39m*\u001b[39mexpressions)\n\u001b[1;32m   1291\u001b[0m clone\u001b[39m.\u001b[39m_fields \u001b[39m=\u001b[39m fields\n\u001b[0;32m-> 1292\u001b[0m clone\u001b[39m.\u001b[39;49mquery\u001b[39m.\u001b[39;49mset_values(fields)\n\u001b[1;32m   1293\u001b[0m \u001b[39mreturn\u001b[39;00m clone\n",
      "File \u001b[0;32m/workspace/.pyenv_mirror/user/current/lib/python3.8/site-packages/django/db/models/sql/query.py:2437\u001b[0m, in \u001b[0;36mQuery.set_values\u001b[0;34m(self, fields)\u001b[0m\n\u001b[1;32m   2434\u001b[0m     \u001b[39mself\u001b[39m\u001b[39m.\u001b[39mgroup_by \u001b[39m=\u001b[39m \u001b[39mtuple\u001b[39m(group_by)\n\u001b[1;32m   2436\u001b[0m \u001b[39mself\u001b[39m\u001b[39m.\u001b[39mvalues_select \u001b[39m=\u001b[39m \u001b[39mtuple\u001b[39m(field_names)\n\u001b[0;32m-> 2437\u001b[0m \u001b[39mself\u001b[39;49m\u001b[39m.\u001b[39;49madd_fields(field_names, \u001b[39mTrue\u001b[39;49;00m)\n",
      "File \u001b[0;32m/workspace/.pyenv_mirror/user/current/lib/python3.8/site-packages/django/db/models/sql/query.py:2175\u001b[0m, in \u001b[0;36mQuery.add_fields\u001b[0;34m(self, field_names, allow_m2m)\u001b[0m\n\u001b[1;32m   2166\u001b[0m \u001b[39melse\u001b[39;00m:\n\u001b[1;32m   2167\u001b[0m     names \u001b[39m=\u001b[39m \u001b[39msorted\u001b[39m(\n\u001b[1;32m   2168\u001b[0m         [\n\u001b[1;32m   2169\u001b[0m             \u001b[39m*\u001b[39mget_field_names_from_opts(opts),\n\u001b[0;32m   (...)\u001b[0m\n\u001b[1;32m   2173\u001b[0m         ]\n\u001b[1;32m   2174\u001b[0m     )\n\u001b[0;32m-> 2175\u001b[0m     \u001b[39mraise\u001b[39;00m FieldError(\n\u001b[1;32m   2176\u001b[0m         \u001b[39m\"\u001b[39m\u001b[39mCannot resolve keyword \u001b[39m\u001b[39m%r\u001b[39;00m\u001b[39m into field. \u001b[39m\u001b[39m\"\u001b[39m\n\u001b[1;32m   2177\u001b[0m         \u001b[39m\"\u001b[39m\u001b[39mChoices are: \u001b[39m\u001b[39m%s\u001b[39;00m\u001b[39m\"\u001b[39m \u001b[39m%\u001b[39m (name, \u001b[39m\"\u001b[39m\u001b[39m, \u001b[39m\u001b[39m\"\u001b[39m\u001b[39m.\u001b[39mjoin(names))\n\u001b[1;32m   2178\u001b[0m     )\n",
      "\u001b[0;31mFieldError\u001b[0m: Cannot resolve keyword 'employee' into field. Choices are: action_log, id, last_update, number, percent, periods, scheduleemusr, slots, slug, start_date, status, tagged_items, tags, unfavorable_ratio, version, weeks, workdays, year"
     ]
    }
   ],
   "source": [
    "from django.db.models import Sum\n",
    "\n",
    "employee_hours = Schedule.objects.filter(slots__week__pk__in=range(1,7)) \\\n",
    "    .values('slot__employee') \\\n",
    "    .annotate(total_hours=Sum('slots__shift__hours')) \\\n",
    "    .order_by('employee')\n"
   ]
  },
  {
   "cell_type": "code",
   "execution_count": 81,
   "metadata": {},
   "outputs": [
    {
     "data": {
      "text/html": [
       "<div>\n",
       "<style scoped>\n",
       "    .dataframe tbody tr th:only-of-type {\n",
       "        vertical-align: middle;\n",
       "    }\n",
       "\n",
       "    .dataframe tbody tr th {\n",
       "        vertical-align: top;\n",
       "    }\n",
       "\n",
       "    .dataframe thead th {\n",
       "        text-align: right;\n",
       "    }\n",
       "</style>\n",
       "<table border=\"1\" class=\"dataframe\">\n",
       "  <thead>\n",
       "    <tr style=\"text-align: right;\">\n",
       "      <th></th>\n",
       "      <th>count</th>\n",
       "    </tr>\n",
       "  </thead>\n",
       "  <tbody>\n",
       "    <tr>\n",
       "      <th>Jaden</th>\n",
       "      <td>106</td>\n",
       "    </tr>\n",
       "    <tr>\n",
       "      <th>None</th>\n",
       "      <td>56</td>\n",
       "    </tr>\n",
       "    <tr>\n",
       "      <th>Tiffany</th>\n",
       "      <td>45</td>\n",
       "    </tr>\n",
       "    <tr>\n",
       "      <th>Josh</th>\n",
       "      <td>33</td>\n",
       "    </tr>\n",
       "    <tr>\n",
       "      <th>Esperanza</th>\n",
       "      <td>20</td>\n",
       "    </tr>\n",
       "    <tr>\n",
       "      <th>Trisha</th>\n",
       "      <td>19</td>\n",
       "    </tr>\n",
       "    <tr>\n",
       "      <th>Leslie</th>\n",
       "      <td>16</td>\n",
       "    </tr>\n",
       "    <tr>\n",
       "      <th>Brianna-A</th>\n",
       "      <td>10</td>\n",
       "    </tr>\n",
       "    <tr>\n",
       "      <th>David</th>\n",
       "      <td>7</td>\n",
       "    </tr>\n",
       "    <tr>\n",
       "      <th>Sabrina</th>\n",
       "      <td>6</td>\n",
       "    </tr>\n",
       "    <tr>\n",
       "      <th>Elisia</th>\n",
       "      <td>4</td>\n",
       "    </tr>\n",
       "    <tr>\n",
       "      <th>Nick</th>\n",
       "      <td>3</td>\n",
       "    </tr>\n",
       "    <tr>\n",
       "      <th>Cheryl</th>\n",
       "      <td>2</td>\n",
       "    </tr>\n",
       "    <tr>\n",
       "      <th>Mandy</th>\n",
       "      <td>2</td>\n",
       "    </tr>\n",
       "    <tr>\n",
       "      <th>Lindsay</th>\n",
       "      <td>1</td>\n",
       "    </tr>\n",
       "  </tbody>\n",
       "</table>\n",
       "</div>"
      ],
      "text/plain": [
       "           count\n",
       "Jaden        106\n",
       "None          56\n",
       "Tiffany       45\n",
       "Josh          33\n",
       "Esperanza     20\n",
       "Trisha        19\n",
       "Leslie        16\n",
       "Brianna-A     10\n",
       "David          7\n",
       "Sabrina        6\n",
       "Elisia         4\n",
       "Nick           3\n",
       "Cheryl         2\n",
       "Mandy          2\n",
       "Lindsay        1"
      ]
     },
     "execution_count": 81,
     "metadata": {},
     "output_type": "execute_result"
    }
   ],
   "source": [
    "df = pd.DataFrame.from_dict(sortDict(tallies,reverse=True), orient='index', columns=['count'])\n",
    "df"
   ]
  },
  {
   "cell_type": "code",
   "execution_count": 82,
   "metadata": {},
   "outputs": [
    {
     "data": {
      "text/plain": [
       "<AxesSubplot:>"
      ]
     },
     "execution_count": 82,
     "metadata": {},
     "output_type": "execute_result"
    },
    {
     "data": {
      "image/png": "[encoded data removed]",
      "image/svg+xml": "<?xml version=\"1.0\" encoding=\"utf-8\" standalone=\"no\"?>\n<!DOCTYPE svg PUBLIC \"-//W3C//DTD SVG 1.1//EN\"\n  \"http://www.w3.org/Graphics/SVG/1.1/DTD/svg11.dtd\">\n<svg xmlns:xlink=\"http://www.w3.org/1999/xlink\" width=\"379.215412pt\" height=\"248.518125pt\" viewBox=\"0 0 379.215412 248.518125\" xmlns=\"http://www.w3.org/2000/svg\" version=\"1.1\">\n <metadata>\n  <rdf:RDF xmlns:dc=\"http://purl.org/dc/elements/1.1/\" xmlns:cc=\"http://creativecommons.org/ns#\" xmlns:rdf=\"http://www.w3.org/1999/02/22-rdf-syntax-ns#\">\n   <cc:Work>\n    <dc:type rdf:resource=\"http://purl.org/dc/dcmitype/StillImage\"/>\n    <dc:date>2023-01-16T18:12:15.579347</dc:date>\n    <dc:format>image/svg+xml</dc:format>\n    <dc:creator>\n     <cc:Agent>\n      <dc:title>Matplotlib v3.5.3, https://matplotlib.org/</dc:title>\n     </cc:Agent>\n    </dc:creator>\n   </cc:Work>\n  </rdf:RDF>\n </metadata>\n <defs>\n  <style type=\"text/css\">*{stroke-linejoin: round; stroke-linecap: butt}</style>\n </defs>\n <g id=\"figure_1\">\n  <g id=\"patch_1\">\n   <path d=\"M 0 248.518125 \nL 379.215412 248.518125 \nL 379.215412 0 \nL 0 0 \nz\n\"/>\n  </g>\n  <g id=\"axes_1\">\n   <g id=\"patch_2\">\n    <path d=\"M 33.2875 224.64 \nL 368.0875 224.64 \nL 368.0875 7.2 \nL 33.2875 7.2 \nz\n\"/>\n   </g>\n   <g id=\"matplotlib.axis_1\">\n    <g id=\"xtick_1\">\n     <g id=\"line2d_1\">\n      <defs>\n       <path id=\"m0cc3f16865\" d=\"M 0 0 \nL 0 3.5 \n\" style=\"stroke: #ffffff; stroke-width: 0.8\"/>\n      </defs>\n      <g>\n       <use xlink:href=\"#m0cc3f16865\" x=\"48.505682\" y=\"224.64\" style=\"fill: #ffffff; stroke: #ffffff; stroke-width: 0.8\"/>\n      </g>\n     </g>\n     <g id=\"text_1\">\n      <!-- Jaden -->\n      <g style=\"fill: #ffffff\" transform=\"translate(34.547088 239.238437)scale(0.1 -0.1)\">\n       <defs>\n        <path id=\"DejaVuSans-4a\" d=\"M 628 4666 \nL 1259 4666 \nL 1259 325 \nQ 1259 -519 939 -900 \nQ 619 -1281 -91 -1281 \nL -331 -1281 \nL -331 -750 \nL -134 -750 \nQ 284 -750 456 -515 \nQ 628 -281 628 325 \nL 628 4666 \nz\n\" transform=\"scale(0.015625)\"/>\n        <path id=\"DejaVuSans-61\" d=\"M 2194 1759 \nQ 1497 1759 1228 1600 \nQ 959 1441 959 1056 \nQ 959 750 1161 570 \nQ 1363 391 1709 391 \nQ 2188 391 2477 730 \nQ 2766 1069 2766 1631 \nL 2766 1759 \nL 2194 1759 \nz\nM 3341 1997 \nL 3341 0 \nL 2766 0 \nL 2766 531 \nQ 2569 213 2275 61 \nQ 1981 -91 1556 -91 \nQ 1019 -91 701 211 \nQ 384 513 384 1019 \nQ 384 1609 779 1909 \nQ 1175 2209 1959 2209 \nL 2766 2209 \nL 2766 2266 \nQ 2766 2663 2505 2880 \nQ 2244 3097 1772 3097 \nQ 1472 3097 1187 3025 \nQ 903 2953 641 2809 \nL 641 3341 \nQ 956 3463 1253 3523 \nQ 1550 3584 1831 3584 \nQ 2591 3584 2966 3190 \nQ 3341 2797 3341 1997 \nz\n\" transform=\"scale(0.015625)\"/>\n        <path id=\"DejaVuSans-64\" d=\"M 2906 2969 \nL 2906 4863 \nL 3481 4863 \nL 3481 0 \nL 2906 0 \nL 2906 525 \nQ 2725 213 2448 61 \nQ 2172 -91 1784 -91 \nQ 1150 -91 751 415 \nQ 353 922 353 1747 \nQ 353 2572 751 3078 \nQ 1150 3584 1784 3584 \nQ 2172 3584 2448 3432 \nQ 2725 3281 2906 2969 \nz\nM 947 1747 \nQ 947 1113 1208 752 \nQ 1469 391 1925 391 \nQ 2381 391 2643 752 \nQ 2906 1113 2906 1747 \nQ 2906 2381 2643 2742 \nQ 2381 3103 1925 3103 \nQ 1469 3103 1208 2742 \nQ 947 2381 947 1747 \nz\n\" transform=\"scale(0.015625)\"/>\n        <path id=\"DejaVuSans-65\" d=\"M 3597 1894 \nL 3597 1613 \nL 953 1613 \nQ 991 1019 1311 708 \nQ 1631 397 2203 397 \nQ 2534 397 2845 478 \nQ 3156 559 3463 722 \nL 3463 178 \nQ 3153 47 2828 -22 \nQ 2503 -91 2169 -91 \nQ 1331 -91 842 396 \nQ 353 884 353 1716 \nQ 353 2575 817 3079 \nQ 1281 3584 2069 3584 \nQ 2775 3584 3186 3129 \nQ 3597 2675 3597 1894 \nz\nM 3022 2063 \nQ 3016 2534 2758 2815 \nQ 2500 3097 2075 3097 \nQ 1594 3097 1305 2825 \nQ 1016 2553 972 2059 \nL 3022 2063 \nz\n\" transform=\"scale(0.015625)\"/>\n        <path id=\"DejaVuSans-6e\" d=\"M 3513 2113 \nL 3513 0 \nL 2938 0 \nL 2938 2094 \nQ 2938 2591 2744 2837 \nQ 2550 3084 2163 3084 \nQ 1697 3084 1428 2787 \nQ 1159 2491 1159 1978 \nL 1159 0 \nL 581 0 \nL 581 3500 \nL 1159 3500 \nL 1159 2956 \nQ 1366 3272 1645 3428 \nQ 1925 3584 2291 3584 \nQ 2894 3584 3203 3211 \nQ 3513 2838 3513 2113 \nz\n\" transform=\"scale(0.015625)\"/>\n       </defs>\n       <use xlink:href=\"#DejaVuSans-4a\"/>\n       <use xlink:href=\"#DejaVuSans-61\" x=\"29.492188\"/>\n       <use xlink:href=\"#DejaVuSans-64\" x=\"90.771484\"/>\n       <use xlink:href=\"#DejaVuSans-65\" x=\"154.248047\"/>\n       <use xlink:href=\"#DejaVuSans-6e\" x=\"215.771484\"/>\n      </g>\n     </g>\n    </g>\n    <g id=\"xtick_2\">\n     <g id=\"line2d_2\">\n      <g>\n       <use xlink:href=\"#m0cc3f16865\" x=\"91.986201\" y=\"224.64\" style=\"fill: #ffffff; stroke: #ffffff; stroke-width: 0.8\"/>\n      </g>\n     </g>\n     <g id=\"text_2\">\n      <!-- Tiffany -->\n      <g style=\"fill: #ffffff\" transform=\"translate(74.986983 239.238437)scale(0.1 -0.1)\">\n       <defs>\n        <path id=\"DejaVuSans-54\" d=\"M -19 4666 \nL 3928 4666 \nL 3928 4134 \nL 2272 4134 \nL 2272 0 \nL 1638 0 \nL 1638 4134 \nL -19 4134 \nL -19 4666 \nz\n\" transform=\"scale(0.015625)\"/>\n        <path id=\"DejaVuSans-69\" d=\"M 603 3500 \nL 1178 3500 \nL 1178 0 \nL 603 0 \nL 603 3500 \nz\nM 603 4863 \nL 1178 4863 \nL 1178 4134 \nL 603 4134 \nL 603 4863 \nz\n\" transform=\"scale(0.015625)\"/>\n        <path id=\"DejaVuSans-66\" d=\"M 2375 4863 \nL 2375 4384 \nL 1825 4384 \nQ 1516 4384 1395 4259 \nQ 1275 4134 1275 3809 \nL 1275 3500 \nL 2222 3500 \nL 2222 3053 \nL 1275 3053 \nL 1275 0 \nL 697 0 \nL 697 3053 \nL 147 3053 \nL 147 3500 \nL 697 3500 \nL 697 3744 \nQ 697 4328 969 4595 \nQ 1241 4863 1831 4863 \nL 2375 4863 \nz\n\" transform=\"scale(0.015625)\"/>\n        <path id=\"DejaVuSans-79\" d=\"M 2059 -325 \nQ 1816 -950 1584 -1140 \nQ 1353 -1331 966 -1331 \nL 506 -1331 \nL 506 -850 \nL 844 -850 \nQ 1081 -850 1212 -737 \nQ 1344 -625 1503 -206 \nL 1606 56 \nL 191 3500 \nL 800 3500 \nL 1894 763 \nL 2988 3500 \nL 3597 3500 \nL 2059 -325 \nz\n\" transform=\"scale(0.015625)\"/>\n       </defs>\n       <use xlink:href=\"#DejaVuSans-54\"/>\n       <use xlink:href=\"#DejaVuSans-69\" x=\"57.958984\"/>\n       <use xlink:href=\"#DejaVuSans-66\" x=\"85.742188\"/>\n       <use xlink:href=\"#DejaVuSans-66\" x=\"120.947266\"/>\n       <use xlink:href=\"#DejaVuSans-61\" x=\"156.152344\"/>\n       <use xlink:href=\"#DejaVuSans-6e\" x=\"217.431641\"/>\n       <use xlink:href=\"#DejaVuSans-79\" x=\"280.810547\"/>\n      </g>\n     </g>\n    </g>\n    <g id=\"xtick_3\">\n     <g id=\"line2d_3\">\n      <g>\n       <use xlink:href=\"#m0cc3f16865\" x=\"135.466721\" y=\"224.64\" style=\"fill: #ffffff; stroke: #ffffff; stroke-width: 0.8\"/>\n      </g>\n     </g>\n     <g id=\"text_3\">\n      <!-- Esperanza -->\n      <g style=\"fill: #ffffff\" transform=\"translate(109.475315 239.238437)scale(0.1 -0.1)\">\n       <defs>\n        <path id=\"DejaVuSans-45\" d=\"M 628 4666 \nL 3578 4666 \nL 3578 4134 \nL 1259 4134 \nL 1259 2753 \nL 3481 2753 \nL 3481 2222 \nL 1259 2222 \nL 1259 531 \nL 3634 531 \nL 3634 0 \nL 628 0 \nL 628 4666 \nz\n\" transform=\"scale(0.015625)\"/>\n        <path id=\"DejaVuSans-73\" d=\"M 2834 3397 \nL 2834 2853 \nQ 2591 2978 2328 3040 \nQ 2066 3103 1784 3103 \nQ 1356 3103 1142 2972 \nQ 928 2841 928 2578 \nQ 928 2378 1081 2264 \nQ 1234 2150 1697 2047 \nL 1894 2003 \nQ 2506 1872 2764 1633 \nQ 3022 1394 3022 966 \nQ 3022 478 2636 193 \nQ 2250 -91 1575 -91 \nQ 1294 -91 989 -36 \nQ 684 19 347 128 \nL 347 722 \nQ 666 556 975 473 \nQ 1284 391 1588 391 \nQ 1994 391 2212 530 \nQ 2431 669 2431 922 \nQ 2431 1156 2273 1281 \nQ 2116 1406 1581 1522 \nL 1381 1569 \nQ 847 1681 609 1914 \nQ 372 2147 372 2553 \nQ 372 3047 722 3315 \nQ 1072 3584 1716 3584 \nQ 2034 3584 2315 3537 \nQ 2597 3491 2834 3397 \nz\n\" transform=\"scale(0.015625)\"/>\n        <path id=\"DejaVuSans-70\" d=\"M 1159 525 \nL 1159 -1331 \nL 581 -1331 \nL 581 3500 \nL 1159 3500 \nL 1159 2969 \nQ 1341 3281 1617 3432 \nQ 1894 3584 2278 3584 \nQ 2916 3584 3314 3078 \nQ 3713 2572 3713 1747 \nQ 3713 922 3314 415 \nQ 2916 -91 2278 -91 \nQ 1894 -91 1617 61 \nQ 1341 213 1159 525 \nz\nM 3116 1747 \nQ 3116 2381 2855 2742 \nQ 2594 3103 2138 3103 \nQ 1681 3103 1420 2742 \nQ 1159 2381 1159 1747 \nQ 1159 1113 1420 752 \nQ 1681 391 2138 391 \nQ 2594 391 2855 752 \nQ 3116 1113 3116 1747 \nz\n\" transform=\"scale(0.015625)\"/>\n        <path id=\"DejaVuSans-72\" d=\"M 2631 2963 \nQ 2534 3019 2420 3045 \nQ 2306 3072 2169 3072 \nQ 1681 3072 1420 2755 \nQ 1159 2438 1159 1844 \nL 1159 0 \nL 581 0 \nL 581 3500 \nL 1159 3500 \nL 1159 2956 \nQ 1341 3275 1631 3429 \nQ 1922 3584 2338 3584 \nQ 2397 3584 2469 3576 \nQ 2541 3569 2628 3553 \nL 2631 2963 \nz\n\" transform=\"scale(0.015625)\"/>\n        <path id=\"DejaVuSans-7a\" d=\"M 353 3500 \nL 3084 3500 \nL 3084 2975 \nL 922 459 \nL 3084 459 \nL 3084 0 \nL 275 0 \nL 275 525 \nL 2438 3041 \nL 353 3041 \nL 353 3500 \nz\n\" transform=\"scale(0.015625)\"/>\n       </defs>\n       <use xlink:href=\"#DejaVuSans-45\"/>\n       <use xlink:href=\"#DejaVuSans-73\" x=\"63.183594\"/>\n       <use xlink:href=\"#DejaVuSans-70\" x=\"115.283203\"/>\n       <use xlink:href=\"#DejaVuSans-65\" x=\"178.759766\"/>\n       <use xlink:href=\"#DejaVuSans-72\" x=\"240.283203\"/>\n       <use xlink:href=\"#DejaVuSans-61\" x=\"281.396484\"/>\n       <use xlink:href=\"#DejaVuSans-6e\" x=\"342.675781\"/>\n       <use xlink:href=\"#DejaVuSans-7a\" x=\"406.054688\"/>\n       <use xlink:href=\"#DejaVuSans-61\" x=\"458.544922\"/>\n      </g>\n     </g>\n    </g>\n    <g id=\"xtick_4\">\n     <g id=\"line2d_4\">\n      <g>\n       <use xlink:href=\"#m0cc3f16865\" x=\"178.94724\" y=\"224.64\" style=\"fill: #ffffff; stroke: #ffffff; stroke-width: 0.8\"/>\n      </g>\n     </g>\n     <g id=\"text_4\">\n      <!-- Leslie -->\n      <g style=\"fill: #ffffff\" transform=\"translate(164.712865 239.238437)scale(0.1 -0.1)\">\n       <defs>\n        <path id=\"DejaVuSans-4c\" d=\"M 628 4666 \nL 1259 4666 \nL 1259 531 \nL 3531 531 \nL 3531 0 \nL 628 0 \nL 628 4666 \nz\n\" transform=\"scale(0.015625)\"/>\n        <path id=\"DejaVuSans-6c\" d=\"M 603 4863 \nL 1178 4863 \nL 1178 0 \nL 603 0 \nL 603 4863 \nz\n\" transform=\"scale(0.015625)\"/>\n       </defs>\n       <use xlink:href=\"#DejaVuSans-4c\"/>\n       <use xlink:href=\"#DejaVuSans-65\" x=\"53.962891\"/>\n       <use xlink:href=\"#DejaVuSans-73\" x=\"115.486328\"/>\n       <use xlink:href=\"#DejaVuSans-6c\" x=\"167.585938\"/>\n       <use xlink:href=\"#DejaVuSans-69\" x=\"195.369141\"/>\n       <use xlink:href=\"#DejaVuSans-65\" x=\"223.152344\"/>\n      </g>\n     </g>\n    </g>\n    <g id=\"xtick_5\">\n     <g id=\"line2d_5\">\n      <g>\n       <use xlink:href=\"#m0cc3f16865\" x=\"222.42776\" y=\"224.64\" style=\"fill: #ffffff; stroke: #ffffff; stroke-width: 0.8\"/>\n      </g>\n     </g>\n     <g id=\"text_5\">\n      <!-- David -->\n      <g style=\"fill: #ffffff\" transform=\"translate(207.991041 239.238437)scale(0.1 -0.1)\">\n       <defs>\n        <path id=\"DejaVuSans-44\" d=\"M 1259 4147 \nL 1259 519 \nL 2022 519 \nQ 2988 519 3436 956 \nQ 3884 1394 3884 2338 \nQ 3884 3275 3436 3711 \nQ 2988 4147 2022 4147 \nL 1259 4147 \nz\nM 628 4666 \nL 1925 4666 \nQ 3281 4666 3915 4102 \nQ 4550 3538 4550 2338 \nQ 4550 1131 3912 565 \nQ 3275 0 1925 0 \nL 628 0 \nL 628 4666 \nz\n\" transform=\"scale(0.015625)\"/>\n        <path id=\"DejaVuSans-76\" d=\"M 191 3500 \nL 800 3500 \nL 1894 563 \nL 2988 3500 \nL 3597 3500 \nL 2284 0 \nL 1503 0 \nL 191 3500 \nz\n\" transform=\"scale(0.015625)\"/>\n       </defs>\n       <use xlink:href=\"#DejaVuSans-44\"/>\n       <use xlink:href=\"#DejaVuSans-61\" x=\"77.001953\"/>\n       <use xlink:href=\"#DejaVuSans-76\" x=\"138.28125\"/>\n       <use xlink:href=\"#DejaVuSans-69\" x=\"197.460938\"/>\n       <use xlink:href=\"#DejaVuSans-64\" x=\"225.244141\"/>\n      </g>\n     </g>\n    </g>\n    <g id=\"xtick_6\">\n     <g id=\"line2d_6\">\n      <g>\n       <use xlink:href=\"#m0cc3f16865\" x=\"265.908279\" y=\"224.64\" style=\"fill: #ffffff; stroke: #ffffff; stroke-width: 0.8\"/>\n      </g>\n     </g>\n     <g id=\"text_6\">\n      <!-- Elisia -->\n      <g style=\"fill: #ffffff\" transform=\"translate(252.912967 239.238437)scale(0.1 -0.1)\">\n       <use xlink:href=\"#DejaVuSans-45\"/>\n       <use xlink:href=\"#DejaVuSans-6c\" x=\"63.183594\"/>\n       <use xlink:href=\"#DejaVuSans-69\" x=\"90.966797\"/>\n       <use xlink:href=\"#DejaVuSans-73\" x=\"118.75\"/>\n       <use xlink:href=\"#DejaVuSans-69\" x=\"170.849609\"/>\n       <use xlink:href=\"#DejaVuSans-61\" x=\"198.632812\"/>\n      </g>\n     </g>\n    </g>\n    <g id=\"xtick_7\">\n     <g id=\"line2d_7\">\n      <g>\n       <use xlink:href=\"#m0cc3f16865\" x=\"309.388799\" y=\"224.64\" style=\"fill: #ffffff; stroke: #ffffff; stroke-width: 0.8\"/>\n      </g>\n     </g>\n     <g id=\"text_7\">\n      <!-- Cheryl -->\n      <g style=\"fill: #ffffff\" transform=\"translate(293.248174 239.238437)scale(0.1 -0.1)\">\n       <defs>\n        <path id=\"DejaVuSans-43\" d=\"M 4122 4306 \nL 4122 3641 \nQ 3803 3938 3442 4084 \nQ 3081 4231 2675 4231 \nQ 1875 4231 1450 3742 \nQ 1025 3253 1025 2328 \nQ 1025 1406 1450 917 \nQ 1875 428 2675 428 \nQ 3081 428 3442 575 \nQ 3803 722 4122 1019 \nL 4122 359 \nQ 3791 134 3420 21 \nQ 3050 -91 2638 -91 \nQ 1578 -91 968 557 \nQ 359 1206 359 2328 \nQ 359 3453 968 4101 \nQ 1578 4750 2638 4750 \nQ 3056 4750 3426 4639 \nQ 3797 4528 4122 4306 \nz\n\" transform=\"scale(0.015625)\"/>\n        <path id=\"DejaVuSans-68\" d=\"M 3513 2113 \nL 3513 0 \nL 2938 0 \nL 2938 2094 \nQ 2938 2591 2744 2837 \nQ 2550 3084 2163 3084 \nQ 1697 3084 1428 2787 \nQ 1159 2491 1159 1978 \nL 1159 0 \nL 581 0 \nL 581 4863 \nL 1159 4863 \nL 1159 2956 \nQ 1366 3272 1645 3428 \nQ 1925 3584 2291 3584 \nQ 2894 3584 3203 3211 \nQ 3513 2838 3513 2113 \nz\n\" transform=\"scale(0.015625)\"/>\n       </defs>\n       <use xlink:href=\"#DejaVuSans-43\"/>\n       <use xlink:href=\"#DejaVuSans-68\" x=\"69.824219\"/>\n       <use xlink:href=\"#DejaVuSans-65\" x=\"133.203125\"/>\n       <use xlink:href=\"#DejaVuSans-72\" x=\"194.726562\"/>\n       <use xlink:href=\"#DejaVuSans-79\" x=\"235.839844\"/>\n       <use xlink:href=\"#DejaVuSans-6c\" x=\"295.019531\"/>\n      </g>\n     </g>\n    </g>\n    <g id=\"xtick_8\">\n     <g id=\"line2d_8\">\n      <g>\n       <use xlink:href=\"#m0cc3f16865\" x=\"352.869318\" y=\"224.64\" style=\"fill: #ffffff; stroke: #ffffff; stroke-width: 0.8\"/>\n      </g>\n     </g>\n     <g id=\"text_8\">\n      <!-- Lindsay -->\n      <g style=\"fill: #ffffff\" transform=\"translate(333.723224 239.238437)scale(0.1 -0.1)\">\n       <use xlink:href=\"#DejaVuSans-4c\"/>\n       <use xlink:href=\"#DejaVuSans-69\" x=\"55.712891\"/>\n       <use xlink:href=\"#DejaVuSans-6e\" x=\"83.496094\"/>\n       <use xlink:href=\"#DejaVuSans-64\" x=\"146.875\"/>\n       <use xlink:href=\"#DejaVuSans-73\" x=\"210.351562\"/>\n       <use xlink:href=\"#DejaVuSans-61\" x=\"262.451172\"/>\n       <use xlink:href=\"#DejaVuSans-79\" x=\"323.730469\"/>\n      </g>\n     </g>\n    </g>\n   </g>\n   <g id=\"matplotlib.axis_2\">\n    <g id=\"ytick_1\">\n     <g id=\"line2d_9\">\n      <defs>\n       <path id=\"m7b4d91e9b6\" d=\"M 0 0 \nL -3.5 0 \n\" style=\"stroke: #ffffff; stroke-width: 0.8\"/>\n      </defs>\n      <g>\n       <use xlink:href=\"#m7b4d91e9b6\" x=\"33.2875\" y=\"216.638961\" style=\"fill: #ffffff; stroke: #ffffff; stroke-width: 0.8\"/>\n      </g>\n     </g>\n     <g id=\"text_9\">\n      <!-- 0 -->\n      <g style=\"fill: #ffffff\" transform=\"translate(19.925 220.43818)scale(0.1 -0.1)\">\n       <defs>\n        <path id=\"DejaVuSans-30\" d=\"M 2034 4250 \nQ 1547 4250 1301 3770 \nQ 1056 3291 1056 2328 \nQ 1056 1369 1301 889 \nQ 1547 409 2034 409 \nQ 2525 409 2770 889 \nQ 3016 1369 3016 2328 \nQ 3016 3291 2770 3770 \nQ 2525 4250 2034 4250 \nz\nM 2034 4750 \nQ 2819 4750 3233 4129 \nQ 3647 3509 3647 2328 \nQ 3647 1150 3233 529 \nQ 2819 -91 2034 -91 \nQ 1250 -91 836 529 \nQ 422 1150 422 2328 \nQ 422 3509 836 4129 \nQ 1250 4750 2034 4750 \nz\n\" transform=\"scale(0.015625)\"/>\n       </defs>\n       <use xlink:href=\"#DejaVuSans-30\"/>\n      </g>\n     </g>\n    </g>\n    <g id=\"ytick_2\">\n     <g id=\"line2d_10\">\n      <g>\n       <use xlink:href=\"#m7b4d91e9b6\" x=\"33.2875\" y=\"178.987013\" style=\"fill: #ffffff; stroke: #ffffff; stroke-width: 0.8\"/>\n      </g>\n     </g>\n     <g id=\"text_10\">\n      <!-- 20 -->\n      <g style=\"fill: #ffffff\" transform=\"translate(13.5625 182.786232)scale(0.1 -0.1)\">\n       <defs>\n        <path id=\"DejaVuSans-32\" d=\"M 1228 531 \nL 3431 531 \nL 3431 0 \nL 469 0 \nL 469 531 \nQ 828 903 1448 1529 \nQ 2069 2156 2228 2338 \nQ 2531 2678 2651 2914 \nQ 2772 3150 2772 3378 \nQ 2772 3750 2511 3984 \nQ 2250 4219 1831 4219 \nQ 1534 4219 1204 4116 \nQ 875 4013 500 3803 \nL 500 4441 \nQ 881 4594 1212 4672 \nQ 1544 4750 1819 4750 \nQ 2544 4750 2975 4387 \nQ 3406 4025 3406 3419 \nQ 3406 3131 3298 2873 \nQ 3191 2616 2906 2266 \nQ 2828 2175 2409 1742 \nQ 1991 1309 1228 531 \nz\n\" transform=\"scale(0.015625)\"/>\n       </defs>\n       <use xlink:href=\"#DejaVuSans-32\"/>\n       <use xlink:href=\"#DejaVuSans-30\" x=\"63.623047\"/>\n      </g>\n     </g>\n    </g>\n    <g id=\"ytick_3\">\n     <g id=\"line2d_11\">\n      <g>\n       <use xlink:href=\"#m7b4d91e9b6\" x=\"33.2875\" y=\"141.335065\" style=\"fill: #ffffff; stroke: #ffffff; stroke-width: 0.8\"/>\n      </g>\n     </g>\n     <g id=\"text_11\">\n      <!-- 40 -->\n      <g style=\"fill: #ffffff\" transform=\"translate(13.5625 145.134284)scale(0.1 -0.1)\">\n       <defs>\n        <path id=\"DejaVuSans-34\" d=\"M 2419 4116 \nL 825 1625 \nL 2419 1625 \nL 2419 4116 \nz\nM 2253 4666 \nL 3047 4666 \nL 3047 1625 \nL 3713 1625 \nL 3713 1100 \nL 3047 1100 \nL 3047 0 \nL 2419 0 \nL 2419 1100 \nL 313 1100 \nL 313 1709 \nL 2253 4666 \nz\n\" transform=\"scale(0.015625)\"/>\n       </defs>\n       <use xlink:href=\"#DejaVuSans-34\"/>\n       <use xlink:href=\"#DejaVuSans-30\" x=\"63.623047\"/>\n      </g>\n     </g>\n    </g>\n    <g id=\"ytick_4\">\n     <g id=\"line2d_12\">\n      <g>\n       <use xlink:href=\"#m7b4d91e9b6\" x=\"33.2875\" y=\"103.683117\" style=\"fill: #ffffff; stroke: #ffffff; stroke-width: 0.8\"/>\n      </g>\n     </g>\n     <g id=\"text_12\">\n      <!-- 60 -->\n      <g style=\"fill: #ffffff\" transform=\"translate(13.5625 107.482336)scale(0.1 -0.1)\">\n       <defs>\n        <path id=\"DejaVuSans-36\" d=\"M 2113 2584 \nQ 1688 2584 1439 2293 \nQ 1191 2003 1191 1497 \nQ 1191 994 1439 701 \nQ 1688 409 2113 409 \nQ 2538 409 2786 701 \nQ 3034 994 3034 1497 \nQ 3034 2003 2786 2293 \nQ 2538 2584 2113 2584 \nz\nM 3366 4563 \nL 3366 3988 \nQ 3128 4100 2886 4159 \nQ 2644 4219 2406 4219 \nQ 1781 4219 1451 3797 \nQ 1122 3375 1075 2522 \nQ 1259 2794 1537 2939 \nQ 1816 3084 2150 3084 \nQ 2853 3084 3261 2657 \nQ 3669 2231 3669 1497 \nQ 3669 778 3244 343 \nQ 2819 -91 2113 -91 \nQ 1303 -91 875 529 \nQ 447 1150 447 2328 \nQ 447 3434 972 4092 \nQ 1497 4750 2381 4750 \nQ 2619 4750 2861 4703 \nQ 3103 4656 3366 4563 \nz\n\" transform=\"scale(0.015625)\"/>\n       </defs>\n       <use xlink:href=\"#DejaVuSans-36\"/>\n       <use xlink:href=\"#DejaVuSans-30\" x=\"63.623047\"/>\n      </g>\n     </g>\n    </g>\n    <g id=\"ytick_5\">\n     <g id=\"line2d_13\">\n      <g>\n       <use xlink:href=\"#m7b4d91e9b6\" x=\"33.2875\" y=\"66.031169\" style=\"fill: #ffffff; stroke: #ffffff; stroke-width: 0.8\"/>\n      </g>\n     </g>\n     <g id=\"text_13\">\n      <!-- 80 -->\n      <g style=\"fill: #ffffff\" transform=\"translate(13.5625 69.830388)scale(0.1 -0.1)\">\n       <defs>\n        <path id=\"DejaVuSans-38\" d=\"M 2034 2216 \nQ 1584 2216 1326 1975 \nQ 1069 1734 1069 1313 \nQ 1069 891 1326 650 \nQ 1584 409 2034 409 \nQ 2484 409 2743 651 \nQ 3003 894 3003 1313 \nQ 3003 1734 2745 1975 \nQ 2488 2216 2034 2216 \nz\nM 1403 2484 \nQ 997 2584 770 2862 \nQ 544 3141 544 3541 \nQ 544 4100 942 4425 \nQ 1341 4750 2034 4750 \nQ 2731 4750 3128 4425 \nQ 3525 4100 3525 3541 \nQ 3525 3141 3298 2862 \nQ 3072 2584 2669 2484 \nQ 3125 2378 3379 2068 \nQ 3634 1759 3634 1313 \nQ 3634 634 3220 271 \nQ 2806 -91 2034 -91 \nQ 1263 -91 848 271 \nQ 434 634 434 1313 \nQ 434 1759 690 2068 \nQ 947 2378 1403 2484 \nz\nM 1172 3481 \nQ 1172 3119 1398 2916 \nQ 1625 2713 2034 2713 \nQ 2441 2713 2670 2916 \nQ 2900 3119 2900 3481 \nQ 2900 3844 2670 4047 \nQ 2441 4250 2034 4250 \nQ 1625 4250 1398 4047 \nQ 1172 3844 1172 3481 \nz\n\" transform=\"scale(0.015625)\"/>\n       </defs>\n       <use xlink:href=\"#DejaVuSans-38\"/>\n       <use xlink:href=\"#DejaVuSans-30\" x=\"63.623047\"/>\n      </g>\n     </g>\n    </g>\n    <g id=\"ytick_6\">\n     <g id=\"line2d_14\">\n      <g>\n       <use xlink:href=\"#m7b4d91e9b6\" x=\"33.2875\" y=\"28.379221\" style=\"fill: #ffffff; stroke: #ffffff; stroke-width: 0.8\"/>\n      </g>\n     </g>\n     <g id=\"text_14\">\n      <!-- 100 -->\n      <g style=\"fill: #ffffff\" transform=\"translate(7.2 32.17844)scale(0.1 -0.1)\">\n       <defs>\n        <path id=\"DejaVuSans-31\" d=\"M 794 531 \nL 1825 531 \nL 1825 4091 \nL 703 3866 \nL 703 4441 \nL 1819 4666 \nL 2450 4666 \nL 2450 531 \nL 3481 531 \nL 3481 0 \nL 794 0 \nL 794 531 \nz\n\" transform=\"scale(0.015625)\"/>\n       </defs>\n       <use xlink:href=\"#DejaVuSans-31\"/>\n       <use xlink:href=\"#DejaVuSans-30\" x=\"63.623047\"/>\n       <use xlink:href=\"#DejaVuSans-30\" x=\"127.246094\"/>\n      </g>\n     </g>\n    </g>\n   </g>\n   <g id=\"line2d_15\">\n    <path d=\"M 48.505682 17.083636 \nL 70.245942 111.213506 \nL 91.986201 131.922078 \nL 113.726461 154.513247 \nL 135.466721 178.987013 \nL 157.206981 180.86961 \nL 178.94724 186.517403 \nL 200.6875 197.812987 \nL 222.42776 203.460779 \nL 244.168019 205.343377 \nL 265.908279 209.108571 \nL 287.648539 210.991169 \nL 309.388799 212.873766 \nL 331.129058 212.873766 \nL 352.869318 214.756364 \n\" clip-path=\"url(#pabbebfe02a)\" style=\"fill: none; stroke: #8dd3c7; stroke-width: 1.5; stroke-linecap: square\"/>\n   </g>\n   <g id=\"patch_3\">\n    <path d=\"M 33.2875 224.64 \nL 33.2875 7.2 \n\" style=\"fill: none; stroke: #ffffff; stroke-width: 0.8; stroke-linejoin: miter; stroke-linecap: square\"/>\n   </g>\n   <g id=\"patch_4\">\n    <path d=\"M 368.0875 224.64 \nL 368.0875 7.2 \n\" style=\"fill: none; stroke: #ffffff; stroke-width: 0.8; stroke-linejoin: miter; stroke-linecap: square\"/>\n   </g>\n   <g id=\"patch_5\">\n    <path d=\"M 33.2875 224.64 \nL 368.0875 224.64 \n\" style=\"fill: none; stroke: #ffffff; stroke-width: 0.8; stroke-linejoin: miter; stroke-linecap: square\"/>\n   </g>\n   <g id=\"patch_6\">\n    <path d=\"M 33.2875 7.2 \nL 368.0875 7.2 \n\" style=\"fill: none; stroke: #ffffff; stroke-width: 0.8; stroke-linejoin: miter; stroke-linecap: square\"/>\n   </g>\n   <g id=\"legend_1\">\n    <g id=\"patch_7\">\n     <path d=\"M 300.875 29.878125 \nL 361.0875 29.878125 \nQ 363.0875 29.878125 363.0875 27.878125 \nL 363.0875 14.2 \nQ 363.0875 12.2 361.0875 12.2 \nL 300.875 12.2 \nQ 298.875 12.2 298.875 14.2 \nL 298.875 27.878125 \nQ 298.875 29.878125 300.875 29.878125 \nz\n\" style=\"opacity: 0.8; stroke: #cccccc; stroke-linejoin: miter\"/>\n    </g>\n    <g id=\"line2d_16\">\n     <path d=\"M 302.875 20.298437 \nL 312.875 20.298437 \nL 322.875 20.298437 \n\" style=\"fill: none; stroke: #8dd3c7; stroke-width: 1.5; stroke-linecap: square\"/>\n    </g>\n    <g id=\"text_15\">\n     <!-- count -->\n     <g style=\"fill: #ffffff\" transform=\"translate(330.875 23.798437)scale(0.1 -0.1)\">\n      <defs>\n       <path id=\"DejaVuSans-63\" d=\"M 3122 3366 \nL 3122 2828 \nQ 2878 2963 2633 3030 \nQ 2388 3097 2138 3097 \nQ 1578 3097 1268 2742 \nQ 959 2388 959 1747 \nQ 959 1106 1268 751 \nQ 1578 397 2138 397 \nQ 2388 397 2633 464 \nQ 2878 531 3122 666 \nL 3122 134 \nQ 2881 22 2623 -34 \nQ 2366 -91 2075 -91 \nQ 1284 -91 818 406 \nQ 353 903 353 1747 \nQ 353 2603 823 3093 \nQ 1294 3584 2113 3584 \nQ 2378 3584 2631 3529 \nQ 2884 3475 3122 3366 \nz\n\" transform=\"scale(0.015625)\"/>\n       <path id=\"DejaVuSans-6f\" d=\"M 1959 3097 \nQ 1497 3097 1228 2736 \nQ 959 2375 959 1747 \nQ 959 1119 1226 758 \nQ 1494 397 1959 397 \nQ 2419 397 2687 759 \nQ 2956 1122 2956 1747 \nQ 2956 2369 2687 2733 \nQ 2419 3097 1959 3097 \nz\nM 1959 3584 \nQ 2709 3584 3137 3096 \nQ 3566 2609 3566 1747 \nQ 3566 888 3137 398 \nQ 2709 -91 1959 -91 \nQ 1206 -91 779 398 \nQ 353 888 353 1747 \nQ 353 2609 779 3096 \nQ 1206 3584 1959 3584 \nz\n\" transform=\"scale(0.015625)\"/>\n       <path id=\"DejaVuSans-75\" d=\"M 544 1381 \nL 544 3500 \nL 1119 3500 \nL 1119 1403 \nQ 1119 906 1312 657 \nQ 1506 409 1894 409 \nQ 2359 409 2629 706 \nQ 2900 1003 2900 1516 \nL 2900 3500 \nL 3475 3500 \nL 3475 0 \nL 2900 0 \nL 2900 538 \nQ 2691 219 2414 64 \nQ 2138 -91 1772 -91 \nQ 1169 -91 856 284 \nQ 544 659 544 1381 \nz\nM 1991 3584 \nL 1991 3584 \nz\n\" transform=\"scale(0.015625)\"/>\n       <path id=\"DejaVuSans-74\" d=\"M 1172 4494 \nL 1172 3500 \nL 2356 3500 \nL 2356 3053 \nL 1172 3053 \nL 1172 1153 \nQ 1172 725 1289 603 \nQ 1406 481 1766 481 \nL 2356 481 \nL 2356 0 \nL 1766 0 \nQ 1100 0 847 248 \nQ 594 497 594 1153 \nL 594 3053 \nL 172 3053 \nL 172 3500 \nL 594 3500 \nL 594 4494 \nL 1172 4494 \nz\n\" transform=\"scale(0.015625)\"/>\n      </defs>\n      <use xlink:href=\"#DejaVuSans-63\"/>\n      <use xlink:href=\"#DejaVuSans-6f\" x=\"54.980469\"/>\n      <use xlink:href=\"#DejaVuSans-75\" x=\"116.162109\"/>\n      <use xlink:href=\"#DejaVuSans-6e\" x=\"179.541016\"/>\n      <use xlink:href=\"#DejaVuSans-74\" x=\"242.919922\"/>\n     </g>\n    </g>\n   </g>\n  </g>\n </g>\n <defs>\n  <clipPath id=\"pabbebfe02a\">\n   <rect x=\"33.2875\" y=\"7.2\" width=\"334.8\" height=\"217.44\"/>\n  </clipPath>\n </defs>\n</svg>\n",
      "text/plain": [
       "<Figure size 432x288 with 1 Axes>"
      ]
     },
     "metadata": {},
     "output_type": "display_data"
    }
   ],
   "source": [
    "df.plot()"
   ]
  },
  {
   "cell_type": "code",
   "execution_count": 83,
   "metadata": {},
   "outputs": [
    {
     "data": {
      "text/plain": [
       "<EmployeeManager [{'name': 'Elisia', 'scheduleHours': 2390.0, 'standardScheduleHours': 240.0, 'percentScheduled': 995.8333333333334}, {'name': 'Esperanza', 'scheduleHours': 2340.0, 'standardScheduleHours': 240.0, 'percentScheduled': 975.0}, {'name': 'Mona', 'scheduleHours': 2330.0, 'standardScheduleHours': 240.0, 'percentScheduled': 970.8333333333334}, {'name': 'Brittanie', 'scheduleHours': 2264.0, 'standardScheduleHours': 240.0, 'percentScheduled': 943.3333333333334}, {'name': 'Jaden', 'scheduleHours': 2240.0, 'standardScheduleHours': 240.0, 'percentScheduled': 933.3333333333334}, {'name': 'Brianna A', 'scheduleHours': 2230.0, 'standardScheduleHours': 240.0, 'percentScheduled': 929.1666666666666}, {'name': 'Danica', 'scheduleHours': 2200.0, 'standardScheduleHours': 240.0, 'percentScheduled': 916.6666666666666}, {'name': 'Michael', 'scheduleHours': 2090.0, 'standardScheduleHours': 210.0, 'percentScheduled': 995.2380952380953}, {'name': 'David', 'scheduleHours': 2000.0, 'standardScheduleHours': 240.0, 'percentScheduled': 833.3333333333334}, {'name': 'Amanda', 'scheduleHours': 1960.0, 'standardScheduleHours': 210.0, 'percentScheduled': 933.3333333333334}, {'name': 'Cheryl', 'scheduleHours': 1950.0, 'standardScheduleHours': 240.0, 'percentScheduled': 812.5}, {'name': 'Josh', 'scheduleHours': 1780.0, 'standardScheduleHours': 150.0, 'percentScheduled': 1186.6666666666667}, {'name': 'Tiffany', 'scheduleHours': 1780.0, 'standardScheduleHours': 240.0, 'percentScheduled': 741.6666666666667}, {'name': 'Sabrina', 'scheduleHours': 1608.0, 'standardScheduleHours': 120.0, 'percentScheduled': 1340.0}, {'name': 'Trisha', 'scheduleHours': 1266.0, 'standardScheduleHours': 120.0, 'percentScheduled': 1055.0}, {'name': 'Leslie', 'scheduleHours': 804.0, 'standardScheduleHours': 0.0, 'percentScheduled': None}, {'name': 'Lindsay', 'scheduleHours': 600.0, 'standardScheduleHours': 0.0, 'percentScheduled': None}, {'name': 'Mark', 'scheduleHours': 530.0, 'standardScheduleHours': 0.0, 'percentScheduled': None}, {'name': 'Nick', 'scheduleHours': 310.0, 'standardScheduleHours': 0.0, 'percentScheduled': None}, {'name': 'Mandy', 'scheduleHours': 138.0, 'standardScheduleHours': 240.0, 'percentScheduled': 57.49999999999999}]>"
      ]
     },
     "execution_count": 83,
     "metadata": {},
     "output_type": "execute_result"
    }
   ],
   "source": [
    "sch = Schedule.objects.first()\n",
    "\n",
    "empls = Employee.objects.annotate(scheduleHours=Sum('slots__shift__hours')).order_by('-scheduleHours')\n",
    "# standard schedule Hours should be 240 * the employees fte field\n",
    "empls = empls.annotate(standardScheduleHours=240*F('fte'))\n",
    "empls = empls.annotate(percentScheduled=F('scheduleHours')/F('standardScheduleHours')*100)\n",
    "empls.values('name','scheduleHours','standardScheduleHours','percentScheduled')"
   ]
  },
  {
   "cell_type": "code",
   "execution_count": 84,
   "metadata": {},
   "outputs": [],
   "source": [
    "def sch_solve_with_lookbehind (request, schid):\n",
    "    sch = Schedule.objects.get(slug=schid)\n",
    "    success_bucket = []\n",
    "    emptySlots = sch.slots.empty().order_by('?')\n",
    "    for slot in emptySlots:\n",
    "        if slot.workday.sd_id != 0:\n",
    "            prev = slot.workday.prevWD().slots.filter(shift__start__hour__lte=slot.shift.start.hour+1, shift__start__hour__gte=slot.shift.start.hour-1)\n",
    "            choices = []\n",
    "            for p in prev:\n",
    "                if p.streak < p.employee.streak_pref and p.employee not in choices and p.employee in slot.workday.on_deck():\n",
    "                    choices.append(p.employee)\n",
    "            if len(choices) > 0:\n",
    "                chosen = random.choice(choices)\n",
    "                if PtoRequest.objects.filter(employee=chosen, workday=slot.workday.date).exists() == False:\n",
    "                    if TemplatedDayOff.objects.filter(employee=chosen, sd_id=slot.workday.sd_id).exists() == False:\n",
    "                        try:\n",
    "                            slot.employee = chosen\n",
    "                            slot.save()\n",
    "                            success_bucket.append(slot)\n",
    "                        except:\n",
    "                            print(f\"ERROR: {slot} could not be filled\")\n",
    "                    else: \n",
    "                        print(f\"{chosen} has a templated day off on {slot.workday.date}\")\n",
    "                else:\n",
    "                    print(f\"{chosen} has a PTO request on {slot.workday.date}\")\n",
    "            else:\n",
    "                print(f\"No choices for {slot}\")\n",
    "                try:\n",
    "                    slot.employee = random.choice(workday.on_deck())\n",
    "                    slot.save()\n",
    "                    success_bucket.append(slot)\n",
    "                except:\n",
    "                    print(f\"ERROR: Backup Fill via On Deck Employees Failed. This slot was not filled. {slot}\")\n",
    "        else:\n",
    "            print(f\"{slot} is on First Sunday of Schedule\")\n",
    "    print(len(success_bucket) , \"slots filled via method SCHEDULE_SOLVE_WITH_LOOKBEHIND\")\n",
    "                    \n",
    "                "
   ]
  },
  {
   "cell_type": "code",
   "execution_count": 85,
   "metadata": {},
   "outputs": [
    {
     "name": "stdout",
     "output_type": "stream",
     "text": [
      "['Michael', 'Leslie', 'Brittanie', 'Lindsay', 'Mona', 'Brianna-A', 'David', 'Elisia', 'Trisha', 'Sabrina', 'Jaden', 'Nick', 'Mark', 'Mandy', 'Josh', 'Tiffany', 'Esperanza', 'Cheryl', None, 'Danica', 'Amanda']\n",
      "['Michael', 'Leslie', 'Brittanie', 'Lindsay', 'Mona', 'Brianna-A', 'David', 'Elisia', 'Trisha', 'Sabrina', 'Jaden', 'Nick', 'Mark', 'Mandy', 'Josh', 'Tiffany', 'Esperanza', 'Cheryl', None, 'Danica', 'Amanda']\n",
      "No choices for 221204-EP None\n",
      "ERROR: Backup Fill via On Deck Employees Failed. This slot was not filled. 221204-EP None\n",
      "['Michael', 'Leslie', 'Brittanie', 'Lindsay', 'Mona', 'Brianna-A', 'Josh', 'David', 'Elisia', 'Trisha', 'Jaden', 'Nick', 'Mark', 'Mandy', 'Cheryl', 'Tiffany', 'Esperanza', 'Sabrina', 'Danica', None, 'Amanda']\n",
      "No choices for 221217-3 None\n",
      "ERROR: Backup Fill via On Deck Employees Failed. This slot was not filled. 221217-3 None\n",
      "['Michael', 'Leslie', 'Brittanie', 'Lindsay', 'Mona', 'Brianna-A', 'David', 'Elisia', 'Trisha', 'Sabrina', 'Jaden', 'Nick', 'Mark', 'Mandy', 'Esperanza', 'Tiffany', 'Josh', 'Danica', 'Cheryl', None, 'Amanda']\n",
      "No choices for 221203-3 None\n",
      "ERROR: Backup Fill via On Deck Employees Failed. This slot was not filled. 221203-3 None\n",
      "['Danica', 'Michael', 'Leslie', 'Brittanie', 'Lindsay', 'Mona', 'Brianna-A', 'David', 'Elisia', 'Sabrina', 'Jaden', 'Nick', 'Mark', 'Mandy', 'Cheryl', 'Trisha', 'Esperanza', 'Josh', 'Tiffany', None, 'Amanda']\n",
      "No choices for 230101-3 None\n",
      "ERROR: Backup Fill via On Deck Employees Failed. This slot was not filled. 230101-3 None\n",
      "['Sabrina', 'Amanda', 'Danica', 'Leslie', 'Brittanie', 'Lindsay', 'Esperanza', 'Cheryl', 'Josh', 'Tiffany', 'Trisha', 'Nick', 'Mark', 'David', 'Jaden', 'Brianna-A', None, 'Elisia', 'Mona', 'Michael']\n",
      "No choices for 230107-EI None\n",
      "ERROR: Backup Fill via On Deck Employees Failed. This slot was not filled. 230107-EI None\n",
      "['Michael', 'Leslie', 'Brittanie', 'Lindsay', 'Mona', 'Brianna-A', 'Josh', 'David', 'Elisia', 'Trisha', 'Jaden', 'Nick', 'Mark', 'Mandy', None, 'Cheryl', 'Esperanza', 'Tiffany', 'Sabrina', 'Danica', 'Amanda']\n",
      "['Michael', 'Leslie', 'Brittanie', 'Lindsay', 'Mona', 'Brianna-A', 'Josh', 'David', 'Elisia', 'Trisha', 'Jaden', 'Nick', 'Mark', 'Mandy', None, 'Cheryl', 'Esperanza', 'Tiffany', 'Sabrina', 'Danica', 'Amanda']\n",
      "['Michael', 'Leslie', 'Brittanie', 'Lindsay', 'Mona', 'Brianna-A', 'Josh', 'David', 'Elisia', 'Trisha', 'Jaden', 'Nick', 'Mark', 'Mandy', None, 'Cheryl', 'Esperanza', 'Tiffany', 'Sabrina', 'Danica', 'Amanda']\n",
      "No choices for 221218-MI None\n",
      "ERROR: Backup Fill via On Deck Employees Failed. This slot was not filled. 221218-MI None\n",
      "0 slots filled via method SCHEDULE_SOLVE_WITH_LOOKBEHIND\n"
     ]
    }
   ],
   "source": [
    "sch_solve_with_lookbehind(None, '2022-S8A')\n"
   ]
  },
  {
   "cell_type": "code",
   "execution_count": 86,
   "metadata": {},
   "outputs": [],
   "source": [
    "valList = lambda list_ , val : list(list_.values_list(val,flat=True))"
   ]
  },
  {
   "cell_type": "code",
   "execution_count": 87,
   "metadata": {},
   "outputs": [
    {
     "data": {
      "text/plain": [
       "95"
      ]
     },
     "execution_count": 87,
     "metadata": {},
     "output_type": "execute_result"
    }
   ],
   "source": [
    "valList(sch.slots.filled(), 'employee')\n",
    "sch.save()\n",
    "sch.percent"
   ]
  },
  {
   "cell_type": "code",
   "execution_count": null,
   "metadata": {},
   "outputs": [],
   "source": []
  }
 ],
 "metadata": {
  "kernelspec": {
   "display_name": "Python 3",
   "language": "python",
   "name": "python3"
  },
  "language_info": {
   "codemirror_mode": {
    "name": "ipython",
    "version": 3
   },
   "file_extension": ".py",
   "mimetype": "text/x-python",
   "name": "python",
   "nbconvert_exporter": "python",
   "pygments_lexer": "ipython3",
   "version": "3.8.13 (default, Oct  4 2022, 14:00:32) \n[GCC 9.4.0]"
  },
  "orig_nbformat": 4,
  "vscode": {
   "interpreter": {
    "hash": "9ac03a0a6051494cc606d484d27d20fce22fb7b4d169f583271e11d5ba46a56e"
   }
  }
 },
 "nbformat": 4,
 "nbformat_minor": 2
}
