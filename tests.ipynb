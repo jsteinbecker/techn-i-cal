{
 "cells": [
  {
   "cell_type": "code",
   "execution_count": 1,
   "metadata": {},
   "outputs": [],
   "source": [
    "import django\n",
    "import pandas as pd\n",
    "import requests\n",
    "django.setup()"
   ]
  },
  {
   "cell_type": "code",
   "execution_count": 2,
   "metadata": {},
   "outputs": [],
   "source": [
    "import os\n",
    "os.environ[\"DJANGO_ALLOW_ASYNC_UNSAFE\"] = \"true\"\n",
    "\n",
    "from sch.models import *\n",
    "import datetime as dt\n",
    "from django.db.models import CharField\n",
    "from django.db.models.functions import Cast\n",
    "from django.test import RequestFactory\n",
    "from sch.actions import *\n",
    "from sch.views2 import *\n",
    "from django.db.models import Sum"
   ]
  },
  {
   "cell_type": "code",
   "execution_count": 3,
   "metadata": {},
   "outputs": [
    {
     "name": "stdout",
     "output_type": "stream",
     "text": [
      "[]\n"
     ]
    }
   ],
   "source": [
    "josh_op = Slot.objects.filter(employee__name='Josh',shift__name='OP')\n",
    "print([op.workday.days_away for op in josh_op])"
   ]
  },
  {
   "cell_type": "code",
   "execution_count": 4,
   "metadata": {},
   "outputs": [
    {
     "data": {
      "text/html": [
       "<div>\n",
       "<style scoped>\n",
       "    .dataframe tbody tr th:only-of-type {\n",
       "        vertical-align: middle;\n",
       "    }\n",
       "\n",
       "    .dataframe tbody tr th {\n",
       "        vertical-align: top;\n",
       "    }\n",
       "\n",
       "    .dataframe thead th {\n",
       "        text-align: right;\n",
       "    }\n",
       "</style>\n",
       "<table border=\"1\" class=\"dataframe\">\n",
       "  <thead>\n",
       "    <tr style=\"text-align: right;\">\n",
       "      <th></th>\n",
       "      <th>count</th>\n",
       "    </tr>\n",
       "  </thead>\n",
       "  <tbody>\n",
       "    <tr>\n",
       "      <th>Brittanie</th>\n",
       "      <td>195</td>\n",
       "    </tr>\n",
       "    <tr>\n",
       "      <th>Leslie</th>\n",
       "      <td>17</td>\n",
       "    </tr>\n",
       "    <tr>\n",
       "      <th>None</th>\n",
       "      <td>5</td>\n",
       "    </tr>\n",
       "  </tbody>\n",
       "</table>\n",
       "</div>"
      ],
      "text/plain": [
       "           count\n",
       "Brittanie    195\n",
       "Leslie        17\n",
       "None           5"
      ]
     },
     "execution_count": 4,
     "metadata": {},
     "output_type": "execute_result"
    }
   ],
   "source": [
    "tallies = tally(list(Slot.objects.filter(shift__name=\"OP\").values_list('employee__name',flat=True)))\n",
    "df = pd.DataFrame.from_dict(sortDict(tallies,reverse=True), orient='index', columns=['count'])\n",
    "df"
   ]
  },
  {
   "cell_type": "code",
   "execution_count": 5,
   "metadata": {},
   "outputs": [
    {
     "data": {
      "text/plain": [
       "<AxesSubplot:>"
      ]
     },
     "execution_count": 5,
     "metadata": {},
     "output_type": "execute_result"
    },
    {
     "data": {
      "image/png": "[encoded data removed]",
      "image/svg+xml": "<?xml version=\"1.0\" encoding=\"utf-8\" standalone=\"no\"?>\n<!DOCTYPE svg PUBLIC \"-//W3C//DTD SVG 1.1//EN\"\n  \"http://www.w3.org/Graphics/SVG/1.1/DTD/svg11.dtd\">\n<svg xmlns:xlink=\"http://www.w3.org/1999/xlink\" width=\"375.2875pt\" height=\"248.518125pt\" viewBox=\"0 0 375.2875 248.518125\" xmlns=\"http://www.w3.org/2000/svg\" version=\"1.1\">\n <metadata>\n  <rdf:RDF xmlns:dc=\"http://purl.org/dc/elements/1.1/\" xmlns:cc=\"http://creativecommons.org/ns#\" xmlns:rdf=\"http://www.w3.org/1999/02/22-rdf-syntax-ns#\">\n   <cc:Work>\n    <dc:type rdf:resource=\"http://purl.org/dc/dcmitype/StillImage\"/>\n    <dc:date>2023-02-17T17:55:33.596658</dc:date>\n    <dc:format>image/svg+xml</dc:format>\n    <dc:creator>\n     <cc:Agent>\n      <dc:title>Matplotlib v3.5.3, https://matplotlib.org/</dc:title>\n     </cc:Agent>\n    </dc:creator>\n   </cc:Work>\n  </rdf:RDF>\n </metadata>\n <defs>\n  <style type=\"text/css\">*{stroke-linejoin: round; stroke-linecap: butt}</style>\n </defs>\n <g id=\"figure_1\">\n  <g id=\"patch_1\">\n   <path d=\"M 0 248.518125 \nL 375.2875 248.518125 \nL 375.2875 0 \nL 0 0 \nz\n\"/>\n  </g>\n  <g id=\"axes_1\">\n   <g id=\"patch_2\">\n    <path d=\"M 33.2875 224.64 \nL 368.0875 224.64 \nL 368.0875 7.2 \nL 33.2875 7.2 \nz\n\"/>\n   </g>\n   <g id=\"matplotlib.axis_1\">\n    <g id=\"xtick_1\">\n     <g id=\"line2d_1\">\n      <defs>\n       <path id=\"m7501a218a2\" d=\"M 0 0 \nL 0 3.5 \n\" style=\"stroke: #ffffff; stroke-width: 0.8\"/>\n      </defs>\n      <g>\n       <use xlink:href=\"#m7501a218a2\" x=\"48.505682\" y=\"224.64\" style=\"fill: #ffffff; stroke: #ffffff; stroke-width: 0.8\"/>\n      </g>\n     </g>\n     <g id=\"text_1\">\n      <!-- Brittanie -->\n      <g style=\"fill: #ffffff\" transform=\"translate(27.011932 239.238437)scale(0.1 -0.1)\">\n       <defs>\n        <path id=\"DejaVuSans-42\" d=\"M 1259 2228 \nL 1259 519 \nL 2272 519 \nQ 2781 519 3026 730 \nQ 3272 941 3272 1375 \nQ 3272 1813 3026 2020 \nQ 2781 2228 2272 2228 \nL 1259 2228 \nz\nM 1259 4147 \nL 1259 2741 \nL 2194 2741 \nQ 2656 2741 2882 2914 \nQ 3109 3088 3109 3444 \nQ 3109 3797 2882 3972 \nQ 2656 4147 2194 4147 \nL 1259 4147 \nz\nM 628 4666 \nL 2241 4666 \nQ 2963 4666 3353 4366 \nQ 3744 4066 3744 3513 \nQ 3744 3084 3544 2831 \nQ 3344 2578 2956 2516 \nQ 3422 2416 3680 2098 \nQ 3938 1781 3938 1306 \nQ 3938 681 3513 340 \nQ 3088 0 2303 0 \nL 628 0 \nL 628 4666 \nz\n\" transform=\"scale(0.015625)\"/>\n        <path id=\"DejaVuSans-72\" d=\"M 2631 2963 \nQ 2534 3019 2420 3045 \nQ 2306 3072 2169 3072 \nQ 1681 3072 1420 2755 \nQ 1159 2438 1159 1844 \nL 1159 0 \nL 581 0 \nL 581 3500 \nL 1159 3500 \nL 1159 2956 \nQ 1341 3275 1631 3429 \nQ 1922 3584 2338 3584 \nQ 2397 3584 2469 3576 \nQ 2541 3569 2628 3553 \nL 2631 2963 \nz\n\" transform=\"scale(0.015625)\"/>\n        <path id=\"DejaVuSans-69\" d=\"M 603 3500 \nL 1178 3500 \nL 1178 0 \nL 603 0 \nL 603 3500 \nz\nM 603 4863 \nL 1178 4863 \nL 1178 4134 \nL 603 4134 \nL 603 4863 \nz\n\" transform=\"scale(0.015625)\"/>\n        <path id=\"DejaVuSans-74\" d=\"M 1172 4494 \nL 1172 3500 \nL 2356 3500 \nL 2356 3053 \nL 1172 3053 \nL 1172 1153 \nQ 1172 725 1289 603 \nQ 1406 481 1766 481 \nL 2356 481 \nL 2356 0 \nL 1766 0 \nQ 1100 0 847 248 \nQ 594 497 594 1153 \nL 594 3053 \nL 172 3053 \nL 172 3500 \nL 594 3500 \nL 594 4494 \nL 1172 4494 \nz\n\" transform=\"scale(0.015625)\"/>\n        <path id=\"DejaVuSans-61\" d=\"M 2194 1759 \nQ 1497 1759 1228 1600 \nQ 959 1441 959 1056 \nQ 959 750 1161 570 \nQ 1363 391 1709 391 \nQ 2188 391 2477 730 \nQ 2766 1069 2766 1631 \nL 2766 1759 \nL 2194 1759 \nz\nM 3341 1997 \nL 3341 0 \nL 2766 0 \nL 2766 531 \nQ 2569 213 2275 61 \nQ 1981 -91 1556 -91 \nQ 1019 -91 701 211 \nQ 384 513 384 1019 \nQ 384 1609 779 1909 \nQ 1175 2209 1959 2209 \nL 2766 2209 \nL 2766 2266 \nQ 2766 2663 2505 2880 \nQ 2244 3097 1772 3097 \nQ 1472 3097 1187 3025 \nQ 903 2953 641 2809 \nL 641 3341 \nQ 956 3463 1253 3523 \nQ 1550 3584 1831 3584 \nQ 2591 3584 2966 3190 \nQ 3341 2797 3341 1997 \nz\n\" transform=\"scale(0.015625)\"/>\n        <path id=\"DejaVuSans-6e\" d=\"M 3513 2113 \nL 3513 0 \nL 2938 0 \nL 2938 2094 \nQ 2938 2591 2744 2837 \nQ 2550 3084 2163 3084 \nQ 1697 3084 1428 2787 \nQ 1159 2491 1159 1978 \nL 1159 0 \nL 581 0 \nL 581 3500 \nL 1159 3500 \nL 1159 2956 \nQ 1366 3272 1645 3428 \nQ 1925 3584 2291 3584 \nQ 2894 3584 3203 3211 \nQ 3513 2838 3513 2113 \nz\n\" transform=\"scale(0.015625)\"/>\n        <path id=\"DejaVuSans-65\" d=\"M 3597 1894 \nL 3597 1613 \nL 953 1613 \nQ 991 1019 1311 708 \nQ 1631 397 2203 397 \nQ 2534 397 2845 478 \nQ 3156 559 3463 722 \nL 3463 178 \nQ 3153 47 2828 -22 \nQ 2503 -91 2169 -91 \nQ 1331 -91 842 396 \nQ 353 884 353 1716 \nQ 353 2575 817 3079 \nQ 1281 3584 2069 3584 \nQ 2775 3584 3186 3129 \nQ 3597 2675 3597 1894 \nz\nM 3022 2063 \nQ 3016 2534 2758 2815 \nQ 2500 3097 2075 3097 \nQ 1594 3097 1305 2825 \nQ 1016 2553 972 2059 \nL 3022 2063 \nz\n\" transform=\"scale(0.015625)\"/>\n       </defs>\n       <use xlink:href=\"#DejaVuSans-42\"/>\n       <use xlink:href=\"#DejaVuSans-72\" x=\"68.603516\"/>\n       <use xlink:href=\"#DejaVuSans-69\" x=\"109.716797\"/>\n       <use xlink:href=\"#DejaVuSans-74\" x=\"137.5\"/>\n       <use xlink:href=\"#DejaVuSans-74\" x=\"176.708984\"/>\n       <use xlink:href=\"#DejaVuSans-61\" x=\"215.917969\"/>\n       <use xlink:href=\"#DejaVuSans-6e\" x=\"277.197266\"/>\n       <use xlink:href=\"#DejaVuSans-69\" x=\"340.576172\"/>\n       <use xlink:href=\"#DejaVuSans-65\" x=\"368.359375\"/>\n      </g>\n     </g>\n    </g>\n    <g id=\"xtick_2\">\n     <g id=\"line2d_2\">\n      <g>\n       <use xlink:href=\"#m7501a218a2\" x=\"86.551136\" y=\"224.64\" style=\"fill: #ffffff; stroke: #ffffff; stroke-width: 0.8\"/>\n      </g>\n     </g>\n    </g>\n    <g id=\"xtick_3\">\n     <g id=\"line2d_3\">\n      <g>\n       <use xlink:href=\"#m7501a218a2\" x=\"124.596591\" y=\"224.64\" style=\"fill: #ffffff; stroke: #ffffff; stroke-width: 0.8\"/>\n      </g>\n     </g>\n    </g>\n    <g id=\"xtick_4\">\n     <g id=\"line2d_4\">\n      <g>\n       <use xlink:href=\"#m7501a218a2\" x=\"162.642045\" y=\"224.64\" style=\"fill: #ffffff; stroke: #ffffff; stroke-width: 0.8\"/>\n      </g>\n     </g>\n    </g>\n    <g id=\"xtick_5\">\n     <g id=\"line2d_5\">\n      <g>\n       <use xlink:href=\"#m7501a218a2\" x=\"200.6875\" y=\"224.64\" style=\"fill: #ffffff; stroke: #ffffff; stroke-width: 0.8\"/>\n      </g>\n     </g>\n     <g id=\"text_2\">\n      <!-- Leslie -->\n      <g style=\"fill: #ffffff\" transform=\"translate(186.453125 239.238437)scale(0.1 -0.1)\">\n       <defs>\n        <path id=\"DejaVuSans-4c\" d=\"M 628 4666 \nL 1259 4666 \nL 1259 531 \nL 3531 531 \nL 3531 0 \nL 628 0 \nL 628 4666 \nz\n\" transform=\"scale(0.015625)\"/>\n        <path id=\"DejaVuSans-73\" d=\"M 2834 3397 \nL 2834 2853 \nQ 2591 2978 2328 3040 \nQ 2066 3103 1784 3103 \nQ 1356 3103 1142 2972 \nQ 928 2841 928 2578 \nQ 928 2378 1081 2264 \nQ 1234 2150 1697 2047 \nL 1894 2003 \nQ 2506 1872 2764 1633 \nQ 3022 1394 3022 966 \nQ 3022 478 2636 193 \nQ 2250 -91 1575 -91 \nQ 1294 -91 989 -36 \nQ 684 19 347 128 \nL 347 722 \nQ 666 556 975 473 \nQ 1284 391 1588 391 \nQ 1994 391 2212 530 \nQ 2431 669 2431 922 \nQ 2431 1156 2273 1281 \nQ 2116 1406 1581 1522 \nL 1381 1569 \nQ 847 1681 609 1914 \nQ 372 2147 372 2553 \nQ 372 3047 722 3315 \nQ 1072 3584 1716 3584 \nQ 2034 3584 2315 3537 \nQ 2597 3491 2834 3397 \nz\n\" transform=\"scale(0.015625)\"/>\n        <path id=\"DejaVuSans-6c\" d=\"M 603 4863 \nL 1178 4863 \nL 1178 0 \nL 603 0 \nL 603 4863 \nz\n\" transform=\"scale(0.015625)\"/>\n       </defs>\n       <use xlink:href=\"#DejaVuSans-4c\"/>\n       <use xlink:href=\"#DejaVuSans-65\" x=\"53.962891\"/>\n       <use xlink:href=\"#DejaVuSans-73\" x=\"115.486328\"/>\n       <use xlink:href=\"#DejaVuSans-6c\" x=\"167.585938\"/>\n       <use xlink:href=\"#DejaVuSans-69\" x=\"195.369141\"/>\n       <use xlink:href=\"#DejaVuSans-65\" x=\"223.152344\"/>\n      </g>\n     </g>\n    </g>\n    <g id=\"xtick_6\">\n     <g id=\"line2d_6\">\n      <g>\n       <use xlink:href=\"#m7501a218a2\" x=\"238.732955\" y=\"224.64\" style=\"fill: #ffffff; stroke: #ffffff; stroke-width: 0.8\"/>\n      </g>\n     </g>\n    </g>\n    <g id=\"xtick_7\">\n     <g id=\"line2d_7\">\n      <g>\n       <use xlink:href=\"#m7501a218a2\" x=\"276.778409\" y=\"224.64\" style=\"fill: #ffffff; stroke: #ffffff; stroke-width: 0.8\"/>\n      </g>\n     </g>\n    </g>\n    <g id=\"xtick_8\">\n     <g id=\"line2d_8\">\n      <g>\n       <use xlink:href=\"#m7501a218a2\" x=\"314.823864\" y=\"224.64\" style=\"fill: #ffffff; stroke: #ffffff; stroke-width: 0.8\"/>\n      </g>\n     </g>\n    </g>\n    <g id=\"xtick_9\">\n     <g id=\"line2d_9\">\n      <g>\n       <use xlink:href=\"#m7501a218a2\" x=\"352.869318\" y=\"224.64\" style=\"fill: #ffffff; stroke: #ffffff; stroke-width: 0.8\"/>\n      </g>\n     </g>\n     <g id=\"text_3\">\n      <!-- None -->\n      <g style=\"fill: #ffffff\" transform=\"translate(339.824006 239.238437)scale(0.1 -0.1)\">\n       <defs>\n        <path id=\"DejaVuSans-4e\" d=\"M 628 4666 \nL 1478 4666 \nL 3547 763 \nL 3547 4666 \nL 4159 4666 \nL 4159 0 \nL 3309 0 \nL 1241 3903 \nL 1241 0 \nL 628 0 \nL 628 4666 \nz\n\" transform=\"scale(0.015625)\"/>\n        <path id=\"DejaVuSans-6f\" d=\"M 1959 3097 \nQ 1497 3097 1228 2736 \nQ 959 2375 959 1747 \nQ 959 1119 1226 758 \nQ 1494 397 1959 397 \nQ 2419 397 2687 759 \nQ 2956 1122 2956 1747 \nQ 2956 2369 2687 2733 \nQ 2419 3097 1959 3097 \nz\nM 1959 3584 \nQ 2709 3584 3137 3096 \nQ 3566 2609 3566 1747 \nQ 3566 888 3137 398 \nQ 2709 -91 1959 -91 \nQ 1206 -91 779 398 \nQ 353 888 353 1747 \nQ 353 2609 779 3096 \nQ 1206 3584 1959 3584 \nz\n\" transform=\"scale(0.015625)\"/>\n       </defs>\n       <use xlink:href=\"#DejaVuSans-4e\"/>\n       <use xlink:href=\"#DejaVuSans-6f\" x=\"74.804688\"/>\n       <use xlink:href=\"#DejaVuSans-6e\" x=\"135.986328\"/>\n       <use xlink:href=\"#DejaVuSans-65\" x=\"199.365234\"/>\n      </g>\n     </g>\n    </g>\n   </g>\n   <g id=\"matplotlib.axis_2\">\n    <g id=\"ytick_1\">\n     <g id=\"line2d_10\">\n      <defs>\n       <path id=\"m289cd6631e\" d=\"M 0 0 \nL -3.5 0 \n\" style=\"stroke: #ffffff; stroke-width: 0.8\"/>\n      </defs>\n      <g>\n       <use xlink:href=\"#m289cd6631e\" x=\"33.2875\" y=\"219.958278\" style=\"fill: #ffffff; stroke: #ffffff; stroke-width: 0.8\"/>\n      </g>\n     </g>\n     <g id=\"text_4\">\n      <!-- 0 -->\n      <g style=\"fill: #ffffff\" transform=\"translate(19.925 223.757496)scale(0.1 -0.1)\">\n       <defs>\n        <path id=\"DejaVuSans-30\" d=\"M 2034 4250 \nQ 1547 4250 1301 3770 \nQ 1056 3291 1056 2328 \nQ 1056 1369 1301 889 \nQ 1547 409 2034 409 \nQ 2525 409 2770 889 \nQ 3016 1369 3016 2328 \nQ 3016 3291 2770 3770 \nQ 2525 4250 2034 4250 \nz\nM 2034 4750 \nQ 2819 4750 3233 4129 \nQ 3647 3509 3647 2328 \nQ 3647 1150 3233 529 \nQ 2819 -91 2034 -91 \nQ 1250 -91 836 529 \nQ 422 1150 422 2328 \nQ 422 3509 836 4129 \nQ 1250 4750 2034 4750 \nz\n\" transform=\"scale(0.015625)\"/>\n       </defs>\n       <use xlink:href=\"#DejaVuSans-30\"/>\n      </g>\n     </g>\n    </g>\n    <g id=\"ytick_2\">\n     <g id=\"line2d_11\">\n      <g>\n       <use xlink:href=\"#m289cd6631e\" x=\"33.2875\" y=\"193.948708\" style=\"fill: #ffffff; stroke: #ffffff; stroke-width: 0.8\"/>\n      </g>\n     </g>\n     <g id=\"text_5\">\n      <!-- 25 -->\n      <g style=\"fill: #ffffff\" transform=\"translate(13.5625 197.747927)scale(0.1 -0.1)\">\n       <defs>\n        <path id=\"DejaVuSans-32\" d=\"M 1228 531 \nL 3431 531 \nL 3431 0 \nL 469 0 \nL 469 531 \nQ 828 903 1448 1529 \nQ 2069 2156 2228 2338 \nQ 2531 2678 2651 2914 \nQ 2772 3150 2772 3378 \nQ 2772 3750 2511 3984 \nQ 2250 4219 1831 4219 \nQ 1534 4219 1204 4116 \nQ 875 4013 500 3803 \nL 500 4441 \nQ 881 4594 1212 4672 \nQ 1544 4750 1819 4750 \nQ 2544 4750 2975 4387 \nQ 3406 4025 3406 3419 \nQ 3406 3131 3298 2873 \nQ 3191 2616 2906 2266 \nQ 2828 2175 2409 1742 \nQ 1991 1309 1228 531 \nz\n\" transform=\"scale(0.015625)\"/>\n        <path id=\"DejaVuSans-35\" d=\"M 691 4666 \nL 3169 4666 \nL 3169 4134 \nL 1269 4134 \nL 1269 2991 \nQ 1406 3038 1543 3061 \nQ 1681 3084 1819 3084 \nQ 2600 3084 3056 2656 \nQ 3513 2228 3513 1497 \nQ 3513 744 3044 326 \nQ 2575 -91 1722 -91 \nQ 1428 -91 1123 -41 \nQ 819 9 494 109 \nL 494 744 \nQ 775 591 1075 516 \nQ 1375 441 1709 441 \nQ 2250 441 2565 725 \nQ 2881 1009 2881 1497 \nQ 2881 1984 2565 2268 \nQ 2250 2553 1709 2553 \nQ 1456 2553 1204 2497 \nQ 953 2441 691 2322 \nL 691 4666 \nz\n\" transform=\"scale(0.015625)\"/>\n       </defs>\n       <use xlink:href=\"#DejaVuSans-32\"/>\n       <use xlink:href=\"#DejaVuSans-35\" x=\"63.623047\"/>\n      </g>\n     </g>\n    </g>\n    <g id=\"ytick_3\">\n     <g id=\"line2d_12\">\n      <g>\n       <use xlink:href=\"#m289cd6631e\" x=\"33.2875\" y=\"167.939139\" style=\"fill: #ffffff; stroke: #ffffff; stroke-width: 0.8\"/>\n      </g>\n     </g>\n     <g id=\"text_6\">\n      <!-- 50 -->\n      <g style=\"fill: #ffffff\" transform=\"translate(13.5625 171.738358)scale(0.1 -0.1)\">\n       <use xlink:href=\"#DejaVuSans-35\"/>\n       <use xlink:href=\"#DejaVuSans-30\" x=\"63.623047\"/>\n      </g>\n     </g>\n    </g>\n    <g id=\"ytick_4\">\n     <g id=\"line2d_13\">\n      <g>\n       <use xlink:href=\"#m289cd6631e\" x=\"33.2875\" y=\"141.929569\" style=\"fill: #ffffff; stroke: #ffffff; stroke-width: 0.8\"/>\n      </g>\n     </g>\n     <g id=\"text_7\">\n      <!-- 75 -->\n      <g style=\"fill: #ffffff\" transform=\"translate(13.5625 145.728788)scale(0.1 -0.1)\">\n       <defs>\n        <path id=\"DejaVuSans-37\" d=\"M 525 4666 \nL 3525 4666 \nL 3525 4397 \nL 1831 0 \nL 1172 0 \nL 2766 4134 \nL 525 4134 \nL 525 4666 \nz\n\" transform=\"scale(0.015625)\"/>\n       </defs>\n       <use xlink:href=\"#DejaVuSans-37\"/>\n       <use xlink:href=\"#DejaVuSans-35\" x=\"63.623047\"/>\n      </g>\n     </g>\n    </g>\n    <g id=\"ytick_5\">\n     <g id=\"line2d_14\">\n      <g>\n       <use xlink:href=\"#m289cd6631e\" x=\"33.2875\" y=\"115.92\" style=\"fill: #ffffff; stroke: #ffffff; stroke-width: 0.8\"/>\n      </g>\n     </g>\n     <g id=\"text_8\">\n      <!-- 100 -->\n      <g style=\"fill: #ffffff\" transform=\"translate(7.2 119.719219)scale(0.1 -0.1)\">\n       <defs>\n        <path id=\"DejaVuSans-31\" d=\"M 794 531 \nL 1825 531 \nL 1825 4091 \nL 703 3866 \nL 703 4441 \nL 1819 4666 \nL 2450 4666 \nL 2450 531 \nL 3481 531 \nL 3481 0 \nL 794 0 \nL 794 531 \nz\n\" transform=\"scale(0.015625)\"/>\n       </defs>\n       <use xlink:href=\"#DejaVuSans-31\"/>\n       <use xlink:href=\"#DejaVuSans-30\" x=\"63.623047\"/>\n       <use xlink:href=\"#DejaVuSans-30\" x=\"127.246094\"/>\n      </g>\n     </g>\n    </g>\n    <g id=\"ytick_6\">\n     <g id=\"line2d_15\">\n      <g>\n       <use xlink:href=\"#m289cd6631e\" x=\"33.2875\" y=\"89.910431\" style=\"fill: #ffffff; stroke: #ffffff; stroke-width: 0.8\"/>\n      </g>\n     </g>\n     <g id=\"text_9\">\n      <!-- 125 -->\n      <g style=\"fill: #ffffff\" transform=\"translate(7.2 93.709649)scale(0.1 -0.1)\">\n       <use xlink:href=\"#DejaVuSans-31\"/>\n       <use xlink:href=\"#DejaVuSans-32\" x=\"63.623047\"/>\n       <use xlink:href=\"#DejaVuSans-35\" x=\"127.246094\"/>\n      </g>\n     </g>\n    </g>\n    <g id=\"ytick_7\">\n     <g id=\"line2d_16\">\n      <g>\n       <use xlink:href=\"#m289cd6631e\" x=\"33.2875\" y=\"63.900861\" style=\"fill: #ffffff; stroke: #ffffff; stroke-width: 0.8\"/>\n      </g>\n     </g>\n     <g id=\"text_10\">\n      <!-- 150 -->\n      <g style=\"fill: #ffffff\" transform=\"translate(7.2 67.70008)scale(0.1 -0.1)\">\n       <use xlink:href=\"#DejaVuSans-31\"/>\n       <use xlink:href=\"#DejaVuSans-35\" x=\"63.623047\"/>\n       <use xlink:href=\"#DejaVuSans-30\" x=\"127.246094\"/>\n      </g>\n     </g>\n    </g>\n    <g id=\"ytick_8\">\n     <g id=\"line2d_17\">\n      <g>\n       <use xlink:href=\"#m289cd6631e\" x=\"33.2875\" y=\"37.891292\" style=\"fill: #ffffff; stroke: #ffffff; stroke-width: 0.8\"/>\n      </g>\n     </g>\n     <g id=\"text_11\">\n      <!-- 175 -->\n      <g style=\"fill: #ffffff\" transform=\"translate(7.2 41.690511)scale(0.1 -0.1)\">\n       <use xlink:href=\"#DejaVuSans-31\"/>\n       <use xlink:href=\"#DejaVuSans-37\" x=\"63.623047\"/>\n       <use xlink:href=\"#DejaVuSans-35\" x=\"127.246094\"/>\n      </g>\n     </g>\n    </g>\n    <g id=\"ytick_9\">\n     <g id=\"line2d_18\">\n      <g>\n       <use xlink:href=\"#m289cd6631e\" x=\"33.2875\" y=\"11.881722\" style=\"fill: #ffffff; stroke: #ffffff; stroke-width: 0.8\"/>\n      </g>\n     </g>\n     <g id=\"text_12\">\n      <!-- 200 -->\n      <g style=\"fill: #ffffff\" transform=\"translate(7.2 15.680941)scale(0.1 -0.1)\">\n       <use xlink:href=\"#DejaVuSans-32\"/>\n       <use xlink:href=\"#DejaVuSans-30\" x=\"63.623047\"/>\n       <use xlink:href=\"#DejaVuSans-30\" x=\"127.246094\"/>\n      </g>\n     </g>\n    </g>\n   </g>\n   <g id=\"line2d_19\">\n    <path d=\"M 48.505682 17.083636 \nL 200.6875 202.27177 \nL 352.869318 214.756364 \n\" clip-path=\"url(#p2cdc9b716f)\" style=\"fill: none; stroke: #8dd3c7; stroke-width: 1.5; stroke-linecap: square\"/>\n   </g>\n   <g id=\"patch_3\">\n    <path d=\"M 33.2875 224.64 \nL 33.2875 7.2 \n\" style=\"fill: none; stroke: #ffffff; stroke-width: 0.8; stroke-linejoin: miter; stroke-linecap: square\"/>\n   </g>\n   <g id=\"patch_4\">\n    <path d=\"M 368.0875 224.64 \nL 368.0875 7.2 \n\" style=\"fill: none; stroke: #ffffff; stroke-width: 0.8; stroke-linejoin: miter; stroke-linecap: square\"/>\n   </g>\n   <g id=\"patch_5\">\n    <path d=\"M 33.2875 224.64 \nL 368.0875 224.64 \n\" style=\"fill: none; stroke: #ffffff; stroke-width: 0.8; stroke-linejoin: miter; stroke-linecap: square\"/>\n   </g>\n   <g id=\"patch_6\">\n    <path d=\"M 33.2875 7.2 \nL 368.0875 7.2 \n\" style=\"fill: none; stroke: #ffffff; stroke-width: 0.8; stroke-linejoin: miter; stroke-linecap: square\"/>\n   </g>\n   <g id=\"legend_1\">\n    <g id=\"patch_7\">\n     <path d=\"M 300.875 29.878125 \nL 361.0875 29.878125 \nQ 363.0875 29.878125 363.0875 27.878125 \nL 363.0875 14.2 \nQ 363.0875 12.2 361.0875 12.2 \nL 300.875 12.2 \nQ 298.875 12.2 298.875 14.2 \nL 298.875 27.878125 \nQ 298.875 29.878125 300.875 29.878125 \nz\n\" style=\"opacity: 0.8; stroke: #cccccc; stroke-linejoin: miter\"/>\n    </g>\n    <g id=\"line2d_20\">\n     <path d=\"M 302.875 20.298437 \nL 312.875 20.298437 \nL 322.875 20.298437 \n\" style=\"fill: none; stroke: #8dd3c7; stroke-width: 1.5; stroke-linecap: square\"/>\n    </g>\n    <g id=\"text_13\">\n     <!-- count -->\n     <g style=\"fill: #ffffff\" transform=\"translate(330.875 23.798437)scale(0.1 -0.1)\">\n      <defs>\n       <path id=\"DejaVuSans-63\" d=\"M 3122 3366 \nL 3122 2828 \nQ 2878 2963 2633 3030 \nQ 2388 3097 2138 3097 \nQ 1578 3097 1268 2742 \nQ 959 2388 959 1747 \nQ 959 1106 1268 751 \nQ 1578 397 2138 397 \nQ 2388 397 2633 464 \nQ 2878 531 3122 666 \nL 3122 134 \nQ 2881 22 2623 -34 \nQ 2366 -91 2075 -91 \nQ 1284 -91 818 406 \nQ 353 903 353 1747 \nQ 353 2603 823 3093 \nQ 1294 3584 2113 3584 \nQ 2378 3584 2631 3529 \nQ 2884 3475 3122 3366 \nz\n\" transform=\"scale(0.015625)\"/>\n       <path id=\"DejaVuSans-75\" d=\"M 544 1381 \nL 544 3500 \nL 1119 3500 \nL 1119 1403 \nQ 1119 906 1312 657 \nQ 1506 409 1894 409 \nQ 2359 409 2629 706 \nQ 2900 1003 2900 1516 \nL 2900 3500 \nL 3475 3500 \nL 3475 0 \nL 2900 0 \nL 2900 538 \nQ 2691 219 2414 64 \nQ 2138 -91 1772 -91 \nQ 1169 -91 856 284 \nQ 544 659 544 1381 \nz\nM 1991 3584 \nL 1991 3584 \nz\n\" transform=\"scale(0.015625)\"/>\n      </defs>\n      <use xlink:href=\"#DejaVuSans-63\"/>\n      <use xlink:href=\"#DejaVuSans-6f\" x=\"54.980469\"/>\n      <use xlink:href=\"#DejaVuSans-75\" x=\"116.162109\"/>\n      <use xlink:href=\"#DejaVuSans-6e\" x=\"179.541016\"/>\n      <use xlink:href=\"#DejaVuSans-74\" x=\"242.919922\"/>\n     </g>\n    </g>\n   </g>\n  </g>\n </g>\n <defs>\n  <clipPath id=\"p2cdc9b716f\">\n   <rect x=\"33.2875\" y=\"7.2\" width=\"334.8\" height=\"217.44\"/>\n  </clipPath>\n </defs>\n</svg>\n",
      "text/plain": [
       "<Figure size 432x288 with 1 Axes>"
      ]
     },
     "metadata": {},
     "output_type": "display_data"
    }
   ],
   "source": [
    "df.plot()"
   ]
  },
  {
   "cell_type": "code",
   "execution_count": 6,
   "metadata": {},
   "outputs": [
    {
     "data": {
      "text/html": [
       "<div>\n",
       "<style scoped>\n",
       "    .dataframe tbody tr th:only-of-type {\n",
       "        vertical-align: middle;\n",
       "    }\n",
       "\n",
       "    .dataframe tbody tr th {\n",
       "        vertical-align: top;\n",
       "    }\n",
       "\n",
       "    .dataframe thead th {\n",
       "        text-align: right;\n",
       "    }\n",
       "</style>\n",
       "<table border=\"1\" class=\"dataframe\">\n",
       "  <thead>\n",
       "    <tr style=\"text-align: right;\">\n",
       "      <th></th>\n",
       "      <th>name</th>\n",
       "      <th>scheduleHours</th>\n",
       "      <th>standardScheduleHours</th>\n",
       "      <th>percentScheduled</th>\n",
       "    </tr>\n",
       "  </thead>\n",
       "  <tbody>\n",
       "    <tr>\n",
       "      <th>0</th>\n",
       "      <td>Danica</td>\n",
       "      <td>1860.0</td>\n",
       "      <td>240.0</td>\n",
       "      <td>775.000000</td>\n",
       "    </tr>\n",
       "    <tr>\n",
       "      <th>1</th>\n",
       "      <td>Brianna A</td>\n",
       "      <td>1760.0</td>\n",
       "      <td>240.0</td>\n",
       "      <td>733.333333</td>\n",
       "    </tr>\n",
       "    <tr>\n",
       "      <th>2</th>\n",
       "      <td>Esperanza</td>\n",
       "      <td>1690.0</td>\n",
       "      <td>240.0</td>\n",
       "      <td>704.166667</td>\n",
       "    </tr>\n",
       "    <tr>\n",
       "      <th>3</th>\n",
       "      <td>Mona</td>\n",
       "      <td>1580.0</td>\n",
       "      <td>240.0</td>\n",
       "      <td>658.333333</td>\n",
       "    </tr>\n",
       "    <tr>\n",
       "      <th>4</th>\n",
       "      <td>Brittanie</td>\n",
       "      <td>1560.0</td>\n",
       "      <td>240.0</td>\n",
       "      <td>650.000000</td>\n",
       "    </tr>\n",
       "    <tr>\n",
       "      <th>5</th>\n",
       "      <td>Amanda</td>\n",
       "      <td>1510.0</td>\n",
       "      <td>210.0</td>\n",
       "      <td>719.047619</td>\n",
       "    </tr>\n",
       "    <tr>\n",
       "      <th>6</th>\n",
       "      <td>Jaden</td>\n",
       "      <td>1500.0</td>\n",
       "      <td>240.0</td>\n",
       "      <td>625.000000</td>\n",
       "    </tr>\n",
       "    <tr>\n",
       "      <th>7</th>\n",
       "      <td>Michael</td>\n",
       "      <td>1430.0</td>\n",
       "      <td>210.0</td>\n",
       "      <td>680.952381</td>\n",
       "    </tr>\n",
       "    <tr>\n",
       "      <th>8</th>\n",
       "      <td>Cheryl</td>\n",
       "      <td>1340.0</td>\n",
       "      <td>240.0</td>\n",
       "      <td>558.333333</td>\n",
       "    </tr>\n",
       "    <tr>\n",
       "      <th>9</th>\n",
       "      <td>Elisia</td>\n",
       "      <td>1330.0</td>\n",
       "      <td>240.0</td>\n",
       "      <td>554.166667</td>\n",
       "    </tr>\n",
       "    <tr>\n",
       "      <th>10</th>\n",
       "      <td>David</td>\n",
       "      <td>1320.0</td>\n",
       "      <td>240.0</td>\n",
       "      <td>550.000000</td>\n",
       "    </tr>\n",
       "    <tr>\n",
       "      <th>11</th>\n",
       "      <td>Sabrina</td>\n",
       "      <td>1070.0</td>\n",
       "      <td>120.0</td>\n",
       "      <td>891.666667</td>\n",
       "    </tr>\n",
       "    <tr>\n",
       "      <th>12</th>\n",
       "      <td>Blake</td>\n",
       "      <td>880.0</td>\n",
       "      <td>240.0</td>\n",
       "      <td>366.666667</td>\n",
       "    </tr>\n",
       "    <tr>\n",
       "      <th>13</th>\n",
       "      <td>Mandy</td>\n",
       "      <td>810.0</td>\n",
       "      <td>240.0</td>\n",
       "      <td>337.500000</td>\n",
       "    </tr>\n",
       "    <tr>\n",
       "      <th>14</th>\n",
       "      <td>Leslie</td>\n",
       "      <td>786.0</td>\n",
       "      <td>0.0</td>\n",
       "      <td>NaN</td>\n",
       "    </tr>\n",
       "    <tr>\n",
       "      <th>15</th>\n",
       "      <td>Teddy</td>\n",
       "      <td>620.0</td>\n",
       "      <td>240.0</td>\n",
       "      <td>258.333333</td>\n",
       "    </tr>\n",
       "    <tr>\n",
       "      <th>16</th>\n",
       "      <td>Mark</td>\n",
       "      <td>460.0</td>\n",
       "      <td>0.0</td>\n",
       "      <td>NaN</td>\n",
       "    </tr>\n",
       "    <tr>\n",
       "      <th>17</th>\n",
       "      <td>Lindsay</td>\n",
       "      <td>380.0</td>\n",
       "      <td>0.0</td>\n",
       "      <td>NaN</td>\n",
       "    </tr>\n",
       "    <tr>\n",
       "      <th>18</th>\n",
       "      <td>Tiffany</td>\n",
       "      <td>270.0</td>\n",
       "      <td>240.0</td>\n",
       "      <td>112.500000</td>\n",
       "    </tr>\n",
       "    <tr>\n",
       "      <th>19</th>\n",
       "      <td>Josh</td>\n",
       "      <td>230.0</td>\n",
       "      <td>240.0</td>\n",
       "      <td>95.833333</td>\n",
       "    </tr>\n",
       "    <tr>\n",
       "      <th>20</th>\n",
       "      <td>Trisha</td>\n",
       "      <td>200.0</td>\n",
       "      <td>240.0</td>\n",
       "      <td>83.333333</td>\n",
       "    </tr>\n",
       "    <tr>\n",
       "      <th>21</th>\n",
       "      <td>Nick</td>\n",
       "      <td>190.0</td>\n",
       "      <td>0.0</td>\n",
       "      <td>NaN</td>\n",
       "    </tr>\n",
       "  </tbody>\n",
       "</table>\n",
       "</div>"
      ],
      "text/plain": [
       "         name  scheduleHours  standardScheduleHours  percentScheduled\n",
       "0      Danica         1860.0                  240.0        775.000000\n",
       "1   Brianna A         1760.0                  240.0        733.333333\n",
       "2   Esperanza         1690.0                  240.0        704.166667\n",
       "3        Mona         1580.0                  240.0        658.333333\n",
       "4   Brittanie         1560.0                  240.0        650.000000\n",
       "5      Amanda         1510.0                  210.0        719.047619\n",
       "6       Jaden         1500.0                  240.0        625.000000\n",
       "7     Michael         1430.0                  210.0        680.952381\n",
       "8      Cheryl         1340.0                  240.0        558.333333\n",
       "9      Elisia         1330.0                  240.0        554.166667\n",
       "10      David         1320.0                  240.0        550.000000\n",
       "11    Sabrina         1070.0                  120.0        891.666667\n",
       "12      Blake          880.0                  240.0        366.666667\n",
       "13      Mandy          810.0                  240.0        337.500000\n",
       "14     Leslie          786.0                    0.0               NaN\n",
       "15      Teddy          620.0                  240.0        258.333333\n",
       "16       Mark          460.0                    0.0               NaN\n",
       "17    Lindsay          380.0                    0.0               NaN\n",
       "18    Tiffany          270.0                  240.0        112.500000\n",
       "19       Josh          230.0                  240.0         95.833333\n",
       "20     Trisha          200.0                  240.0         83.333333\n",
       "21       Nick          190.0                    0.0               NaN"
      ]
     },
     "execution_count": 6,
     "metadata": {},
     "output_type": "execute_result"
    }
   ],
   "source": [
    "sch = Schedule.objects.first()\n",
    "\n",
    "empls = Employee.objects.annotate(scheduleHours=Sum('slots__shift__hours')).order_by('-scheduleHours')\n",
    "# standard schedule Hours should be 240 * the employees fte field\n",
    "empls = empls.annotate(standardScheduleHours=240*F('fte'))\n",
    "empls = empls.annotate(percentScheduled=F('scheduleHours')/F('standardScheduleHours')*100)\n",
    "data = empls.values('name','scheduleHours','standardScheduleHours','percentScheduled')\n",
    "df = pd.DataFrame.from_records(data)\n",
    "df"
   ]
  },
  {
   "cell_type": "code",
   "execution_count": 7,
   "metadata": {},
   "outputs": [],
   "source": [
    "def sch_solve_with_lookbehind (request, schid):\n",
    "    sch = Schedule.objects.get(slug=schid)\n",
    "    success_bucket = []\n",
    "    emptySlots = sch.slots.empty().order_by('?')\n",
    "    for slot in emptySlots:\n",
    "        if slot.workday.sd_id != 0:\n",
    "            prev = slot.workday.prevWD().slots.filter(shift__start__hour__lte=slot.shift.start.hour+1, shift__start__hour__gte=slot.shift.start.hour-1)\n",
    "            choices = []\n",
    "            for p in prev:\n",
    "                if p.streak < p.employee.streak_pref and p.employee not in choices and p.employee in slot.workday.on_deck():\n",
    "                    choices.append(p.employee)\n",
    "            if len(choices) > 0:\n",
    "                chosen = random.choice(choices)\n",
    "                if PtoRequest.objects.filter(employee=chosen, workday=slot.workday.date).exists() == False:\n",
    "                    if TemplatedDayOff.objects.filter(employee=chosen, sd_id=slot.workday.sd_id).exists() == False:\n",
    "                        try:\n",
    "                            slot.employee = chosen\n",
    "                            slot.save()\n",
    "                            success_bucket.append(slot)\n",
    "                        except:\n",
    "                            print(f\"ERROR: {slot} could not be filled\")\n",
    "                    else: \n",
    "                        print(f\"{chosen} has a templated day off on {slot.workday.date}\")\n",
    "                else:\n",
    "                    print(f\"{chosen} has a PTO request on {slot.workday.date}\")\n",
    "            else:\n",
    "                print(f\"No choices for {slot}\")\n",
    "                try:\n",
    "                    slot.employee = random.choice(workday.on_deck())\n",
    "                    slot.save()\n",
    "                    success_bucket.append(slot)\n",
    "                except:\n",
    "                    print(f\"ERROR: Backup Fill via On Deck Employees Failed. This slot was not filled. {slot}\")\n",
    "        else:\n",
    "            print(f\"{slot} is on First Sunday of Schedule\")\n",
    "    print(len(success_bucket) , \"slots filled via method SCHEDULE_SOLVE_WITH_LOOKBEHIND\")\n",
    "                    "
   ]
  },
  {
   "cell_type": "code",
   "execution_count": 8,
   "metadata": {},
   "outputs": [],
   "source": [
    "def emusr_distr (request, schId):\n",
    "    sch = Schedule.objects.get(slug=schId)\n",
    "    print (f\"SCHEDULE: {sch}\")\n",
    "    n_pm = sch.slots.evenings().count()\n",
    "    print (f\"# EVENING SHIFTS: {n_pm}\")\n",
    "    pm_empls = Employee.objects.filter(\n",
    "        time_pref__in=[\"PM\", \"XN\"]\n",
    "    )\n",
    "    pm_empls_shifts = sum(list(pm_empls.values_list(\"fte\", flat=True))) * 40 * 6\n",
    "    print (f\"{pm_empls_shifts} HRS OF EVENING SHIFTS FILLED BY PM EMPLOYEES\")\n",
    "    remaining_pm = n_pm - pm_empls_shifts\n",
    "    full_template_empls = Employee.objects.full_template_employees().values(\"pk\")\n",
    "    am_empls_fte_sum = sum(\n",
    "        list(\n",
    "            Employee.objects.filter(time_pref__in=[\"AM\"])\n",
    "            .exclude(pk__in=full_template_empls)\n",
    "            .values_list(\"fte\", flat=True)\n",
    "        )\n",
    "    )\n",
    "    print (f'{am_empls_fte_sum}   TOTAL-FTE OF MORNING EMPLOYEES')\n",
    "    unfavorables = sch.slots.unfavorables().values(\"employee\")\n",
    "    unfavorables = unfavorables.annotate(\n",
    "        count=Value(1, output_field=IntegerField())\n",
    "    )\n",
    "    unfavorables = unfavorables.values(\"employee\").annotate(count=Sum(\"count\"))\n",
    "    print (f\"{unfavorables.values('employee__name','count')} UNFAVORABLES\")\n",
    "    emusr_differences = list(unfavorables.values_list(\"count\", flat=True))\n",
    "    while None in emusr_differences:\n",
    "        emusr_differences.remove(None)\n",
    "        emusr_differences.append(0)\n",
    "    if len(emusr_differences) == 0:\n",
    "        emusr_differences.append(0)\n",
    "    return max(emusr_differences) - min(emusr_differences)"
   ]
  },
  {
   "cell_type": "code",
   "execution_count": 9,
   "metadata": {},
   "outputs": [
    {
     "name": "stdout",
     "output_type": "stream",
     "text": [
      "SCHEDULE: 2023-S1A\n",
      "# EVENING SHIFTS: 151\n",
      "1260.0 HRS OF EVENING SHIFTS FILLED BY PM EMPLOYEES\n",
      "6.0   TOTAL-FTE OF MORNING EMPLOYEES\n",
      "<SlotManager [{'employee__name': 'Brianna A', 'count': 2}, {'employee__name': 'Cheryl', 'count': 7}, {'employee__name': 'David', 'count': 5}, {'employee__name': 'Elisia', 'count': 2}, {'employee__name': 'Esperanza', 'count': 1}, {'employee__name': 'Jaden', 'count': 5}, {'employee__name': 'Mandy', 'count': 6}, {'employee__name': 'Mark', 'count': 2}, {'employee__name': 'Sabrina', 'count': 2}, {'employee__name': 'Teddy', 'count': 2}]> UNFAVORABLES\n"
     ]
    },
    {
     "data": {
      "text/plain": [
       "6"
      ]
     },
     "execution_count": 9,
     "metadata": {},
     "output_type": "execute_result"
    }
   ],
   "source": [
    "emusr_distr (None, '2023-S1A')"
   ]
  },
  {
   "cell_type": "code",
   "execution_count": 19,
   "metadata": {},
   "outputs": [],
   "source": [
    "from django.db.models import Count, OuterRef, Subquery\n",
    "\n",
    "# define a subquery that counts the occurrences of each employee/shift combination in the Slot model\n",
    "subquery = Subquery(\n",
    "    Slot.objects.filter(\n",
    "        employee=OuterRef('employee'),\n",
    "        shift=OuterRef('shift')\n",
    "    ).values('employee', 'shift').annotate(\n",
    "        count=Count('*')\n",
    "    ).values('count')[:1],\n",
    "    output_field=models.IntegerField()\n",
    "    )\n",
    "\n",
    "\n",
    "# Count n of Slots, then if A ShiftPreference exists for that employee/shift combination\n",
    "j = Employee.objects.get(name='Sabrina')\n",
    "j_shift_prefs = j.shift_prefs.annotate(count=subquery)\n",
    "\n",
    "score_subquery = Subquery(\n",
    "    Slot.objects.filter(\n",
    "        employee=OuterRef('employee'),\n",
    "        shift=OuterRef('shift'),\n",
    "    ).values('employee', 'shift', 'employee__shift_prefs__priority').annotate(\n",
    "        count=Count('*')\n",
    "    ).values('count')[:1],\n",
    "    output_field=models.IntegerField()\n",
    ")\n",
    "from django.db.models import Sum\n",
    "\n",
    "j_shift_prefs_with_counts = j_shift_prefs.annotate(\n",
    "    pref_score=Subquery(\n",
    "        ShiftPreference.objects.filter(\n",
    "            employee=OuterRef('employee'),\n",
    "            shift=OuterRef('shift')\n",
    "        ).values('score')[:1]\n",
    "    )\n",
    ").annotate(\n",
    "    score_count=Coalesce(score_subquery, 0)\n",
    ").values(\n",
    "    'score'\n",
    ").annotate(\n",
    "    count=Sum('score_count')\n",
    ").order_by('score')\n"
   ]
  },
  {
   "cell_type": "code",
   "execution_count": 54,
   "metadata": {},
   "outputs": [
    {
     "data": {
      "text/plain": [
       "([<matplotlib.axis.XTick at 0x7f7a232fc820>,\n",
       "  <matplotlib.axis.XTick at 0x7f7a232fc7f0>,\n",
       "  <matplotlib.axis.XTick at 0x7f7a234165b0>],\n",
       " [Text(-3, 0, 'Dislike'), Text(0, 0, 'Neutral'), Text(3, 0, 'Prefer')])"
      ]
     },
     "execution_count": 54,
     "metadata": {},
     "output_type": "execute_result"
    },
    {
     "data": {
      "image/png": "[encoded data removed]",
      "image/svg+xml": "<?xml version=\"1.0\" encoding=\"utf-8\" standalone=\"no\"?>\n<!DOCTYPE svg PUBLIC \"-//W3C//DTD SVG 1.1//EN\"\n  \"http://www.w3.org/Graphics/SVG/1.1/DTD/svg11.dtd\">\n<svg xmlns:xlink=\"http://www.w3.org/1999/xlink\" width=\"390.38475pt\" height=\"250.114217pt\" viewBox=\"0 0 390.38475 250.114217\" xmlns=\"http://www.w3.org/2000/svg\" version=\"1.1\">\n <metadata>\n  <rdf:RDF xmlns:dc=\"http://purl.org/dc/elements/1.1/\" xmlns:cc=\"http://creativecommons.org/ns#\" xmlns:rdf=\"http://www.w3.org/1999/02/22-rdf-syntax-ns#\">\n   <cc:Work>\n    <dc:type rdf:resource=\"http://purl.org/dc/dcmitype/StillImage\"/>\n    <dc:date>2023-02-17T18:13:57.697146</dc:date>\n    <dc:format>image/svg+xml</dc:format>\n    <dc:creator>\n     <cc:Agent>\n      <dc:title>Matplotlib v3.5.3, https://matplotlib.org/</dc:title>\n     </cc:Agent>\n    </dc:creator>\n   </cc:Work>\n  </rdf:RDF>\n </metadata>\n <defs>\n  <style type=\"text/css\">*{stroke-linejoin: round; stroke-linecap: butt}</style>\n </defs>\n <g id=\"figure_1\">\n  <g id=\"patch_1\">\n   <path d=\"M 0 250.114217 \nL 390.38475 250.114217 \nL 390.38475 0 \nL 0 0 \nz\n\" style=\"fill: #ffffff\"/>\n  </g>\n  <g id=\"axes_1\">\n   <g id=\"patch_2\">\n    <path d=\"M 48.38475 226.097467 \nL 383.18475 226.097467 \nL 383.18475 8.657467 \nL 48.38475 8.657467 \nz\n\" style=\"fill: #eaeaf2\"/>\n   </g>\n   <g id=\"matplotlib.axis_1\">\n    <g id=\"xtick_1\">\n     <g id=\"line2d_1\">\n      <path d=\"M 108.213621 226.097467 \nL 108.213621 8.657467 \n\" clip-path=\"url(#p37b1cd97b6)\" style=\"fill: none; stroke: #ffffff; stroke-width: 0.8; stroke-linecap: round\"/>\n     </g>\n     <g id=\"text_1\">\n      <!-- Dislike -->\n      <g style=\"fill: #262626\" transform=\"translate(93.770621 241.084092)scale(0.088 -0.088)\">\n       <defs>\n        <path id=\"DejaVuSans-44\" d=\"M 1259 4147 \nL 1259 519 \nL 2022 519 \nQ 2988 519 3436 956 \nQ 3884 1394 3884 2338 \nQ 3884 3275 3436 3711 \nQ 2988 4147 2022 4147 \nL 1259 4147 \nz\nM 628 4666 \nL 1925 4666 \nQ 3281 4666 3915 4102 \nQ 4550 3538 4550 2338 \nQ 4550 1131 3912 565 \nQ 3275 0 1925 0 \nL 628 0 \nL 628 4666 \nz\n\" transform=\"scale(0.015625)\"/>\n        <path id=\"DejaVuSans-69\" d=\"M 603 3500 \nL 1178 3500 \nL 1178 0 \nL 603 0 \nL 603 3500 \nz\nM 603 4863 \nL 1178 4863 \nL 1178 4134 \nL 603 4134 \nL 603 4863 \nz\n\" transform=\"scale(0.015625)\"/>\n        <path id=\"DejaVuSans-73\" d=\"M 2834 3397 \nL 2834 2853 \nQ 2591 2978 2328 3040 \nQ 2066 3103 1784 3103 \nQ 1356 3103 1142 2972 \nQ 928 2841 928 2578 \nQ 928 2378 1081 2264 \nQ 1234 2150 1697 2047 \nL 1894 2003 \nQ 2506 1872 2764 1633 \nQ 3022 1394 3022 966 \nQ 3022 478 2636 193 \nQ 2250 -91 1575 -91 \nQ 1294 -91 989 -36 \nQ 684 19 347 128 \nL 347 722 \nQ 666 556 975 473 \nQ 1284 391 1588 391 \nQ 1994 391 2212 530 \nQ 2431 669 2431 922 \nQ 2431 1156 2273 1281 \nQ 2116 1406 1581 1522 \nL 1381 1569 \nQ 847 1681 609 1914 \nQ 372 2147 372 2553 \nQ 372 3047 722 3315 \nQ 1072 3584 1716 3584 \nQ 2034 3584 2315 3537 \nQ 2597 3491 2834 3397 \nz\n\" transform=\"scale(0.015625)\"/>\n        <path id=\"DejaVuSans-6c\" d=\"M 603 4863 \nL 1178 4863 \nL 1178 0 \nL 603 0 \nL 603 4863 \nz\n\" transform=\"scale(0.015625)\"/>\n        <path id=\"DejaVuSans-6b\" d=\"M 581 4863 \nL 1159 4863 \nL 1159 1991 \nL 2875 3500 \nL 3609 3500 \nL 1753 1863 \nL 3688 0 \nL 2938 0 \nL 1159 1709 \nL 1159 0 \nL 581 0 \nL 581 4863 \nz\n\" transform=\"scale(0.015625)\"/>\n        <path id=\"DejaVuSans-65\" d=\"M 3597 1894 \nL 3597 1613 \nL 953 1613 \nQ 991 1019 1311 708 \nQ 1631 397 2203 397 \nQ 2534 397 2845 478 \nQ 3156 559 3463 722 \nL 3463 178 \nQ 3153 47 2828 -22 \nQ 2503 -91 2169 -91 \nQ 1331 -91 842 396 \nQ 353 884 353 1716 \nQ 353 2575 817 3079 \nQ 1281 3584 2069 3584 \nQ 2775 3584 3186 3129 \nQ 3597 2675 3597 1894 \nz\nM 3022 2063 \nQ 3016 2534 2758 2815 \nQ 2500 3097 2075 3097 \nQ 1594 3097 1305 2825 \nQ 1016 2553 972 2059 \nL 3022 2063 \nz\n\" transform=\"scale(0.015625)\"/>\n       </defs>\n       <use xlink:href=\"#DejaVuSans-44\"/>\n       <use xlink:href=\"#DejaVuSans-69\" x=\"77.001953\"/>\n       <use xlink:href=\"#DejaVuSans-73\" x=\"104.785156\"/>\n       <use xlink:href=\"#DejaVuSans-6c\" x=\"156.884766\"/>\n       <use xlink:href=\"#DejaVuSans-69\" x=\"184.667969\"/>\n       <use xlink:href=\"#DejaVuSans-6b\" x=\"212.451172\"/>\n       <use xlink:href=\"#DejaVuSans-65\" x=\"266.736328\"/>\n      </g>\n     </g>\n    </g>\n    <g id=\"xtick_2\">\n     <g id=\"line2d_2\">\n      <path d=\"M 215.78475 226.097467 \nL 215.78475 8.657467 \n\" clip-path=\"url(#p37b1cd97b6)\" style=\"fill: none; stroke: #ffffff; stroke-width: 0.8; stroke-linecap: round\"/>\n     </g>\n     <g id=\"text_2\">\n      <!-- Neutral -->\n      <g style=\"fill: #262626\" transform=\"translate(199.544625 241.084092)scale(0.088 -0.088)\">\n       <defs>\n        <path id=\"DejaVuSans-4e\" d=\"M 628 4666 \nL 1478 4666 \nL 3547 763 \nL 3547 4666 \nL 4159 4666 \nL 4159 0 \nL 3309 0 \nL 1241 3903 \nL 1241 0 \nL 628 0 \nL 628 4666 \nz\n\" transform=\"scale(0.015625)\"/>\n        <path id=\"DejaVuSans-75\" d=\"M 544 1381 \nL 544 3500 \nL 1119 3500 \nL 1119 1403 \nQ 1119 906 1312 657 \nQ 1506 409 1894 409 \nQ 2359 409 2629 706 \nQ 2900 1003 2900 1516 \nL 2900 3500 \nL 3475 3500 \nL 3475 0 \nL 2900 0 \nL 2900 538 \nQ 2691 219 2414 64 \nQ 2138 -91 1772 -91 \nQ 1169 -91 856 284 \nQ 544 659 544 1381 \nz\nM 1991 3584 \nL 1991 3584 \nz\n\" transform=\"scale(0.015625)\"/>\n        <path id=\"DejaVuSans-74\" d=\"M 1172 4494 \nL 1172 3500 \nL 2356 3500 \nL 2356 3053 \nL 1172 3053 \nL 1172 1153 \nQ 1172 725 1289 603 \nQ 1406 481 1766 481 \nL 2356 481 \nL 2356 0 \nL 1766 0 \nQ 1100 0 847 248 \nQ 594 497 594 1153 \nL 594 3053 \nL 172 3053 \nL 172 3500 \nL 594 3500 \nL 594 4494 \nL 1172 4494 \nz\n\" transform=\"scale(0.015625)\"/>\n        <path id=\"DejaVuSans-72\" d=\"M 2631 2963 \nQ 2534 3019 2420 3045 \nQ 2306 3072 2169 3072 \nQ 1681 3072 1420 2755 \nQ 1159 2438 1159 1844 \nL 1159 0 \nL 581 0 \nL 581 3500 \nL 1159 3500 \nL 1159 2956 \nQ 1341 3275 1631 3429 \nQ 1922 3584 2338 3584 \nQ 2397 3584 2469 3576 \nQ 2541 3569 2628 3553 \nL 2631 2963 \nz\n\" transform=\"scale(0.015625)\"/>\n        <path id=\"DejaVuSans-61\" d=\"M 2194 1759 \nQ 1497 1759 1228 1600 \nQ 959 1441 959 1056 \nQ 959 750 1161 570 \nQ 1363 391 1709 391 \nQ 2188 391 2477 730 \nQ 2766 1069 2766 1631 \nL 2766 1759 \nL 2194 1759 \nz\nM 3341 1997 \nL 3341 0 \nL 2766 0 \nL 2766 531 \nQ 2569 213 2275 61 \nQ 1981 -91 1556 -91 \nQ 1019 -91 701 211 \nQ 384 513 384 1019 \nQ 384 1609 779 1909 \nQ 1175 2209 1959 2209 \nL 2766 2209 \nL 2766 2266 \nQ 2766 2663 2505 2880 \nQ 2244 3097 1772 3097 \nQ 1472 3097 1187 3025 \nQ 903 2953 641 2809 \nL 641 3341 \nQ 956 3463 1253 3523 \nQ 1550 3584 1831 3584 \nQ 2591 3584 2966 3190 \nQ 3341 2797 3341 1997 \nz\n\" transform=\"scale(0.015625)\"/>\n       </defs>\n       <use xlink:href=\"#DejaVuSans-4e\"/>\n       <use xlink:href=\"#DejaVuSans-65\" x=\"74.804688\"/>\n       <use xlink:href=\"#DejaVuSans-75\" x=\"136.328125\"/>\n       <use xlink:href=\"#DejaVuSans-74\" x=\"199.707031\"/>\n       <use xlink:href=\"#DejaVuSans-72\" x=\"238.916016\"/>\n       <use xlink:href=\"#DejaVuSans-61\" x=\"280.029297\"/>\n       <use xlink:href=\"#DejaVuSans-6c\" x=\"341.308594\"/>\n      </g>\n     </g>\n    </g>\n    <g id=\"xtick_3\">\n     <g id=\"line2d_3\">\n      <path d=\"M 323.355879 226.097467 \nL 323.355879 8.657467 \n\" clip-path=\"url(#p37b1cd97b6)\" style=\"fill: none; stroke: #ffffff; stroke-width: 0.8; stroke-linecap: round\"/>\n     </g>\n     <g id=\"text_3\">\n      <!-- Prefer -->\n      <g style=\"fill: #262626\" transform=\"translate(310.297504 241.084092)scale(0.088 -0.088)\">\n       <defs>\n        <path id=\"DejaVuSans-50\" d=\"M 1259 4147 \nL 1259 2394 \nL 2053 2394 \nQ 2494 2394 2734 2622 \nQ 2975 2850 2975 3272 \nQ 2975 3691 2734 3919 \nQ 2494 4147 2053 4147 \nL 1259 4147 \nz\nM 628 4666 \nL 2053 4666 \nQ 2838 4666 3239 4311 \nQ 3641 3956 3641 3272 \nQ 3641 2581 3239 2228 \nQ 2838 1875 2053 1875 \nL 1259 1875 \nL 1259 0 \nL 628 0 \nL 628 4666 \nz\n\" transform=\"scale(0.015625)\"/>\n        <path id=\"DejaVuSans-66\" d=\"M 2375 4863 \nL 2375 4384 \nL 1825 4384 \nQ 1516 4384 1395 4259 \nQ 1275 4134 1275 3809 \nL 1275 3500 \nL 2222 3500 \nL 2222 3053 \nL 1275 3053 \nL 1275 0 \nL 697 0 \nL 697 3053 \nL 147 3053 \nL 147 3500 \nL 697 3500 \nL 697 3744 \nQ 697 4328 969 4595 \nQ 1241 4863 1831 4863 \nL 2375 4863 \nz\n\" transform=\"scale(0.015625)\"/>\n       </defs>\n       <use xlink:href=\"#DejaVuSans-50\"/>\n       <use xlink:href=\"#DejaVuSans-72\" x=\"58.552734\"/>\n       <use xlink:href=\"#DejaVuSans-65\" x=\"97.416016\"/>\n       <use xlink:href=\"#DejaVuSans-66\" x=\"158.939453\"/>\n       <use xlink:href=\"#DejaVuSans-65\" x=\"194.144531\"/>\n       <use xlink:href=\"#DejaVuSans-72\" x=\"255.667969\"/>\n      </g>\n     </g>\n    </g>\n   </g>\n   <g id=\"matplotlib.axis_2\">\n    <g id=\"ytick_1\">\n     <g id=\"line2d_4\">\n      <path d=\"M 48.38475 226.097467 \nL 383.18475 226.097467 \n\" clip-path=\"url(#p37b1cd97b6)\" style=\"fill: none; stroke: #ffffff; stroke-width: 0.8; stroke-linecap: round\"/>\n     </g>\n     <g id=\"text_4\">\n      <!-- 0.00 -->\n      <g style=\"fill: #262626\" transform=\"translate(20.491 229.440779)scale(0.088 -0.088)\">\n       <defs>\n        <path id=\"DejaVuSans-30\" d=\"M 2034 4250 \nQ 1547 4250 1301 3770 \nQ 1056 3291 1056 2328 \nQ 1056 1369 1301 889 \nQ 1547 409 2034 409 \nQ 2525 409 2770 889 \nQ 3016 1369 3016 2328 \nQ 3016 3291 2770 3770 \nQ 2525 4250 2034 4250 \nz\nM 2034 4750 \nQ 2819 4750 3233 4129 \nQ 3647 3509 3647 2328 \nQ 3647 1150 3233 529 \nQ 2819 -91 2034 -91 \nQ 1250 -91 836 529 \nQ 422 1150 422 2328 \nQ 422 3509 836 4129 \nQ 1250 4750 2034 4750 \nz\n\" transform=\"scale(0.015625)\"/>\n        <path id=\"DejaVuSans-2e\" d=\"M 684 794 \nL 1344 794 \nL 1344 0 \nL 684 0 \nL 684 794 \nz\n\" transform=\"scale(0.015625)\"/>\n       </defs>\n       <use xlink:href=\"#DejaVuSans-30\"/>\n       <use xlink:href=\"#DejaVuSans-2e\" x=\"63.623047\"/>\n       <use xlink:href=\"#DejaVuSans-30\" x=\"95.410156\"/>\n       <use xlink:href=\"#DejaVuSans-30\" x=\"159.033203\"/>\n      </g>\n     </g>\n    </g>\n    <g id=\"ytick_2\">\n     <g id=\"line2d_5\">\n      <path d=\"M 48.38475 182.986636 \nL 383.18475 182.986636 \n\" clip-path=\"url(#p37b1cd97b6)\" style=\"fill: none; stroke: #ffffff; stroke-width: 0.8; stroke-linecap: round\"/>\n     </g>\n     <g id=\"text_5\">\n      <!-- 0.05 -->\n      <g style=\"fill: #262626\" transform=\"translate(20.491 186.329948)scale(0.088 -0.088)\">\n       <defs>\n        <path id=\"DejaVuSans-35\" d=\"M 691 4666 \nL 3169 4666 \nL 3169 4134 \nL 1269 4134 \nL 1269 2991 \nQ 1406 3038 1543 3061 \nQ 1681 3084 1819 3084 \nQ 2600 3084 3056 2656 \nQ 3513 2228 3513 1497 \nQ 3513 744 3044 326 \nQ 2575 -91 1722 -91 \nQ 1428 -91 1123 -41 \nQ 819 9 494 109 \nL 494 744 \nQ 775 591 1075 516 \nQ 1375 441 1709 441 \nQ 2250 441 2565 725 \nQ 2881 1009 2881 1497 \nQ 2881 1984 2565 2268 \nQ 2250 2553 1709 2553 \nQ 1456 2553 1204 2497 \nQ 953 2441 691 2322 \nL 691 4666 \nz\n\" transform=\"scale(0.015625)\"/>\n       </defs>\n       <use xlink:href=\"#DejaVuSans-30\"/>\n       <use xlink:href=\"#DejaVuSans-2e\" x=\"63.623047\"/>\n       <use xlink:href=\"#DejaVuSans-30\" x=\"95.410156\"/>\n       <use xlink:href=\"#DejaVuSans-35\" x=\"159.033203\"/>\n      </g>\n     </g>\n    </g>\n    <g id=\"ytick_3\">\n     <g id=\"line2d_6\">\n      <path d=\"M 48.38475 139.875805 \nL 383.18475 139.875805 \n\" clip-path=\"url(#p37b1cd97b6)\" style=\"fill: none; stroke: #ffffff; stroke-width: 0.8; stroke-linecap: round\"/>\n     </g>\n     <g id=\"text_6\">\n      <!-- 0.10 -->\n      <g style=\"fill: #262626\" transform=\"translate(20.491 143.219118)scale(0.088 -0.088)\">\n       <defs>\n        <path id=\"DejaVuSans-31\" d=\"M 794 531 \nL 1825 531 \nL 1825 4091 \nL 703 3866 \nL 703 4441 \nL 1819 4666 \nL 2450 4666 \nL 2450 531 \nL 3481 531 \nL 3481 0 \nL 794 0 \nL 794 531 \nz\n\" transform=\"scale(0.015625)\"/>\n       </defs>\n       <use xlink:href=\"#DejaVuSans-30\"/>\n       <use xlink:href=\"#DejaVuSans-2e\" x=\"63.623047\"/>\n       <use xlink:href=\"#DejaVuSans-31\" x=\"95.410156\"/>\n       <use xlink:href=\"#DejaVuSans-30\" x=\"159.033203\"/>\n      </g>\n     </g>\n    </g>\n    <g id=\"ytick_4\">\n     <g id=\"line2d_7\">\n      <path d=\"M 48.38475 96.764974 \nL 383.18475 96.764974 \n\" clip-path=\"url(#p37b1cd97b6)\" style=\"fill: none; stroke: #ffffff; stroke-width: 0.8; stroke-linecap: round\"/>\n     </g>\n     <g id=\"text_7\">\n      <!-- 0.15 -->\n      <g style=\"fill: #262626\" transform=\"translate(20.491 100.108287)scale(0.088 -0.088)\">\n       <use xlink:href=\"#DejaVuSans-30\"/>\n       <use xlink:href=\"#DejaVuSans-2e\" x=\"63.623047\"/>\n       <use xlink:href=\"#DejaVuSans-31\" x=\"95.410156\"/>\n       <use xlink:href=\"#DejaVuSans-35\" x=\"159.033203\"/>\n      </g>\n     </g>\n    </g>\n    <g id=\"ytick_5\">\n     <g id=\"line2d_8\">\n      <path d=\"M 48.38475 53.654143 \nL 383.18475 53.654143 \n\" clip-path=\"url(#p37b1cd97b6)\" style=\"fill: none; stroke: #ffffff; stroke-width: 0.8; stroke-linecap: round\"/>\n     </g>\n     <g id=\"text_8\">\n      <!-- 0.20 -->\n      <g style=\"fill: #262626\" transform=\"translate(20.491 56.997456)scale(0.088 -0.088)\">\n       <defs>\n        <path id=\"DejaVuSans-32\" d=\"M 1228 531 \nL 3431 531 \nL 3431 0 \nL 469 0 \nL 469 531 \nQ 828 903 1448 1529 \nQ 2069 2156 2228 2338 \nQ 2531 2678 2651 2914 \nQ 2772 3150 2772 3378 \nQ 2772 3750 2511 3984 \nQ 2250 4219 1831 4219 \nQ 1534 4219 1204 4116 \nQ 875 4013 500 3803 \nL 500 4441 \nQ 881 4594 1212 4672 \nQ 1544 4750 1819 4750 \nQ 2544 4750 2975 4387 \nQ 3406 4025 3406 3419 \nQ 3406 3131 3298 2873 \nQ 3191 2616 2906 2266 \nQ 2828 2175 2409 1742 \nQ 1991 1309 1228 531 \nz\n\" transform=\"scale(0.015625)\"/>\n       </defs>\n       <use xlink:href=\"#DejaVuSans-30\"/>\n       <use xlink:href=\"#DejaVuSans-2e\" x=\"63.623047\"/>\n       <use xlink:href=\"#DejaVuSans-32\" x=\"95.410156\"/>\n       <use xlink:href=\"#DejaVuSans-30\" x=\"159.033203\"/>\n      </g>\n     </g>\n    </g>\n    <g id=\"ytick_6\">\n     <g id=\"line2d_9\">\n      <path d=\"M 48.38475 10.543312 \nL 383.18475 10.543312 \n\" clip-path=\"url(#p37b1cd97b6)\" style=\"fill: none; stroke: #ffffff; stroke-width: 0.8; stroke-linecap: round\"/>\n     </g>\n     <g id=\"text_9\">\n      <!-- 0.25 -->\n      <g style=\"fill: #262626\" transform=\"translate(20.491 13.886625)scale(0.088 -0.088)\">\n       <use xlink:href=\"#DejaVuSans-30\"/>\n       <use xlink:href=\"#DejaVuSans-2e\" x=\"63.623047\"/>\n       <use xlink:href=\"#DejaVuSans-32\" x=\"95.410156\"/>\n       <use xlink:href=\"#DejaVuSans-35\" x=\"159.033203\"/>\n      </g>\n     </g>\n    </g>\n    <g id=\"text_10\">\n     <!-- Density -->\n     <g style=\"fill: #262626\" transform=\"translate(14.4945 135.625717)rotate(-90)scale(0.096 -0.096)\">\n      <defs>\n       <path id=\"DejaVuSans-6e\" d=\"M 3513 2113 \nL 3513 0 \nL 2938 0 \nL 2938 2094 \nQ 2938 2591 2744 2837 \nQ 2550 3084 2163 3084 \nQ 1697 3084 1428 2787 \nQ 1159 2491 1159 1978 \nL 1159 0 \nL 581 0 \nL 581 3500 \nL 1159 3500 \nL 1159 2956 \nQ 1366 3272 1645 3428 \nQ 1925 3584 2291 3584 \nQ 2894 3584 3203 3211 \nQ 3513 2838 3513 2113 \nz\n\" transform=\"scale(0.015625)\"/>\n       <path id=\"DejaVuSans-79\" d=\"M 2059 -325 \nQ 1816 -950 1584 -1140 \nQ 1353 -1331 966 -1331 \nL 506 -1331 \nL 506 -850 \nL 844 -850 \nQ 1081 -850 1212 -737 \nQ 1344 -625 1503 -206 \nL 1606 56 \nL 191 3500 \nL 800 3500 \nL 1894 763 \nL 2988 3500 \nL 3597 3500 \nL 2059 -325 \nz\n\" transform=\"scale(0.015625)\"/>\n      </defs>\n      <use xlink:href=\"#DejaVuSans-44\"/>\n      <use xlink:href=\"#DejaVuSans-65\" x=\"77.001953\"/>\n      <use xlink:href=\"#DejaVuSans-6e\" x=\"138.525391\"/>\n      <use xlink:href=\"#DejaVuSans-73\" x=\"201.904297\"/>\n      <use xlink:href=\"#DejaVuSans-69\" x=\"254.003906\"/>\n      <use xlink:href=\"#DejaVuSans-74\" x=\"281.787109\"/>\n      <use xlink:href=\"#DejaVuSans-79\" x=\"320.996094\"/>\n     </g>\n    </g>\n   </g>\n   <g id=\"PolyCollection_1\">\n    <defs>\n     <path id=\"m3fcea015a0\" d=\"M 63.602932 -24.876106 \nL 63.602932 -24.01675 \nL 65.132397 -24.01675 \nL 66.661863 -24.01675 \nL 68.191328 -24.01675 \nL 69.720794 -24.01675 \nL 71.250259 -24.01675 \nL 72.779725 -24.01675 \nL 74.30919 -24.01675 \nL 75.838656 -24.01675 \nL 77.368121 -24.01675 \nL 78.897587 -24.01675 \nL 80.427052 -24.01675 \nL 81.956518 -24.01675 \nL 83.485983 -24.01675 \nL 85.015449 -24.01675 \nL 86.544914 -24.01675 \nL 88.07438 -24.01675 \nL 89.603845 -24.01675 \nL 91.133311 -24.01675 \nL 92.662776 -24.01675 \nL 94.192242 -24.01675 \nL 95.721708 -24.01675 \nL 97.251173 -24.01675 \nL 98.780639 -24.01675 \nL 100.310104 -24.01675 \nL 101.83957 -24.01675 \nL 103.369035 -24.01675 \nL 104.898501 -24.01675 \nL 106.427966 -24.01675 \nL 107.957432 -24.01675 \nL 109.486897 -24.01675 \nL 111.016363 -24.01675 \nL 112.545828 -24.01675 \nL 114.075294 -24.01675 \nL 115.604759 -24.01675 \nL 117.134225 -24.01675 \nL 118.66369 -24.01675 \nL 120.193156 -24.01675 \nL 121.722621 -24.01675 \nL 123.252087 -24.01675 \nL 124.781552 -24.01675 \nL 126.311018 -24.01675 \nL 127.840483 -24.01675 \nL 129.369949 -24.01675 \nL 130.899414 -24.01675 \nL 132.42888 -24.01675 \nL 133.958345 -24.01675 \nL 135.487811 -24.01675 \nL 137.017276 -24.01675 \nL 138.546742 -24.01675 \nL 140.076207 -24.01675 \nL 141.605673 -24.01675 \nL 143.135138 -24.01675 \nL 144.664604 -24.01675 \nL 146.194069 -24.01675 \nL 147.723535 -24.01675 \nL 149.253 -24.01675 \nL 150.782466 -24.01675 \nL 152.311931 -24.01675 \nL 153.841397 -24.01675 \nL 155.370862 -24.01675 \nL 156.900328 -24.01675 \nL 158.429793 -24.01675 \nL 159.959259 -24.01675 \nL 161.488724 -24.01675 \nL 163.01819 -24.01675 \nL 164.547655 -24.01675 \nL 166.077121 -24.01675 \nL 167.606586 -24.01675 \nL 169.136052 -24.01675 \nL 170.665517 -24.01675 \nL 172.194983 -24.01675 \nL 173.724448 -24.01675 \nL 175.253914 -24.01675 \nL 176.78338 -24.01675 \nL 178.312845 -24.01675 \nL 179.842311 -24.01675 \nL 181.371776 -24.01675 \nL 182.901242 -24.01675 \nL 184.430707 -24.01675 \nL 185.960173 -24.01675 \nL 187.489638 -24.01675 \nL 189.019104 -24.01675 \nL 190.548569 -24.01675 \nL 192.078035 -24.01675 \nL 193.6075 -24.01675 \nL 195.136966 -24.01675 \nL 196.666431 -24.01675 \nL 198.195897 -24.01675 \nL 199.725362 -24.01675 \nL 201.254828 -24.01675 \nL 202.784293 -24.01675 \nL 204.313759 -24.01675 \nL 205.843224 -24.01675 \nL 207.37269 -24.01675 \nL 208.902155 -24.01675 \nL 210.431621 -24.01675 \nL 211.961086 -24.01675 \nL 213.490552 -24.01675 \nL 215.020017 -24.01675 \nL 216.549483 -24.01675 \nL 218.078948 -24.01675 \nL 219.608414 -24.01675 \nL 221.137879 -24.01675 \nL 222.667345 -24.01675 \nL 224.19681 -24.01675 \nL 225.726276 -24.01675 \nL 227.255741 -24.01675 \nL 228.785207 -24.01675 \nL 230.314672 -24.01675 \nL 231.844138 -24.01675 \nL 233.373603 -24.01675 \nL 234.903069 -24.01675 \nL 236.432534 -24.01675 \nL 237.962 -24.01675 \nL 239.491465 -24.01675 \nL 241.020931 -24.01675 \nL 242.550396 -24.01675 \nL 244.079862 -24.01675 \nL 245.609327 -24.01675 \nL 247.138793 -24.01675 \nL 248.668258 -24.01675 \nL 250.197724 -24.01675 \nL 251.727189 -24.01675 \nL 253.256655 -24.01675 \nL 254.78612 -24.01675 \nL 256.315586 -24.01675 \nL 257.845052 -24.01675 \nL 259.374517 -24.01675 \nL 260.903983 -24.01675 \nL 262.433448 -24.01675 \nL 263.962914 -24.01675 \nL 265.492379 -24.01675 \nL 267.021845 -24.01675 \nL 268.55131 -24.01675 \nL 270.080776 -24.01675 \nL 271.610241 -24.01675 \nL 273.139707 -24.01675 \nL 274.669172 -24.01675 \nL 276.198638 -24.01675 \nL 277.728103 -24.01675 \nL 279.257569 -24.01675 \nL 280.787034 -24.01675 \nL 282.3165 -24.01675 \nL 283.845965 -24.01675 \nL 285.375431 -24.01675 \nL 286.904896 -24.01675 \nL 288.434362 -24.01675 \nL 289.963827 -24.01675 \nL 291.493293 -24.01675 \nL 293.022758 -24.01675 \nL 294.552224 -24.01675 \nL 296.081689 -24.01675 \nL 297.611155 -24.01675 \nL 299.14062 -24.01675 \nL 300.670086 -24.01675 \nL 302.199551 -24.01675 \nL 303.729017 -24.01675 \nL 305.258482 -24.01675 \nL 306.787948 -24.01675 \nL 308.317413 -24.01675 \nL 309.846879 -24.01675 \nL 311.376344 -24.01675 \nL 312.90581 -24.01675 \nL 314.435275 -24.01675 \nL 315.964741 -24.01675 \nL 317.494206 -24.01675 \nL 319.023672 -24.01675 \nL 320.553137 -24.01675 \nL 322.082603 -24.01675 \nL 323.612068 -24.01675 \nL 325.141534 -24.01675 \nL 326.670999 -24.01675 \nL 328.200465 -24.01675 \nL 329.72993 -24.01675 \nL 331.259396 -24.01675 \nL 332.788861 -24.01675 \nL 334.318327 -24.01675 \nL 335.847792 -24.01675 \nL 337.377258 -24.01675 \nL 338.906724 -24.01675 \nL 340.436189 -24.01675 \nL 341.965655 -24.01675 \nL 343.49512 -24.01675 \nL 345.024586 -24.01675 \nL 346.554051 -24.01675 \nL 348.083517 -24.01675 \nL 349.612982 -24.01675 \nL 351.142448 -24.01675 \nL 352.671913 -24.01675 \nL 354.201379 -24.01675 \nL 355.730844 -24.01675 \nL 357.26031 -24.01675 \nL 358.789775 -24.01675 \nL 360.319241 -24.01675 \nL 361.848706 -24.01675 \nL 363.378172 -24.01675 \nL 364.907637 -24.01675 \nL 366.437103 -24.01675 \nL 367.966568 -24.01675 \nL 367.966568 -26.213562 \nL 367.966568 -26.213562 \nL 366.437103 -26.619251 \nL 364.907637 -27.089859 \nL 363.378172 -27.633795 \nL 361.848706 -28.260198 \nL 360.319241 -28.978936 \nL 358.789775 -29.800593 \nL 357.26031 -30.736442 \nL 355.730844 -31.798401 \nL 354.201379 -32.998973 \nL 352.671913 -34.351162 \nL 351.142448 -35.86837 \nL 349.612982 -37.564274 \nL 348.083517 -39.452671 \nL 346.554051 -41.547315 \nL 345.024586 -43.861709 \nL 343.49512 -46.408901 \nL 341.965655 -49.201231 \nL 340.436189 -52.250085 \nL 338.906724 -55.565617 \nL 337.377258 -59.156463 \nL 335.847792 -63.029452 \nL 334.318327 -67.189312 \nL 332.788861 -71.638376 \nL 331.259396 -76.376308 \nL 329.72993 -81.399835 \nL 328.200465 -86.702511 \nL 326.670999 -92.274513 \nL 325.141534 -98.10247 \nL 323.612068 -104.169348 \nL 322.082603 -110.454379 \nL 320.553137 -116.933057 \nL 319.023672 -123.57719 \nL 317.494206 -130.355036 \nL 315.964741 -137.231489 \nL 314.435275 -144.168358 \nL 312.90581 -151.12471 \nL 311.376344 -158.057278 \nL 309.846879 -164.92095 \nL 308.317413 -171.669308 \nL 306.787948 -178.255226 \nL 305.258482 -184.631511 \nL 303.729017 -190.751585 \nL 302.199551 -196.570177 \nL 300.670086 -202.044044 \nL 299.14062 -207.132668 \nL 297.611155 -211.798949 \nL 296.081689 -216.009861 \nL 294.552224 -219.737062 \nL 293.022758 -222.95744 \nL 291.493293 -225.653593 \nL 289.963827 -227.814216 \nL 288.434362 -229.434402 \nL 286.904896 -230.51583 \nL 285.375431 -231.066852 \nL 283.845965 -231.102464 \nL 282.3165 -230.64416 \nL 280.787034 -229.719673 \nL 279.257569 -228.362608 \nL 277.728103 -226.611965 \nL 276.198638 -224.511567 \nL 274.669172 -222.109396 \nL 273.139707 -219.456856 \nL 271.610241 -216.607973 \nL 270.080776 -213.618538 \nL 268.55131 -210.545226 \nL 267.021845 -207.444686 \nL 265.492379 -204.372642 \nL 263.962914 -201.382992 \nL 262.433448 -198.526951 \nL 260.903983 -195.852232 \nL 259.374517 -193.402285 \nL 257.845052 -191.215617 \nL 256.315586 -189.325186 \nL 254.78612 -187.757896 \nL 253.256655 -186.534198 \nL 251.727189 -185.66779 \nL 250.197724 -185.165442 \nL 248.668258 -185.026937 \nL 247.138793 -185.245124 \nL 245.609327 -185.806091 \nL 244.079862 -186.689456 \nL 242.550396 -187.86876 \nL 241.020931 -189.311961 \nL 239.491465 -190.982029 \nL 237.962 -192.837606 \nL 236.432534 -194.833757 \nL 234.903069 -196.92276 \nL 233.373603 -199.054951 \nL 231.844138 -201.179589 \nL 230.314672 -203.245739 \nL 228.785207 -205.203153 \nL 227.255741 -207.003125 \nL 225.726276 -208.599323 \nL 224.19681 -209.948565 \nL 222.667345 -211.011538 \nL 221.137879 -211.753439 \nL 219.608414 -212.144536 \nL 218.078948 -212.160626 \nL 216.549483 -211.783401 \nL 215.020017 -211.000698 \nL 213.490552 -209.806639 \nL 211.961086 -208.201663 \nL 210.431621 -206.192439 \nL 208.902155 -203.791678 \nL 207.37269 -201.017833 \nL 205.843224 -197.89471 \nL 204.313759 -194.450987 \nL 202.784293 -190.719657 \nL 201.254828 -186.737404 \nL 199.725362 -182.543932 \nL 198.195897 -178.181247 \nL 196.666431 -173.69292 \nL 195.136966 -169.123335 \nL 193.6075 -164.516944 \nL 192.078035 -159.917537 \nL 190.548569 -155.367538 \nL 189.019104 -150.907352 \nL 187.489638 -146.574751 \nL 185.960173 -142.404336 \nL 184.430707 -138.427055 \nL 182.901242 -134.669807 \nL 181.371776 -131.155126 \nL 179.842311 -127.900939 \nL 178.312845 -124.920424 \nL 176.78338 -122.221944 \nL 175.253914 -119.809066 \nL 173.724448 -117.68066 \nL 172.194983 -115.831083 \nL 170.665517 -114.250415 \nL 169.136052 -112.924783 \nL 167.606586 -111.836718 \nL 166.077121 -110.965578 \nL 164.547655 -110.287998 \nL 163.01819 -109.778382 \nL 161.488724 -109.409402 \nL 159.959259 -109.152522 \nL 158.429793 -108.978512 \nL 156.900328 -108.857966 \nL 155.370862 -108.761792 \nL 153.841397 -108.661695 \nL 152.311931 -108.530606 \nL 150.782466 -108.343097 \nL 149.253 -108.075736 \nL 147.723535 -107.707399 \nL 146.194069 -107.219531 \nL 144.664604 -106.596351 \nL 143.135138 -105.824999 \nL 141.605673 -104.895631 \nL 140.076207 -103.801455 \nL 138.546742 -102.538708 \nL 137.017276 -101.106591 \nL 135.487811 -99.50715 \nL 133.958345 -97.745111 \nL 132.42888 -95.827684 \nL 130.899414 -93.764324 \nL 129.369949 -91.566474 \nL 127.840483 -89.247282 \nL 126.311018 -86.821306 \nL 124.781552 -84.304208 \nL 123.252087 -81.712448 \nL 121.722621 -79.062986 \nL 120.193156 -76.372988 \nL 118.66369 -73.659546 \nL 117.134225 -70.939426 \nL 115.604759 -68.228826 \nL 114.075294 -65.543172 \nL 112.545828 -62.896935 \nL 111.016363 -60.303475 \nL 109.486897 -57.774926 \nL 107.957432 -55.322101 \nL 106.427966 -52.954427 \nL 104.898501 -50.679921 \nL 103.369035 -48.505172 \nL 101.83957 -46.43537 \nL 100.310104 -44.474339 \nL 98.780639 -42.624597 \nL 97.251173 -40.887438 \nL 95.721708 -39.263014 \nL 94.192242 -37.750439 \nL 92.662776 -36.347893 \nL 91.133311 -35.052738 \nL 89.603845 -33.861628 \nL 88.07438 -32.770622 \nL 86.544914 -31.775296 \nL 85.015449 -30.870851 \nL 83.485983 -30.05221 \nL 81.956518 -29.314113 \nL 80.427052 -28.651201 \nL 78.897587 -28.058095 \nL 77.368121 -27.529461 \nL 75.838656 -27.06007 \nL 74.30919 -26.644847 \nL 72.779725 -26.278913 \nL 71.250259 -25.957612 \nL 69.720794 -25.676543 \nL 68.191328 -25.431571 \nL 66.661863 -25.21884 \nL 65.132397 -25.034781 \nL 63.602932 -24.876106 \nz\n\" style=\"stroke: #4c72b0; stroke-width: 0.8\"/>\n    </defs>\n    <g clip-path=\"url(#p37b1cd97b6)\">\n     <use xlink:href=\"#m3fcea015a0\" x=\"0\" y=\"250.114217\" style=\"fill: #4c72b0; fill-opacity: 0.25; stroke: #4c72b0; stroke-width: 0.8\"/>\n    </g>\n   </g>\n   <g id=\"patch_3\">\n    <path d=\"M 48.38475 226.097467 \nL 48.38475 8.657467 \n\" style=\"fill: none; stroke: #ffffff; stroke-linejoin: miter; stroke-linecap: square\"/>\n   </g>\n   <g id=\"patch_4\">\n    <path d=\"M 383.18475 226.097467 \nL 383.18475 8.657467 \n\" style=\"fill: none; stroke: #ffffff; stroke-linejoin: miter; stroke-linecap: square\"/>\n   </g>\n   <g id=\"patch_5\">\n    <path d=\"M 48.38475 226.097467 \nL 383.18475 226.097467 \n\" style=\"fill: none; stroke: #ffffff; stroke-linejoin: miter; stroke-linecap: square\"/>\n   </g>\n   <g id=\"patch_6\">\n    <path d=\"M 48.38475 8.657467 \nL 383.18475 8.657467 \n\" style=\"fill: none; stroke: #ffffff; stroke-linejoin: miter; stroke-linecap: square\"/>\n   </g>\n  </g>\n </g>\n <defs>\n  <clipPath id=\"p37b1cd97b6\">\n   <rect x=\"48.38475\" y=\"8.657467\" width=\"334.8\" height=\"217.44\"/>\n  </clipPath>\n </defs>\n</svg>\n",
      "text/plain": [
       "<Figure size 432x288 with 1 Axes>"
      ]
     },
     "metadata": {},
     "output_type": "display_data"
    }
   ],
   "source": [
    "import seaborn as sns\n",
    "import matplotlib.pyplot as plt\n",
    "data = []\n",
    "for j in j_shift_prefs_with_counts:\n",
    "    for n in range(j['count']):\n",
    "        data.append(j['score'])\n",
    "\n",
    "sns.kdeplot(data=data, fill=True, bw_adjust=1.5)\n",
    "sns.set_theme('paper',\"darkgrid\")\n",
    "# change x label to \"Dislike\" at -3 and \"Prefer\" at 3\n",
    "plt.xticks([-3, 0, 3], ['Dislike', 'Neutral', 'Prefer'])"
   ]
  }
 ],
 "metadata": {
  "kernelspec": {
   "display_name": "Python 3",
   "language": "python",
   "name": "python3"
  },
  "language_info": {
   "codemirror_mode": {
    "name": "ipython",
    "version": 3
   },
   "file_extension": ".py",
   "mimetype": "text/x-python",
   "name": "python",
   "nbconvert_exporter": "python",
   "pygments_lexer": "ipython3",
   "version": "3.8.16"
  },
  "orig_nbformat": 4,
  "vscode": {
   "interpreter": {
    "hash": "9ac03a0a6051494cc606d484d27d20fce22fb7b4d169f583271e11d5ba46a56e"
   }
  }
 },
 "nbformat": 4,
 "nbformat_minor": 2
}
