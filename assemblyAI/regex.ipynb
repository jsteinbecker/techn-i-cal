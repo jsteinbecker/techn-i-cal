{
 "cells": [
  {
   "cell_type": "code",
   "execution_count": 3,
   "metadata": {},
   "outputs": [],
   "source": [
    "import re"
   ]
  },
  {
   "cell_type": "markdown",
   "metadata": {},
   "source": [
    "## FUNCTIONS"
   ]
  },
  {
   "cell_type": "code",
   "execution_count": 7,
   "metadata": {},
   "outputs": [],
   "source": [
    "def process_svg(excerpt):\n",
    "    \n",
    "    WIDTH_REGEX  = r\"width=\\\".*\\\"\" \n",
    "    HEIGHT_REGEX = r\"height=\\\".*\\\"\"\n",
    "    FILL_REGEX   = r\"fill=\\\".*\\\"\"\n",
    "\n",
    "    exc = re.sub(WIDTH_REGEX,  'width\"15px;\"', excerpt)\n",
    "    exc = re.sub(HEIGHT_REGEX, 'height=\"15px;\"', exc)\n",
    "    exc = re.sub(FILL_REGEX,   'fill=\"#ffffff;\"', exc)\n",
    "    return exc"
   ]
  },
  {
   "cell_type": "code",
   "execution_count": 8,
   "metadata": {},
   "outputs": [
    {
     "data": {
      "text/plain": [
       "'\\n<svg width\"15px;\" blah blah blah>\\n    <segment fill=\"#ffffff;\" blah blah blah blah blah> </svg>\\n'"
      ]
     },
     "execution_count": 8,
     "metadata": {},
     "output_type": "execute_result"
    }
   ],
   "source": [
    "excerpt = \"\"\"\n",
    "<svg width=\"100%\" blah blah blah height=\"100%\" blah blah blah>\n",
    "    <segment fill=\"#000000\" blah blah blah blah blah> </svg>\n",
    "\"\"\"\n",
    "\n",
    "process_svg(excerpt)"
   ]
  }
 ],
 "metadata": {
  "kernelspec": {
   "display_name": "Python 3.8.13 64-bit ('shims')",
   "language": "python",
   "name": "python3"
  },
  "language_info": {
   "codemirror_mode": {
    "name": "ipython",
    "version": 3
   },
   "file_extension": ".py",
   "mimetype": "text/x-python",
   "name": "python",
   "nbconvert_exporter": "python",
   "pygments_lexer": "ipython3",
   "version": "3.8.13"
  },
  "orig_nbformat": 4,
  "vscode": {
   "interpreter": {
    "hash": "9ac03a0a6051494cc606d484d27d20fce22fb7b4d169f583271e11d5ba46a56e"
   }
  }
 },
 "nbformat": 4,
 "nbformat_minor": 2
}
