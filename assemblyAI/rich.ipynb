{
 "cells": [
  {
   "cell_type": "code",
   "execution_count": 2,
   "metadata": {},
   "outputs": [
    {
     "name": "stdout",
     "output_type": "stream",
     "text": [
      "Requirement already satisfied: openai in /home/gitpod/.pyenv/versions/3.8.13/lib/python3.8/site-packages (0.23.1)\n",
      "Requirement already satisfied: pandas>=1.2.3 in /workspace/.pyenv_mirror/user/current/lib/python3.8/site-packages (from openai) (1.4.3)\n",
      "Requirement already satisfied: requests>=2.20 in /home/gitpod/.pyenv/versions/3.8.13/lib/python3.8/site-packages (from openai) (2.28.1)\n",
      "Requirement already satisfied: numpy in /workspace/.pyenv_mirror/user/current/lib/python3.8/site-packages (from openai) (1.23.1)\n",
      "Requirement already satisfied: pandas-stubs>=1.1.0.11 in /home/gitpod/.pyenv/versions/3.8.13/lib/python3.8/site-packages (from openai) (1.5.0.221012)\n",
      "Requirement already satisfied: tqdm in /home/gitpod/.pyenv/versions/3.8.13/lib/python3.8/site-packages (from openai) (4.64.1)\n",
      "Requirement already satisfied: typing-extensions in /home/gitpod/.pyenv/versions/3.8.13/lib/python3.8/site-packages (from openai) (4.3.0)\n",
      "Requirement already satisfied: openpyxl>=3.0.7 in /home/gitpod/.pyenv/versions/3.8.13/lib/python3.8/site-packages (from openai) (3.0.10)\n",
      "Requirement already satisfied: et-xmlfile in /home/gitpod/.pyenv/versions/3.8.13/lib/python3.8/site-packages (from openpyxl>=3.0.7->openai) (1.1.0)\n",
      "Requirement already satisfied: pytz>=2020.1 in /workspace/.pyenv_mirror/user/current/lib/python3.8/site-packages (from pandas>=1.2.3->openai) (2022.1)\n",
      "Requirement already satisfied: python-dateutil>=2.8.1 in /home/gitpod/.pyenv/versions/3.8.13/lib/python3.8/site-packages (from pandas>=1.2.3->openai) (2.8.2)\n",
      "Requirement already satisfied: types-pytz>=2022.1.1 in /home/gitpod/.pyenv/versions/3.8.13/lib/python3.8/site-packages (from pandas-stubs>=1.1.0.11->openai) (2022.5.0.0)\n",
      "Requirement already satisfied: certifi>=2017.4.17 in /workspace/.pyenv_mirror/user/current/lib/python3.8/site-packages (from requests>=2.20->openai) (2022.6.15)\n",
      "Requirement already satisfied: idna<4,>=2.5 in /workspace/.pyenv_mirror/user/current/lib/python3.8/site-packages (from requests>=2.20->openai) (3.3)\n",
      "Requirement already satisfied: charset-normalizer<3,>=2 in /workspace/.pyenv_mirror/user/current/lib/python3.8/site-packages (from requests>=2.20->openai) (2.1.0)\n",
      "Requirement already satisfied: urllib3<1.27,>=1.21.1 in /workspace/.pyenv_mirror/user/current/lib/python3.8/site-packages (from requests>=2.20->openai) (1.26.11)\n",
      "Requirement already satisfied: six>=1.5 in /home/gitpod/.pyenv/versions/3.8.13/lib/python3.8/site-packages (from python-dateutil>=2.8.1->pandas>=1.2.3->openai) (1.16.0)\n",
      "\n",
      "\u001b[1m[\u001b[0m\u001b[34;49mnotice\u001b[0m\u001b[1;39;49m]\u001b[0m\u001b[39;49m A new release of pip available: \u001b[0m\u001b[31;49m22.2.2\u001b[0m\u001b[39;49m -> \u001b[0m\u001b[32;49m22.3\u001b[0m\n",
      "\u001b[1m[\u001b[0m\u001b[34;49mnotice\u001b[0m\u001b[1;39;49m]\u001b[0m\u001b[39;49m To update, run: \u001b[0m\u001b[32;49mpip install --upgrade pip\u001b[0m\n"
     ]
    }
   ],
   "source": [
    "!pip3 install openai"
   ]
  },
  {
   "cell_type": "code",
   "execution_count": 3,
   "metadata": {},
   "outputs": [],
   "source": [
    "import rich\n",
    "import pandas as pd\n",
    "import requests\n",
    "import openai\n",
    "import os"
   ]
  },
  {
   "cell_type": "markdown",
   "metadata": {},
   "source": [
    "## Get Table From Website"
   ]
  },
  {
   "cell_type": "code",
   "execution_count": 4,
   "metadata": {},
   "outputs": [
    {
     "data": {
      "text/html": [
       "<div>\n",
       "<style scoped>\n",
       "    .dataframe tbody tr th:only-of-type {\n",
       "        vertical-align: middle;\n",
       "    }\n",
       "\n",
       "    .dataframe tbody tr th {\n",
       "        vertical-align: top;\n",
       "    }\n",
       "\n",
       "    .dataframe thead th {\n",
       "        text-align: right;\n",
       "    }\n",
       "</style>\n",
       "<table border=\"1\" class=\"dataframe\">\n",
       "  <thead>\n",
       "    <tr style=\"text-align: right;\">\n",
       "      <th></th>\n",
       "      <th>Cell type</th>\n",
       "      <th>Cytokines Produced</th>\n",
       "      <th>Key Transcription Factor</th>\n",
       "      <th>Role in immune defense</th>\n",
       "      <th>Related diseases</th>\n",
       "    </tr>\n",
       "  </thead>\n",
       "  <tbody>\n",
       "    <tr>\n",
       "      <th>0</th>\n",
       "      <td>Th1</td>\n",
       "      <td>IFNγ, IL-2</td>\n",
       "      <td>Tbet</td>\n",
       "      <td>Produce an inflammatory response, key for defe...</td>\n",
       "      <td>MS, Type 1 diabetes</td>\n",
       "    </tr>\n",
       "    <tr>\n",
       "      <th>1</th>\n",
       "      <td>Th2</td>\n",
       "      <td>IL-4, IL-5, IL-13</td>\n",
       "      <td>GATA-3</td>\n",
       "      <td>Immunologically important against extracellula...</td>\n",
       "      <td>Asthma and other allergic diseases</td>\n",
       "    </tr>\n",
       "    <tr>\n",
       "      <th>2</th>\n",
       "      <td>Th17</td>\n",
       "      <td>IL-17F, IL-17A, IL-22</td>\n",
       "      <td>RORγt</td>\n",
       "      <td>Defense against gut pathogens and at mucosal b...</td>\n",
       "      <td>MS, Rheumatoid Arthritis, Psoriasis</td>\n",
       "    </tr>\n",
       "    <tr>\n",
       "      <th>3</th>\n",
       "      <td>Th9[14][15]</td>\n",
       "      <td>IL-9</td>\n",
       "      <td>IRF4, PU.1</td>\n",
       "      <td>Defense against helminths (parasitic worms) an...</td>\n",
       "      <td>Multiple Sclerosis</td>\n",
       "    </tr>\n",
       "    <tr>\n",
       "      <th>4</th>\n",
       "      <td>Tfh</td>\n",
       "      <td>IL-21, IL-4</td>\n",
       "      <td>Bcl-6</td>\n",
       "      <td>Help B cells produce antibodies</td>\n",
       "      <td>Asthma and other allergic diseases</td>\n",
       "    </tr>\n",
       "    <tr>\n",
       "      <th>5</th>\n",
       "      <td>Th22[16][15]</td>\n",
       "      <td>IL-22</td>\n",
       "      <td>AHR</td>\n",
       "      <td>Pathogenesis of allergic airway diseases and p...</td>\n",
       "      <td>Crohn's Disease, Rheumatoid Arthritis, Tumors</td>\n",
       "    </tr>\n",
       "  </tbody>\n",
       "</table>\n",
       "</div>"
      ],
      "text/plain": [
       "      Cell type     Cytokines Produced Key Transcription Factor  \\\n",
       "0           Th1             IFNγ, IL-2                     Tbet   \n",
       "1           Th2      IL-4, IL-5, IL-13                   GATA-3   \n",
       "2          Th17  IL-17F, IL-17A, IL-22                    RORγt   \n",
       "3   Th9[14][15]                   IL-9               IRF4, PU.1   \n",
       "4           Tfh            IL-21, IL-4                    Bcl-6   \n",
       "5  Th22[16][15]                  IL-22                      AHR   \n",
       "\n",
       "                              Role in immune defense  \\\n",
       "0  Produce an inflammatory response, key for defe...   \n",
       "1  Immunologically important against extracellula...   \n",
       "2  Defense against gut pathogens and at mucosal b...   \n",
       "3  Defense against helminths (parasitic worms) an...   \n",
       "4                    Help B cells produce antibodies   \n",
       "5  Pathogenesis of allergic airway diseases and p...   \n",
       "\n",
       "                                Related diseases  \n",
       "0                            MS, Type 1 diabetes  \n",
       "1             Asthma and other allergic diseases  \n",
       "2            MS, Rheumatoid Arthritis, Psoriasis  \n",
       "3                             Multiple Sclerosis  \n",
       "4             Asthma and other allergic diseases  \n",
       "5  Crohn's Disease, Rheumatoid Arthritis, Tumors  "
      ]
     },
     "execution_count": 4,
     "metadata": {},
     "output_type": "execute_result"
    }
   ],
   "source": [
    "df = pd.read_html(\"https://en.wikipedia.org/wiki/T_cell\")[1]\n",
    "df"
   ]
  },
  {
   "cell_type": "markdown",
   "metadata": {},
   "source": [
    "## OPENAI GPT-3"
   ]
  },
  {
   "cell_type": "code",
   "execution_count": 31,
   "metadata": {},
   "outputs": [],
   "source": [
    "openai.api_key = os.getenv('OAI_API_KEY')\n",
    "\n",
    "runOAI = lambda maxTokens, prompt : openai.Completion.create (\n",
    "    model      ='text-curie-001',  \n",
    "    prompt     =prompt,  \n",
    "    max_tokens =maxTokens\n",
    ").choices[0]['text']\n",
    "\n",
    "runDV = lambda maxTokens, prompt : openai.Completion.create (\n",
    "    model = 'text-davinci-002',\n",
    "    prompt = prompt,\n",
    "    max_tokens = maxTokens\n",
    ").choices[0]['text']"
   ]
  },
  {
   "cell_type": "markdown",
   "metadata": {},
   "source": [
    "### Student Loan Forgiveness Article, Summarization"
   ]
  },
  {
   "cell_type": "code",
   "execution_count": null,
   "metadata": {},
   "outputs": [],
   "source": [
    "# Student Loan Forgiveness Article\n",
    "article_text = \"\"\"The legal battles over the sweeping debt relief program, which offers up to $20,000 of loan forgiveness to tens of millions of Americans, are far from over — and the issue could potentially end back at the Supreme Court in a matter of days or weeks.\n",
    "But, so far, several Republican-appointed judges have been cool to efforts by GOP state officials and conservative groups to put an immediate halt to Biden’s plan.\n",
    "Barrett on Thursday swiftly rejected a Wisconsin conservative group’s emergency request to stop the policy without comment or any indication she referred the matter to the full court.\n",
    "Barrett, a Donald Trump appointee, had received the request a day earlier because she oversees emergency matters from the 7th Circuit Court of Appeals. It was the first time a legal challenge to Biden’s relief plan had reached the high court.\n",
    "The Brown County Taxpayers Association had argued that it should be able to challenge the Biden administration’s debt relief program on behalf of the taxpayers who it says will be dealt a “staggering” blow by the policy. The lawsuit was brought by the conservative Wisconsin Institute for Law & Liberty.\n",
    "Also on Thursday, a federal judge in Missouri dismissed a lawsuit by six Republican-led states challenging the debt relief plan.\n",
    "U.S. District Judge Henry Edward Autrey, a George W. Bush appointee, ruled that the states did not articulate the type of harm that’s needed to have their legal challenge hard in federal court.\n",
    "“While Plaintiffs present important and significant challenges to the debt relief plan, the current Plaintiffs are unable to proceed to the resolution of these challenges,” Autrey wrote in a 19-page decision. He emphasized that his decision was focused on the state’s lack of standing and was not a comment on the legality of the debt relief plan.\n",
    "The legal challenge brought by the six Republican officials — in Nebraska, Missouri, Arkansas, Iowa, Kansas and South Carolina — is likely to be appealed. It is widely seen by proponents and critics of the debt relief plan as among the most serious and credible challenges.\n",
    "\n",
    "The GOP state attorneys general had argued that Biden’s student loan policy was illegal, unconstitutional, and should be stopped.\n",
    "They argued that the Biden administration’s actions would cause them economic injury because of lost tax revenue as well as other losses stemming from federal student loans that state-related entities manage, own, or invest in. But Judge Autrey ruled on Thursday that many of those harms were “merely speculative” or at least not imminent.\n",
    "In addition, he ruled that Missouri’s argument that it could claim any losses suffered by a quasi-state entity — the Missouri Higher Education Loan Authority, known as MOHELA — as its own.\n",
    "MOHELA, which owns and services federal student loans, was not a named plaintiff in the lawsuit. And Autrey wrote that the organization’s finances were too removed from the state of Missouri for officials to be able to pursue the lawsuit on behalf of MOHELA.\n",
    "The decision was, in part, a vindication of the Biden administration’s legal strategy to suddenly curtail its debt relief program without warning in September, which drew the ire of many borrowers and some progressives.\n",
    "In a reversal, the Education Department announced Sept. 29 that it would no longer allow borrowers with federal loans held by private entities to convert their loans in a way that qualifies them for the relief program.\n",
    "Several of the GOP-led states had argued that forgiving those privately-held federal student loans would harm state-related organizations that own or invest in them.\n",
    "But Autrey ruled on Thursday that the policy change had eliminated an “ongoing injury” to two of the states, Arkansas and Nebraska, meaning they no longer have standing to challenge the entire policy.\n",
    "More than 12 million Americans have applied for student loan forgiveness since the Biden administration opened the website for borrowers to request up to $20,000 of debt relief late last week.\n",
    "The Biden administration has said in court filings that it would not begin discharging any debt before this Sunday as various lawsuits play out across the country.\n",
    "The administration argues that it has the power to grant debt relief to large swaths of Americans under a 2003 law that gives the Education Department special powers over federal student loans in times of war or national emergencies, such as the Covid-19 pandemic.\n",
    "\n",
    "White House chief of staff Ron Klain praised the Missouri decision on Twitter as “Another court win for the @POTUS student debt relief plan.”\n",
    "Biden is slated to travel to Delaware State University to promote his student debt relief plan on Friday.\n",
    "White House Press Secretary Karine Jean-Pierre earlier on Thursday declined to discuss any contingency plans the administration has if a court blocks the program, instead criticizing GOP officials for seeking to end it.\n",
    "“There are opponents out there who are trying to take away what we’re trying to do, what the President is trying to do for the middle class,” she told reporters.\n",
    "\n",
    "\"\"\"\n",
    "ans = runOAI (100, f'Summarize the following article: {article_text}')"
   ]
  },
  {
   "cell_type": "code",
   "execution_count": 26,
   "metadata": {},
   "outputs": [
    {
     "data": {
      "text/html": [
       "<pre style=\"white-space:pre;overflow-x:auto;line-height:normal;font-family:Menlo,'DejaVu Sans Mono',consolas,'Courier New',monospace\">\n",
       "\n",
       "The article discusses various lawsuits challenging the debt relief program instituted by US President Barack Obama.\n",
       "The first lawsuit to be heard was brought by six Republican-led states, but was rejected by a federal judge. The \n",
       "next lawsuit, brought by the Wisconsin Institute for Law &amp; Liberty on behalf of taxpayers, was also rejected. \n",
       "According to the article, this latest lawsuit, which was dismissed by a federal judge, is likely to be appealed. \n",
       "The article centers around the president's planned trip to Delaware State University\n",
       "</pre>\n"
      ],
      "text/plain": [
       "\n",
       "\n",
       "The article discusses various lawsuits challenging the debt relief program instituted by US President Barack Obama.\n",
       "The first lawsuit to be heard was brought by six Republican-led states, but was rejected by a federal judge. The \n",
       "next lawsuit, brought by the Wisconsin Institute for Law & Liberty on behalf of taxpayers, was also rejected. \n",
       "According to the article, this latest lawsuit, which was dismissed by a federal judge, is likely to be appealed. \n",
       "The article centers around the president's planned trip to Delaware State University\n"
      ]
     },
     "metadata": {},
     "output_type": "display_data"
    }
   ],
   "source": [
    "rich.print(ans)"
   ]
  },
  {
   "cell_type": "code",
   "execution_count": 34,
   "metadata": {},
   "outputs": [],
   "source": [
    "dv_ans = runDV (300, f'Summarize the following article :\\n {article_text}')"
   ]
  },
  {
   "cell_type": "code",
   "execution_count": 35,
   "metadata": {},
   "outputs": [
    {
     "data": {
      "text/html": [
       "<pre style=\"white-space:pre;overflow-x:auto;line-height:normal;font-family:Menlo,'DejaVu Sans Mono',consolas,'Courier New',monospace\">\n",
       "\n",
       "The legal battles over thesweeping debt relief program, which offers up to $<span style=\"color: #008080; text-decoration-color: #008080; font-weight: bold\">20</span>,<span style=\"color: #008080; text-decoration-color: #008080; font-weight: bold\">000</span> of loan forgiveness to tens of \n",
       "millions of Americans, are far from over.\n",
       "\n",
       "However, several Republican-appointed judges have been cool to efforts by GOP state officials and conservative \n",
       "groups to put an immediate halt to Biden’s plan.\n",
       "\n",
       "For example, Barrett on Thursday swiftly rejected a Wisconsin conservative group’s emergency request to stop the \n",
       "policy without comment or any indication she referred the matter to the full court.\n",
       "\n",
       "U.S. District Judge Henry Edward Autrey, a George W. Bush appointee, ruled that the states did not articulate the \n",
       "type of harm that’s needed to have their legal challenge heard in federal court.\n",
       "\n",
       "He emphasized that his decision was focused on the state’s lack of standing and was not a comment on the legality \n",
       "of the debt relief plan.\n",
       "\n",
       "The decision was, in part, a vindication of the Biden administration’s legal strategy to suddenly curtail its debt \n",
       "relief program without warning in September, which drew the ire of many borrowers and some progressives.\n",
       "\n",
       "In a reversal, the Education Department announced Sept. <span style=\"color: #008080; text-decoration-color: #008080; font-weight: bold\">29</span> that it would no longer allow borrowers with federal \n",
       "loans held by private entities to convert their loans in a way that qualifies them for the relief program.\n",
       "\n",
       "More than <span style=\"color: #008080; text-decoration-color: #008080; font-weight: bold\">12</span> million Americans have applied for student loan forgiveness since the Biden administration opened the \n",
       "website for borrowers to request up to $<span style=\"color: #008080; text-decoration-color: #008080; font-weight: bold\">20</span>,\n",
       "</pre>\n"
      ],
      "text/plain": [
       "\n",
       "\n",
       "The legal battles over thesweeping debt relief program, which offers up to $\u001b[1;36m20\u001b[0m,\u001b[1;36m000\u001b[0m of loan forgiveness to tens of \n",
       "millions of Americans, are far from over.\n",
       "\n",
       "However, several Republican-appointed judges have been cool to efforts by GOP state officials and conservative \n",
       "groups to put an immediate halt to Biden’s plan.\n",
       "\n",
       "For example, Barrett on Thursday swiftly rejected a Wisconsin conservative group’s emergency request to stop the \n",
       "policy without comment or any indication she referred the matter to the full court.\n",
       "\n",
       "U.S. District Judge Henry Edward Autrey, a George W. Bush appointee, ruled that the states did not articulate the \n",
       "type of harm that’s needed to have their legal challenge heard in federal court.\n",
       "\n",
       "He emphasized that his decision was focused on the state’s lack of standing and was not a comment on the legality \n",
       "of the debt relief plan.\n",
       "\n",
       "The decision was, in part, a vindication of the Biden administration’s legal strategy to suddenly curtail its debt \n",
       "relief program without warning in September, which drew the ire of many borrowers and some progressives.\n",
       "\n",
       "In a reversal, the Education Department announced Sept. \u001b[1;36m29\u001b[0m that it would no longer allow borrowers with federal \n",
       "loans held by private entities to convert their loans in a way that qualifies them for the relief program.\n",
       "\n",
       "More than \u001b[1;36m12\u001b[0m million Americans have applied for student loan forgiveness since the Biden administration opened the \n",
       "website for borrowers to request up to $\u001b[1;36m20\u001b[0m,\n"
      ]
     },
     "metadata": {},
     "output_type": "display_data"
    }
   ],
   "source": [
    "rich.print(dv_ans)"
   ]
  }
 ],
 "metadata": {
  "kernelspec": {
   "display_name": "Python 3.8.13 64-bit ('shims')",
   "language": "python",
   "name": "python3"
  },
  "language_info": {
   "codemirror_mode": {
    "name": "ipython",
    "version": 3
   },
   "file_extension": ".py",
   "mimetype": "text/x-python",
   "name": "python",
   "nbconvert_exporter": "python",
   "pygments_lexer": "ipython3",
   "version": "3.8.13"
  },
  "orig_nbformat": 4,
  "vscode": {
   "interpreter": {
    "hash": "9ac03a0a6051494cc606d484d27d20fce22fb7b4d169f583271e11d5ba46a56e"
   }
  }
 },
 "nbformat": 4,
 "nbformat_minor": 2
}
