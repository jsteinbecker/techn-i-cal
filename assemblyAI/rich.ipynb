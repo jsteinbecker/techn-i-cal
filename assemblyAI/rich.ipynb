{
 "cells": [
  {
   "cell_type": "code",
   "execution_count": 4,
   "metadata": {},
   "outputs": [],
   "source": [
    "import rich\n",
    "import pandas as pd\n",
    "import requests"
   ]
  },
  {
   "cell_type": "code",
   "execution_count": 15,
   "metadata": {},
   "outputs": [
    {
     "data": {
      "text/html": [
       "<div>\n",
       "<style scoped>\n",
       "    .dataframe tbody tr th:only-of-type {\n",
       "        vertical-align: middle;\n",
       "    }\n",
       "\n",
       "    .dataframe tbody tr th {\n",
       "        vertical-align: top;\n",
       "    }\n",
       "\n",
       "    .dataframe thead th {\n",
       "        text-align: right;\n",
       "    }\n",
       "</style>\n",
       "<table border=\"1\" class=\"dataframe\">\n",
       "  <thead>\n",
       "    <tr style=\"text-align: right;\">\n",
       "      <th></th>\n",
       "      <th>Cell type</th>\n",
       "      <th>Cytokines Produced</th>\n",
       "      <th>Key Transcription Factor</th>\n",
       "      <th>Role in immune defense</th>\n",
       "      <th>Related diseases</th>\n",
       "    </tr>\n",
       "  </thead>\n",
       "  <tbody>\n",
       "    <tr>\n",
       "      <th>0</th>\n",
       "      <td>Th1</td>\n",
       "      <td>IFNγ, IL-2</td>\n",
       "      <td>Tbet</td>\n",
       "      <td>Produce an inflammatory response, key for defe...</td>\n",
       "      <td>MS, Type 1 diabetes</td>\n",
       "    </tr>\n",
       "    <tr>\n",
       "      <th>1</th>\n",
       "      <td>Th2</td>\n",
       "      <td>IL-4, IL-5, IL-13</td>\n",
       "      <td>GATA-3</td>\n",
       "      <td>Immunologically important against extracellula...</td>\n",
       "      <td>Asthma and other allergic diseases</td>\n",
       "    </tr>\n",
       "    <tr>\n",
       "      <th>2</th>\n",
       "      <td>Th17</td>\n",
       "      <td>IL-17F, IL-17A, IL-22</td>\n",
       "      <td>RORγt</td>\n",
       "      <td>Defense against gut pathogens and at mucosal b...</td>\n",
       "      <td>MS, Rheumatoid Arthritis, Psoriasis</td>\n",
       "    </tr>\n",
       "    <tr>\n",
       "      <th>3</th>\n",
       "      <td>Th9[14][15]</td>\n",
       "      <td>IL-9</td>\n",
       "      <td>IRF4, PU.1</td>\n",
       "      <td>Defense against helminths (parasitic worms) an...</td>\n",
       "      <td>Multiple Sclerosis</td>\n",
       "    </tr>\n",
       "    <tr>\n",
       "      <th>4</th>\n",
       "      <td>Tfh</td>\n",
       "      <td>IL-21, IL-4</td>\n",
       "      <td>Bcl-6</td>\n",
       "      <td>Help B cells produce antibodies</td>\n",
       "      <td>Asthma and other allergic diseases</td>\n",
       "    </tr>\n",
       "    <tr>\n",
       "      <th>5</th>\n",
       "      <td>Th22[16][15]</td>\n",
       "      <td>IL-22</td>\n",
       "      <td>AHR</td>\n",
       "      <td>Pathogenesis of allergic airway diseases and p...</td>\n",
       "      <td>Crohn's Disease, Rheumatoid Arthritis, Tumors</td>\n",
       "    </tr>\n",
       "  </tbody>\n",
       "</table>\n",
       "</div>"
      ],
      "text/plain": [
       "      Cell type     Cytokines Produced Key Transcription Factor  \\\n",
       "0           Th1             IFNγ, IL-2                     Tbet   \n",
       "1           Th2      IL-4, IL-5, IL-13                   GATA-3   \n",
       "2          Th17  IL-17F, IL-17A, IL-22                    RORγt   \n",
       "3   Th9[14][15]                   IL-9               IRF4, PU.1   \n",
       "4           Tfh            IL-21, IL-4                    Bcl-6   \n",
       "5  Th22[16][15]                  IL-22                      AHR   \n",
       "\n",
       "                              Role in immune defense  \\\n",
       "0  Produce an inflammatory response, key for defe...   \n",
       "1  Immunologically important against extracellula...   \n",
       "2  Defense against gut pathogens and at mucosal b...   \n",
       "3  Defense against helminths (parasitic worms) an...   \n",
       "4                    Help B cells produce antibodies   \n",
       "5  Pathogenesis of allergic airway diseases and p...   \n",
       "\n",
       "                                Related diseases  \n",
       "0                            MS, Type 1 diabetes  \n",
       "1             Asthma and other allergic diseases  \n",
       "2            MS, Rheumatoid Arthritis, Psoriasis  \n",
       "3                             Multiple Sclerosis  \n",
       "4             Asthma and other allergic diseases  \n",
       "5  Crohn's Disease, Rheumatoid Arthritis, Tumors  "
      ]
     },
     "execution_count": 15,
     "metadata": {},
     "output_type": "execute_result"
    }
   ],
   "source": [
    "df = pd.read_html(\"https://en.wikipedia.org/wiki/T_cell\")[1]\n",
    "df"
   ]
  },
  {
   "cell_type": "code",
   "execution_count": null,
   "metadata": {},
   "outputs": [],
   "source": []
  }
 ],
 "metadata": {
  "kernelspec": {
   "display_name": "Python 3.8.13 64-bit ('shims')",
   "language": "python",
   "name": "python3"
  },
  "language_info": {
   "codemirror_mode": {
    "name": "ipython",
    "version": 3
   },
   "file_extension": ".py",
   "mimetype": "text/x-python",
   "name": "python",
   "nbconvert_exporter": "python",
   "pygments_lexer": "ipython3",
   "version": "3.8.13"
  },
  "orig_nbformat": 4,
  "vscode": {
   "interpreter": {
    "hash": "9ac03a0a6051494cc606d484d27d20fce22fb7b4d169f583271e11d5ba46a56e"
   }
  }
 },
 "nbformat": 4,
 "nbformat_minor": 2
}
