{
 "cells": [
  {
   "cell_type": "code",
   "execution_count": 1,
   "metadata": {},
   "outputs": [
    {
     "name": "stdout",
     "output_type": "stream",
     "text": [
      "Enter the destination (leave blank for current directory)\n",
      "Why I Think Tylenol is Both Dangerous & Useless has been successfully downloaded.\n"
     ]
    }
   ],
   "source": [
    "# importing packages\n",
    "from pytube import YouTube\n",
    "import os\n",
    "\n",
    "# url input from user\n",
    "yt = YouTube(\n",
    "\tstr(input(\"Enter the URL of the video you want to download: \\n>> \")))\n",
    "\n",
    "# extract only audio\n",
    "video = yt.streams.filter(only_audio=True).first()\n",
    "\n",
    "# check for destination to save file\n",
    "print(\"Enter the destination (leave blank for current directory)\")\n",
    "destination = str(input(\">> \")) or '.'\n",
    "\n",
    "# download the file\n",
    "out_file = video.download(output_path=destination)\n",
    "\n",
    "# save the file\n",
    "base, ext = os.path.splitext(out_file)\n",
    "new_file = base + '.mp3'\n",
    "os.rename(out_file, new_file)\n",
    "\n",
    "# result of success\n",
    "print(yt.title + \" has been successfully downloaded.\")\n"
   ]
  },
  {
   "cell_type": "code",
   "execution_count": 8,
   "metadata": {},
   "outputs": [],
   "source": [
    "PATH_TO_FILE = '/workspace/techn-i-cal/Why I Think Tylenol is Both Dangerous & Useless.mp3'\n",
    "MIMETYPE_OF_FILE = 'mp3'"
   ]
  },
  {
   "cell_type": "code",
   "execution_count": 2,
   "metadata": {},
   "outputs": [],
   "source": [
    "from deepgram import Deepgram\n",
    "DEEPGRAM_API_KEY = 'b4a9473c5aa41d28dab30dc5d60822f91c40cc78'\n",
    "dg_client        = Deepgram(DEEPGRAM_API_KEY)"
   ]
  },
  {
   "cell_type": "code",
   "execution_count": 11,
   "metadata": {},
   "outputs": [
    {
     "name": "stdout",
     "output_type": "stream",
     "text": [
      "{'buffer': <_io.BufferedReader name='/workspace/techn-i-cal/Why I Think Tylenol is Both Dangerous & Useless.mp3'>, 'mimetype': 'mp3'}\n"
     ]
    }
   ],
   "source": [
    "with open(PATH_TO_FILE, 'rb') as audio:\n",
    "  source = {'buffer': audio, 'mimetype': MIMETYPE_OF_FILE}\n",
    "\n",
    "print(source)"
   ]
  },
  {
   "cell_type": "code",
   "execution_count": 14,
   "metadata": {},
   "outputs": [
    {
     "ename": "ValueError",
     "evalue": "I/O operation on closed file",
     "output_type": "error",
     "traceback": [
      "\u001b[0;31m---------------------------------------------------------------------------\u001b[0m",
      "\u001b[0;31mValueError\u001b[0m                                Traceback (most recent call last)",
      "Cell \u001b[0;32mIn [14], line 1\u001b[0m\n\u001b[0;32m----> 1\u001b[0m \u001b[39mawait\u001b[39;00m dg_client\u001b[39m.\u001b[39mtranscription\u001b[39m.\u001b[39mprerecorded(source, {\u001b[39m'\u001b[39m\u001b[39mpunctuate\u001b[39m\u001b[39m'\u001b[39m: \u001b[39mTrue\u001b[39;00m})\n",
      "File \u001b[0;32m/workspace/.pyenv_mirror/user/current/lib/python3.8/site-packages/deepgram/transcription.py:188\u001b[0m, in \u001b[0;36mTranscription.prerecorded\u001b[0;34m(self, source, options, **kwargs)\u001b[0m\n\u001b[1;32m    186\u001b[0m     options \u001b[39m=\u001b[39m {}\n\u001b[1;32m    187\u001b[0m full_options \u001b[39m=\u001b[39m cast(PrerecordedOptions, {\u001b[39m*\u001b[39m\u001b[39m*\u001b[39moptions, \u001b[39m*\u001b[39m\u001b[39m*\u001b[39mkwargs})\n\u001b[0;32m--> 188\u001b[0m \u001b[39mreturn\u001b[39;00m \u001b[39mawait\u001b[39;00m PrerecordedTranscription(\n\u001b[1;32m    189\u001b[0m     \u001b[39mself\u001b[39m\u001b[39m.\u001b[39moptions, full_options\n\u001b[1;32m    190\u001b[0m )(source)\n",
      "File \u001b[0;32m/workspace/.pyenv_mirror/user/current/lib/python3.8/site-packages/deepgram/transcription.py:35\u001b[0m, in \u001b[0;36mPrerecordedTranscription.__call__\u001b[0;34m(self, source)\u001b[0m\n\u001b[1;32m     30\u001b[0m payload \u001b[39m=\u001b[39m cast(\n\u001b[1;32m     31\u001b[0m     Union[\u001b[39mbytes\u001b[39m, Dict],\n\u001b[1;32m     32\u001b[0m     source\u001b[39m.\u001b[39mget(\u001b[39m'\u001b[39m\u001b[39mbuffer\u001b[39m\u001b[39m'\u001b[39m, {\u001b[39m'\u001b[39m\u001b[39murl\u001b[39m\u001b[39m'\u001b[39m: source\u001b[39m.\u001b[39mget(\u001b[39m'\u001b[39m\u001b[39murl\u001b[39m\u001b[39m'\u001b[39m)})\n\u001b[1;32m     33\u001b[0m )\n\u001b[1;32m     34\u001b[0m content_type \u001b[39m=\u001b[39m cast(\u001b[39mstr\u001b[39m, source\u001b[39m.\u001b[39mget(\u001b[39m'\u001b[39m\u001b[39mmimetype\u001b[39m\u001b[39m'\u001b[39m, \u001b[39m'\u001b[39m\u001b[39mapplication/json\u001b[39m\u001b[39m'\u001b[39m))\n\u001b[0;32m---> 35\u001b[0m \u001b[39mreturn\u001b[39;00m \u001b[39mawait\u001b[39;00m _request(\n\u001b[1;32m     36\u001b[0m     \u001b[39mf\u001b[39m\u001b[39m'\u001b[39m\u001b[39m{\u001b[39;00m\u001b[39mself\u001b[39m\u001b[39m.\u001b[39m_root\u001b[39m}\u001b[39;00m\u001b[39m{\u001b[39;00m_make_query_string(\u001b[39mself\u001b[39m\u001b[39m.\u001b[39mtranscription_options)\u001b[39m}\u001b[39;00m\u001b[39m'\u001b[39m,\n\u001b[1;32m     37\u001b[0m     \u001b[39mself\u001b[39m\u001b[39m.\u001b[39moptions, method\u001b[39m=\u001b[39m\u001b[39m'\u001b[39m\u001b[39mPOST\u001b[39m\u001b[39m'\u001b[39m, payload\u001b[39m=\u001b[39mpayload,\n\u001b[1;32m     38\u001b[0m     headers\u001b[39m=\u001b[39m{\u001b[39m'\u001b[39m\u001b[39mContent-Type\u001b[39m\u001b[39m'\u001b[39m: content_type}\n\u001b[1;32m     39\u001b[0m )\n",
      "File \u001b[0;32m/workspace/.pyenv_mirror/user/current/lib/python3.8/site-packages/deepgram/_utils.py:109\u001b[0m, in \u001b[0;36m_request\u001b[0;34m(path, options, method, payload, headers)\u001b[0m\n\u001b[1;32m    107\u001b[0m \u001b[39mwhile\u001b[39;00m tries \u001b[39m>\u001b[39m \u001b[39m0\u001b[39m:\n\u001b[1;32m    108\u001b[0m     \u001b[39mtry\u001b[39;00m:\n\u001b[0;32m--> 109\u001b[0m         \u001b[39mreturn\u001b[39;00m \u001b[39mawait\u001b[39;00m attempt()\n\u001b[1;32m    110\u001b[0m     \u001b[39mexcept\u001b[39;00m aiohttp\u001b[39m.\u001b[39mClientError \u001b[39mas\u001b[39;00m exc:\n\u001b[1;32m    111\u001b[0m         \u001b[39mif\u001b[39;00m \u001b[39misinstance\u001b[39m(payload, io\u001b[39m.\u001b[39mIOBase):\n",
      "File \u001b[0;32m/workspace/.pyenv_mirror/user/current/lib/python3.8/site-packages/deepgram/_utils.py:90\u001b[0m, in \u001b[0;36m_request.<locals>.attempt\u001b[0;34m()\u001b[0m\n\u001b[1;32m     88\u001b[0m \u001b[39masync\u001b[39;00m \u001b[39mdef\u001b[39;00m \u001b[39mattempt\u001b[39m():\n\u001b[1;32m     89\u001b[0m     \u001b[39mtry\u001b[39;00m:\n\u001b[0;32m---> 90\u001b[0m         \u001b[39masync\u001b[39;00m \u001b[39mwith\u001b[39;00m aiohttp\u001b[39m.\u001b[39mrequest(\n\u001b[1;32m     91\u001b[0m             method, destination, data\u001b[39m=\u001b[39m_normalize_payload(payload),\n\u001b[1;32m     92\u001b[0m             headers\u001b[39m=\u001b[39mupdated_headers, raise_for_status\u001b[39m=\u001b[39m\u001b[39mTrue\u001b[39;00m\n\u001b[1;32m     93\u001b[0m         ) \u001b[39mas\u001b[39;00m resp:\n\u001b[1;32m     94\u001b[0m             content \u001b[39m=\u001b[39m (\u001b[39mawait\u001b[39;00m resp\u001b[39m.\u001b[39mtext())\u001b[39m.\u001b[39mstrip()\n\u001b[1;32m     95\u001b[0m             \u001b[39mif\u001b[39;00m \u001b[39mnot\u001b[39;00m content:\n",
      "File \u001b[0;32m/workspace/.pyenv_mirror/user/current/lib/python3.8/site-packages/aiohttp/client.py:1189\u001b[0m, in \u001b[0;36m_SessionRequestContextManager.__aenter__\u001b[0;34m(self)\u001b[0m\n\u001b[1;32m   1187\u001b[0m \u001b[39masync\u001b[39;00m \u001b[39mdef\u001b[39;00m \u001b[39m__aenter__\u001b[39m(\u001b[39mself\u001b[39m) \u001b[39m-\u001b[39m\u001b[39m>\u001b[39m ClientResponse:\n\u001b[1;32m   1188\u001b[0m     \u001b[39mtry\u001b[39;00m:\n\u001b[0;32m-> 1189\u001b[0m         \u001b[39mself\u001b[39m\u001b[39m.\u001b[39m_resp \u001b[39m=\u001b[39m \u001b[39mawait\u001b[39;00m \u001b[39mself\u001b[39m\u001b[39m.\u001b[39m_coro\n\u001b[1;32m   1190\u001b[0m     \u001b[39mexcept\u001b[39;00m \u001b[39mBaseException\u001b[39;00m:\n\u001b[1;32m   1191\u001b[0m         \u001b[39mawait\u001b[39;00m \u001b[39mself\u001b[39m\u001b[39m.\u001b[39m_session\u001b[39m.\u001b[39mclose()\n",
      "File \u001b[0;32m/workspace/.pyenv_mirror/user/current/lib/python3.8/site-packages/aiohttp/client.py:508\u001b[0m, in \u001b[0;36mClientSession._request\u001b[0;34m(self, method, str_or_url, params, data, json, cookies, headers, skip_auto_headers, auth, allow_redirects, max_redirects, compress, chunked, expect100, raise_for_status, read_until_eof, proxy, proxy_auth, timeout, verify_ssl, fingerprint, ssl_context, ssl, proxy_headers, trace_request_ctx, read_bufsize)\u001b[0m\n\u001b[1;32m    505\u001b[0m     \u001b[39mwith\u001b[39;00m suppress(\u001b[39mLookupError\u001b[39;00m):\n\u001b[1;32m    506\u001b[0m         proxy, proxy_auth \u001b[39m=\u001b[39m get_env_proxy_for_url(url)\n\u001b[0;32m--> 508\u001b[0m req \u001b[39m=\u001b[39m \u001b[39mself\u001b[39;49m\u001b[39m.\u001b[39;49m_request_class(\n\u001b[1;32m    509\u001b[0m     method,\n\u001b[1;32m    510\u001b[0m     url,\n\u001b[1;32m    511\u001b[0m     params\u001b[39m=\u001b[39;49mparams,\n\u001b[1;32m    512\u001b[0m     headers\u001b[39m=\u001b[39;49mheaders,\n\u001b[1;32m    513\u001b[0m     skip_auto_headers\u001b[39m=\u001b[39;49mskip_headers,\n\u001b[1;32m    514\u001b[0m     data\u001b[39m=\u001b[39;49mdata,\n\u001b[1;32m    515\u001b[0m     cookies\u001b[39m=\u001b[39;49mall_cookies,\n\u001b[1;32m    516\u001b[0m     auth\u001b[39m=\u001b[39;49mauth,\n\u001b[1;32m    517\u001b[0m     version\u001b[39m=\u001b[39;49mversion,\n\u001b[1;32m    518\u001b[0m     compress\u001b[39m=\u001b[39;49mcompress,\n\u001b[1;32m    519\u001b[0m     chunked\u001b[39m=\u001b[39;49mchunked,\n\u001b[1;32m    520\u001b[0m     expect100\u001b[39m=\u001b[39;49mexpect100,\n\u001b[1;32m    521\u001b[0m     loop\u001b[39m=\u001b[39;49m\u001b[39mself\u001b[39;49m\u001b[39m.\u001b[39;49m_loop,\n\u001b[1;32m    522\u001b[0m     response_class\u001b[39m=\u001b[39;49m\u001b[39mself\u001b[39;49m\u001b[39m.\u001b[39;49m_response_class,\n\u001b[1;32m    523\u001b[0m     proxy\u001b[39m=\u001b[39;49mproxy,\n\u001b[1;32m    524\u001b[0m     proxy_auth\u001b[39m=\u001b[39;49mproxy_auth,\n\u001b[1;32m    525\u001b[0m     timer\u001b[39m=\u001b[39;49mtimer,\n\u001b[1;32m    526\u001b[0m     session\u001b[39m=\u001b[39;49m\u001b[39mself\u001b[39;49m,\n\u001b[1;32m    527\u001b[0m     ssl\u001b[39m=\u001b[39;49mssl,\n\u001b[1;32m    528\u001b[0m     proxy_headers\u001b[39m=\u001b[39;49mproxy_headers,\n\u001b[1;32m    529\u001b[0m     traces\u001b[39m=\u001b[39;49mtraces,\n\u001b[1;32m    530\u001b[0m )\n\u001b[1;32m    532\u001b[0m \u001b[39m# connection timeout\u001b[39;00m\n\u001b[1;32m    533\u001b[0m \u001b[39mtry\u001b[39;00m:\n",
      "File \u001b[0;32m/workspace/.pyenv_mirror/user/current/lib/python3.8/site-packages/aiohttp/client_reqrep.py:313\u001b[0m, in \u001b[0;36mClientRequest.__init__\u001b[0;34m(self, method, url, params, headers, skip_auto_headers, data, cookies, auth, version, compress, chunked, expect100, loop, response_class, proxy, proxy_auth, timer, session, ssl, proxy_headers, traces)\u001b[0m\n\u001b[1;32m    310\u001b[0m \u001b[39mself\u001b[39m\u001b[39m.\u001b[39mupdate_auth(auth)\n\u001b[1;32m    311\u001b[0m \u001b[39mself\u001b[39m\u001b[39m.\u001b[39mupdate_proxy(proxy, proxy_auth, proxy_headers)\n\u001b[0;32m--> 313\u001b[0m \u001b[39mself\u001b[39;49m\u001b[39m.\u001b[39;49mupdate_body_from_data(data)\n\u001b[1;32m    314\u001b[0m \u001b[39mif\u001b[39;00m data \u001b[39mis\u001b[39;00m \u001b[39mnot\u001b[39;00m \u001b[39mNone\u001b[39;00m \u001b[39mor\u001b[39;00m \u001b[39mself\u001b[39m\u001b[39m.\u001b[39mmethod \u001b[39mnot\u001b[39;00m \u001b[39min\u001b[39;00m \u001b[39mself\u001b[39m\u001b[39m.\u001b[39mGET_METHODS:\n\u001b[1;32m    315\u001b[0m     \u001b[39mself\u001b[39m\u001b[39m.\u001b[39mupdate_transfer_encoding()\n",
      "File \u001b[0;32m/workspace/.pyenv_mirror/user/current/lib/python3.8/site-packages/aiohttp/client_reqrep.py:517\u001b[0m, in \u001b[0;36mClientRequest.update_body_from_data\u001b[0;34m(self, body)\u001b[0m\n\u001b[1;32m    515\u001b[0m \u001b[39mif\u001b[39;00m \u001b[39mnot\u001b[39;00m \u001b[39mself\u001b[39m\u001b[39m.\u001b[39mchunked:\n\u001b[1;32m    516\u001b[0m     \u001b[39mif\u001b[39;00m hdrs\u001b[39m.\u001b[39mCONTENT_LENGTH \u001b[39mnot\u001b[39;00m \u001b[39min\u001b[39;00m \u001b[39mself\u001b[39m\u001b[39m.\u001b[39mheaders:\n\u001b[0;32m--> 517\u001b[0m         size \u001b[39m=\u001b[39m body\u001b[39m.\u001b[39;49msize\n\u001b[1;32m    518\u001b[0m         \u001b[39mif\u001b[39;00m size \u001b[39mis\u001b[39;00m \u001b[39mNone\u001b[39;00m:\n\u001b[1;32m    519\u001b[0m             \u001b[39mself\u001b[39m\u001b[39m.\u001b[39mchunked \u001b[39m=\u001b[39m \u001b[39mTrue\u001b[39;00m\n",
      "File \u001b[0;32m/workspace/.pyenv_mirror/user/current/lib/python3.8/site-packages/aiohttp/payload.py:379\u001b[0m, in \u001b[0;36mBufferedReaderPayload.size\u001b[0;34m(self)\u001b[0m\n\u001b[1;32m    376\u001b[0m \u001b[39m@property\u001b[39m\n\u001b[1;32m    377\u001b[0m \u001b[39mdef\u001b[39;00m \u001b[39msize\u001b[39m(\u001b[39mself\u001b[39m) \u001b[39m-\u001b[39m\u001b[39m>\u001b[39m Optional[\u001b[39mint\u001b[39m]:\n\u001b[1;32m    378\u001b[0m     \u001b[39mtry\u001b[39;00m:\n\u001b[0;32m--> 379\u001b[0m         \u001b[39mreturn\u001b[39;00m os\u001b[39m.\u001b[39mfstat(\u001b[39mself\u001b[39;49m\u001b[39m.\u001b[39;49m_value\u001b[39m.\u001b[39;49mfileno())\u001b[39m.\u001b[39mst_size \u001b[39m-\u001b[39m \u001b[39mself\u001b[39m\u001b[39m.\u001b[39m_value\u001b[39m.\u001b[39mtell()\n\u001b[1;32m    380\u001b[0m     \u001b[39mexcept\u001b[39;00m \u001b[39mOSError\u001b[39;00m:\n\u001b[1;32m    381\u001b[0m         \u001b[39m# data.fileno() is not supported, e.g.\u001b[39;00m\n\u001b[1;32m    382\u001b[0m         \u001b[39m# io.BufferedReader(io.BytesIO(b'data'))\u001b[39;00m\n\u001b[1;32m    383\u001b[0m         \u001b[39mreturn\u001b[39;00m \u001b[39mNone\u001b[39;00m\n",
      "\u001b[0;31mValueError\u001b[0m: I/O operation on closed file"
     ]
    }
   ],
   "source": [
    "await dg_client.transcription.prerecorded(source, {'punctuate': True}) "
   ]
  }
 ],
 "metadata": {
  "kernelspec": {
   "display_name": "Python 3.8.13 64-bit ('shims')",
   "language": "python",
   "name": "python3"
  },
  "language_info": {
   "codemirror_mode": {
    "name": "ipython",
    "version": 3
   },
   "file_extension": ".py",
   "mimetype": "text/x-python",
   "name": "python",
   "nbconvert_exporter": "python",
   "pygments_lexer": "ipython3",
   "version": "3.8.13"
  },
  "orig_nbformat": 4,
  "vscode": {
   "interpreter": {
    "hash": "9ac03a0a6051494cc606d484d27d20fce22fb7b4d169f583271e11d5ba46a56e"
   }
  }
 },
 "nbformat": 4,
 "nbformat_minor": 2
}
