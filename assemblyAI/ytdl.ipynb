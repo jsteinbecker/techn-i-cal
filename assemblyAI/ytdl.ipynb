{
 "cells": [
  {
   "cell_type": "code",
   "execution_count": 2,
   "metadata": {},
   "outputs": [
    {
     "ename": "RegexMatchError",
     "evalue": "regex_search: could not find match for (?:v=|\\/)([0-9A-Za-z_-]{11}).*",
     "output_type": "error",
     "traceback": [
      "\u001b[0;31m---------------------------------------------------------------------------\u001b[0m",
      "\u001b[0;31mRegexMatchError\u001b[0m                           Traceback (most recent call last)",
      "Cell \u001b[0;32mIn [2], line 6\u001b[0m\n\u001b[1;32m      3\u001b[0m \u001b[39mimport\u001b[39;00m \u001b[39mos\u001b[39;00m\n\u001b[1;32m      5\u001b[0m \u001b[39m# url input from user\u001b[39;00m\n\u001b[0;32m----> 6\u001b[0m yt \u001b[39m=\u001b[39m YouTube(\n\u001b[1;32m      7\u001b[0m \t\u001b[39mstr\u001b[39;49m(\u001b[39minput\u001b[39;49m(\u001b[39m\"\u001b[39;49m\u001b[39mEnter the URL of the video you want to download: \u001b[39;49m\u001b[39m\\n\u001b[39;49;00m\u001b[39m>> \u001b[39;49m\u001b[39m\"\u001b[39;49m)))\n\u001b[1;32m      9\u001b[0m \u001b[39m# extract only audio\u001b[39;00m\n\u001b[1;32m     10\u001b[0m video \u001b[39m=\u001b[39m yt\u001b[39m.\u001b[39mstreams\u001b[39m.\u001b[39mfilter(only_audio\u001b[39m=\u001b[39m\u001b[39mTrue\u001b[39;00m)\u001b[39m.\u001b[39mfirst()\n",
      "File \u001b[0;32m/workspace/.pyenv_mirror/user/current/lib/python3.8/site-packages/pytube/__main__.py:71\u001b[0m, in \u001b[0;36mYouTube.__init__\u001b[0;34m(self, url, on_progress_callback, on_complete_callback, proxies, use_oauth, allow_oauth_cache)\u001b[0m\n\u001b[1;32m     68\u001b[0m \u001b[39mself\u001b[39m\u001b[39m.\u001b[39m_metadata: Optional[YouTubeMetadata] \u001b[39m=\u001b[39m \u001b[39mNone\u001b[39;00m\n\u001b[1;32m     70\u001b[0m \u001b[39m# video_id part of /watch?v=<video_id>\u001b[39;00m\n\u001b[0;32m---> 71\u001b[0m \u001b[39mself\u001b[39m\u001b[39m.\u001b[39mvideo_id \u001b[39m=\u001b[39m extract\u001b[39m.\u001b[39;49mvideo_id(url)\n\u001b[1;32m     73\u001b[0m \u001b[39mself\u001b[39m\u001b[39m.\u001b[39mwatch_url \u001b[39m=\u001b[39m \u001b[39mf\u001b[39m\u001b[39m\"\u001b[39m\u001b[39mhttps://youtube.com/watch?v=\u001b[39m\u001b[39m{\u001b[39;00m\u001b[39mself\u001b[39m\u001b[39m.\u001b[39mvideo_id\u001b[39m}\u001b[39;00m\u001b[39m\"\u001b[39m\n\u001b[1;32m     74\u001b[0m \u001b[39mself\u001b[39m\u001b[39m.\u001b[39membed_url \u001b[39m=\u001b[39m \u001b[39mf\u001b[39m\u001b[39m\"\u001b[39m\u001b[39mhttps://www.youtube.com/embed/\u001b[39m\u001b[39m{\u001b[39;00m\u001b[39mself\u001b[39m\u001b[39m.\u001b[39mvideo_id\u001b[39m}\u001b[39;00m\u001b[39m\"\u001b[39m\n",
      "File \u001b[0;32m/workspace/.pyenv_mirror/user/current/lib/python3.8/site-packages/pytube/extract.py:133\u001b[0m, in \u001b[0;36mvideo_id\u001b[0;34m(url)\u001b[0m\n\u001b[1;32m    118\u001b[0m \u001b[39mdef\u001b[39;00m \u001b[39mvideo_id\u001b[39m(url: \u001b[39mstr\u001b[39m) \u001b[39m-\u001b[39m\u001b[39m>\u001b[39m \u001b[39mstr\u001b[39m:\n\u001b[1;32m    119\u001b[0m     \u001b[39m\"\"\"Extract the ``video_id`` from a YouTube url.\u001b[39;00m\n\u001b[1;32m    120\u001b[0m \n\u001b[1;32m    121\u001b[0m \u001b[39m    This function supports the following patterns:\u001b[39;00m\n\u001b[0;32m   (...)\u001b[0m\n\u001b[1;32m    131\u001b[0m \u001b[39m        YouTube video id.\u001b[39;00m\n\u001b[1;32m    132\u001b[0m \u001b[39m    \"\"\"\u001b[39;00m\n\u001b[0;32m--> 133\u001b[0m     \u001b[39mreturn\u001b[39;00m regex_search(\u001b[39mr\u001b[39;49m\u001b[39m\"\u001b[39;49m\u001b[39m(?:v=|\u001b[39;49m\u001b[39m\\\u001b[39;49m\u001b[39m/)([0-9A-Za-z_-]\u001b[39;49m\u001b[39m{11}\u001b[39;49;00m\u001b[39m).*\u001b[39;49m\u001b[39m\"\u001b[39;49m, url, group\u001b[39m=\u001b[39;49m\u001b[39m1\u001b[39;49m)\n",
      "File \u001b[0;32m/workspace/.pyenv_mirror/user/current/lib/python3.8/site-packages/pytube/helpers.py:129\u001b[0m, in \u001b[0;36mregex_search\u001b[0;34m(pattern, string, group)\u001b[0m\n\u001b[1;32m    127\u001b[0m results \u001b[39m=\u001b[39m regex\u001b[39m.\u001b[39msearch(string)\n\u001b[1;32m    128\u001b[0m \u001b[39mif\u001b[39;00m \u001b[39mnot\u001b[39;00m results:\n\u001b[0;32m--> 129\u001b[0m     \u001b[39mraise\u001b[39;00m RegexMatchError(caller\u001b[39m=\u001b[39m\u001b[39m\"\u001b[39m\u001b[39mregex_search\u001b[39m\u001b[39m\"\u001b[39m, pattern\u001b[39m=\u001b[39mpattern)\n\u001b[1;32m    131\u001b[0m logger\u001b[39m.\u001b[39mdebug(\u001b[39m\"\u001b[39m\u001b[39mmatched regex search: \u001b[39m\u001b[39m%s\u001b[39;00m\u001b[39m\"\u001b[39m, pattern)\n\u001b[1;32m    133\u001b[0m \u001b[39mreturn\u001b[39;00m results\u001b[39m.\u001b[39mgroup(group)\n",
      "\u001b[0;31mRegexMatchError\u001b[0m: regex_search: could not find match for (?:v=|\\/)([0-9A-Za-z_-]{11}).*"
     ]
    }
   ],
   "source": [
    "# importing packages\n",
    "from pytube import YouTube\n",
    "import os\n",
    "\n",
    "# url input from user\n",
    "yt = YouTube(\n",
    "\tstr(input(\"Enter the URL of the video you want to download: \\n>> \")))\n",
    "\n",
    "# extract only audio\n",
    "video = yt.streams.filter(only_audio=True).first()\n",
    "\n",
    "# check for destination to save file\n",
    "print(\"Enter the destination (leave blank for current directory)\")\n",
    "destination = str(input(\">> \")) or '.'\n",
    "\n",
    "# download the file\n",
    "out_file = video.download(output_path=destination)\n",
    "\n",
    "# save the file\n",
    "base, ext = os.path.splitext(out_file)\n",
    "new_file = base + '.mp3'\n",
    "os.rename(out_file, new_file)\n",
    "\n",
    "# result of success\n",
    "print(yt.title + \" has been successfully downloaded.\")\n"
   ]
  },
  {
   "cell_type": "code",
   "execution_count": 25,
   "metadata": {},
   "outputs": [],
   "source": [
    "PATH_TO_FILE = 'assemblyAI/audio/Why I Think Tylenol is Both Dangerous & Useless.mp3'\n",
    "MIMETYPE_OF_FILE = 'mp3'"
   ]
  },
  {
   "cell_type": "code",
   "execution_count": 27,
   "metadata": {},
   "outputs": [],
   "source": [
    "from deepgram import Deepgram\n",
    "DEEPGRAM_API_KEY = 'b4a9473c5aa41d28dab30dc5d60822f91c40cc78'\n",
    "dg_client        = Deepgram(DEEPGRAM_API_KEY)"
   ]
  },
  {
   "cell_type": "code",
   "execution_count": 26,
   "metadata": {},
   "outputs": [
    {
     "name": "stdout",
     "output_type": "stream",
     "text": [
      "{'buffer': <_io.BufferedReader name='assemblyAI/audio/Why I Think Tylenol is Both Dangerous & Useless.mp3'>, 'mimetype': 'mp3'}\n"
     ]
    }
   ],
   "source": [
    "with open(PATH_TO_FILE, 'rb') as audio:\n",
    "  source = {'buffer': audio, 'mimetype': MIMETYPE_OF_FILE}\n",
    "\n",
    "print(source)"
   ]
  },
  {
   "cell_type": "code",
   "execution_count": 30,
   "metadata": {},
   "outputs": [],
   "source": [
    "async def main():\n",
    "\n",
    "    # Initialize the Deepgram SDK\n",
    "    deepgram = Deepgram(DEEPGRAM_API_KEY)\n",
    "\n",
    "    FILE = 'URL_TO_YOUR_FILE'\n",
    "\n",
    "    source = {\n",
    "        'url': FILE\n",
    "    }\n",
    "\n",
    "    response = await asyncio.create_task(\n",
    "        deepgram.transcription.prerecorded(\n",
    "            source\n",
    "        )\n",
    "    )\n",
    "\n",
    "    print(json.dumps(response, indent=4))\n",
    "\n",
    "asyncio.run(main())"
   ]
  },
  {
   "cell_type": "code",
   "execution_count": 33,
   "metadata": {},
   "outputs": [],
   "source": [
    "response = get()"
   ]
  },
  {
   "cell_type": "code",
   "execution_count": null,
   "metadata": {},
   "outputs": [],
   "source": []
  }
 ],
 "metadata": {
  "kernelspec": {
   "display_name": "Python 3.8.13 64-bit ('shims')",
   "language": "python",
   "name": "python3"
  },
  "language_info": {
   "codemirror_mode": {
    "name": "ipython",
    "version": 3
   },
   "file_extension": ".py",
   "mimetype": "text/x-python",
   "name": "python",
   "nbconvert_exporter": "python",
   "pygments_lexer": "ipython3",
   "version": "3.8.13"
  },
  "orig_nbformat": 4,
  "vscode": {
   "interpreter": {
    "hash": "9ac03a0a6051494cc606d484d27d20fce22fb7b4d169f583271e11d5ba46a56e"
   }
  }
 },
 "nbformat": 4,
 "nbformat_minor": 2
}
