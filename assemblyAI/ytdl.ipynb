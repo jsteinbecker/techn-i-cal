{
 "cells": [
  {
   "cell_type": "code",
   "execution_count": 2,
   "metadata": {},
   "outputs": [
    {
     "ename": "VideoUnavailable",
     "evalue": "techn-i-cal is unavailable",
     "output_type": "error",
     "traceback": [
      "\u001b[0;31m---------------------------------------------------------------------------\u001b[0m",
      "\u001b[0;31mVideoUnavailable\u001b[0m                          Traceback (most recent call last)",
      "Cell \u001b[0;32mIn [2], line 10\u001b[0m\n\u001b[1;32m      6\u001b[0m yt \u001b[39m=\u001b[39m YouTube(\n\u001b[1;32m      7\u001b[0m \t\u001b[39mstr\u001b[39m(\u001b[39minput\u001b[39m(\u001b[39m\"\u001b[39m\u001b[39mEnter the URL of the video you want to download: \u001b[39m\u001b[39m\\n\u001b[39;00m\u001b[39m>> \u001b[39m\u001b[39m\"\u001b[39m)))\n\u001b[1;32m      9\u001b[0m \u001b[39m# extract only audio\u001b[39;00m\n\u001b[0;32m---> 10\u001b[0m video \u001b[39m=\u001b[39m yt\u001b[39m.\u001b[39;49mstreams\u001b[39m.\u001b[39mfilter(only_audio\u001b[39m=\u001b[39m\u001b[39mTrue\u001b[39;00m)\u001b[39m.\u001b[39mfirst()\n\u001b[1;32m     12\u001b[0m \u001b[39m# check for destination to save file\u001b[39;00m\n\u001b[1;32m     13\u001b[0m \u001b[39mprint\u001b[39m(\u001b[39m\"\u001b[39m\u001b[39mEnter the destination (leave blank for current directory)\u001b[39m\u001b[39m\"\u001b[39m)\n",
      "File \u001b[0;32m/workspace/.pyenv_mirror/user/current/lib/python3.8/site-packages/pytube/__main__.py:295\u001b[0m, in \u001b[0;36mYouTube.streams\u001b[0;34m(self)\u001b[0m\n\u001b[1;32m    289\u001b[0m \u001b[39m@property\u001b[39m\n\u001b[1;32m    290\u001b[0m \u001b[39mdef\u001b[39;00m \u001b[39mstreams\u001b[39m(\u001b[39mself\u001b[39m) \u001b[39m-\u001b[39m\u001b[39m>\u001b[39m StreamQuery:\n\u001b[1;32m    291\u001b[0m     \u001b[39m\"\"\"Interface to query both adaptive (DASH) and progressive streams.\u001b[39;00m\n\u001b[1;32m    292\u001b[0m \n\u001b[1;32m    293\u001b[0m \u001b[39m    :rtype: :class:`StreamQuery <StreamQuery>`.\u001b[39;00m\n\u001b[1;32m    294\u001b[0m \u001b[39m    \"\"\"\u001b[39;00m\n\u001b[0;32m--> 295\u001b[0m     \u001b[39mself\u001b[39;49m\u001b[39m.\u001b[39;49mcheck_availability()\n\u001b[1;32m    296\u001b[0m     \u001b[39mreturn\u001b[39;00m StreamQuery(\u001b[39mself\u001b[39m\u001b[39m.\u001b[39mfmt_streams)\n",
      "File \u001b[0;32m/workspace/.pyenv_mirror/user/current/lib/python3.8/site-packages/pytube/__main__.py:231\u001b[0m, in \u001b[0;36mYouTube.check_availability\u001b[0;34m(self)\u001b[0m\n\u001b[1;32m    229\u001b[0m \u001b[39melif\u001b[39;00m status \u001b[39m==\u001b[39m \u001b[39m'\u001b[39m\u001b[39mERROR\u001b[39m\u001b[39m'\u001b[39m:\n\u001b[1;32m    230\u001b[0m     \u001b[39mif\u001b[39;00m reason \u001b[39m==\u001b[39m \u001b[39m'\u001b[39m\u001b[39mVideo unavailable\u001b[39m\u001b[39m'\u001b[39m:\n\u001b[0;32m--> 231\u001b[0m         \u001b[39mraise\u001b[39;00m exceptions\u001b[39m.\u001b[39mVideoUnavailable(video_id\u001b[39m=\u001b[39m\u001b[39mself\u001b[39m\u001b[39m.\u001b[39mvideo_id)\n\u001b[1;32m    232\u001b[0m \u001b[39melif\u001b[39;00m status \u001b[39m==\u001b[39m \u001b[39m'\u001b[39m\u001b[39mLIVE_STREAM\u001b[39m\u001b[39m'\u001b[39m:\n\u001b[1;32m    233\u001b[0m     \u001b[39mraise\u001b[39;00m exceptions\u001b[39m.\u001b[39mLiveStreamError(video_id\u001b[39m=\u001b[39m\u001b[39mself\u001b[39m\u001b[39m.\u001b[39mvideo_id)\n",
      "\u001b[0;31mVideoUnavailable\u001b[0m: techn-i-cal is unavailable"
     ]
    }
   ],
   "source": [
    "# importing packages\n",
    "from pytube import YouTube\n",
    "import os\n",
    "\n",
    "# url input from user\n",
    "yt = YouTube(\n",
    "\tstr(input(\"Enter the URL of the video you want to download: \\n>> \")))\n",
    "\n",
    "# extract only audio\n",
    "video = yt.streams.filter(only_audio=True).first()\n",
    "\n",
    "# check for destination to save file\n",
    "print(\"Enter the destination (leave blank for current directory)\")\n",
    "destination = str(input(\">> \")) or '.'\n",
    "\n",
    "# download the file\n",
    "out_file = video.download(output_path=destination)\n",
    "\n",
    "# save the file\n",
    "base, ext = os.path.splitext(out_file)\n",
    "new_file = base + '.mp3'\n",
    "os.rename(out_file, new_file)\n",
    "\n",
    "# result of success\n",
    "print(yt.title + \" has been successfully downloaded.\")\n"
   ]
  },
  {
   "cell_type": "code",
   "execution_count": 25,
   "metadata": {},
   "outputs": [],
   "source": [
    "PATH_TO_FILE = 'assemblyAI/audio/Why I Think Tylenol is Both Dangerous & Useless.mp3'\n",
    "MIMETYPE_OF_FILE = 'mp3'"
   ]
  },
  {
   "cell_type": "code",
   "execution_count": 27,
   "metadata": {},
   "outputs": [],
   "source": [
    "from deepgram import Deepgram\n",
    "DEEPGRAM_API_KEY = 'b4a9473c5aa41d28dab30dc5d60822f91c40cc78'\n",
    "dg_client        = Deepgram(DEEPGRAM_API_KEY)"
   ]
  },
  {
   "cell_type": "code",
   "execution_count": 26,
   "metadata": {},
   "outputs": [
    {
     "name": "stdout",
     "output_type": "stream",
     "text": [
      "{'buffer': <_io.BufferedReader name='assemblyAI/audio/Why I Think Tylenol is Both Dangerous & Useless.mp3'>, 'mimetype': 'mp3'}\n"
     ]
    }
   ],
   "source": [
    "with open(PATH_TO_FILE, 'rb') as audio:\n",
    "  source = {'buffer': audio, 'mimetype': MIMETYPE_OF_FILE}\n",
    "\n",
    "print(source)"
   ]
  },
  {
   "cell_type": "code",
   "execution_count": 30,
   "metadata": {},
   "outputs": [],
   "source": [
    "async def main():\n",
    "\n",
    "    # Initialize the Deepgram SDK\n",
    "    deepgram = Deepgram(DEEPGRAM_API_KEY)\n",
    "\n",
    "    FILE = 'URL_TO_YOUR_FILE'\n",
    "\n",
    "    source = {\n",
    "        'url': FILE\n",
    "    }\n",
    "\n",
    "    response = await asyncio.create_task(\n",
    "        deepgram.transcription.prerecorded(\n",
    "            source\n",
    "        )\n",
    "    )\n",
    "\n",
    "    print(json.dumps(response, indent=4))\n",
    "\n",
    "asyncio.run(main())"
   ]
  },
  {
   "cell_type": "code",
   "execution_count": 33,
   "metadata": {},
   "outputs": [],
   "source": [
    "response = get()"
   ]
  },
  {
   "cell_type": "code",
   "execution_count": null,
   "metadata": {},
   "outputs": [],
   "source": []
  }
 ],
 "metadata": {
  "kernelspec": {
   "display_name": "Python 3.8.13 64-bit ('shims')",
   "language": "python",
   "name": "python3"
  },
  "language_info": {
   "codemirror_mode": {
    "name": "ipython",
    "version": 3
   },
   "file_extension": ".py",
   "mimetype": "text/x-python",
   "name": "python",
   "nbconvert_exporter": "python",
   "pygments_lexer": "ipython3",
   "version": "3.8.13"
  },
  "orig_nbformat": 4,
  "vscode": {
   "interpreter": {
    "hash": "9ac03a0a6051494cc606d484d27d20fce22fb7b4d169f583271e11d5ba46a56e"
   }
  }
 },
 "nbformat": 4,
 "nbformat_minor": 2
}
