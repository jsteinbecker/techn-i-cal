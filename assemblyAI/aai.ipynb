{
 "cells": [
  {
   "cell_type": "code",
   "execution_count": 1,
   "metadata": {},
   "outputs": [
    {
     "name": "stderr",
     "output_type": "stream",
     "text": [
      "/usr/lib/python3/dist-packages/requests/__init__.py:89: RequestsDependencyWarning: urllib3 (1.26.11) or chardet (3.0.4) doesn't match a supported version!\n",
      "  warnings.warn(\"urllib3 ({}) or chardet ({}) doesn't match a supported \"\n"
     ]
    },
    {
     "name": "stdout",
     "output_type": "stream",
     "text": [
      "{'id': 'rzwy6nd1h7-01c5-42f9-a4d6-f05c74bbde7c', 'language_model': 'assemblyai_default', 'acoustic_model': 'assemblyai_default', 'language_code': 'en_us', 'status': 'queued', 'audio_url': 'https://www.youtube.com/watch?v=GH1sEGmOrT0', 'text': None, 'words': None, 'utterances': None, 'confidence': None, 'audio_duration': None, 'punctuate': True, 'format_text': True, 'dual_channel': None, 'webhook_url': None, 'webhook_status_code': None, 'webhook_auth': False, 'webhook_auth_header_name': None, 'speed_boost': False, 'auto_highlights_result': None, 'auto_highlights': True, 'audio_start_from': None, 'audio_end_at': None, 'word_boost': [], 'boost_param': None, 'filter_profanity': False, 'redact_pii': False, 'redact_pii_audio': False, 'redact_pii_audio_quality': None, 'redact_pii_policies': None, 'redact_pii_sub': None, 'speaker_labels': False, 'content_safety': False, 'iab_categories': False, 'content_safety_labels': {}, 'iab_categories_result': {}, 'language_detection': False, 'custom_spelling': None, 'cluster_id': None, 'throttled': None, 'summarization': False, 'summary_type': None, 'disfluencies': False, 'sentiment_analysis': True, 'sentiment_analysis_results': None, 'auto_chapters': True, 'chapters': None, 'entity_detection': False, 'entities': None}\n"
     ]
    }
   ],
   "source": [
    "USERINPUT = input(\"Enter a url: \")\n",
    "\n",
    "import requests\n",
    "endpoint = \"https://api.assemblyai.com/v2/transcript\"\n",
    "json = {\n",
    "    \"audio_url\": USERINPUT,\n",
    "    \"auto_chapters\": True,\n",
    "    \"sentiment_analysis\": True,\n",
    "    \"auto_highlights\": True,\n",
    "}\n",
    "headers = {\n",
    "    \"authorization\": 'b029808356f041408c437bd69dae10c8',\n",
    "    \"content-type\": \"application/json\"\n",
    "}\n",
    "response = requests.post(endpoint, json=json, headers=headers)\n",
    "print(response.json())\n"
   ]
  },
  {
   "cell_type": "code",
   "execution_count": 2,
   "metadata": {},
   "outputs": [
    {
     "data": {
      "text/plain": [
       "{'page_details': {'limit': 10,\n",
       "  'result_count': 10,\n",
       "  'current_url': 'https://api.assemblyai.com/v2/transcript?limit=10',\n",
       "  'prev_url': 'https://api.assemblyai.com/v2/transcript?limit=10&before_id=ro3ds4w5k5-efca-47ca-89c9-43a2ea517cd5',\n",
       "  'next_url': 'https://api.assemblyai.com/v2/transcript?limit=10&after_id=rzwy6nd1h7-01c5-42f9-a4d6-f05c74bbde7c'},\n",
       " 'transcripts': [{'id': 'rzwy6nd1h7-01c5-42f9-a4d6-f05c74bbde7c',\n",
       "   'resource_url': 'https://api.assemblyai.com/v2/transcript/rzwy6nd1h7-01c5-42f9-a4d6-f05c74bbde7c',\n",
       "   'status': 'error',\n",
       "   'created': '2022-10-26T06:04:04.173348',\n",
       "   'completed': None,\n",
       "   'audio_url': 'https://www.youtube.com/watch?v=GH1sEGmOrT0'},\n",
       "  {'id': 'r670nzrdcq-df3d-407b-af95-7f7f6016231f',\n",
       "   'resource_url': 'https://api.assemblyai.com/v2/transcript/r670nzrdcq-df3d-407b-af95-7f7f6016231f',\n",
       "   'status': 'error',\n",
       "   'created': '2022-10-07T20:11:18.277406',\n",
       "   'completed': None,\n",
       "   'audio_url': 'https://ytmp3.socuul.dev/0aaooMtOxJfuOXYswbBQ.mp3'},\n",
       "  {'id': 'rrqz739uk2-a34e-4b7e-a194-e468d6393a43',\n",
       "   'resource_url': 'https://api.assemblyai.com/v2/transcript/rrqz739uk2-a34e-4b7e-a194-e468d6393a43',\n",
       "   'status': 'error',\n",
       "   'created': '2022-10-04T08:02:50.679949',\n",
       "   'completed': None,\n",
       "   'audio_url': 'https://en.onlinevideoconverter.pro/120/youtube-converter-mp3'},\n",
       "  {'id': 'rodju2bt6s-534d-4caa-a4a6-bdba14052ac6',\n",
       "   'resource_url': 'https://api.assemblyai.com/v2/transcript/rodju2bt6s-534d-4caa-a4a6-bdba14052ac6',\n",
       "   'status': 'completed',\n",
       "   'created': '2022-09-29T19:00:33.018674',\n",
       "   'completed': '2022-09-29T19:01:24.829962',\n",
       "   'audio_url': 'https://ytmp3.socuul.dev/HCutdvy4Mm1PUEnqkUh2.mp3'},\n",
       "  {'id': 'rohqr029e5-3e4b-4cfb-8093-06496175c54f',\n",
       "   'resource_url': 'https://api.assemblyai.com/v2/transcript/rohqr029e5-3e4b-4cfb-8093-06496175c54f',\n",
       "   'status': 'completed',\n",
       "   'created': '2022-09-29T16:52:05.061595',\n",
       "   'completed': '2022-09-29T16:52:44.414769',\n",
       "   'audio_url': 'https://ytmp3.socuul.dev/3wa1jD2jYsPXPGUmicbX.mp3'},\n",
       "  {'id': 'rohinf6hss-c33c-44b9-a2ad-9fcc55e66aa9',\n",
       "   'resource_url': 'https://api.assemblyai.com/v2/transcript/rohinf6hss-c33c-44b9-a2ad-9fcc55e66aa9',\n",
       "   'status': 'completed',\n",
       "   'created': '2022-09-29T16:51:44.273563',\n",
       "   'completed': '2022-09-29T16:54:03.489515',\n",
       "   'audio_url': 'https://bit.ly/3rBnQ8i'},\n",
       "  {'id': 'ro3nalyvgs-91bb-4c97-9190-434faca86afc',\n",
       "   'resource_url': 'https://api.assemblyai.com/v2/transcript/ro3nalyvgs-91bb-4c97-9190-434faca86afc',\n",
       "   'status': 'error',\n",
       "   'created': '2022-09-29T12:40:19.529010',\n",
       "   'completed': None,\n",
       "   'audio_url': 'https://www.youtube.com/watch?v=Om_A5TTQMm0'},\n",
       "  {'id': 'ro3nmtyx0w-1630-491f-bf0a-b5006539382a',\n",
       "   'resource_url': 'https://api.assemblyai.com/v2/transcript/ro3nmtyx0w-1630-491f-bf0a-b5006539382a',\n",
       "   'status': 'error',\n",
       "   'created': '2022-09-29T12:39:55.943810',\n",
       "   'completed': None,\n",
       "   'audio_url': 'https://www.youtube.com/watch?v=Om_A5TTQMm0'},\n",
       "  {'id': 'ro3d8ya7t1-2e7d-42df-bb34-550de37cf83e',\n",
       "   'resource_url': 'https://api.assemblyai.com/v2/transcript/ro3d8ya7t1-2e7d-42df-bb34-550de37cf83e',\n",
       "   'status': 'completed',\n",
       "   'created': '2022-09-29T10:24:54.571409',\n",
       "   'completed': '2022-09-29T10:25:45.413463',\n",
       "   'audio_url': 'https://cdn.assemblyai.com/upload/8e28d407-6238-4d47-9075-fafdccdb4b7e'},\n",
       "  {'id': 'ro3ds4w5k5-efca-47ca-89c9-43a2ea517cd5',\n",
       "   'resource_url': 'https://api.assemblyai.com/v2/transcript/ro3ds4w5k5-efca-47ca-89c9-43a2ea517cd5',\n",
       "   'status': 'completed',\n",
       "   'created': '2022-09-29T10:14:23.407272',\n",
       "   'completed': '2022-09-29T10:15:45.523683',\n",
       "   'audio_url': 'https://cdn.assemblyai.com/upload/b70dc06a-3638-4566-9e1e-821a56e047cd'}]}"
      ]
     },
     "execution_count": 2,
     "metadata": {},
     "output_type": "execute_result"
    }
   ],
   "source": [
    "requests.get(endpoint,headers=headers).json()"
   ]
  }
 ],
 "metadata": {
  "kernelspec": {
   "display_name": "Python 3.8.10 64-bit",
   "language": "python",
   "name": "python3"
  },
  "language_info": {
   "codemirror_mode": {
    "name": "ipython",
    "version": 3
   },
   "file_extension": ".py",
   "mimetype": "text/x-python",
   "name": "python",
   "nbconvert_exporter": "python",
   "pygments_lexer": "ipython3",
   "version": "3.8.10"
  },
  "orig_nbformat": 4,
  "vscode": {
   "interpreter": {
    "hash": "916dbcbb3f70747c44a77c7bcd40155683ae19c65e1c03b4aa3499c5328201f1"
   }
  }
 },
 "nbformat": 4,
 "nbformat_minor": 2
}
