{
 "cells": [
  {
   "cell_type": "code",
   "execution_count": 1,
   "metadata": {},
   "outputs": [
    {
     "name": "stdout",
     "output_type": "stream",
     "text": [
      "{'id': 'rodju2bt6s-534d-4caa-a4a6-bdba14052ac6', 'language_model': 'assemblyai_default', 'acoustic_model': 'assemblyai_default', 'language_code': 'en_us', 'status': 'queued', 'audio_url': 'https://ytmp3.socuul.dev/HCutdvy4Mm1PUEnqkUh2.mp3', 'text': None, 'words': None, 'utterances': None, 'confidence': None, 'audio_duration': None, 'punctuate': True, 'format_text': True, 'dual_channel': None, 'webhook_url': None, 'webhook_status_code': None, 'webhook_auth': False, 'webhook_auth_header_name': None, 'speed_boost': False, 'auto_highlights_result': None, 'auto_highlights': True, 'audio_start_from': None, 'audio_end_at': None, 'word_boost': [], 'boost_param': None, 'filter_profanity': False, 'redact_pii': False, 'redact_pii_audio': False, 'redact_pii_audio_quality': None, 'redact_pii_policies': None, 'redact_pii_sub': None, 'speaker_labels': False, 'content_safety': False, 'iab_categories': False, 'content_safety_labels': {}, 'iab_categories_result': {}, 'language_detection': False, 'custom_spelling': None, 'cluster_id': None, 'throttled': None, 'disfluencies': False, 'sentiment_analysis': True, 'sentiment_analysis_results': None, 'auto_chapters': True, 'chapters': None, 'entity_detection': False, 'entities': None}\n"
     ]
    }
   ],
   "source": [
    "USERINPUT = input(\"Enter a url: \")\n",
    "\n",
    "import requests\n",
    "endpoint = \"https://api.assemblyai.com/v2/transcript\"\n",
    "json = {\n",
    "    \"audio_url\": USERINPUT,\n",
    "    \"auto_chapters\": True,\n",
    "    \"sentiment_analysis\": True,\n",
    "    \"auto_highlights\": True,\n",
    "}\n",
    "headers = {\n",
    "    \"authorization\": 'b029808356f041408c437bd69dae10c8',\n",
    "    \"content-type\": \"application/json\"\n",
    "}\n",
    "response = requests.post(endpoint, json=json, headers=headers)\n",
    "print(response.json())\n"
   ]
  },
  {
   "cell_type": "code",
   "execution_count": 8,
   "metadata": {},
   "outputs": [
    {
     "name": "stdout",
     "output_type": "stream",
     "text": [
      "{'page_details': {'current_url': 'https://api.assemblyai.com/v2/transcript?limit=10',\n",
      "                  'limit': 10,\n",
      "                  'next_url': 'https://api.assemblyai.com/v2/transcript?limit=10&after_id=rrqz739uk2-a34e-4b7e-a194-e468d6393a43',\n",
      "                  'prev_url': 'https://api.assemblyai.com/v2/transcript?limit=10&before_id=ror7dlxyyw-9d20-4932-913b-0c80e0a9b7ff',\n",
      "                  'result_count': 10},\n",
      " 'transcripts': [{'audio_url': 'https://en.onlinevideoconverter.pro/120/youtube-converter-mp3',\n",
      "                  'completed': None,\n",
      "                  'created': '2022-10-04T08:02:50.679949',\n",
      "                  'id': 'rrqz739uk2-a34e-4b7e-a194-e468d6393a43',\n",
      "                  'resource_url': 'https://api.assemblyai.com/v2/transcript/rrqz739uk2-a34e-4b7e-a194-e468d6393a43',\n",
      "                  'status': 'error'},\n",
      "                 {'audio_url': 'https://ytmp3.socuul.dev/HCutdvy4Mm1PUEnqkUh2.mp3',\n",
      "                  'completed': '2022-09-29T19:01:24.829962',\n",
      "                  'created': '2022-09-29T19:00:33.018674',\n",
      "                  'id': 'rodju2bt6s-534d-4caa-a4a6-bdba14052ac6',\n",
      "                  'resource_url': 'https://api.assemblyai.com/v2/transcript/rodju2bt6s-534d-4caa-a4a6-bdba14052ac6',\n",
      "                  'status': 'completed'},\n",
      "                 {'audio_url': 'https://ytmp3.socuul.dev/3wa1jD2jYsPXPGUmicbX.mp3',\n",
      "                  'completed': '2022-09-29T16:52:44.414769',\n",
      "                  'created': '2022-09-29T16:52:05.061595',\n",
      "                  'id': 'rohqr029e5-3e4b-4cfb-8093-06496175c54f',\n",
      "                  'resource_url': 'https://api.assemblyai.com/v2/transcript/rohqr029e5-3e4b-4cfb-8093-06496175c54f',\n",
      "                  'status': 'completed'},\n",
      "                 {'audio_url': 'https://bit.ly/3rBnQ8i',\n",
      "                  'completed': '2022-09-29T16:54:03.489515',\n",
      "                  'created': '2022-09-29T16:51:44.273563',\n",
      "                  'id': 'rohinf6hss-c33c-44b9-a2ad-9fcc55e66aa9',\n",
      "                  'resource_url': 'https://api.assemblyai.com/v2/transcript/rohinf6hss-c33c-44b9-a2ad-9fcc55e66aa9',\n",
      "                  'status': 'completed'},\n",
      "                 {'audio_url': 'https://www.youtube.com/watch?v=Om_A5TTQMm0',\n",
      "                  'completed': None,\n",
      "                  'created': '2022-09-29T12:40:19.529010',\n",
      "                  'id': 'ro3nalyvgs-91bb-4c97-9190-434faca86afc',\n",
      "                  'resource_url': 'https://api.assemblyai.com/v2/transcript/ro3nalyvgs-91bb-4c97-9190-434faca86afc',\n",
      "                  'status': 'error'},\n",
      "                 {'audio_url': 'https://www.youtube.com/watch?v=Om_A5TTQMm0',\n",
      "                  'completed': None,\n",
      "                  'created': '2022-09-29T12:39:55.943810',\n",
      "                  'id': 'ro3nmtyx0w-1630-491f-bf0a-b5006539382a',\n",
      "                  'resource_url': 'https://api.assemblyai.com/v2/transcript/ro3nmtyx0w-1630-491f-bf0a-b5006539382a',\n",
      "                  'status': 'error'},\n",
      "                 {'audio_url': 'https://cdn.assemblyai.com/upload/8e28d407-6238-4d47-9075-fafdccdb4b7e',\n",
      "                  'completed': '2022-09-29T10:25:45.413463',\n",
      "                  'created': '2022-09-29T10:24:54.571409',\n",
      "                  'id': 'ro3d8ya7t1-2e7d-42df-bb34-550de37cf83e',\n",
      "                  'resource_url': 'https://api.assemblyai.com/v2/transcript/ro3d8ya7t1-2e7d-42df-bb34-550de37cf83e',\n",
      "                  'status': 'completed'},\n",
      "                 {'audio_url': 'https://cdn.assemblyai.com/upload/b70dc06a-3638-4566-9e1e-821a56e047cd',\n",
      "                  'completed': '2022-09-29T10:15:45.523683',\n",
      "                  'created': '2022-09-29T10:14:23.407272',\n",
      "                  'id': 'ro3ds4w5k5-efca-47ca-89c9-43a2ea517cd5',\n",
      "                  'resource_url': 'https://api.assemblyai.com/v2/transcript/ro3ds4w5k5-efca-47ca-89c9-43a2ea517cd5',\n",
      "                  'status': 'completed'},\n",
      "                 {'audio_url': 'https://cdn.assemblyai.com/upload/97d43b55-c249-47bd-b844-131bed632a19',\n",
      "                  'completed': '2022-09-27T09:39:55.024276',\n",
      "                  'created': '2022-09-27T09:39:19.344774',\n",
      "                  'id': 'rorl673eod-1cc0-4b69-84be-ea7ba19b6c7e',\n",
      "                  'resource_url': 'https://api.assemblyai.com/v2/transcript/rorl673eod-1cc0-4b69-84be-ea7ba19b6c7e',\n",
      "                  'status': 'completed'},\n",
      "                 {'audio_url': 'http://TbrNh5s3DoQ.mp3',\n",
      "                  'completed': None,\n",
      "                  'created': '2022-09-27T09:29:00.592083',\n",
      "                  'id': 'ror7dlxyyw-9d20-4932-913b-0c80e0a9b7ff',\n",
      "                  'resource_url': 'https://api.assemblyai.com/v2/transcript/ror7dlxyyw-9d20-4932-913b-0c80e0a9b7ff',\n",
      "                  'status': 'error'}]}\n"
     ]
    }
   ],
   "source": [
    "import requests\n",
    "import pprint \n",
    "endpoint = \"https://api.assemblyai.com/v2/transcript\"\n",
    "json = {\n",
    "    \"audio_url\": \"https://en.onlinevideoconverter.pro/120/youtube-converter-mp3\",\n",
    "    \"auto_chapters\": True\n",
    "}\n",
    "headers = {\n",
    "    \"authorization\": \"b029808356f041408c437bd69dae10c8\",\n",
    "    \"content-type\": \"application/json\"\n",
    "}\n",
    "response = requests.get(endpoint, json=json, headers=headers)\n",
    "pprint.pprint(response.json())"
   ]
  },
  {
   "cell_type": "code",
   "execution_count": 6,
   "metadata": {},
   "outputs": [
    {
     "data": {
      "text/plain": [
       "['  % Total    % Received % Xferd  Average Speed   Time    Time     Time  Current',\n",
       " '                                 Dload  Upload   Total   Spent    Left  Speed',\n",
       " '',\n",
       " '  0     0    0     0    0     0      0      0 --:--:-- --:--:-- --:--:--     0',\n",
       " '100  3581  100  3480  100   101  27619    801 --:--:-- --:--:-- --:--:-- 28420',\n",
       " '{\"page_details\": {\"limit\": 10, \"result_count\": 10, \"current_url\": \"https://api.assemblyai.com/v2/transcript?limit=10\", \"prev_url\": \"https://api.assemblyai.com/v2/transcript?limit=10&before_id=ror7dlxyyw-9d20-4932-913b-0c80e0a9b7ff\", \"next_url\": \"https://api.assemblyai.com/v2/transcript?limit=10&after_id=rrqz739uk2-a34e-4b7e-a194-e468d6393a43\"}, \"transcripts\": [{\"id\": \"rrqz739uk2-a34e-4b7e-a194-e468d6393a43\", \"resource_url\": \"https://api.assemblyai.com/v2/transcript/rrqz739uk2-a34e-4b7e-a194-e468d6393a43\", \"status\": \"error\", \"created\": \"2022-10-04T08:02:50.679949\", \"completed\": null, \"audio_url\": \"https://en.onlinevideoconverter.pro/120/youtube-converter-mp3\"}, {\"id\": \"rodju2bt6s-534d-4caa-a4a6-bdba14052ac6\", \"resource_url\": \"https://api.assemblyai.com/v2/transcript/rodju2bt6s-534d-4caa-a4a6-bdba14052ac6\", \"status\": \"completed\", \"created\": \"2022-09-29T19:00:33.018674\", \"completed\": \"2022-09-29T19:01:24.829962\", \"audio_url\": \"https://ytmp3.socuul.dev/HCutdvy4Mm1PUEnqkUh2.mp3\"}, {\"id\": \"rohqr029e5-3e4b-4cfb-8093-06496175c54f\", \"resource_url\": \"https://api.assemblyai.com/v2/transcript/rohqr029e5-3e4b-4cfb-8093-06496175c54f\", \"status\": \"completed\", \"created\": \"2022-09-29T16:52:05.061595\", \"completed\": \"2022-09-29T16:52:44.414769\", \"audio_url\": \"https://ytmp3.socuul.dev/3wa1jD2jYsPXPGUmicbX.mp3\"}, {\"id\": \"rohinf6hss-c33c-44b9-a2ad-9fcc55e66aa9\", \"resource_url\": \"https://api.assemblyai.com/v2/transcript/rohinf6hss-c33c-44b9-a2ad-9fcc55e66aa9\", \"status\": \"completed\", \"created\": \"2022-09-29T16:51:44.273563\", \"completed\": \"2022-09-29T16:54:03.489515\", \"audio_url\": \"https://bit.ly/3rBnQ8i\"}, {\"id\": \"ro3nalyvgs-91bb-4c97-9190-434faca86afc\", \"resource_url\": \"https://api.assemblyai.com/v2/transcript/ro3nalyvgs-91bb-4c97-9190-434faca86afc\", \"status\": \"error\", \"created\": \"2022-09-29T12:40:19.529010\", \"completed\": null, \"audio_url\": \"https://www.youtube.com/watch?v=Om_A5TTQMm0\"}, {\"id\": \"ro3nmtyx0w-1630-491f-bf0a-b5006539382a\", \"resource_url\": \"https://api.assemblyai.com/v2/transcript/ro3nmtyx0w-1630-491f-bf0a-b5006539382a\", \"status\": \"error\", \"created\": \"2022-09-29T12:39:55.943810\", \"completed\": null, \"audio_url\": \"https://www.youtube.com/watch?v=Om_A5TTQMm0\"}, {\"id\": \"ro3d8ya7t1-2e7d-42df-bb34-550de37cf83e\", \"resource_url\": \"https://api.assemblyai.com/v2/transcript/ro3d8ya7t1-2e7d-42df-bb34-550de37cf83e\", \"status\": \"completed\", \"created\": \"2022-09-29T10:24:54.571409\", \"completed\": \"2022-09-29T10:25:45.413463\", \"audio_url\": \"https://cdn.assemblyai.com/upload/8e28d407-6238-4d47-9075-fafdccdb4b7e\"}, {\"id\": \"ro3ds4w5k5-efca-47ca-89c9-43a2ea517cd5\", \"resource_url\": \"https://api.assemblyai.com/v2/transcript/ro3ds4w5k5-efca-47ca-89c9-43a2ea517cd5\", \"status\": \"completed\", \"created\": \"2022-09-29T10:14:23.407272\", \"completed\": \"2022-09-29T10:15:45.523683\", \"audio_url\": \"https://cdn.assemblyai.com/upload/b70dc06a-3638-4566-9e1e-821a56e047cd\"}, {\"id\": \"rorl673eod-1cc0-4b69-84be-ea7ba19b6c7e\", \"resource_url\": \"https://api.assemblyai.com/v2/transcript/rorl673eod-1cc0-4b69-84be-ea7ba19b6c7e\", \"status\": \"completed\", \"created\": \"2022-09-27T09:39:19.344774\", \"completed\": \"2022-09-27T09:39:55.024276\", \"audio_url\": \"https://cdn.assemblyai.com/upload/97d43b55-c249-47bd-b844-131bed632a19\"}, {\"id\": \"ror7dlxyyw-9d20-4932-913b-0c80e0a9b7ff\", \"resource_url\": \"https://api.assemblyai.com/v2/transcript/ror7dlxyyw-9d20-4932-913b-0c80e0a9b7ff\", \"status\": \"error\", \"created\": \"2022-09-27T09:29:00.592083\", \"completed\": null, \"audio_url\": \"http://TbrNh5s3DoQ.mp3\"}]}']"
      ]
     },
     "execution_count": 6,
     "metadata": {},
     "output_type": "execute_result"
    }
   ],
   "source": [
    "!!curl --request GET \\\n",
    "  --url https://api.assemblyai.com/v2/transcript \\\n",
    "  --header 'authorization: b029808356f041408c437bd69dae10c8' \\\n",
    "  --header 'content-type: application/json' \\\n",
    "  --data '{\"audio_url\": \"https://en.onlinevideoconverter.pro/120/youtube-converter-mp3\", \"auto_chapters\": true}'"
   ]
  }
 ],
 "metadata": {
  "kernelspec": {
   "display_name": "Python 3.10.7 64-bit",
   "language": "python",
   "name": "python3"
  },
  "language_info": {
   "codemirror_mode": {
    "name": "ipython",
    "version": 3
   },
   "file_extension": ".py",
   "mimetype": "text/x-python",
   "name": "python",
   "nbconvert_exporter": "python",
   "pygments_lexer": "ipython3",
   "version": "3.10.7"
  },
  "orig_nbformat": 4,
  "vscode": {
   "interpreter": {
    "hash": "3ad933181bd8a04b432d3370b9dc3b0662ad032c4dfaa4e4f1596c548f763858"
   }
  }
 },
 "nbformat": 4,
 "nbformat_minor": 2
}
