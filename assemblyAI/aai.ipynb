{
 "cells": [
  {
   "cell_type": "code",
   "execution_count": 1,
   "metadata": {},
   "outputs": [],
   "source": [
    "import requests\n",
    "import pprint\n",
    "\n",
    "endpoint = \"https://api.assemblyai.com/v2/transcript\"\n",
    "json = {\n",
    "    \"audio_url\": \"https://bit.ly/3yxKEIY\"\n",
    "}\n",
    "headers = {\n",
    "    \"authorization\": 'b029808356f041408c437bd69dae10c8',\n",
    "    \"content-type\": \"application/json\"\n",
    "}\n"
   ]
  },
  {
   "cell_type": "code",
   "execution_count": 3,
   "metadata": {},
   "outputs": [
    {
     "name": "stdout",
     "output_type": "stream",
     "text": [
      "{'page_details': {'limit': 10, 'result_count': 10, 'current_url': 'https://api.assemblyai.com/v2/transcript?limit=10', 'prev_url': 'https://api.assemblyai.com/v2/transcript?limit=10&before_id=rex3js1ujn-646c-4cf5-a92b-f64adf830e66', 'next_url': 'https://api.assemblyai.com/v2/transcript?limit=10&after_id=rec4m2yplt-caa7-4db2-98a2-5ebae64e518a'}, 'transcripts': [{'id': 'rec4m2yplt-caa7-4db2-98a2-5ebae64e518a', 'resource_url': 'https://api.assemblyai.com/v2/transcript/rec4m2yplt-caa7-4db2-98a2-5ebae64e518a', 'status': 'completed', 'created': '2022-09-24T07:35:49.510095', 'completed': '2022-09-24T07:35:58.478216', 'audio_url': 'https://bit.ly/3yxKEIY'}, {'id': 'rec4m3hz4e-cc17-4447-8f17-173373983067', 'resource_url': 'https://api.assemblyai.com/v2/transcript/rec4m3hz4e-cc17-4447-8f17-173373983067', 'status': 'completed', 'created': '2022-09-24T07:35:22.770549', 'completed': '2022-09-24T07:35:31.768188', 'audio_url': 'https://bit.ly/3yxKEIY'}, {'id': 'rel1co4ah9-49e4-49bf-917a-0a483ce4cd9e', 'resource_url': 'https://api.assemblyai.com/v2/transcript/rel1co4ah9-49e4-49bf-917a-0a483ce4cd9e', 'status': 'error', 'created': '2022-09-23T08:45:02.446419', 'completed': None, 'audio_url': 'https://www.youtube.com/watch?v=1MJDvr-1Z-A'}, {'id': 'rel1li6kar-67de-449a-8812-df23cef48a3b', 'resource_url': 'https://api.assemblyai.com/v2/transcript/rel1li6kar-67de-449a-8812-df23cef48a3b', 'status': 'completed', 'created': '2022-09-23T08:35:57.790312', 'completed': '2022-09-23T08:38:41.281252', 'audio_url': 'https://cdn.assemblyai.com/upload/ede4a5f3-54dd-49e0-8767-fc575d239771'}, {'id': 'relsnofpfz-f065-46a9-b6bf-e6a34c13443a', 'resource_url': 'https://api.assemblyai.com/v2/transcript/relsnofpfz-f065-46a9-b6bf-e6a34c13443a', 'status': 'completed', 'created': '2022-09-23T07:43:12.045771', 'completed': '2022-09-23T07:45:51.053531', 'audio_url': 'https://cdn.assemblyai.com/upload/27cc0b05-1018-425a-a504-4ddf2d5a68b3'}, {'id': 'relsesxscw-c3bb-42e5-95c7-831bd9554d2e', 'resource_url': 'https://api.assemblyai.com/v2/transcript/relsesxscw-c3bb-42e5-95c7-831bd9554d2e', 'status': 'completed', 'created': '2022-09-23T07:17:07.099853', 'completed': '2022-09-23T07:19:53.483074', 'audio_url': 'https://cdn.assemblyai.com/upload/cd48275e-55f0-4bf6-9179-9c2d67d29ecb'}, {'id': 're7l50ig6c-d88a-4d66-9f57-171d99da0580', 'resource_url': 'https://api.assemblyai.com/v2/transcript/re7l50ig6c-d88a-4d66-9f57-171d99da0580', 'status': 'completed', 'created': '2022-09-22T23:47:12.759722', 'completed': '2022-09-22T23:47:53.559991', 'audio_url': 'https://cdn.assemblyai.com/upload/e22c1ce1-89b3-4957-98d1-ef6646060406'}, {'id': 're7b1z8j1p-efb1-4eba-bfd5-346f7d116c46', 'resource_url': 'https://api.assemblyai.com/v2/transcript/re7b1z8j1p-efb1-4eba-bfd5-346f7d116c46', 'status': 'completed', 'created': '2022-09-22T23:18:34.817071', 'completed': '2022-09-22T23:19:08.515368', 'audio_url': 'https://cdn.assemblyai.com/upload/686bff73-aa23-42ac-b2b6-27bd58f1450e'}, {'id': 'rexv0wbbuj-7a60-49e6-a64c-ebffdff33efc', 'resource_url': 'https://api.assemblyai.com/v2/transcript/rexv0wbbuj-7a60-49e6-a64c-ebffdff33efc', 'status': 'completed', 'created': '2022-09-22T20:09:59.460720', 'completed': '2022-09-22T20:11:45.179797', 'audio_url': \"https://github.com/jts-bio/audio/blob/main/Partial%20Mobilisation:%20inside%20Putin's%20mind%20--by%20Vlad%20Vexler%20Chat.wav?raw=true\"}, {'id': 'rex3js1ujn-646c-4cf5-a92b-f64adf830e66', 'resource_url': 'https://api.assemblyai.com/v2/transcript/rex3js1ujn-646c-4cf5-a92b-f64adf830e66', 'status': 'completed', 'created': '2022-09-22T19:50:22.320220', 'completed': '2022-09-22T19:51:31.989938', 'audio_url': \"https://github.com/jts-bio/audio/blob/main/Partial%20Mobilisation:%20inside%20Putin's%20mind%20--by%20Vlad%20Vexler%20Chat.wav?raw=true\"}]}\n"
     ]
    }
   ],
   "source": [
    "response = requests.get(endpoint, json=json, headers=headers)\n",
    "print(response.json())"
   ]
  },
  {
   "cell_type": "code",
   "execution_count": 5,
   "metadata": {},
   "outputs": [
    {
     "name": "stdout",
     "output_type": "stream",
     "text": [
      "dict_keys(['page_details', 'transcripts'])\n"
     ]
    }
   ],
   "source": [
    "pprint.pprint(response.json().keys())"
   ]
  }
 ],
 "metadata": {
  "kernelspec": {
   "display_name": "Python 3.10.4 64-bit",
   "language": "python",
   "name": "python3"
  },
  "language_info": {
   "codemirror_mode": {
    "name": "ipython",
    "version": 3
   },
   "file_extension": ".py",
   "mimetype": "text/x-python",
   "name": "python",
   "nbconvert_exporter": "python",
   "pygments_lexer": "ipython3",
   "version": "3.10.4"
  },
  "orig_nbformat": 4,
  "vscode": {
   "interpreter": {
    "hash": "4f946df053fbf2b937619d3c5458e7af74262f9a954d8797ba0b27400bcafe06"
   }
  }
 },
 "nbformat": 4,
 "nbformat_minor": 2
}
