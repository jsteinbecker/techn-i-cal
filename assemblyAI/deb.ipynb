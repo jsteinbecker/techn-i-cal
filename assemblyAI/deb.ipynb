{
 "cells": [
  {
   "cell_type": "code",
   "execution_count": 1,
   "metadata": {
    "tags": [
     "imports"
    ]
   },
   "outputs": [],
   "source": [
    "import django \n",
    "import os\n",
    "os.environ[\"DJANGO_ALLOW_ASYNC_UNSAFE\"] = \"true\"\n",
    "django.setup()\n",
    "\n",
    "from sch.models import *\n",
    "from sch.actions import *"
   ]
  },
  {
   "cell_type": "code",
   "execution_count": 2,
   "metadata": {},
   "outputs": [],
   "source": [
    "slot = Slot.objects.get(slug__contains='2022-11-05-RS')\n",
    "def resolveTurnaroundWithinDay (turnaroundSlot):\n",
    "        emp = turnaroundSlot.employee\n",
    "        if emp.evening_pref:\n",
    "            wd = turnaroundSlot.workday\n",
    "            sfta = turnaroundSlot.shift\n",
    "        elif emp.evening_pref == False:\n",
    "            wd = turnaroundSlot.workday.prevWD()\n",
    "            sfta = Slot.objects.get(workday=wd,employee=emp)\n",
    "        \n",
    "        sfts = emp.shifts_available.all()\n",
    "        print('shifts_available',sfts)\n",
    "        noIncompatibles = []\n",
    "        for sft in sfts:\n",
    "            if not Slot.objects.incompatible_slots(workday=wd,shift=sft).filter(employee=emp).exists():\n",
    "                noIncompatibles += [sft]\n",
    "                print(sft, noIncompatibles)\n",
    "        List = []\n",
    "        for sft in noIncompatibles:\n",
    "            checking = Slot.objects.filter(workday=wd,shift=sft)\n",
    "            print(checking)\n",
    "            if checking.exists():\n",
    "                if sfta in checking.first().employee.shifts_available.all():\n",
    "                    if not Slot.objects.incompatible_slots(workday=wd,shift=sfta).filter(employee=checking.first().employee).exists():\n",
    "                        List += [sfta]  \n",
    "        print(List)  \n",
    "        if len(List) == 1:\n",
    "            return List[0]  \n",
    "        return List[random.randint(0,len(List)-1)]"
   ]
  },
  {
   "cell_type": "code",
   "execution_count": 3,
   "metadata": {},
   "outputs": [],
   "source": [
    "from django.db.models import IntegerField "
   ]
  },
  {
   "cell_type": "code",
   "execution_count": 4,
   "metadata": {},
   "outputs": [
    {
     "name": "stdout",
     "output_type": "stream",
     "text": [
      "Avg Agg Shift Pref Score: -0.1111111111111111\n",
      "WeeklyHours, week 43: 40.0 hrs\n",
      "WeeklyHours Percent: 160.0 %\n"
     ]
    }
   ],
   "source": [
    "emp = Employee.objects.get(name='Josh')\n",
    "print(\"Avg Agg Shift Pref Score:\",\n",
    "      emp.agg_avg_shift_pref_score)\n",
    "print(\"WeeklyHours, week 43:\",\n",
    "      emp.weekly_hours(2022,43), 'hrs')\n",
    "print(\"WeeklyHours Percent:\",\n",
    "      emp.weekly_hours_perc(2022,43) * 100, \"%\")"
   ]
  },
  {
   "cell_type": "code",
   "execution_count": 5,
   "metadata": {},
   "outputs": [
    {
     "data": {
      "text/plain": [
       "<QuerySet [<ShiftTemplate: SatA:MI Template>, <ShiftTemplate: SunB:MI Template>, <ShiftTemplate: SatB:MI Template>, <ShiftTemplate: SunB:MI Template>]>"
      ]
     },
     "execution_count": 5,
     "metadata": {},
     "output_type": "execute_result"
    }
   ],
   "source": [
    "emp.templated_days"
   ]
  },
  {
   "cell_type": "code",
   "execution_count": 6,
   "metadata": {},
   "outputs": [
    {
     "data": {
      "text/plain": [
       "<EmployeeManager [<Employee: Josh>, <Employee: Sabrina>, <Employee: Brianna>, <Employee: Esperanza>, <Employee: Elisia>, <Employee: Jaden>, <Employee: Trisha>, <Employee: Tiffany>, <Employee: David>, <Employee: Nicki>, <Employee: Leslie>]>"
      ]
     },
     "execution_count": 6,
     "metadata": {},
     "output_type": "execute_result"
    }
   ],
   "source": [
    "wds = Workday.objects.filter(date__year=2022,iweek=3).first()\n",
    "wds.who_can_fill(Shift.objects.get(name='MI'))\n"
   ]
  },
  {
   "cell_type": "code",
   "execution_count": 7,
   "metadata": {},
   "outputs": [],
   "source": [
    "for sft in Shift.objects.filter(start__hour__gte=20):\n",
    "    sft.group = 'XT'\n",
    "    sft.save()"
   ]
  },
  {
   "cell_type": "code",
   "execution_count": 8,
   "metadata": {},
   "outputs": [
    {
     "name": "stdout",
     "output_type": "stream",
     "text": [
      "<SlotManager [<Slot: 221025-S Jaden>, <Slot: 221024-S Jaden>, <Slot: 221026-S Brianna>, <Slot: 221027-S Tiffany>, <Slot: 221028-S Esperanza>]>\n"
     ]
    }
   ],
   "source": [
    "slts = Slot.objects.filter(shift__name='S',workday__date__year=2022,workday__iweek=43)\n",
    "\n",
    "print(slts)"
   ]
  },
  {
   "cell_type": "code",
   "execution_count": 38,
   "metadata": {},
   "outputs": [
    {
     "data": {
      "text/plain": [
       "<Slot: 221103-7P Brianna>"
      ]
     },
     "execution_count": 38,
     "metadata": {},
     "output_type": "execute_result"
    }
   ],
   "source": [
    "slt = Slot.objects.filter(slug__icontains='2022-11-03').first()\n",
    "incompat_slts = Slot.objects.filter(workday=slt.workday.prevWD(),shift__start__hour__lte=9)\n",
    "slt"
   ]
  },
  {
   "cell_type": "code",
   "execution_count": 39,
   "metadata": {},
   "outputs": [
    {
     "data": {
      "text/plain": [
       "<ShiftPreferenceManager []>"
      ]
     },
     "execution_count": 39,
     "metadata": {},
     "output_type": "execute_result"
    }
   ],
   "source": [
    "def removePtoConflictSlots (year=None,week=None):\n",
    "    if not year & week:\n",
    "        allConflicts = Slot.objects.filter(is_turnaround=True) | Slot.objects.filter(is_preturnaround=True)\n",
    "        for conflict in allConflicts:\n",
    "            if conflict.employee.evening_pref:\n",
    "                if conflict.shift.start.hour < 10:\n",
    "                    print('Deleting %s' % conflict)\n",
    "                    s = Slot.objects.filter(pk=conflict.pk).update(employee=None)\n",
    "                    s.save()\n",
    "            elif conflict.employee.evening_pref == False:\n",
    "                if conflict.shift.start.hour > 10:\n",
    "                    print('Deleting %s' % conflict)\n",
    "                    s = Slot.objects.filter(pk=conflict.pk).update(employee=None)\n",
    "                    s.save()\n",
    "        "
   ]
  },
  {
   "cell_type": "code",
   "execution_count": 52,
   "metadata": {},
   "outputs": [
    {
     "data": {
      "text/plain": [
       "<SlotManager [<Slot: 221127-RN Mary>, <Slot: 221128-RN Mary>, <Slot: 221129-RN Mary>, <Slot: 220916-7C Elisia>, <Slot: 220922-7C David>, <Slot: 220926-MI David>, <Slot: 221013-C Kristen>, <Slot: 221026-7C Tiffany>, <Slot: 221024-MI Brianna>, <Slot: 221018-7C Jaden>, <Slot: 221114-C Lynlee>, <Slot: 221115-PC Molly>]>"
      ]
     },
     "execution_count": 52,
     "metadata": {},
     "output_type": "execute_result"
    }
   ],
   "source": [
    "allConflicts = Slot.objects.annotate(\n",
    "                ptoConflict=Subquery(PtoRequest.objects.filter(\n",
    "                    employee=OuterRef('employee'), \n",
    "                    workday=OuterRef('workday__date')).values('workday')[:1]))\n",
    "\n",
    "ac = allConflicts.exclude(ptoConflict=None)\n",
    "ac"
   ]
  },
  {
   "cell_type": "code",
   "execution_count": 43,
   "metadata": {},
   "outputs": [
    {
     "name": "stdout",
     "output_type": "stream",
     "text": [
      "Josh\n",
      "Molly\n",
      "Doug\n",
      "Brittanie\n",
      "Esperanza\n",
      "Carrie\n",
      "Jaden\n",
      "Lynlee\n",
      "Carol\n",
      "Trisha\n",
      "Tiffany\n",
      "Brianna S\n",
      "Mary\n",
      "Andrew\n",
      "Sam\n",
      "David\n",
      "Nicki\n",
      "Kristen\n",
      "Shaun\n",
      "Alex\n",
      "Leslie\n",
      "Kat\n",
      "Bara\n",
      "Erin\n"
     ]
    }
   ],
   "source": [
    "for emp in Employee.objects.all():\n",
    "    if not emp.evening_pref:\n",
    "        print(emp.name)"
   ]
  },
  {
   "cell_type": "code",
   "execution_count": null,
   "metadata": {},
   "outputs": [],
   "source": []
  }
 ],
 "metadata": {
  "kernelspec": {
   "display_name": "Python 3 (ipykernel)",
   "language": "python",
   "name": "python3"
  },
  "language_info": {
   "codemirror_mode": {
    "name": "ipython",
    "version": 3
   },
   "file_extension": ".py",
   "mimetype": "text/x-python",
   "name": "python",
   "nbconvert_exporter": "python",
   "pygments_lexer": "ipython3",
   "version": "3.8.13"
  },
  "vscode": {
   "interpreter": {
    "hash": "9ac03a0a6051494cc606d484d27d20fce22fb7b4d169f583271e11d5ba46a56e"
   }
  }
 },
 "nbformat": 4,
 "nbformat_minor": 2
}
