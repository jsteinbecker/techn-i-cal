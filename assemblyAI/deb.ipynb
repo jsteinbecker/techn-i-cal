{
 "cells": [
  {
   "cell_type": "code",
   "execution_count": 2,
   "metadata": {},
   "outputs": [],
   "source": [
    "def empl_lowestHours (year,week):\n",
    "    wds = Workday.objects.filter(date__year=year,iweek=week)\n",
    "    emps = Employee.objects.all().exclude(fte=0)\n",
    "    fteDict = {}\n",
    "    ftes = emps.values('name','fte_14_day')\n",
    "    for fte in ftes:\n",
    "        fteDict.update({fte['name']:fte['fte_14_day']})\n",
    "    workedHrs = {}\n",
    "    for emp in emps:\n",
    "        v = emp.weekly_hours(year,week)\n",
    "        workedHrs.update({ emp.name :v })\n",
    "    percWorked = {}\n",
    "    for emp in ftes:\n",
    "        if workedHrs[emp] != None:\n",
    "            percWorked.update({emp:workedHrs[emp]/fteDict[emp]})\n",
    "    return percWorked"
   ]
  }
 ],
 "metadata": {
  "kernelspec": {
   "display_name": "Python 3.8.13 64-bit ('shims')",
   "language": "python",
   "name": "python3"
  },
  "language_info": {
   "codemirror_mode": {
    "name": "ipython",
    "version": 3
   },
   "file_extension": ".py",
   "mimetype": "text/x-python",
   "name": "python",
   "nbconvert_exporter": "python",
   "pygments_lexer": "ipython3",
   "version": "3.8.13"
  },
  "orig_nbformat": 4,
  "vscode": {
   "interpreter": {
    "hash": "9ac03a0a6051494cc606d484d27d20fce22fb7b4d169f583271e11d5ba46a56e"
   }
  }
 },
 "nbformat": 4,
 "nbformat_minor": 2
}
