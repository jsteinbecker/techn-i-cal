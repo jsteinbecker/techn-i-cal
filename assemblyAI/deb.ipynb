{
 "cells": [
  {
   "cell_type": "code",
   "execution_count": 1,
   "metadata": {
    "tags": [
     "imports"
    ]
   },
   "outputs": [],
   "source": [
    "import django \n",
    "import os\n",
    "os.environ[\"DJANGO_ALLOW_ASYNC_UNSAFE\"] = \"true\"\n",
    "django.setup()"
   ]
  },
  {
   "cell_type": "code",
   "execution_count": 2,
   "metadata": {},
   "outputs": [],
   "source": [
    "from sch.models import *\n",
    "from sch.actions import *"
   ]
  },
  {
   "cell_type": "code",
   "execution_count": 3,
   "metadata": {},
   "outputs": [],
   "source": [
    "slot = Slot.objects.get(slug__contains='2022-11-05-RS')\n",
    "def resolveTurnaroundWithinDay (turnaroundSlot):\n",
    "        emp = turnaroundSlot.employee\n",
    "        if emp.evening_pref:\n",
    "            wd = turnaroundSlot.workday\n",
    "            sfta = turnaroundSlot.shift\n",
    "        elif emp.evening_pref == False:\n",
    "            wd = turnaroundSlot.workday.prevWD()\n",
    "            sfta = Slot.objects.get(workday=wd,employee=emp)\n",
    "        \n",
    "        sfts = emp.shifts_available.all()\n",
    "        print('shifts_available',sfts)\n",
    "        noIncompatibles = []\n",
    "        for sft in sfts:\n",
    "            if not Slot.objects.incompatible_slots(workday=wd,shift=sft).filter(employee=emp).exists():\n",
    "                noIncompatibles += [sft]\n",
    "                print(sft, noIncompatibles)\n",
    "        List = []\n",
    "        for sft in noIncompatibles:\n",
    "            checking = Slot.objects.filter(workday=wd,shift=sft)\n",
    "            print(checking)\n",
    "            if checking.exists():\n",
    "                if sfta in checking.first().employee.shifts_available.all():\n",
    "                    if not Slot.objects.incompatible_slots(workday=wd,shift=sfta).filter(employee=checking.first().employee).exists():\n",
    "                        List += [sfta]  \n",
    "        print(List)  \n",
    "        if len(List) == 1:\n",
    "            return List[0]  \n",
    "        return List[random.randint(0,len(List)-1)]"
   ]
  },
  {
   "cell_type": "code",
   "execution_count": 13,
   "metadata": {},
   "outputs": [],
   "source": [
    "from django.db.models import IntegerField "
   ]
  },
  {
   "cell_type": "code",
   "execution_count": 31,
   "metadata": {},
   "outputs": [
    {
     "name": "stdout",
     "output_type": "stream",
     "text": [
      "Avg Agg Shift Pref Score: -0.2222222222222222\n",
      "WeeklyHours, week 43: 30.0 hrs\n",
      "WeeklyHours Percent: 120.0 %\n"
     ]
    }
   ],
   "source": [
    "emp = Employee.objects.get(name='Josh')\n",
    "print(\"Avg Agg Shift Pref Score:\",\n",
    "      emp.agg_avg_shift_pref_score)\n",
    "print(\"WeeklyHours, week 43:\",\n",
    "      emp.weekly_hours(2022,43), 'hrs')\n",
    "print(\"WeeklyHours Percent:\",\n",
    "      emp.weekly_hours_perc(2022,43) * 100, \"%\")"
   ]
  },
  {
   "cell_type": "code",
   "execution_count": 32,
   "metadata": {},
   "outputs": [
    {
     "data": {
      "text/plain": [
       "<QuerySet [<ShiftTemplate: SatA:MI Template>, <ShiftTemplate: SunB:MI Template>, <ShiftTemplate: SatB:MI Template>, <ShiftTemplate: SunB:MI Template>]>"
      ]
     },
     "execution_count": 32,
     "metadata": {},
     "output_type": "execute_result"
    }
   ],
   "source": [
    "emp.templated_days"
   ]
  },
  {
   "cell_type": "code",
   "execution_count": 8,
   "metadata": {},
   "outputs": [
    {
     "data": {
      "text/plain": [
       "<EmployeeManager [<Employee: Josh>, <Employee: Sabrina>, <Employee: Brianna>, <Employee: Esperanza>, <Employee: Elisia>, <Employee: Jaden>, <Employee: Trisha>, <Employee: Tiffany>, <Employee: David>, <Employee: Nicki>, <Employee: Leslie>]>"
      ]
     },
     "execution_count": 8,
     "metadata": {},
     "output_type": "execute_result"
    }
   ],
   "source": [
    "wds = Workday.objects.filter(date__year=2022,iweek=3).first()\n",
    "wds.who_can_fill(Shift.objects.get(name='MI'))\n"
   ]
  },
  {
   "cell_type": "code",
   "execution_count": 40,
   "metadata": {},
   "outputs": [],
   "source": [
    "for sft in Shift.objects.filter(start__hour__gte=20):\n",
    "    sft.group = 'XT'\n",
    "    sft.save()"
   ]
  },
  {
   "cell_type": "code",
   "execution_count": 48,
   "metadata": {},
   "outputs": [
    {
     "name": "stdout",
     "output_type": "stream",
     "text": [
      "<SlotManager []>\n"
     ]
    }
   ],
   "source": [
    "slts = Slot.objects.filter(shift__name='S',workday__date__year=2022,workday__iweek=43)\n",
    "\n",
    "print(slts)"
   ]
  },
  {
   "cell_type": "code",
   "execution_count": null,
   "metadata": {},
   "outputs": [],
   "source": []
  }
 ],
 "metadata": {
  "kernelspec": {
   "display_name": "Python 3 (ipykernel)",
   "language": "python",
   "name": "python3"
  },
  "language_info": {
   "codemirror_mode": {
    "name": "ipython",
    "version": 3
   },
   "file_extension": ".py",
   "mimetype": "text/x-python",
   "name": "python",
   "nbconvert_exporter": "python",
   "pygments_lexer": "ipython3",
   "version": "3.8.13"
  },
  "vscode": {
   "interpreter": {
    "hash": "9ac03a0a6051494cc606d484d27d20fce22fb7b4d169f583271e11d5ba46a56e"
   }
  }
 },
 "nbformat": 4,
 "nbformat_minor": 2
}
