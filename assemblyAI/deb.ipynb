{
 "cells": [
  {
   "cell_type": "code",
   "execution_count": 1,
   "metadata": {
    "tags": [
     "imports"
    ]
   },
   "outputs": [],
   "source": [
    "import django \n",
    "import os\n",
    "os.environ[\"DJANGO_ALLOW_ASYNC_UNSAFE\"] = \"true\"\n",
    "django.setup()"
   ]
  },
  {
   "cell_type": "code",
   "execution_count": 2,
   "metadata": {},
   "outputs": [],
   "source": [
    "from sch.models import *\n",
    "from sch.actions import *"
   ]
  },
  {
   "cell_type": "code",
   "execution_count": 3,
   "metadata": {},
   "outputs": [],
   "source": [
    "slot = Slot.objects.get(slug__contains='2022-11-05-RS')\n",
    "def resolveTurnaroundWithinDay (turnaroundSlot):\n",
    "        emp = turnaroundSlot.employee\n",
    "        if emp.evening_pref:\n",
    "            wd = turnaroundSlot.workday\n",
    "            sfta = turnaroundSlot.shift\n",
    "        elif emp.evening_pref == False:\n",
    "            wd = turnaroundSlot.workday.prevWD()\n",
    "            sfta = Slot.objects.get(workday=wd,employee=emp)\n",
    "        \n",
    "        sfts = emp.shifts_available.all()\n",
    "        print('shifts_available',sfts)\n",
    "        noIncompatibles = []\n",
    "        for sft in sfts:\n",
    "            if not Slot.objects.incompatible_slots(workday=wd,shift=sft).filter(employee=emp).exists():\n",
    "                noIncompatibles += [sft]\n",
    "                print(sft, noIncompatibles)\n",
    "        List = []\n",
    "        for sft in noIncompatibles:\n",
    "            checking = Slot.objects.filter(workday=wd,shift=sft)\n",
    "            print(checking)\n",
    "            if checking.exists():\n",
    "                if sfta in checking.first().employee.shifts_available.all():\n",
    "                    if not Slot.objects.incompatible_slots(workday=wd,shift=sfta).filter(employee=checking.first().employee).exists():\n",
    "                        List += [sfta]  \n",
    "        print(List)  \n",
    "        if len(List) == 1:\n",
    "            return List[0]  \n",
    "        return List[random.randint(0,len(List)-1)]"
   ]
  },
  {
   "cell_type": "code",
   "execution_count": 6,
   "metadata": {},
   "outputs": [
    {
     "name": "stdout",
     "output_type": "stream",
     "text": [
      "[0, 0, 0, 0, 0, 0, 0, 0, 0, 0, 0, 0, 0, 0, 0, 0, 0, 0, 0, 0, 0, 0, 0, 0, 0, 0, 0, 0, 0, 0, 0, 0, 0, 0, 0, 0, 0, 0, 0, 0, 0, 100, 100, 100, 100, 100, 100, 0, 0, 0, 0, 0]\n",
      "11.538461538461538\n"
     ]
    }
   ],
   "source": [
    "vals = []\n",
    "for wd in Workday.objects.filter(iweekday=1): #type: Workday\n",
    "    vals += [int(wd.percFilled * 100)]\n",
    "print(vals)\n",
    "print (sum(vals)/len(vals))"
   ]
  },
  {
   "cell_type": "code",
   "execution_count": 7,
   "metadata": {},
   "outputs": [
    {
     "name": "stdout",
     "output_type": "stream",
     "text": [
      "96.33333333333333 %\n"
     ]
    }
   ],
   "source": [
    "schedule7 = Workday.objects.filter(ischedule=7)\n",
    "percFillVals = []\n",
    "for wd in schedule7:\n",
    "    percFillVals += [int(wd.percFilled*100)]\n",
    "print(sum(percFillVals)/ len(percFillVals),\"%\")\n",
    "        "
   ]
  },
  {
   "cell_type": "code",
   "execution_count": 8,
   "metadata": {},
   "outputs": [
    {
     "data": {
      "text/plain": [
       "<EmployeeManager [<Employee: Josh>, <Employee: Sabrina>, <Employee: Brianna>, <Employee: Esperanza>, <Employee: Elisia>, <Employee: Jaden>, <Employee: Trisha>, <Employee: Tiffany>, <Employee: David>, <Employee: Nicki>, <Employee: Leslie>]>"
      ]
     },
     "execution_count": 8,
     "metadata": {},
     "output_type": "execute_result"
    }
   ],
   "source": [
    "wds = Workday.objects.filter(date__year=2022,iweek=3).first()\n",
    "wds.who_can_fill(Shift.objects.get(name='MI'))\n"
   ]
  },
  {
   "cell_type": "code",
   "execution_count": null,
   "metadata": {},
   "outputs": [],
   "source": []
  }
 ],
 "metadata": {
  "kernelspec": {
   "display_name": "Python 3 (ipykernel)",
   "language": "python",
   "name": "python3"
  },
  "language_info": {
   "codemirror_mode": {
    "name": "ipython",
    "version": 3
   },
   "file_extension": ".py",
   "mimetype": "text/x-python",
   "name": "python",
   "nbconvert_exporter": "python",
   "pygments_lexer": "ipython3",
   "version": "3.8.13"
  },
  "vscode": {
   "interpreter": {
    "hash": "9ac03a0a6051494cc606d484d27d20fce22fb7b4d169f583271e11d5ba46a56e"
   }
  }
 },
 "nbformat": 4,
 "nbformat_minor": 2
}
