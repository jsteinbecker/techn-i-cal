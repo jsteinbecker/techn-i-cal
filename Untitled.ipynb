{
 "cells": [
  {
   "cell_type": "code",
   "execution_count": 3,
   "id": "c0a353bb",
   "metadata": {},
   "outputs": [],
   "source": [
    "import django \n",
    "import os\n",
    "os.environ[\"DJANGO_ALLOW_ASYNC_UNSAFE\"] = \"true\"\n",
    "django.setup()\n",
    "from sch.models import *\n",
    "import datetime as dt\n",
    "from django.db.models import CharField\n",
    "from sch.actions import *\n",
    "from sch.xviews import week"
   ]
  },
  {
   "cell_type": "code",
   "execution_count": 4,
   "id": "8cd541c6",
   "metadata": {
    "tags": []
   },
   "outputs": [],
   "source": [
    "from sch.actions import *\n",
    "from sch.xviews import week"
   ]
  },
  {
   "cell_type": "code",
   "execution_count": 5,
   "id": "019f99a9",
   "metadata": {},
   "outputs": [
    {
     "data": {
      "text/plain": [
       "<WorkdayManager [<Workday: 2022 10 16>, <Workday: 2022 10 17>, <Workday: 2022 10 18>, <Workday: 2022 10 19>, <Workday: 2022 10 20>, <Workday: 2022 10 21>, <Workday: 2022 10 22>]>"
      ]
     },
     "execution_count": 5,
     "metadata": {},
     "output_type": "execute_result"
    }
   ],
   "source": [
    "week.get_days(\"2022-W42\")"
   ]
  },
  {
   "cell_type": "code",
   "execution_count": 6,
   "id": "f6640332",
   "metadata": {},
   "outputs": [
    {
     "data": {
      "text/plain": [
       "<EmployeeManager [<Employee: Brianna>, <Employee: Esperanza>, <Employee: Danica>, <Employee: Tiffany>, <Employee: David>, <Employee: Nicki>]>"
      ]
     },
     "execution_count": 6,
     "metadata": {},
     "output_type": "execute_result"
    }
   ],
   "source": [
    "emps = Employee.objects.in_other_slot(workday=Workday.objects.get(slug='2022-10-31'),shift=Shift.objects.get(name='7C'))\n",
    "emps = emps.filter(shifts_trained=Shift.objects.get(name='7C'))\n",
    "emps"
   ]
  },
  {
   "cell_type": "code",
   "execution_count": 7,
   "id": "0a591e81",
   "metadata": {},
   "outputs": [
    {
     "data": {
      "text/plain": [
       "28"
      ]
     },
     "execution_count": 7,
     "metadata": {},
     "output_type": "execute_result"
    }
   ],
   "source": [
    "shiftsPerWeek = 0\n",
    "for sft in Shift.objects.filter(start__hour__gte=10, cls='CPhT').values_list('occur_days',flat=True):\n",
    "    shiftsPerWeek += len(sft)\n",
    "shiftsPerWeek"
   ]
  },
  {
   "cell_type": "code",
   "execution_count": null,
   "id": "2215d9f9",
   "metadata": {},
   "outputs": [],
   "source": []
  },
  {
   "cell_type": "code",
   "execution_count": 8,
   "id": "db89552a",
   "metadata": {},
   "outputs": [
    {
     "name": "stdout",
     "output_type": "stream",
     "text": [
      "Josh 12.0\n",
      "Sabrina 14.814814814814813\n",
      "Brianna 0.0\n",
      "Molly 34.54545454545455\n",
      "Doug 35.483870967741936\n",
      "Brittanie 0.0\n",
      "Esperanza 1.5151515151515151\n",
      "Carrie 18.91891891891892\n",
      "Elisia 81.81818181818183\n",
      "Jaden 38.983050847457626\n",
      "Lynlee 30.0\n",
      "Carol 38.88888888888889\n",
      "Trisha 48.78048780487805\n",
      "Danica 100.0\n",
      "Tiffany 45.614035087719294\n",
      "Brianna S 0.0\n",
      "Amanda 100.0\n",
      "Michael 100.0\n",
      "Mona 100.0\n",
      "Mary 100.0\n",
      "Mark B 100.0\n",
      "Andrew 46.666666666666664\n",
      "Mei 100.0\n",
      "Tony 100.0\n",
      "Sam 36.666666666666664\n",
      "David 58.620689655172406\n",
      "Nicki 57.377049180327866\n",
      "Kristen 46.666666666666664\n",
      "Shaun 13.114754098360656\n",
      "Alex 40.0\n",
      "Leslie 0.0\n",
      "Kat 47.22222222222222\n",
      "Bara 100.0\n",
      "Erin 0.0\n",
      "Dianne 0.0\n"
     ]
    }
   ],
   "source": [
    "for emp in Employee.objects.all():\n",
    "    if Slot.objects.filter(employee=emp).exists():\n",
    "        print(emp,Slot.objects.filter(employee=emp,shift__start__hour__gte=10).count()/Slot.objects.filter(employee=emp).count()*100)"
   ]
  },
  {
   "cell_type": "code",
   "execution_count": 9,
   "id": "c457a1da",
   "metadata": {},
   "outputs": [
    {
     "name": "stdout",
     "output_type": "stream",
     "text": [
      "221102-MI David\n",
      "221102-7C Tiffany\n",
      "221102-S Brianna\n",
      "221102-EI Mona\n",
      "221102-3 Elisia\n"
     ]
    }
   ],
   "source": [
    "today = Workday.objects.get(date=dt.date.today())\n",
    "today_slots = Slot.objects.filter(workday=today).order_by('shift__start')\n",
    "for slot in today_slots:\n",
    "    if slot.employee.cls == \"CPhT\":\n",
    "        print (slot)"
   ]
  },
  {
   "cell_type": "code",
   "execution_count": 10,
   "id": "20e9b889",
   "metadata": {},
   "outputs": [
    {
     "name": "stdout",
     "output_type": "stream",
     "text": [
      "221102-RS Andrew\n",
      "221102-M Alex\n",
      "221102-PC Kristen\n",
      "221102-MO Brianna S\n",
      "221102-C Carol\n",
      "221102-R3 Molly\n",
      "221102-RN Mark B\n"
     ]
    }
   ],
   "source": [
    "for slot in today_slots:\n",
    "    if slot.employee.cls == \"RPh\":\n",
    "        print (slot)"
   ]
  },
  {
   "cell_type": "code",
   "execution_count": 11,
   "id": "f0150f4e",
   "metadata": {},
   "outputs": [
    {
     "name": "stdout",
     "output_type": "stream",
     "text": [
      "221030-M Kat\n",
      "221031-M Kat\n",
      "221101-E Kat\n",
      "221031-RN Alex\n",
      "221102-M Alex\n",
      "221104-C Alex\n",
      "221105-RS Alex\n",
      "221101-PC Shaun\n",
      "221103-PC Shaun\n",
      "221104-RS Shaun\n",
      "221105-R3 Shaun\n",
      "221030-C Kristen\n",
      "221101-RS Kristen\n",
      "221102-PC Kristen\n",
      "221103-E Kristen\n",
      "221030-MI Nicki\n",
      "221031-EI Nicki\n",
      "221104-7C Nicki\n",
      "221031-MI David\n",
      "221101-7C David\n"
     ]
    }
   ],
   "source": [
    "weekWds = today.siblings_iweek\n",
    "weekSlots = Slot.objects.filter(workday__in=weekWds).order_by('-employee')\n",
    "for slot in weekSlots[:20]:\n",
    "    print(slot)"
   ]
  },
  {
   "cell_type": "code",
   "execution_count": 12,
   "id": "da43b2f5",
   "metadata": {},
   "outputs": [],
   "source": [
    "def getTradableSlots(slot):\n",
    "    print('INPUT: ', slot)\n",
    "    emp = slot.employee\n",
    "    sft = slot.shift\n",
    "    wd = slot.workday\n",
    "    weekdays = slot.workday.siblings_iweek\n",
    "    daysOn = Slot.objects.filter(workday__in = weekdays,employee = emp).values('workday').distinct()\n",
    "    daysOff = weekdays.exclude(pk__in=daysOn)\n",
    "    print('daysOff:',list(daysOff.values_list('date__day',flat=True)))\n",
    "    tenable = []\n",
    "    slotDaysOff = Slot.objects.filter(workday__in=daysOff, shift__in=emp.shifts_available.all()).order_by('workday')\n",
    "    print(slotDaysOff)\n",
    "    for slotB in slotDaysOff:\n",
    "        if emp in slot.fillableBy():\n",
    "            if slotB.employee in slot.fillableBy():\n",
    "                tenable.append(slotB)\n",
    "    print('tenableTrades:',len(tenable),[f'{i.shift}>{i.workday.date.day}' for i in tenable])\n",
    "    return tenable\n",
    "\n"
   ]
  },
  {
   "cell_type": "code",
   "execution_count": 13,
   "id": "cc9377c9",
   "metadata": {},
   "outputs": [
    {
     "name": "stdout",
     "output_type": "stream",
     "text": [
      "-------------\n",
      "0\n",
      "INPUT:  221029-EP Trisha\n",
      "daysOff: [23, 24, 27]\n",
      "<SlotManager [<Slot: 221023-MI Josh>, <Slot: 221023-7C Jaden>, <Slot: 221023-7P Esperanza>, <Slot: 221023-EI Tiffany>, <Slot: 221023-EP David>, <Slot: 221023-3 Mona>, <Slot: 221023-N Amanda>, <Slot: 221024-MI Jaden>, <Slot: 221024-S Leslie>, <Slot: 221024-7C Nicki>, <Slot: 221024-OP Brittanie>, <Slot: 221024-EI Elisia>, <Slot: 221024-EP David>, <Slot: 221024-3 Mona>, <Slot: 221024-N Amanda>, <Slot: 221027-MI Jaden>, <Slot: 221027-S Brianna>, <Slot: 221027-7C Sabrina>, <Slot: 221027-7P Josh>, <Slot: 221027-OP Brittanie>, '...(remaining elements truncated)...']>\n",
      "tenableTrades: 9 ['7C>23', '7P>23', 'EP>23', '3>23', 'MI>24', 'EP>24', '3>24', 'MI>27', 'EP>27']\n",
      "-------------\n",
      "0\n",
      "INPUT:  221028-EI Trisha\n",
      "daysOff: [23, 24, 27]\n",
      "<SlotManager [<Slot: 221023-MI Josh>, <Slot: 221023-7C Jaden>, <Slot: 221023-7P Esperanza>, <Slot: 221023-EI Tiffany>, <Slot: 221023-EP David>, <Slot: 221023-3 Mona>, <Slot: 221023-N Amanda>, <Slot: 221024-MI Jaden>, <Slot: 221024-S Leslie>, <Slot: 221024-7C Nicki>, <Slot: 221024-OP Brittanie>, <Slot: 221024-EI Elisia>, <Slot: 221024-EP David>, <Slot: 221024-3 Mona>, <Slot: 221024-N Amanda>, <Slot: 221027-MI Jaden>, <Slot: 221027-S Brianna>, <Slot: 221027-7C Sabrina>, <Slot: 221027-7P Josh>, <Slot: 221027-OP Brittanie>, '...(remaining elements truncated)...']>\n",
      "tenableTrades: 7 ['EP>23', '3>23', 'EI>24', 'EP>24', '3>24', 'EI>27', 'EP>27']\n",
      "-------------\n",
      "0\n",
      "INPUT:  221025-7P Trisha\n",
      "daysOff: [23, 24, 27]\n",
      "<SlotManager [<Slot: 221023-MI Josh>, <Slot: 221023-7C Jaden>, <Slot: 221023-7P Esperanza>, <Slot: 221023-EI Tiffany>, <Slot: 221023-EP David>, <Slot: 221023-3 Mona>, <Slot: 221023-N Amanda>, <Slot: 221024-MI Jaden>, <Slot: 221024-S Leslie>, <Slot: 221024-7C Nicki>, <Slot: 221024-OP Brittanie>, <Slot: 221024-EI Elisia>, <Slot: 221024-EP David>, <Slot: 221024-3 Mona>, <Slot: 221024-N Amanda>, <Slot: 221027-MI Jaden>, <Slot: 221027-S Brianna>, <Slot: 221027-7C Sabrina>, <Slot: 221027-7P Josh>, <Slot: 221027-OP Brittanie>, '...(remaining elements truncated)...']>\n",
      "tenableTrades: 6 ['MI>23', '7P>23', 'S>24', 'S>27', '7P>27', '3>27']\n",
      "-------------\n",
      "0\n",
      "INPUT:  221026-7P Trisha\n",
      "daysOff: [23, 24, 27]\n",
      "<SlotManager [<Slot: 221023-MI Josh>, <Slot: 221023-7C Jaden>, <Slot: 221023-7P Esperanza>, <Slot: 221023-EI Tiffany>, <Slot: 221023-EP David>, <Slot: 221023-3 Mona>, <Slot: 221023-N Amanda>, <Slot: 221024-MI Jaden>, <Slot: 221024-S Leslie>, <Slot: 221024-7C Nicki>, <Slot: 221024-OP Brittanie>, <Slot: 221024-EI Elisia>, <Slot: 221024-EP David>, <Slot: 221024-3 Mona>, <Slot: 221024-N Amanda>, <Slot: 221027-MI Jaden>, <Slot: 221027-S Brianna>, <Slot: 221027-7C Sabrina>, <Slot: 221027-7P Josh>, <Slot: 221027-OP Brittanie>, '...(remaining elements truncated)...']>\n",
      "tenableTrades: 2 ['7P>23', 'S>24']\n"
     ]
    }
   ],
   "source": [
    "slots = Slot.objects.filter(employee__name=\"Trisha\",workday__iweek=43,workday__date__year=2022)\n",
    "for slot in slots:\n",
    "    print('-------------')\n",
    "    print(slot.is_turnaround)\n",
    "    getTradableSlots(slot)"
   ]
  },
  {
   "cell_type": "code",
   "execution_count": 16,
   "id": "543fa934",
   "metadata": {},
   "outputs": [
    {
     "name": "stdout",
     "output_type": "stream",
     "text": [
      "INPUT:  220915-E None\n",
      "daysOff: [11, 12, 17]\n"
     ]
    },
    {
     "ename": "AttributeError",
     "evalue": "'NoneType' object has no attribute 'shifts_available'",
     "output_type": "error",
     "traceback": [
      "\u001b[0;31m---------------------------------------------------------------------------\u001b[0m",
      "\u001b[0;31mAttributeError\u001b[0m                            Traceback (most recent call last)",
      "Cell \u001b[0;32mIn [16], line 4\u001b[0m\n\u001b[1;32m      2\u001b[0m pta \u001b[39m=\u001b[39m Slot\u001b[39m.\u001b[39mobjects\u001b[39m.\u001b[39mfilter(workday\u001b[39m=\u001b[39mta[\u001b[39m0\u001b[39m]\u001b[39m.\u001b[39mworkday\u001b[39m.\u001b[39mprevWD(),employee\u001b[39m=\u001b[39mta[\u001b[39m0\u001b[39m]\u001b[39m.\u001b[39memployee)\n\u001b[1;32m      3\u001b[0m ta, pta\n\u001b[0;32m----> 4\u001b[0m getTradableSlots(pta[\u001b[39m0\u001b[39;49m])\n",
      "Cell \u001b[0;32mIn [12], line 11\u001b[0m, in \u001b[0;36mgetTradableSlots\u001b[0;34m(slot)\u001b[0m\n\u001b[1;32m      9\u001b[0m \u001b[39mprint\u001b[39m(\u001b[39m'\u001b[39m\u001b[39mdaysOff:\u001b[39m\u001b[39m'\u001b[39m,\u001b[39mlist\u001b[39m(daysOff\u001b[39m.\u001b[39mvalues_list(\u001b[39m'\u001b[39m\u001b[39mdate__day\u001b[39m\u001b[39m'\u001b[39m,flat\u001b[39m=\u001b[39m\u001b[39mTrue\u001b[39;00m)))\n\u001b[1;32m     10\u001b[0m tenable \u001b[39m=\u001b[39m []\n\u001b[0;32m---> 11\u001b[0m slotDaysOff \u001b[39m=\u001b[39m Slot\u001b[39m.\u001b[39mobjects\u001b[39m.\u001b[39mfilter(workday__in\u001b[39m=\u001b[39mdaysOff, shift__in\u001b[39m=\u001b[39memp\u001b[39m.\u001b[39;49mshifts_available\u001b[39m.\u001b[39mall())\u001b[39m.\u001b[39morder_by(\u001b[39m'\u001b[39m\u001b[39mworkday\u001b[39m\u001b[39m'\u001b[39m)\n\u001b[1;32m     12\u001b[0m \u001b[39mprint\u001b[39m(slotDaysOff)\n\u001b[1;32m     13\u001b[0m \u001b[39mfor\u001b[39;00m slotB \u001b[39min\u001b[39;00m slotDaysOff:\n",
      "\u001b[0;31mAttributeError\u001b[0m: 'NoneType' object has no attribute 'shifts_available'"
     ]
    }
   ],
   "source": [
    "ta = Slot.objects.filter(is_turnaround=True)\n",
    "pta = Slot.objects.filter(workday=ta[0].workday.prevWD(),employee=ta[0].employee)\n",
    "ta, pta\n",
    "getTradableSlots(pta[0])"
   ]
  },
  {
   "cell_type": "code",
   "execution_count": 17,
   "id": "da3622f0",
   "metadata": {},
   "outputs": [],
   "source": [
    "for slot in Slot.objects.all():\n",
    "    slot.save()"
   ]
  },
  {
   "cell_type": "code",
   "execution_count": 18,
   "id": "be66339b",
   "metadata": {},
   "outputs": [
    {
     "name": "stdout",
     "output_type": "stream",
     "text": [
      "2022 08 21 None\n",
      "2022 08 22 None\n",
      "2022 08 23 None\n",
      "2022 08 24 None\n",
      "2022 08 25 None\n",
      "2022 08 26 None\n",
      "2022 08 27 None\n",
      "2022 08 28 None\n",
      "2022 08 29 None\n",
      "2022 08 30 None\n",
      "2022 08 31 None\n",
      "2022 09 01 None\n",
      "2022 09 02 None\n",
      "2022 09 03 None\n"
     ]
    }
   ],
   "source": [
    "for wd in Workday.objects.filter(iperiod=17):\n",
    "    print(wd,wd.week)"
   ]
  },
  {
   "cell_type": "code",
   "execution_count": 21,
   "id": "14ec5ce1",
   "metadata": {},
   "outputs": [
    {
     "data": {
      "text/plain": [
       "366"
      ]
     },
     "execution_count": 21,
     "metadata": {},
     "output_type": "execute_result"
    }
   ],
   "source": [
    "Workday.objects.all().count()"
   ]
  },
  {
   "cell_type": "code",
   "execution_count": 22,
   "id": "be12b210",
   "metadata": {},
   "outputs": [],
   "source": [
    "from django import forms\n",
    "import datetime as dt\n",
    "class ArticleForm(forms.Form):\n",
    "     title = forms.CharField()\n",
    "     pub_date = forms.DateField()"
   ]
  },
  {
   "cell_type": "code",
   "execution_count": null,
   "id": "ea485bfd",
   "metadata": {},
   "outputs": [
    {
     "name": "stdout",
     "output_type": "stream",
     "text": [
      "Janet has 9 eggs left over after eating breakfast and baking muffins.\n",
      "Janet makes $18 selling her eggs.\n"
     ]
    }
   ],
   "source": [
    "\"\"\" \n",
    "Janet’s ducks lay 16 eggs per day. She eats three for breakfast \n",
    "every morning and bakes muffins for her friends every day with \n",
    "four. She sells the remainder for $2 per egg. How much does she\n",
    "make every day? SHOW YOUR CALCULATIONS\n",
    "\"\"\"\n",
    "\n",
    "# Define the number of eggs Janet's ducks lay per day.\n",
    "eggs_per_day = 16\n",
    "\n",
    "# Define the number of eggs Janet eats for breakfast every morning.\n",
    "eggs_for_breakfast = 3\n",
    "\n",
    "# Define the number of eggs Janet uses to bake muffins for her friends every day.\n",
    "eggs_for_muffins = 4\n",
    "\n",
    "# Define the price Janet sells her eggs for.\n",
    "eggs_price = 2\n",
    "\n",
    "# Calculate the number of eggs Janet has left over after eating breakfast and baking muffins.\n",
    "eggs_leftover = eggs_per_day - eggs_for_breakfast - eggs_for_muffins\n",
    "\n",
    "# Calculate the amount of money Janet makes selling her eggs.\n",
    "eggs_money = eggs_leftover * eggs_price\n",
    "\n",
    "# Print the number of eggs Janet has left over after eating breakfast and baking muffins.\n",
    "print(\"Janet has \" + str(eggs_leftover) + \" eggs left over after eating breakfast and baking muffins.\")\n",
    "\n",
    "# Print the amount of money Janet makes selling her eggs.\n",
    "print(\"Janet makes $\" + str(eggs_money) + \" selling her eggs.\")"
   ]
  },
  {
   "cell_type": "code",
   "execution_count": null,
   "id": "5897b3e9",
   "metadata": {},
   "outputs": [],
   "source": []
  }
 ],
 "metadata": {
  "kernelspec": {
   "display_name": "Python 3.8.13 64-bit ('shims')",
   "language": "python",
   "name": "python3"
  },
  "language_info": {
   "codemirror_mode": {
    "name": "ipython",
    "version": 3
   },
   "file_extension": ".py",
   "mimetype": "text/x-python",
   "name": "python",
   "nbconvert_exporter": "python",
   "pygments_lexer": "ipython3",
   "version": "3.8.13"
  },
  "vscode": {
   "interpreter": {
    "hash": "9ac03a0a6051494cc606d484d27d20fce22fb7b4d169f583271e11d5ba46a56e"
   }
  }
 },
 "nbformat": 4,
 "nbformat_minor": 5
}
