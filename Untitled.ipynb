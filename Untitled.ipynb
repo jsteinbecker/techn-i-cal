{
 "cells": [
  {
   "cell_type": "code",
   "execution_count": 1,
   "id": "c0a353bb",
   "metadata": {},
   "outputs": [],
   "source": [
    "import django \n",
    "import os\n",
    "os.environ[\"DJANGO_ALLOW_ASYNC_UNSAFE\"] = \"true\"\n",
    "django.setup()\n",
    "from sch.models import *\n",
    "import datetime as dt"
   ]
  },
  {
   "cell_type": "code",
   "execution_count": 2,
   "id": "8cd541c6",
   "metadata": {},
   "outputs": [],
   "source": [
    "from sch.actions import *"
   ]
  },
  {
   "cell_type": "code",
   "execution_count": 22,
   "id": "f6640332",
   "metadata": {},
   "outputs": [
    {
     "data": {
      "text/plain": [
       "<EmployeeManager [<Employee: Sabrina>, <Employee: Jaden>, <Employee: Trisha>, <Employee: Danica>, <Employee: Tiffany>, <Employee: David>]>"
      ]
     },
     "execution_count": 22,
     "metadata": {},
     "output_type": "execute_result"
    }
   ],
   "source": [
    "emps = Employee.objects.in_other_slot(workday=Workday.objects.get(slug='2022-10-31'),shift=Shift.objects.get(name='7C'))\n",
    "emps = emps.filter(shifts_trained=Shift.objects.get(name='7C'))\n",
    "emps"
   ]
  },
  {
   "cell_type": "code",
   "execution_count": 28,
   "id": "0a591e81",
   "metadata": {},
   "outputs": [
    {
     "data": {
      "text/plain": [
       "28"
      ]
     },
     "execution_count": 28,
     "metadata": {},
     "output_type": "execute_result"
    }
   ],
   "source": [
    "shiftsPerWeek = 0\n",
    "for sft in Shift.objects.filter(start__hour__gte=10, cls='CPhT').values_list('occur_days',flat=True):\n",
    "    shiftsPerWeek += len(sft)\n",
    "shiftsPerWeek"
   ]
  },
  {
   "cell_type": "code",
   "execution_count": 33,
   "id": "2215d9f9",
   "metadata": {},
   "outputs": [
    {
     "data": {
      "text/plain": [
       "42"
      ]
     },
     "execution_count": 33,
     "metadata": {},
     "output_type": "execute_result"
    }
   ],
   "source": []
  },
  {
   "cell_type": "code",
   "execution_count": 36,
   "id": "db89552a",
   "metadata": {},
   "outputs": [
    {
     "name": "stdout",
     "output_type": "stream",
     "text": [
      "Josh 0.0\n",
      "Sabrina 0.0\n",
      "Brianna 0.0\n",
      "Molly 33.33333333333333\n",
      "Doug 50.0\n",
      "Brittanie 0.0\n",
      "Esperanza 0.0\n",
      "Carrie 0.0\n",
      "Elisia 87.5\n",
      "Jaden 38.095238095238095\n",
      "Lynlee 26.08695652173913\n",
      "Carol 25.0\n",
      "Trisha 6.666666666666667\n",
      "Danica 100.0\n",
      "Tiffany 54.166666666666664\n",
      "Brianna S 0.0\n",
      "Amanda 100.0\n",
      "Michael 100.0\n",
      "Mona 100.0\n",
      "Mary 100.0\n",
      "Mark B 100.0\n",
      "Andrew 52.17391304347826\n",
      "Mei 100.0\n",
      "Tony 100.0\n",
      "Sam 25.0\n",
      "David 79.16666666666666\n",
      "Nicki 58.333333333333336\n",
      "Kristen 52.17391304347826\n",
      "Shawn 0.0\n",
      "Alex 25.0\n"
     ]
    }
   ],
   "source": [
    "for emp in Employee.objects.all():\n",
    "    if Slot.objects.filter(employee=emp).exists():\n",
    "        print(emp,Slot.objects.filter(employee=emp,shift__start__hour__gte=10).count()/Slot.objects.filter(employee=emp).count()*100)"
   ]
  },
  {
   "cell_type": "code",
   "execution_count": 23,
   "id": "c457a1da",
   "metadata": {},
   "outputs": [
    {
     "name": "stdout",
     "output_type": "stream",
     "text": [
      "221027-MI Jaden\n",
      "221027-7P Brianna\n",
      "221027-7C Sabrina\n",
      "221027-OP Brittanie\n",
      "221027-S Esperanza\n",
      "221027-EI Nicki\n",
      "221027-EP Elisia\n",
      "221027-3 Danica\n",
      "221027-N Michael\n"
     ]
    }
   ],
   "source": [
    "today = Workday.objects.get(date=dt.date.today())\n",
    "today_slots = Slot.objects.filter(workday=today).order_by('shift__start')\n",
    "for slot in today_slots:\n",
    "    if slot.employee.cls == \"CPhT\":\n",
    "        print (slot)"
   ]
  },
  {
   "cell_type": "code",
   "execution_count": 5,
   "id": "20e9b889",
   "metadata": {},
   "outputs": [
    {
     "name": "stdout",
     "output_type": "stream",
     "text": [
      "221027-I Andrew\n",
      "221027-PC Lynlee\n",
      "221027-RS Molly\n",
      "221027-M Doug\n",
      "221027-MO Brianna S\n",
      "221027-E Tony\n",
      "221027-RN Mary\n"
     ]
    }
   ],
   "source": [
    "for slot in today_slots:\n",
    "    if slot.employee.cls == \"RPh\":\n",
    "        print (slot)"
   ]
  },
  {
   "cell_type": "code",
   "execution_count": 6,
   "id": "f0150f4e",
   "metadata": {},
   "outputs": [
    {
     "name": "stdout",
     "output_type": "stream",
     "text": [
      "221023-7C Nicki\n",
      "221025-EP Nicki\n",
      "221027-EI Nicki\n",
      "221028-MI Nicki\n",
      "221024-7C David\n",
      "221025-EI David\n",
      "221029-EP David\n",
      "221023-M Sam\n",
      "221024-M Sam\n",
      "221026-RS Sam\n",
      "221028-RS Sam\n",
      "221023-R3 Tony\n",
      "221024-E Tony\n",
      "221025-E Tony\n",
      "221027-E Tony\n",
      "221023-C Mei\n",
      "221024-C Mei\n",
      "221025-C Mei\n",
      "221026-C Mei\n",
      "221024-RS Andrew\n"
     ]
    }
   ],
   "source": [
    "weekWds = today.siblings_iweek\n",
    "weekSlots = Slot.objects.filter(workday__in=weekWds).order_by('-employee')\n",
    "for slot in weekSlots[:20]:\n",
    "    print(slot)"
   ]
  },
  {
   "cell_type": "code",
   "execution_count": 7,
   "id": "da43b2f5",
   "metadata": {},
   "outputs": [],
   "source": [
    "def getTradableSlots(slot):\n",
    "    print('INPUT: ', slot)\n",
    "    emp = slot.employee\n",
    "    sft = slot.shift\n",
    "    wd = slot.workday\n",
    "    weekdays = slot.workday.siblings_iweek\n",
    "    daysOn = Slot.objects.filter(workday__in = weekdays,employee = emp).values('workday').distinct()\n",
    "    daysOff = weekdays.exclude(pk__in=daysOn)\n",
    "    print('daysOff:',list(daysOff.values_list('date__day',flat=True)))\n",
    "    tenable = []\n",
    "    slotDaysOff = Slot.objects.filter(workday__in=daysOff, shift__in=emp.shifts_available.all()).order_by('workday')\n",
    "    print(slotDaysOff)\n",
    "    for slotB in slotDaysOff:\n",
    "        if emp in slot.fillableBy():\n",
    "            if slotB.employee in slot.fillableBy():\n",
    "                tenable.append(slotB)\n",
    "    print('tenableTrades:',len(tenable),[f'{i.shift}>{i.workday.date.day}' for i in tenable])\n",
    "    return tenable\n",
    "\n"
   ]
  },
  {
   "cell_type": "code",
   "execution_count": 8,
   "id": "cc9377c9",
   "metadata": {},
   "outputs": [
    {
     "name": "stdout",
     "output_type": "stream",
     "text": [
      "-------------\n",
      "0\n",
      "INPUT:  221026-7P Trisha\n",
      "daysOff: [23, 24, 25, 27]\n",
      "<SlotManager [<Slot: 221023-MI Josh>, <Slot: 221023-7C Nicki>, <Slot: 221023-7P Sabrina>, <Slot: 221023-EI Elisia>, <Slot: 221023-EP Jaden>, <Slot: 221023-3 Mona>, <Slot: 221023-N Amanda>, <Slot: 221024-MI Brianna>, <Slot: 221024-S Jaden>, <Slot: 221024-7C David>, <Slot: 221024-7P Esperanza>, <Slot: 221024-OP Brittanie>, <Slot: 221024-EI Elisia>, <Slot: 221024-EP Tiffany>, <Slot: 221024-3 Mona>, <Slot: 221024-N Amanda>, <Slot: 221025-MI Esperanza>, <Slot: 221025-S Tiffany>, <Slot: 221025-7P Brianna>, <Slot: 221025-OP Brittanie>, '...(remaining elements truncated)...']>\n",
      "tenableTrades: 8 ['MI>23', 'MI>24', '7P>24', 'MI>25', '7P>25', 'MI>27', 'S>27', '7P>27']\n",
      "-------------\n",
      "0\n",
      "INPUT:  221028-EP Trisha\n",
      "daysOff: [23, 24, 25, 27]\n",
      "<SlotManager [<Slot: 221023-MI Josh>, <Slot: 221023-7C Nicki>, <Slot: 221023-7P Sabrina>, <Slot: 221023-EI Elisia>, <Slot: 221023-EP Jaden>, <Slot: 221023-3 Mona>, <Slot: 221023-N Amanda>, <Slot: 221024-MI Brianna>, <Slot: 221024-S Jaden>, <Slot: 221024-7C David>, <Slot: 221024-7P Esperanza>, <Slot: 221024-OP Brittanie>, <Slot: 221024-EI Elisia>, <Slot: 221024-EP Tiffany>, <Slot: 221024-3 Mona>, <Slot: 221024-N Amanda>, <Slot: 221025-MI Esperanza>, <Slot: 221025-S Tiffany>, <Slot: 221025-7P Brianna>, <Slot: 221025-OP Brittanie>, '...(remaining elements truncated)...']>\n",
      "tenableTrades: 0 []\n",
      "-------------\n",
      "1\n",
      "INPUT:  221029-MI Trisha\n",
      "daysOff: [23, 24, 25, 27]\n",
      "<SlotManager [<Slot: 221023-MI Josh>, <Slot: 221023-7C Nicki>, <Slot: 221023-7P Sabrina>, <Slot: 221023-EI Elisia>, <Slot: 221023-EP Jaden>, <Slot: 221023-3 Mona>, <Slot: 221023-N Amanda>, <Slot: 221024-MI Brianna>, <Slot: 221024-S Jaden>, <Slot: 221024-7C David>, <Slot: 221024-7P Esperanza>, <Slot: 221024-OP Brittanie>, <Slot: 221024-EI Elisia>, <Slot: 221024-EP Tiffany>, <Slot: 221024-3 Mona>, <Slot: 221024-N Amanda>, <Slot: 221025-MI Esperanza>, <Slot: 221025-S Tiffany>, <Slot: 221025-7P Brianna>, <Slot: 221025-OP Brittanie>, '...(remaining elements truncated)...']>\n",
      "tenableTrades: 0 []\n"
     ]
    }
   ],
   "source": [
    "slots = Slot.objects.filter(employee__name=\"Trisha\",workday__iweek=43,workday__date__year=2022)\n",
    "for slot in slots:\n",
    "    print('-------------')\n",
    "    print(slot.is_turnaround)\n",
    "    getTradableSlots(slot)"
   ]
  },
  {
   "cell_type": "code",
   "execution_count": 9,
   "id": "543fa934",
   "metadata": {},
   "outputs": [
    {
     "name": "stdout",
     "output_type": "stream",
     "text": [
      "INPUT:  221101-EI Nicki\n",
      "daysOff: [3, 4, 5]\n",
      "<SlotManager [<Slot: 221103-MI Sabrina>, <Slot: 221103-7C Josh>, <Slot: 221103-EI Jaden>, <Slot: 221103-EP Trisha>, <Slot: 221103-3 Mona>, <Slot: 221104-MI Trisha>, <Slot: 221104-7C Sabrina>, <Slot: 221104-EI Tiffany>, <Slot: 221104-EP David>, <Slot: 221104-3 Mona>, <Slot: 221105-MI Josh>, <Slot: 221105-7C Esperanza>, <Slot: 221105-EI Tiffany>, <Slot: 221105-EP David>, <Slot: 221105-3 Mona>]>\n",
      "tenableTrades: 0 []\n"
     ]
    },
    {
     "data": {
      "text/plain": [
       "[]"
      ]
     },
     "execution_count": 9,
     "metadata": {},
     "output_type": "execute_result"
    }
   ],
   "source": [
    "ta = Slot.objects.filter(is_turnaround=True)\n",
    "pta = Slot.objects.filter(workday=ta[0].workday.prevWD(),employee=ta[0].employee)\n",
    "ta, pta\n",
    "getTradableSlots(pta[0])"
   ]
  },
  {
   "cell_type": "code",
   "execution_count": 10,
   "id": "da3622f0",
   "metadata": {},
   "outputs": [],
   "source": [
    "for slot in Slot.objects.all():\n",
    "    slot.save()"
   ]
  },
  {
   "cell_type": "code",
   "execution_count": 11,
   "id": "be66339b",
   "metadata": {},
   "outputs": [
    {
     "name": "stdout",
     "output_type": "stream",
     "text": [
      "2022 08 21 None\n",
      "2022 08 22 None\n",
      "2022 08 23 None\n",
      "2022 08 24 None\n",
      "2022 08 25 None\n",
      "2022 08 26 None\n",
      "2022 08 27 None\n",
      "2022 08 28 None\n",
      "2022 08 29 None\n",
      "2022 08 30 None\n",
      "2022 08 31 None\n",
      "2022 09 01 None\n",
      "2022 09 02 None\n",
      "2022 09 03 None\n"
     ]
    }
   ],
   "source": [
    "for wd in Workday.objects.filter(iperiod=17):\n",
    "    print(wd,wd.week)"
   ]
  },
  {
   "cell_type": "code",
   "execution_count": 12,
   "id": "14ec5ce1",
   "metadata": {},
   "outputs": [
    {
     "data": {
      "text/plain": [
       "<WorkdayManager [<Workday: 2022 01 01>, <Workday: 2022 01 02>, <Workday: 2022 01 03>, <Workday: 2022 01 04>, <Workday: 2022 01 05>, <Workday: 2022 01 06>, <Workday: 2022 01 07>, <Workday: 2022 01 08>, <Workday: 2022 01 09>, <Workday: 2022 01 10>, <Workday: 2022 01 11>, <Workday: 2022 01 12>, <Workday: 2022 01 13>, <Workday: 2022 01 14>, <Workday: 2022 01 15>, <Workday: 2022 01 16>, <Workday: 2022 01 17>, <Workday: 2022 01 18>, <Workday: 2022 01 19>, <Workday: 2022 01 20>, '...(remaining elements truncated)...']>"
      ]
     },
     "execution_count": 12,
     "metadata": {},
     "output_type": "execute_result"
    }
   ],
   "source": [
    "Workday.objects.all()"
   ]
  },
  {
   "cell_type": "code",
   "execution_count": null,
   "id": "be12b210",
   "metadata": {},
   "outputs": [],
   "source": []
  }
 ],
 "metadata": {
  "kernelspec": {
   "display_name": "Python 3.8.13 64-bit ('shims')",
   "language": "python",
   "name": "python3"
  },
  "language_info": {
   "codemirror_mode": {
    "name": "ipython",
    "version": 3
   },
   "file_extension": ".py",
   "mimetype": "text/x-python",
   "name": "python",
   "nbconvert_exporter": "python",
   "pygments_lexer": "ipython3",
   "version": "3.8.13"
  },
  "vscode": {
   "interpreter": {
    "hash": "9ac03a0a6051494cc606d484d27d20fce22fb7b4d169f583271e11d5ba46a56e"
   }
  }
 },
 "nbformat": 4,
 "nbformat_minor": 5
}
