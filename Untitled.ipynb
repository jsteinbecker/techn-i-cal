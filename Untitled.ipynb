{
 "cells": [
  {
   "cell_type": "code",
   "execution_count": 1,
   "id": "c0a353bb",
   "metadata": {},
   "outputs": [],
   "source": [
    "import django \n",
    "import os\n",
    "os.environ[\"DJANGO_ALLOW_ASYNC_UNSAFE\"] = \"true\"\n",
    "django.setup()\n",
    "from sch.models import *\n",
    "import datetime as dt\n",
    "from django.db.models import CharField\n",
    "from sch.actions import *\n",
    "from sch.xviews import week"
   ]
  },
  {
   "cell_type": "code",
   "execution_count": 2,
   "id": "8cd541c6",
   "metadata": {
    "tags": []
   },
   "outputs": [],
   "source": [
    "from sch.actions import *\n",
    "from sch.xviews import week"
   ]
  },
  {
   "cell_type": "code",
   "execution_count": 3,
   "id": "019f99a9",
   "metadata": {},
   "outputs": [
    {
     "data": {
      "text/plain": [
       "<WorkdayManager [<Workday: 2022 10 16>, <Workday: 2022 10 17>, <Workday: 2022 10 18>, <Workday: 2022 10 19>, <Workday: 2022 10 20>, <Workday: 2022 10 21>, <Workday: 2022 10 22>]>"
      ]
     },
     "execution_count": 3,
     "metadata": {},
     "output_type": "execute_result"
    }
   ],
   "source": [
    "week.get_days(\"2022-W42\")"
   ]
  },
  {
   "cell_type": "code",
   "execution_count": 4,
   "id": "f6640332",
   "metadata": {},
   "outputs": [
    {
     "data": {
      "text/plain": [
       "<EmployeeManager [<Employee: Josh>, <Employee: Brianna>, <Employee: Elisia>, <Employee: Trisha>, <Employee: Danica>, <Employee: Tiffany>]>"
      ]
     },
     "execution_count": 4,
     "metadata": {},
     "output_type": "execute_result"
    }
   ],
   "source": [
    "emps = Employee.objects.in_other_slot(workday=Workday.objects.get(slug='2022-10-31'),shift=Shift.objects.get(name='7C'))\n",
    "emps = emps.filter(shifts_trained=Shift.objects.get(name='7C'))\n",
    "emps"
   ]
  },
  {
   "cell_type": "code",
   "execution_count": 5,
   "id": "0a591e81",
   "metadata": {},
   "outputs": [
    {
     "data": {
      "text/plain": [
       "28"
      ]
     },
     "execution_count": 5,
     "metadata": {},
     "output_type": "execute_result"
    }
   ],
   "source": [
    "shiftsPerWeek = 0\n",
    "for sft in Shift.objects.filter(start__hour__gte=10, cls='CPhT').values_list('occur_days',flat=True):\n",
    "    shiftsPerWeek += len(sft)\n",
    "shiftsPerWeek"
   ]
  },
  {
   "cell_type": "code",
   "execution_count": null,
   "id": "2215d9f9",
   "metadata": {},
   "outputs": [],
   "source": []
  },
  {
   "cell_type": "code",
   "execution_count": 6,
   "id": "db89552a",
   "metadata": {},
   "outputs": [
    {
     "name": "stdout",
     "output_type": "stream",
     "text": [
      "Josh 10.0\n",
      "Sabrina 12.903225806451612\n",
      "Brianna 0.0\n",
      "Molly 32.35294117647059\n",
      "Doug 34.146341463414636\n",
      "Brittanie 0.0\n",
      "Esperanza 2.3255813953488373\n",
      "Carrie 22.727272727272727\n",
      "Elisia 83.78378378378379\n",
      "Jaden 46.51162790697674\n",
      "Lynlee 24.324324324324326\n",
      "Carol 36.84210526315789\n",
      "Trisha 28.000000000000004\n",
      "Danica 100.0\n",
      "Tiffany 33.33333333333333\n",
      "Brianna S 0.0\n",
      "Amanda 100.0\n",
      "Michael 100.0\n",
      "Mona 100.0\n",
      "Mary 100.0\n",
      "Mark B 100.0\n",
      "Andrew 41.46341463414634\n",
      "Mei 100.0\n",
      "Tony 100.0\n",
      "Sam 34.883720930232556\n",
      "David 60.97560975609756\n",
      "Nicki 42.5\n",
      "Kristen 65.625\n",
      "Shaun 15.0\n",
      "Alex 47.5\n",
      "Leslie 0.0\n",
      "Kat 43.75\n",
      "Bara 100.0\n",
      "Erin 0.0\n",
      "Dianne 100.0\n",
      "Cheryl 66.66666666666666\n",
      "Corwin 0.0\n"
     ]
    }
   ],
   "source": [
    "for emp in Employee.objects.all():\n",
    "    if Slot.objects.filter(employee=emp).exists():\n",
    "        print(emp,Slot.objects.filter(employee=emp,shift__start__hour__gte=10).count()/Slot.objects.filter(employee=emp).count()*100)"
   ]
  },
  {
   "cell_type": "code",
   "execution_count": 7,
   "id": "c457a1da",
   "metadata": {},
   "outputs": [
    {
     "name": "stdout",
     "output_type": "stream",
     "text": [
      "221106-7P Esperanza\n",
      "221106-EI David\n",
      "221106-3 Mona\n",
      "221106-N Amanda\n"
     ]
    }
   ],
   "source": [
    "today = Workday.objects.get(date=dt.date.today())\n",
    "today_slots = Slot.objects.filter(workday=today).order_by('shift__start')\n",
    "for slot in today_slots:\n",
    "    if slot.employee.cls == \"CPhT\":\n",
    "        print (slot)"
   ]
  },
  {
   "cell_type": "code",
   "execution_count": 9,
   "id": "f0150f4e",
   "metadata": {},
   "outputs": [
    {
     "name": "stdout",
     "output_type": "stream",
     "text": [
      "221106-RS Corwin\n",
      "221107-MI Cheryl\n",
      "221108-EI Cheryl\n",
      "221110-EI Cheryl\n",
      "221111-EI Cheryl\n",
      "221109-RS Erin\n",
      "221110-M Kat\n",
      "221111-PC Kat\n",
      "221111-7C Leslie\n",
      "221107-RS Alex\n",
      "221108-R3 Alex\n",
      "221110-R3 Alex\n",
      "221107-C Shaun\n",
      "221108-E Shaun\n",
      "221112-I Shaun\n",
      "221106-M Kristen\n",
      "221108-M Kristen\n",
      "221109-R3 Kristen\n",
      "221110-E Kristen\n",
      "221107-7C Nicki\n"
     ]
    }
   ],
   "source": [
    "weekWds = today.siblings_iweek\n",
    "weekSlots = Slot.objects.filter(workday__in=weekWds).order_by('-employee')\n",
    "for slot in weekSlots[:20]:\n",
    "    print(slot)"
   ]
  },
  {
   "cell_type": "code",
   "execution_count": 10,
   "id": "da43b2f5",
   "metadata": {},
   "outputs": [],
   "source": [
    "def getTradableSlots(slot):\n",
    "    print('INPUT: ', slot)\n",
    "    emp = slot.employee\n",
    "    sft = slot.shift\n",
    "    wd = slot.workday\n",
    "    weekdays = slot.workday.siblings_iweek\n",
    "    daysOn = Slot.objects.filter(workday__in = weekdays,employee = emp).values('workday').distinct()\n",
    "    daysOff = weekdays.exclude(pk__in=daysOn)\n",
    "    print('daysOff:',list(daysOff.values_list('date__day',flat=True)))\n",
    "    tenable = []\n",
    "    slotDaysOff = Slot.objects.filter(workday__in=daysOff, shift__in=emp.shifts_available.all()).order_by('workday')\n",
    "    print(slotDaysOff)\n",
    "    for slotB in slotDaysOff:\n",
    "        if emp in slot.fillableBy():\n",
    "            if slotB.employee in slot.fillableBy():\n",
    "                tenable.append(slotB)\n",
    "    print('tenableTrades:',len(tenable),[f'{i.shift}>{i.workday.date.day}' for i in tenable])\n",
    "    return tenable\n",
    "\n"
   ]
  },
  {
   "cell_type": "code",
   "execution_count": 11,
   "id": "cc9377c9",
   "metadata": {},
   "outputs": [
    {
     "name": "stdout",
     "output_type": "stream",
     "text": [
      "-------------\n",
      "0\n",
      "INPUT:  221026-7P Trisha\n",
      "daysOff: [24, 27, 28, 29]\n",
      "<SlotManager [<Slot: 221024-MI Cheryl>, <Slot: 221024-S Jaden>, <Slot: 221024-7C None>, <Slot: 221024-7P Josh>, <Slot: 221024-OP Brittanie>, <Slot: 221024-EI David>, <Slot: 221024-EP Nicki>, <Slot: 221024-3 Mona>, <Slot: 221024-N Amanda>, <Slot: 221027-MI Elisia>, <Slot: 221027-S Tiffany>, <Slot: 221027-7C Nicki>, <Slot: 221027-7P Sabrina>, <Slot: 221027-OP Brittanie>, <Slot: 221027-EI Jaden>, <Slot: 221027-EP David>, <Slot: 221027-3 Danica>, <Slot: 221027-N Michael>, <Slot: 221028-MI Josh>, <Slot: 221028-S Esperanza>, '...(remaining elements truncated)...']>\n",
      "tenableTrades: 6 ['7P>24', '7P>27', 'MI>28', 'S>28', '7C>28', '7C>29']\n",
      "-------------\n",
      "0\n",
      "INPUT:  221023-EP Trisha\n",
      "daysOff: [24, 27, 28, 29]\n",
      "<SlotManager [<Slot: 221024-MI Cheryl>, <Slot: 221024-S Jaden>, <Slot: 221024-7C None>, <Slot: 221024-7P Josh>, <Slot: 221024-OP Brittanie>, <Slot: 221024-EI David>, <Slot: 221024-EP Nicki>, <Slot: 221024-3 Mona>, <Slot: 221024-N Amanda>, <Slot: 221027-MI Elisia>, <Slot: 221027-S Tiffany>, <Slot: 221027-7C Nicki>, <Slot: 221027-7P Sabrina>, <Slot: 221027-OP Brittanie>, <Slot: 221027-EI Jaden>, <Slot: 221027-EP David>, <Slot: 221027-3 Danica>, <Slot: 221027-N Michael>, <Slot: 221028-MI Josh>, <Slot: 221028-S Esperanza>, '...(remaining elements truncated)...']>\n",
      "tenableTrades: 0 []\n",
      "-------------\n",
      "0\n",
      "INPUT:  221025-7C Trisha\n",
      "daysOff: [24, 27, 28, 29]\n",
      "<SlotManager [<Slot: 221024-MI Cheryl>, <Slot: 221024-S Jaden>, <Slot: 221024-7C None>, <Slot: 221024-7P Josh>, <Slot: 221024-OP Brittanie>, <Slot: 221024-EI David>, <Slot: 221024-EP Nicki>, <Slot: 221024-3 Mona>, <Slot: 221024-N Amanda>, <Slot: 221027-MI Elisia>, <Slot: 221027-S Tiffany>, <Slot: 221027-7C Nicki>, <Slot: 221027-7P Sabrina>, <Slot: 221027-OP Brittanie>, <Slot: 221027-EI Jaden>, <Slot: 221027-EP David>, <Slot: 221027-3 Danica>, <Slot: 221027-N Michael>, <Slot: 221028-MI Josh>, <Slot: 221028-S Esperanza>, '...(remaining elements truncated)...']>\n",
      "tenableTrades: 9 ['7P>24', '3>27', 'MI>28', 'S>28', '7P>28', '3>28', '7C>29', '7P>29', '3>29']\n"
     ]
    }
   ],
   "source": [
    "slots = Slot.objects.filter(employee__name=\"Trisha\",workday__iweek=43,workday__date__year=2022)\n",
    "for slot in slots:\n",
    "    print('-------------')\n",
    "    print(slot.is_turnaround)\n",
    "    getTradableSlots(slot)"
   ]
  },
  {
   "cell_type": "code",
   "execution_count": 19,
   "id": "543fa934",
   "metadata": {},
   "outputs": [
    {
     "data": {
      "text/plain": [
       "<SlotManager [<Slot: 221016-MI Tiffany>, <Slot: 221016-I Carrie>, <Slot: 221016-7P Brianna>, <Slot: 221016-3 Danica>, <Slot: 221016-R3 Andrew>, <Slot: 221016-RN Mary>, <Slot: 221016-EI David>, <Slot: 221016-7C Nicki>, <Slot: 221016-RS Sam>, <Slot: 221016-EP Elisia>, <Slot: 221017-7P Brianna>, <Slot: 221017-OP Brittanie>, <Slot: 221017-MO Brianna S>, <Slot: 221017-3 Danica>, <Slot: 221017-RN Mary>, <Slot: 221017-S Trisha>, <Slot: 221017-I Shaun>, <Slot: 221017-N Sam>, <Slot: 221017-EI Cheryl>, <Slot: 221017-7C Tiffany>, '...(remaining elements truncated)...']>"
      ]
     },
     "execution_count": 19,
     "metadata": {},
     "output_type": "execute_result"
    }
   ],
   "source": [
    "wds = Workday.objects.filter(date__year=2022,ischedule=7)\n",
    "ss = Slot.objects.filter(workday__in=wds)\n",
    "ss"
   ]
  },
  {
   "cell_type": "code",
   "execution_count": null,
   "id": "da3622f0",
   "metadata": {},
   "outputs": [],
   "source": [
    "for slot in Slot.objects.all():\n",
    "    slot.save()"
   ]
  },
  {
   "cell_type": "code",
   "execution_count": 23,
   "id": "be66339b",
   "metadata": {},
   "outputs": [
    {
     "name": "stdout",
     "output_type": "stream",
     "text": [
      "2022 10 30 None\n",
      "2022 10 31 None\n",
      "2022 11 01 None\n",
      "2022 11 02 None\n",
      "2022 11 03 None\n",
      "2022 11 04 None\n",
      "2022 11 05 None\n"
     ]
    }
   ],
   "source": [
    "for wd in Workday.objects.filter(iweek=44):\n",
    "    print(wd,wd.week)"
   ]
  },
  {
   "cell_type": "code",
   "execution_count": null,
   "id": "14ec5ce1",
   "metadata": {},
   "outputs": [
    {
     "data": {
      "text/plain": [
       "366"
      ]
     },
     "execution_count": 21,
     "metadata": {},
     "output_type": "execute_result"
    }
   ],
   "source": [
    "Workday.objects.all().count()"
   ]
  },
  {
   "cell_type": "code",
   "execution_count": null,
   "id": "be12b210",
   "metadata": {},
   "outputs": [],
   "source": [
    "from django import forms\n",
    "import datetime as dt\n",
    "class ArticleForm(forms.Form):\n",
    "     title = forms.CharField()\n",
    "     pub_date = forms.DateField()"
   ]
  },
  {
   "cell_type": "code",
   "execution_count": null,
   "id": "ea485bfd",
   "metadata": {},
   "outputs": [
    {
     "name": "stdout",
     "output_type": "stream",
     "text": [
      "Janet has 9 eggs left over after eating breakfast and baking muffins.\n",
      "Janet makes $18 selling her eggs.\n"
     ]
    }
   ],
   "source": [
    "\"\"\" \n",
    "Janet’s ducks lay 16 eggs per day. She eats three for breakfast \n",
    "every morning and bakes muffins for her friends every day with \n",
    "four. She sells the remainder for $2 per egg. How much does she\n",
    "make every day? SHOW YOUR CALCULATIONS\n",
    "\"\"\"\n",
    "\n",
    "# Define the number of eggs Janet's ducks lay per day.\n",
    "eggs_per_day = 16\n",
    "\n",
    "# Define the number of eggs Janet eats for breakfast every morning.\n",
    "eggs_for_breakfast = 3\n",
    "\n",
    "# Define the number of eggs Janet uses to bake muffins for her friends every day.\n",
    "eggs_for_muffins = 4\n",
    "\n",
    "# Define the price Janet sells her eggs for.\n",
    "eggs_price = 2\n",
    "\n",
    "# Calculate the number of eggs Janet has left over after eating breakfast and baking muffins.\n",
    "eggs_leftover = eggs_per_day - eggs_for_breakfast - eggs_for_muffins\n",
    "\n",
    "# Calculate the amount of money Janet makes selling her eggs.\n",
    "eggs_money = eggs_leftover * eggs_price\n",
    "\n",
    "# Print the number of eggs Janet has left over after eating breakfast and baking muffins.\n",
    "print(\"Janet has \" + str(eggs_leftover) + \" eggs left over after eating breakfast and baking muffins.\")\n",
    "\n",
    "# Print the amount of money Janet makes selling her eggs.\n",
    "print(\"Janet makes $\" + str(eggs_money) + \" selling her eggs.\")"
   ]
  },
  {
   "cell_type": "code",
   "execution_count": 10,
   "id": "5897b3e9",
   "metadata": {},
   "outputs": [],
   "source": []
  },
  {
   "cell_type": "code",
   "execution_count": null,
   "id": "45e4264f",
   "metadata": {},
   "outputs": [],
   "source": []
  }
 ],
 "metadata": {
  "kernelspec": {
   "display_name": "Python 3.8.13 64-bit ('shims')",
   "language": "python",
   "name": "python3"
  },
  "language_info": {
   "codemirror_mode": {
    "name": "ipython",
    "version": 3
   },
   "file_extension": ".py",
   "mimetype": "text/x-python",
   "name": "python",
   "nbconvert_exporter": "python",
   "pygments_lexer": "ipython3",
   "version": "3.8.13"
  },
  "vscode": {
   "interpreter": {
    "hash": "9ac03a0a6051494cc606d484d27d20fce22fb7b4d169f583271e11d5ba46a56e"
   }
  }
 },
 "nbformat": 4,
 "nbformat_minor": 5
}
