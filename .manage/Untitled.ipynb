{
 "cells": [
  {
   "cell_type": "code",
   "execution_count": 1,
   "id": "c0a353bb",
   "metadata": {},
   "outputs": [],
   "source": [
    "import django \n",
    "import os\n",
    "os.environ[\"DJANGO_ALLOW_ASYNC_UNSAFE\"] = \"true\"\n",
    "django.setup()\n",
    "from sch.models import *\n",
    "import datetime as dt\n",
    "from django.db.models import CharField\n",
    "from sch.actions import *\n",
    "from sch.xviews import week"
   ]
  },
  {
   "cell_type": "code",
   "execution_count": 2,
   "id": "8cd541c6",
   "metadata": {
    "tags": []
   },
   "outputs": [],
   "source": [
    "from sch.actions import *\n",
    "from sch.xviews import week"
   ]
  },
  {
   "cell_type": "code",
   "execution_count": 3,
   "id": "019f99a9",
   "metadata": {},
   "outputs": [
    {
     "data": {
      "text/plain": [
       "<WorkdayManager [<Workday: 2022 10 16>, <Workday: 2022 10 17>, <Workday: 2022 10 18>, <Workday: 2022 10 19>, <Workday: 2022 10 20>, <Workday: 2022 10 21>, <Workday: 2022 10 22>]>"
      ]
     },
     "execution_count": 3,
     "metadata": {},
     "output_type": "execute_result"
    }
   ],
   "source": [
    "week.get_days(\"2022-W42\")"
   ]
  },
  {
   "cell_type": "code",
   "execution_count": 4,
   "id": "f6640332",
   "metadata": {},
   "outputs": [
    {
     "data": {
      "text/plain": [
       "<EmployeeManager [<Employee: Josh>, <Employee: Brianna>, <Employee: Danica>, <Employee: David>]>"
      ]
     },
     "execution_count": 4,
     "metadata": {},
     "output_type": "execute_result"
    }
   ],
   "source": [
    "emps = Employee.objects.in_other_slot(workday=Workday.objects.get(slug='2022-10-31'),shift=Shift.objects.get(name='7C'))\n",
    "emps = emps.filter(shifts_trained=Shift.objects.get(name='7C'))\n",
    "emps"
   ]
  },
  {
   "cell_type": "code",
   "execution_count": 5,
   "id": "0a591e81",
   "metadata": {},
   "outputs": [
    {
     "data": {
      "text/plain": [
       "21"
      ]
     },
     "execution_count": 5,
     "metadata": {},
     "output_type": "execute_result"
    }
   ],
   "source": [
    "shiftsPerWeek = 0\n",
    "for sft in Shift.objects.filter(start__hour__gte=10, cls='CPhT').values_list('occur_days',flat=True):\n",
    "    shiftsPerWeek += len(sft)\n",
    "shiftsPerWeek"
   ]
  },
  {
   "cell_type": "code",
   "execution_count": null,
   "id": "2215d9f9",
   "metadata": {},
   "outputs": [],
   "source": []
  },
  {
   "cell_type": "code",
   "execution_count": 6,
   "id": "db89552a",
   "metadata": {},
   "outputs": [
    {
     "data": {
      "text/plain": [
       "['Josh: 6.7% EVENINGS  +',\n",
       " 'Sabrina: 21.7% EVENINGS  +++++',\n",
       " 'Brianna: 0.0% EVENINGS  ',\n",
       " 'Molly: 21.7% EVENINGS  +++++',\n",
       " 'Doug: 24.4% EVENINGS  ++++++',\n",
       " 'Brittanie: 0.0% EVENINGS  ',\n",
       " 'Esperanza: 4.5% EVENINGS  +',\n",
       " 'Carrie: 27.6% EVENINGS  ++++++',\n",
       " 'Elisia: 65.9% EVENINGS  ++++++++++++++++',\n",
       " 'Jaden: 24.0% EVENINGS  ++++++',\n",
       " 'Lynlee: 26.1% EVENINGS  ++++++',\n",
       " 'Carol: 50.0% EVENINGS  ++++++++++++',\n",
       " 'Trisha: 23.8% EVENINGS  +++++',\n",
       " 'Danica: 100.0% EVENINGS  +++++++++++++++++++++++++',\n",
       " 'Tiffany: 26.8% EVENINGS  ++++++',\n",
       " 'Brianna S: 0.0% EVENINGS  ',\n",
       " 'Amanda: 100.0% EVENINGS  +++++++++++++++++++++++++',\n",
       " 'Michael: 100.0% EVENINGS  +++++++++++++++++++++++++',\n",
       " 'Mona: 100.0% EVENINGS  +++++++++++++++++++++++++',\n",
       " 'Mary: 100.0% EVENINGS  +++++++++++++++++++++++++',\n",
       " 'Mark B: 100.0% EVENINGS  +++++++++++++++++++++++++',\n",
       " 'Andrew: 42.2% EVENINGS  ++++++++++',\n",
       " 'Mei: 100.0% EVENINGS  +++++++++++++++++++++++++',\n",
       " 'Tony: 100.0% EVENINGS  +++++++++++++++++++++++++',\n",
       " 'Sam: 45.9% EVENINGS  +++++++++++',\n",
       " 'David: 35.0% EVENINGS  ++++++++',\n",
       " 'Nicki: 42.9% EVENINGS  ++++++++++',\n",
       " 'Kristen: 69.7% EVENINGS  +++++++++++++++++',\n",
       " 'Shaun: 37.8% EVENINGS  +++++++++',\n",
       " 'Alex: 57.1% EVENINGS  ++++++++++++++',\n",
       " 'Leslie: 0.0% EVENINGS  ',\n",
       " 'Kat: 54.1% EVENINGS  +++++++++++++',\n",
       " 'Bara: 100.0% EVENINGS  +++++++++++++++++++++++++',\n",
       " 'Erin: 0.0% EVENINGS  ',\n",
       " 'Dianne: 0.0% EVENINGS  ',\n",
       " 'Cheryl: 45.2% EVENINGS  +++++++++++',\n",
       " 'Corwin: 0.0% EVENINGS  ']"
      ]
     },
     "execution_count": 6,
     "metadata": {},
     "output_type": "execute_result"
    }
   ],
   "source": [
    "NIGHT_PERCENTS = []\n",
    "for emp in Employee.objects.all():\n",
    "    if Slot.objects.filter(employee=emp).exists():\n",
    "        perc = round(Slot.objects.filter(employee=emp,shift__start__hour__gte=10).count()/Slot.objects.filter(employee=emp).count()*100, 1)\n",
    "        NIGHT_PERCENTS += [f\"{emp}: {perc}% EVENINGS  {int(perc/4) *'+'}\"]\n",
    "        \n",
    "NIGHT_PERCENTS\n",
    "        "
   ]
  },
  {
   "cell_type": "code",
   "execution_count": 7,
   "id": "c457a1da",
   "metadata": {},
   "outputs": [
    {
     "name": "stdout",
     "output_type": "stream",
     "text": [
      "221109-MI Elisia\n",
      "221109-7P Esperanza\n",
      "221109-7C Nicki\n",
      "221109-S Brianna\n",
      "221109-OP Brittanie\n",
      "221109-EI Danica\n",
      "221109-EP Mona\n",
      "221109-N Amanda\n"
     ]
    }
   ],
   "source": [
    "today = Workday.objects.get(date=dt.date.today())\n",
    "today_slots = Slot.objects.filter(workday=today).order_by('shift__start')\n",
    "for slot in today_slots:\n",
    "    if slot.employee.cls == \"CPhT\":\n",
    "        print (slot)"
   ]
  },
  {
   "cell_type": "code",
   "execution_count": 8,
   "id": "f0150f4e",
   "metadata": {},
   "outputs": [
    {
     "name": "stdout",
     "output_type": "stream",
     "text": [
      "221106-RS Corwin\n",
      "221106-7C Cheryl\n",
      "221108-7C Cheryl\n",
      "221110-MI Cheryl\n",
      "221111-EP Cheryl\n",
      "221108-RS Erin\n",
      "221109-RS Erin\n",
      "221106-C Kat\n",
      "221110-PC Kat\n",
      "221111-PC Kat\n",
      "221107-RS Alex\n",
      "221108-E Alex\n",
      "221110-E Alex\n",
      "221107-R3 Shaun\n",
      "221108-I Shaun\n",
      "221109-PC Shaun\n",
      "221108-M Kristen\n",
      "221109-E Kristen\n",
      "221111-R3 Kristen\n",
      "221108-MI Nicki\n"
     ]
    }
   ],
   "source": [
    "weekWds = today.siblings_iweek\n",
    "weekSlots = Slot.objects.filter(workday__in=weekWds).order_by('-employee')\n",
    "for slot in weekSlots[:20]:\n",
    "    print(slot)"
   ]
  },
  {
   "cell_type": "code",
   "execution_count": 9,
   "id": "da43b2f5",
   "metadata": {},
   "outputs": [],
   "source": [
    "def getTradableSlots(slot):\n",
    "    print('INPUT: ', slot)\n",
    "    emp = slot.employee\n",
    "    sft = slot.shift\n",
    "    wd = slot.workday\n",
    "    weekdays = slot.workday.siblings_iweek\n",
    "    daysOn = Slot.objects.filter(workday__in = weekdays,employee = emp).values('workday').distinct()\n",
    "    daysOff = weekdays.exclude(pk__in=daysOn)\n",
    "    print('daysOff:',list(daysOff.values_list('date__day',flat=True)))\n",
    "    tenable = []\n",
    "    slotDaysOff = Slot.objects.filter(workday__in=daysOff, shift__in=emp.shifts_available.all()).order_by('workday')\n",
    "    print(slotDaysOff)\n",
    "    for slotB in slotDaysOff:\n",
    "        if emp in slot.fillableBy():\n",
    "            if slotB.employee in slot.fillableBy():\n",
    "                tenable.append(slotB)\n",
    "    print('tenableTrades:',len(tenable),[f'{i.shift}>{i.workday.date.day}' for i in tenable])\n",
    "    return tenable\n",
    "\n"
   ]
  },
  {
   "cell_type": "code",
   "execution_count": 10,
   "id": "cc9377c9",
   "metadata": {},
   "outputs": [
    {
     "name": "stdout",
     "output_type": "stream",
     "text": [
      "-------------\n",
      "0\n",
      "INPUT:  221025-S Trisha\n",
      "daysOff: [23, 24, 26, 28, 29]\n",
      "<SlotManager [<Slot: 221023-7C Josh>, <Slot: 221023-7P Esperanza>, <Slot: 221023-N Amanda>, <Slot: 221024-MI David>, <Slot: 221024-S Jaden>, <Slot: 221024-7C Nicki>, <Slot: 221024-7P Sabrina>, <Slot: 221024-OP Brittanie>, <Slot: 221024-EI Elisia>, <Slot: 221024-EP Cheryl>, <Slot: 221024-N Amanda>, <Slot: 221026-MI Brianna>, <Slot: 221026-S Jaden>, <Slot: 221026-7C Cheryl>, <Slot: 221026-7P Josh>, <Slot: 221026-OP Brittanie>, <Slot: 221026-EI Danica>, <Slot: 221026-EP Mona>, <Slot: 221026-N Amanda>, <Slot: 221028-MI Elisia>, '...(remaining elements truncated)...']>\n",
      "tenableTrades: 15 ['7C>23', '7P>23', 'S>24', 'MI>26', 'S>26', '7P>26', 'EI>26', 'S>28', '7C>28', '7P>28', 'EI>28', 'MI>29', '7C>29', '7P>29', 'EI>29']\n",
      "-------------\n",
      "0\n",
      "INPUT:  221027-7P Trisha\n",
      "daysOff: [23, 24, 26, 28, 29]\n",
      "<SlotManager [<Slot: 221023-7C Josh>, <Slot: 221023-7P Esperanza>, <Slot: 221023-N Amanda>, <Slot: 221024-MI David>, <Slot: 221024-S Jaden>, <Slot: 221024-7C Nicki>, <Slot: 221024-7P Sabrina>, <Slot: 221024-OP Brittanie>, <Slot: 221024-EI Elisia>, <Slot: 221024-EP Cheryl>, <Slot: 221024-N Amanda>, <Slot: 221026-MI Brianna>, <Slot: 221026-S Jaden>, <Slot: 221026-7C Cheryl>, <Slot: 221026-7P Josh>, <Slot: 221026-OP Brittanie>, <Slot: 221026-EI Danica>, <Slot: 221026-EP Mona>, <Slot: 221026-N Amanda>, <Slot: 221028-MI Elisia>, '...(remaining elements truncated)...']>\n",
      "tenableTrades: 8 ['7C>23', '7P>23', '7P>24', 'MI>26', '7P>26', 'S>28', '7P>28', '7P>29']\n"
     ]
    }
   ],
   "source": [
    "slots = Slot.objects.filter(employee__name=\"Trisha\",workday__iweek=43,workday__date__year=2022)\n",
    "for slot in slots:\n",
    "    print('-------------')\n",
    "    print(slot.is_turnaround)\n",
    "    getTradableSlots(slot)"
   ]
  },
  {
   "cell_type": "code",
   "execution_count": 11,
   "id": "543fa934",
   "metadata": {},
   "outputs": [
    {
     "data": {
      "text/plain": [
       "<SlotManager [<Slot: 221016-MI Tiffany>, <Slot: 221016-7P Brianna>, <Slot: 221016-C Carrie>, <Slot: 221016-EI Jaden>, <Slot: 221016-R3 Andrew>, <Slot: 221016-RN Mary>, <Slot: 221016-7C David>, <Slot: 221016-RS Shaun>, <Slot: 221016-EP Mona>, <Slot: 221017-7P Brianna>, <Slot: 221017-OP Brittanie>, <Slot: 221017-MO Brianna S>, <Slot: 221017-RN Mary>, <Slot: 221017-S Trisha>, <Slot: 221017-I Molly>, <Slot: 221017-N Sam>, <Slot: 221017-MI Nicki>, <Slot: 221017-7C Cheryl>, <Slot: 221017-EI Danica>, <Slot: 221017-EP Mona>, '...(remaining elements truncated)...']>"
      ]
     },
     "execution_count": 11,
     "metadata": {},
     "output_type": "execute_result"
    }
   ],
   "source": [
    "wds = Workday.objects.filter(date__year=2022,ischedule=7)\n",
    "ss = Slot.objects.filter(workday__in=wds)\n",
    "ss"
   ]
  },
  {
   "cell_type": "code",
   "execution_count": 12,
   "id": "da3622f0",
   "metadata": {},
   "outputs": [],
   "source": [
    "for slot in Slot.objects.all():\n",
    "    slot.save()"
   ]
  },
  {
   "cell_type": "code",
   "execution_count": 13,
   "id": "be66339b",
   "metadata": {},
   "outputs": [
    {
     "name": "stdout",
     "output_type": "stream",
     "text": [
      "2022 10 30 None\n",
      "2022 10 31 None\n",
      "2022 11 01 None\n",
      "2022 11 02 None\n",
      "2022 11 03 None\n",
      "2022 11 04 None\n",
      "2022 11 05 None\n"
     ]
    }
   ],
   "source": [
    "for wd in Workday.objects.filter(iweek=44):\n",
    "    print(wd,wd.week)"
   ]
  },
  {
   "cell_type": "code",
   "execution_count": 14,
   "id": "14ec5ce1",
   "metadata": {},
   "outputs": [
    {
     "data": {
      "text/plain": [
       "366"
      ]
     },
     "execution_count": 14,
     "metadata": {},
     "output_type": "execute_result"
    }
   ],
   "source": [
    "Workday.objects.all().count()"
   ]
  },
  {
   "cell_type": "code",
   "execution_count": 15,
   "id": "be12b210",
   "metadata": {},
   "outputs": [],
   "source": [
    "from django import forms\n",
    "import datetime as dt\n",
    "class ArticleForm(forms.Form):\n",
    "     title = forms.CharField()\n",
    "     pub_date = forms.DateField()"
   ]
  },
  {
   "cell_type": "code",
   "execution_count": 16,
   "id": "ea485bfd",
   "metadata": {},
   "outputs": [
    {
     "name": "stdout",
     "output_type": "stream",
     "text": [
      "Janet has 9 eggs left over after eating breakfast and baking muffins.\n",
      "Janet makes $18 selling her eggs.\n"
     ]
    }
   ],
   "source": [
    "\"\"\" \n",
    "Janet’s ducks lay 16 eggs per day. She eats three for breakfast \n",
    "every morning and bakes muffins for her friends every day with \n",
    "four. She sells the remainder for $2 per egg. How much does she\n",
    "make every day? SHOW YOUR CALCULATIONS\n",
    "\"\"\"\n",
    "\n",
    "# Define the number of eggs Janet's ducks lay per day.\n",
    "eggs_per_day = 16\n",
    "\n",
    "# Define the number of eggs Janet eats for breakfast every morning.\n",
    "eggs_for_breakfast = 3\n",
    "\n",
    "# Define the number of eggs Janet uses to bake muffins for her friends every day.\n",
    "eggs_for_muffins = 4\n",
    "\n",
    "# Define the price Janet sells her eggs for.\n",
    "eggs_price = 2\n",
    "\n",
    "# Calculate the number of eggs Janet has left over after eating breakfast and baking muffins.\n",
    "eggs_leftover = eggs_per_day - eggs_for_breakfast - eggs_for_muffins\n",
    "\n",
    "# Calculate the amount of money Janet makes selling her eggs.\n",
    "eggs_money = eggs_leftover * eggs_price\n",
    "\n",
    "# Print the number of eggs Janet has left over after eating breakfast and baking muffins.\n",
    "print(\"Janet has \" + str(eggs_leftover) + \" eggs left over after eating breakfast and baking muffins.\")\n",
    "\n",
    "# Print the amount of money Janet makes selling her eggs.\n",
    "print(\"Janet makes $\" + str(eggs_money) + \" selling her eggs.\")"
   ]
  },
  {
   "cell_type": "code",
   "execution_count": 17,
   "id": "5897b3e9",
   "metadata": {},
   "outputs": [],
   "source": [
    "tas = Slot.objects.filter(is_turnaround=True)|Slot.objects.filter(is_preturnaround=True)"
   ]
  },
  {
   "cell_type": "code",
   "execution_count": 18,
   "id": "45e4264f",
   "metadata": {},
   "outputs": [
    {
     "data": {
      "text/plain": [
       "[<Slot: 221028-EI Tiffany>,\n",
       " <Slot: 221125-N Tiffany>,\n",
       " <Slot: 221027-R3 Lynlee>,\n",
       " <Slot: 221109-R3 Doug>,\n",
       " <Slot: 221019-EI Jaden>,\n",
       " <Slot: 221107-R3 Shaun>,\n",
       " <Slot: 221025-EI Cheryl>,\n",
       " <Slot: 221125-EP David>,\n",
       " <Slot: 221121-EP Nicki>,\n",
       " <Slot: 221125-R3 Kristen>,\n",
       " <Slot: 221020-S Jaden>,\n",
       " <Slot: 221026-7C Cheryl>,\n",
       " <Slot: 221028-MO Lynlee>,\n",
       " <Slot: 221029-MI Tiffany>,\n",
       " <Slot: 221108-I Shaun>,\n",
       " <Slot: 221110-I Doug>,\n",
       " <Slot: 221122-MI Nicki>,\n",
       " <Slot: 221126-7C Tiffany>,\n",
       " <Slot: 221126-MI David>,\n",
       " <Slot: 221126-M Kristen>]"
      ]
     },
     "execution_count": 18,
     "metadata": {},
     "output_type": "execute_result"
    }
   ],
   "source": [
    "alltas = []\n",
    "for s in tas:\n",
    "    if s.shift.start.hour < 10:\n",
    "        pair = Slot.objects.get(workday=s.workday.prevWD(),employee=s.employee)\n",
    "        alltas.append(pair)\n",
    "for s in tas:\n",
    "    if s.shift.start.hour > 10:\n",
    "        pair = Slot.objects.get(workday=s.workday.nextWD(),employee=s.employee)\n",
    "        alltas.append(pair)\n",
    "for s in tas:\n",
    "    if s.shift.start.hour == 10:\n",
    "        tup = Slot.objects.filter(workday=[s.workday.nextWD(),s.workday.prevWD()],employee=s.employee)\n",
    "        [alltas.append(i) for i in tup]\n",
    "alltas"
   ]
  },
  {
   "cell_type": "code",
   "execution_count": 20,
   "id": "7f12acf7",
   "metadata": {},
   "outputs": [
    {
     "name": "stdout",
     "output_type": "stream",
     "text": [
      "INPUT:  221028-EI Tiffany\n",
      "daysOff: [23, 24, 25, 26]\n",
      "<SlotManager [<Slot: 221023-7C Josh>, <Slot: 221023-N Amanda>, <Slot: 221024-MI David>, <Slot: 221024-S Jaden>, <Slot: 221024-7C Nicki>, <Slot: 221024-EI Elisia>, <Slot: 221024-EP Cheryl>, <Slot: 221024-N Amanda>, <Slot: 221025-MI David>, <Slot: 221025-S Trisha>, <Slot: 221025-7C Nicki>, <Slot: 221025-EI Cheryl>, <Slot: 221025-EP Mona>, <Slot: 221025-N Amanda>, <Slot: 221026-MI Brianna>, <Slot: 221026-S Jaden>, <Slot: 221026-7C Cheryl>, <Slot: 221026-EI Danica>, <Slot: 221026-EP Mona>, <Slot: 221026-N Amanda>]>\n",
      "tenableTrades: 0 []\n",
      "INPUT:  221125-N Tiffany\n",
      "daysOff: [20, 21, 22, 23, 24]\n",
      "<SlotManager [<Slot: 221120-EP Mona>, <Slot: 221120-N Amanda>, <Slot: 221121-MI David>, <Slot: 221121-S Sabrina>, <Slot: 221121-7C Cheryl>, <Slot: 221121-EP Nicki>, <Slot: 221121-N Amanda>, <Slot: 221122-MI Nicki>, <Slot: 221122-S Trisha>, <Slot: 221122-7C Cheryl>, <Slot: 221122-EP Mona>, <Slot: 221122-N Amanda>, <Slot: 221123-MI Elisia>, <Slot: 221123-S Brianna>, <Slot: 221123-7C Nicki>, <Slot: 221123-EI Mona>, <Slot: 221123-EP Danica>, <Slot: 221123-N Amanda>, <Slot: 221124-MI Sabrina>, <Slot: 221124-S Jaden>, '...(remaining elements truncated)...']>\n",
      "tenableTrades: 0 []\n",
      "INPUT:  221027-R3 Lynlee\n",
      "daysOff: [23, 25, 29]\n",
      "<SlotManager [<Slot: 221023-I Molly>, <Slot: 221023-C Alex>, <Slot: 221023-R3 Mei>, <Slot: 221023-RN Mark B>, <Slot: 221023-RS Corwin>, <Slot: 221023-M Carol>, <Slot: 221025-I Shaun>, <Slot: 221025-PC Sam>, <Slot: 221025-MO Brianna S>, <Slot: 221025-C Molly>, <Slot: 221025-E Kristen>, <Slot: 221025-R3 Alex>, <Slot: 221025-RN Mark B>, <Slot: 221025-RS Erin>, <Slot: 221025-M Kat>, <Slot: 221029-I Doug>, <Slot: 221029-C Sam>, <Slot: 221029-R3 Tony>, <Slot: 221029-M Carrie>]>\n",
      "tenableTrades: 0 []\n",
      "INPUT:  221109-R3 Doug\n",
      "daysOff: [6, 7, 8, 11, 12]\n",
      "<SlotManager [<Slot: 221106-I Andrew>, <Slot: 221106-C Kat>, <Slot: 221106-RN Mark B>, <Slot: 221106-RS Corwin>, <Slot: 221107-I Molly>, <Slot: 221107-PC Lynlee>, <Slot: 221107-E Tony>, <Slot: 221107-R3 Shaun>, <Slot: 221107-RN Mark B>, <Slot: 221107-RS Alex>, <Slot: 221107-M Andrew>, <Slot: 221108-I Shaun>, <Slot: 221108-PC Sam>, <Slot: 221108-C Molly>, <Slot: 221108-E Alex>, <Slot: 221108-R3 Carol>, <Slot: 221108-RN Mark B>, <Slot: 221108-RS Erin>, <Slot: 221108-M Kristen>, <Slot: 221111-I Lynlee>, '...(remaining elements truncated)...']>\n",
      "tenableTrades: 0 []\n",
      "INPUT:  221019-EI Jaden\n",
      "daysOff: [17, 18, 22]\n",
      "<SlotManager [<Slot: 221017-MI Nicki>, <Slot: 221017-S Trisha>, <Slot: 221017-7C Cheryl>, <Slot: 221017-EI Danica>, <Slot: 221017-EP Mona>, <Slot: 221018-MI Elisia>, <Slot: 221018-S Tiffany>, <Slot: 221018-7C David>, <Slot: 221018-EI Danica>, <Slot: 221018-EP Cheryl>, <Slot: 221022-MI Josh>, <Slot: 221022-7C Nicki>, <Slot: 221022-EP Cheryl>]>\n",
      "tenableTrades: 0 []\n",
      "INPUT:  221107-R3 Shaun\n",
      "daysOff: [6, 10, 11, 12]\n",
      "<SlotManager [<Slot: 221106-I Andrew>, <Slot: 221106-C Kat>, <Slot: 221106-RN Mark B>, <Slot: 221106-RS Corwin>, <Slot: 221110-I Doug>, <Slot: 221110-PC Kat>, <Slot: 221110-MO Brianna S>, <Slot: 221110-C Lynlee>, <Slot: 221110-E Alex>, <Slot: 221110-R3 Mei>, <Slot: 221110-RN Mary>, <Slot: 221110-RS Sam>, <Slot: 221110-M Carrie>, <Slot: 221111-I Lynlee>, <Slot: 221111-PC Kat>, <Slot: 221111-MO Brianna S>, <Slot: 221111-C Sam>, <Slot: 221111-E Tony>, <Slot: 221111-R3 Kristen>, <Slot: 221111-RN Mary>, '...(remaining elements truncated)...']>\n",
      "tenableTrades: 0 []\n",
      "INPUT:  221025-EI Cheryl\n",
      "daysOff: [23, 27, 28, 29]\n",
      "<SlotManager [<Slot: 221023-7C Josh>, <Slot: 221027-MI David>, <Slot: 221027-7C Nicki>, <Slot: 221027-EI Mona>, <Slot: 221027-EP Danica>, <Slot: 221028-MI Elisia>, <Slot: 221028-7C Jaden>, <Slot: 221028-EI Tiffany>, <Slot: 221028-EP David>, <Slot: 221029-MI Tiffany>, <Slot: 221029-7C Jaden>, <Slot: 221029-EI Danica>, <Slot: 221029-EP Elisia>]>\n",
      "tenableTrades: 0 []\n",
      "INPUT:  221125-EP David\n",
      "daysOff: [20, 22, 23]\n",
      "<SlotManager [<Slot: 221120-EP Mona>, <Slot: 221122-MI Nicki>, <Slot: 221122-7C Cheryl>, <Slot: 221122-EP Mona>, <Slot: 221123-MI Elisia>, <Slot: 221123-7C Nicki>, <Slot: 221123-EI Mona>, <Slot: 221123-EP Danica>]>\n",
      "tenableTrades: 0 []\n",
      "INPUT:  221121-EP Nicki\n",
      "daysOff: [20, 24, 25, 26]\n",
      "<SlotManager [<Slot: 221120-EP Mona>, <Slot: 221124-MI Sabrina>, <Slot: 221124-7C Elisia>, <Slot: 221124-EI David>, <Slot: 221124-EP Cheryl>, <Slot: 221125-MI Elisia>, <Slot: 221125-7C Jaden>, <Slot: 221125-EI Danica>, <Slot: 221125-EP David>, <Slot: 221126-MI David>, <Slot: 221126-7C Tiffany>, <Slot: 221126-EI Elisia>, <Slot: 221126-EP Jaden>]>\n",
      "tenableTrades: 0 []\n",
      "INPUT:  221125-R3 Kristen\n",
      "daysOff: [20, 22, 23, 24]\n",
      "<SlotManager [<Slot: 221120-R3 Tony>, <Slot: 221120-RN Mark B>, <Slot: 221120-RS Corwin>, <Slot: 221120-M Sam>, <Slot: 221122-PC Lynlee>, <Slot: 221122-C Molly>, <Slot: 221122-E Andrew>, <Slot: 221122-R3 Mei>, <Slot: 221122-RN Mark B>, <Slot: 221122-RS Carol>, <Slot: 221122-M Sam>, <Slot: 221123-PC Alex>, <Slot: 221123-C Lynlee>, <Slot: 221123-E Tony>, <Slot: 221123-R3 Shaun>, <Slot: 221123-RN Mark B>, <Slot: 221123-RS Erin>, <Slot: 221123-M Kat>, <Slot: 221124-C Bara>, <Slot: 221124-E Alex>, '...(remaining elements truncated)...']>\n",
      "tenableTrades: 0 []\n",
      "INPUT:  221020-S Jaden\n",
      "daysOff: [17, 18, 22]\n",
      "<SlotManager [<Slot: 221017-MI Nicki>, <Slot: 221017-S Trisha>, <Slot: 221017-7C Cheryl>, <Slot: 221017-EI Danica>, <Slot: 221017-EP Mona>, <Slot: 221018-MI Elisia>, <Slot: 221018-S Tiffany>, <Slot: 221018-7C David>, <Slot: 221018-EI Danica>, <Slot: 221018-EP Cheryl>, <Slot: 221022-MI Josh>, <Slot: 221022-7C Nicki>, <Slot: 221022-EP Cheryl>]>\n",
      "tenableTrades: 0 []\n",
      "INPUT:  221026-7C Cheryl\n",
      "daysOff: [23, 27, 28, 29]\n",
      "<SlotManager [<Slot: 221023-7C Josh>, <Slot: 221027-MI David>, <Slot: 221027-7C Nicki>, <Slot: 221027-EI Mona>, <Slot: 221027-EP Danica>, <Slot: 221028-MI Elisia>, <Slot: 221028-7C Jaden>, <Slot: 221028-EI Tiffany>, <Slot: 221028-EP David>, <Slot: 221029-MI Tiffany>, <Slot: 221029-7C Jaden>, <Slot: 221029-EI Danica>, <Slot: 221029-EP Elisia>]>\n",
      "tenableTrades: 0 []\n",
      "INPUT:  221028-MO Lynlee\n",
      "daysOff: [23, 25, 29]\n",
      "<SlotManager [<Slot: 221023-I Molly>, <Slot: 221023-C Alex>, <Slot: 221023-R3 Mei>, <Slot: 221023-RN Mark B>, <Slot: 221023-RS Corwin>, <Slot: 221023-M Carol>, <Slot: 221025-I Shaun>, <Slot: 221025-PC Sam>, <Slot: 221025-MO Brianna S>, <Slot: 221025-C Molly>, <Slot: 221025-E Kristen>, <Slot: 221025-R3 Alex>, <Slot: 221025-RN Mark B>, <Slot: 221025-RS Erin>, <Slot: 221025-M Kat>, <Slot: 221029-I Doug>, <Slot: 221029-C Sam>, <Slot: 221029-R3 Tony>, <Slot: 221029-M Carrie>]>\n",
      "tenableTrades: 0 []\n",
      "INPUT:  221029-MI Tiffany\n",
      "daysOff: [23, 24, 25, 26]\n",
      "<SlotManager [<Slot: 221023-7C Josh>, <Slot: 221023-N Amanda>, <Slot: 221024-MI David>, <Slot: 221024-S Jaden>, <Slot: 221024-7C Nicki>, <Slot: 221024-EI Elisia>, <Slot: 221024-EP Cheryl>, <Slot: 221024-N Amanda>, <Slot: 221025-MI David>, <Slot: 221025-S Trisha>, <Slot: 221025-7C Nicki>, <Slot: 221025-EI Cheryl>, <Slot: 221025-EP Mona>, <Slot: 221025-N Amanda>, <Slot: 221026-MI Brianna>, <Slot: 221026-S Jaden>, <Slot: 221026-7C Cheryl>, <Slot: 221026-EI Danica>, <Slot: 221026-EP Mona>, <Slot: 221026-N Amanda>]>\n",
      "tenableTrades: 0 []\n",
      "INPUT:  221108-I Shaun\n",
      "daysOff: [6, 10, 11, 12]\n",
      "<SlotManager [<Slot: 221106-I Andrew>, <Slot: 221106-C Kat>, <Slot: 221106-RN Mark B>, <Slot: 221106-RS Corwin>, <Slot: 221110-I Doug>, <Slot: 221110-PC Kat>, <Slot: 221110-MO Brianna S>, <Slot: 221110-C Lynlee>, <Slot: 221110-E Alex>, <Slot: 221110-R3 Mei>, <Slot: 221110-RN Mary>, <Slot: 221110-RS Sam>, <Slot: 221110-M Carrie>, <Slot: 221111-I Lynlee>, <Slot: 221111-PC Kat>, <Slot: 221111-MO Brianna S>, <Slot: 221111-C Sam>, <Slot: 221111-E Tony>, <Slot: 221111-R3 Kristen>, <Slot: 221111-RN Mary>, '...(remaining elements truncated)...']>\n",
      "tenableTrades: 0 []\n",
      "INPUT:  221110-I Doug\n",
      "daysOff: [6, 7, 8, 11, 12]\n",
      "<SlotManager [<Slot: 221106-I Andrew>, <Slot: 221106-C Kat>, <Slot: 221106-RN Mark B>, <Slot: 221106-RS Corwin>, <Slot: 221107-I Molly>, <Slot: 221107-PC Lynlee>, <Slot: 221107-E Tony>, <Slot: 221107-R3 Shaun>, <Slot: 221107-RN Mark B>, <Slot: 221107-RS Alex>, <Slot: 221107-M Andrew>, <Slot: 221108-I Shaun>, <Slot: 221108-PC Sam>, <Slot: 221108-C Molly>, <Slot: 221108-E Alex>, <Slot: 221108-R3 Carol>, <Slot: 221108-RN Mark B>, <Slot: 221108-RS Erin>, <Slot: 221108-M Kristen>, <Slot: 221111-I Lynlee>, '...(remaining elements truncated)...']>\n",
      "tenableTrades: 0 []\n",
      "INPUT:  221122-MI Nicki\n",
      "daysOff: [20, 24, 25, 26]\n",
      "<SlotManager [<Slot: 221120-EP Mona>, <Slot: 221124-MI Sabrina>, <Slot: 221124-7C Elisia>, <Slot: 221124-EI David>, <Slot: 221124-EP Cheryl>, <Slot: 221125-MI Elisia>, <Slot: 221125-7C Jaden>, <Slot: 221125-EI Danica>, <Slot: 221125-EP David>, <Slot: 221126-MI David>, <Slot: 221126-7C Tiffany>, <Slot: 221126-EI Elisia>, <Slot: 221126-EP Jaden>]>\n",
      "tenableTrades: 0 []\n",
      "INPUT:  221126-7C Tiffany\n",
      "daysOff: [20, 21, 22, 23, 24]\n",
      "<SlotManager [<Slot: 221120-EP Mona>, <Slot: 221120-N Amanda>, <Slot: 221121-MI David>, <Slot: 221121-S Sabrina>, <Slot: 221121-7C Cheryl>, <Slot: 221121-EP Nicki>, <Slot: 221121-N Amanda>, <Slot: 221122-MI Nicki>, <Slot: 221122-S Trisha>, <Slot: 221122-7C Cheryl>, <Slot: 221122-EP Mona>, <Slot: 221122-N Amanda>, <Slot: 221123-MI Elisia>, <Slot: 221123-S Brianna>, <Slot: 221123-7C Nicki>, <Slot: 221123-EI Mona>, <Slot: 221123-EP Danica>, <Slot: 221123-N Amanda>, <Slot: 221124-MI Sabrina>, <Slot: 221124-S Jaden>, '...(remaining elements truncated)...']>\n",
      "tenableTrades: 0 []\n",
      "INPUT:  221126-MI David\n",
      "daysOff: [20, 22, 23]\n",
      "<SlotManager [<Slot: 221120-EP Mona>, <Slot: 221122-MI Nicki>, <Slot: 221122-7C Cheryl>, <Slot: 221122-EP Mona>, <Slot: 221123-MI Elisia>, <Slot: 221123-7C Nicki>, <Slot: 221123-EI Mona>, <Slot: 221123-EP Danica>]>\n",
      "tenableTrades: 0 []\n",
      "INPUT:  221126-M Kristen\n",
      "daysOff: [20, 22, 23, 24]\n",
      "<SlotManager [<Slot: 221120-R3 Tony>, <Slot: 221120-RN Mark B>, <Slot: 221120-RS Corwin>, <Slot: 221120-M Sam>, <Slot: 221122-PC Lynlee>, <Slot: 221122-C Molly>, <Slot: 221122-E Andrew>, <Slot: 221122-R3 Mei>, <Slot: 221122-RN Mark B>, <Slot: 221122-RS Carol>, <Slot: 221122-M Sam>, <Slot: 221123-PC Alex>, <Slot: 221123-C Lynlee>, <Slot: 221123-E Tony>, <Slot: 221123-R3 Shaun>, <Slot: 221123-RN Mark B>, <Slot: 221123-RS Erin>, <Slot: 221123-M Kat>, <Slot: 221124-C Bara>, <Slot: 221124-E Alex>, '...(remaining elements truncated)...']>\n",
      "tenableTrades: 0 []\n"
     ]
    },
    {
     "data": {
      "text/plain": [
       "[[],\n",
       " [],\n",
       " [],\n",
       " [],\n",
       " [],\n",
       " [],\n",
       " [],\n",
       " [],\n",
       " [],\n",
       " [],\n",
       " [],\n",
       " [],\n",
       " [],\n",
       " [],\n",
       " [],\n",
       " [],\n",
       " [],\n",
       " [],\n",
       " [],\n",
       " []]"
      ]
     },
     "execution_count": 20,
     "metadata": {},
     "output_type": "execute_result"
    }
   ],
   "source": [
    "[getTradableSlots(i) for i in alltas]"
   ]
  },
  {
   "cell_type": "code",
   "execution_count": null,
   "id": "a4aabd0d",
   "metadata": {},
   "outputs": [],
   "source": []
  }
 ],
 "metadata": {
  "kernelspec": {
   "display_name": "Python 3.8.13 64-bit ('shims')",
   "language": "python",
   "name": "python3"
  },
  "language_info": {
   "codemirror_mode": {
    "name": "ipython",
    "version": 3
   },
   "file_extension": ".py",
   "mimetype": "text/x-python",
   "name": "python",
   "nbconvert_exporter": "python",
   "pygments_lexer": "ipython3",
   "version": "3.8.13"
  },
  "vscode": {
   "interpreter": {
    "hash": "9ac03a0a6051494cc606d484d27d20fce22fb7b4d169f583271e11d5ba46a56e"
   }
  }
 },
 "nbformat": 4,
 "nbformat_minor": 5
}
