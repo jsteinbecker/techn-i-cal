{
 "cells": [
  {
   "cell_type": "code",
   "execution_count": 2,
   "id": "c0a353bb",
   "metadata": {},
   "outputs": [],
   "source": [
    "import django \n",
    "import os\n",
    "os.environ[\"DJANGO_ALLOW_ASYNC_UNSAFE\"] = \"true\"\n",
    "django.setup()\n",
    "from sch.models import *\n",
    "import datetime as dt\n",
    "from django.db.models import CharField\n",
    "from sch.actions import *\n",
    "from sch.xviews import week"
   ]
  },
  {
   "cell_type": "code",
   "execution_count": 3,
   "id": "8cd541c6",
   "metadata": {
    "tags": []
   },
   "outputs": [],
   "source": [
    "from sch.actions import *\n",
    "from sch.xviews import week"
   ]
  },
  {
   "cell_type": "code",
   "execution_count": 4,
   "id": "019f99a9",
   "metadata": {},
   "outputs": [
    {
     "data": {
      "text/plain": [
       "<WorkdayManager [<Workday: 2022 10 16>, <Workday: 2022 10 17>, <Workday: 2022 10 18>, <Workday: 2022 10 19>, <Workday: 2022 10 20>, <Workday: 2022 10 21>, <Workday: 2022 10 22>]>"
      ]
     },
     "execution_count": 4,
     "metadata": {},
     "output_type": "execute_result"
    }
   ],
   "source": [
    "week.get_days(\"2022-W42\")"
   ]
  },
  {
   "cell_type": "code",
   "execution_count": 5,
   "id": "f6640332",
   "metadata": {},
   "outputs": [
    {
     "data": {
      "text/plain": [
       "<EmployeeManager [<Employee: Brianna>, <Employee: Trisha>, <Employee: Danica>, <Employee: Tiffany>, <Employee: Nicki>, <Employee: Cheryl>]>"
      ]
     },
     "execution_count": 5,
     "metadata": {},
     "output_type": "execute_result"
    }
   ],
   "source": [
    "emps = Employee.objects.in_other_slot(workday=Workday.objects.get(slug='2022-10-31'),shift=Shift.objects.get(name='7C'))\n",
    "emps = emps.filter(shifts_trained=Shift.objects.get(name='7C'))\n",
    "emps"
   ]
  },
  {
   "cell_type": "code",
   "execution_count": 6,
   "id": "0a591e81",
   "metadata": {},
   "outputs": [
    {
     "data": {
      "text/plain": [
       "28"
      ]
     },
     "execution_count": 6,
     "metadata": {},
     "output_type": "execute_result"
    }
   ],
   "source": [
    "shiftsPerWeek = 0\n",
    "for sft in Shift.objects.filter(start__hour__gte=10, cls='CPhT').values_list('occur_days',flat=True):\n",
    "    shiftsPerWeek += len(sft)\n",
    "shiftsPerWeek"
   ]
  },
  {
   "attachments": {},
   "cell_type": "markdown",
   "id": "edc3f73a",
   "metadata": {},
   "source": [
    "## NIGHT PERCENTAGE OF TOTAL SHIFTS\""
   ]
  },
  {
   "cell_type": "code",
   "execution_count": 7,
   "id": "db89552a",
   "metadata": {},
   "outputs": [
    {
     "data": {
      "text/plain": [
       "['Josh: 9.5% EVENINGS  ++',\n",
       " 'Sabrina: 33.3% EVENINGS  ++++++++',\n",
       " 'Brianna: 0.0% EVENINGS  ',\n",
       " 'Molly: 25.3% EVENINGS  ++++++',\n",
       " 'Doug: 19.4% EVENINGS  ++++',\n",
       " 'Brittanie: 0.0% EVENINGS  ',\n",
       " 'Esperanza: 4.3% EVENINGS  +',\n",
       " 'Carrie: 30.0% EVENINGS  +++++++',\n",
       " 'Elisia: 76.1% EVENINGS  +++++++++++++++++++',\n",
       " 'Jaden: 25.3% EVENINGS  ++++++',\n",
       " 'Lynlee: 29.6% EVENINGS  +++++++',\n",
       " 'Carol: 64.2% EVENINGS  ++++++++++++++++',\n",
       " 'Trisha: 25.7% EVENINGS  ++++++',\n",
       " 'Danica: 100.0% EVENINGS  +++++++++++++++++++++++++',\n",
       " 'Tiffany: 31.1% EVENINGS  +++++++',\n",
       " 'Brianna S: 0.0% EVENINGS  ',\n",
       " 'Amanda: 100.0% EVENINGS  +++++++++++++++++++++++++',\n",
       " 'Michael: 100.0% EVENINGS  +++++++++++++++++++++++++',\n",
       " 'Mona: 100.0% EVENINGS  +++++++++++++++++++++++++',\n",
       " 'Mary: 100.0% EVENINGS  +++++++++++++++++++++++++',\n",
       " 'Mark B: 100.0% EVENINGS  +++++++++++++++++++++++++',\n",
       " 'Andrew: 52.1% EVENINGS  +++++++++++++',\n",
       " 'Mei: 100.0% EVENINGS  +++++++++++++++++++++++++',\n",
       " 'Tony: 100.0% EVENINGS  +++++++++++++++++++++++++',\n",
       " 'Sam: 28.6% EVENINGS  +++++++',\n",
       " 'David: 59.4% EVENINGS  ++++++++++++++',\n",
       " 'Nicki: 63.3% EVENINGS  +++++++++++++++',\n",
       " 'Kristen: 59.6% EVENINGS  ++++++++++++++',\n",
       " 'Shaun: 27.9% EVENINGS  ++++++',\n",
       " 'Alex: 46.3% EVENINGS  +++++++++++',\n",
       " 'Leslie: 0.0% EVENINGS  ',\n",
       " 'Kat: 54.8% EVENINGS  +++++++++++++',\n",
       " 'Bara: 100.0% EVENINGS  +++++++++++++++++++++++++',\n",
       " 'Erin: 0.0% EVENINGS  ',\n",
       " 'Cheryl: 35.1% EVENINGS  ++++++++',\n",
       " 'Corwin: 0.0% EVENINGS  ']"
      ]
     },
     "execution_count": 7,
     "metadata": {},
     "output_type": "execute_result"
    }
   ],
   "source": [
    "NIGHT_PERCENTS = []\n",
    "for emp in Employee.objects.all():\n",
    "    if Slot.objects.filter(employee=emp).exists():\n",
    "        perc = round(Slot.objects.filter(employee=emp,shift__start__hour__gte=10).count()/Slot.objects.filter(employee=emp).count()*100, 1)\n",
    "        NIGHT_PERCENTS += [f\"{emp}: {perc}% EVENINGS  {int(perc/4) *'+'}\"]\n",
    "        \n",
    "NIGHT_PERCENTS\n",
    "        "
   ]
  },
  {
   "attachments": {},
   "cell_type": "markdown",
   "id": "2386de1e",
   "metadata": {},
   "source": [
    "## 2022 NOV 9 : TECH SCHEDULE"
   ]
  },
  {
   "cell_type": "code",
   "execution_count": 8,
   "id": "c457a1da",
   "metadata": {},
   "outputs": [
    {
     "name": "stdout",
     "output_type": "stream",
     "text": [
      "221112-MI Jaden\n",
      "221112-7C Josh\n",
      "221112-7P Brianna\n",
      "221112-EI Tiffany\n",
      "221112-EP Elisia\n",
      "221112-C3 Danica\n",
      "221112-N Michael\n"
     ]
    }
   ],
   "source": [
    "today = Workday.objects.get(date=dt.date.today())\n",
    "today_slots = Slot.objects.filter(workday=today).order_by('shift__start')\n",
    "for slot in today_slots:\n",
    "    if slot.employee.cls == \"CPhT\":\n",
    "        print (slot)"
   ]
  },
  {
   "attachments": {},
   "cell_type": "markdown",
   "id": "397ed522",
   "metadata": {},
   "source": [
    "## SLOTS FROM A WEEK"
   ]
  },
  {
   "cell_type": "code",
   "execution_count": 9,
   "id": "f0150f4e",
   "metadata": {},
   "outputs": [
    {
     "name": "stdout",
     "output_type": "stream",
     "text": [
      "221106-RS Corwin\n",
      "221106-7C Cheryl\n",
      "221107-7C Cheryl\n",
      "221108-EI Cheryl\n",
      "221111-MI Cheryl\n",
      "221110-RS Erin\n",
      "221107-R3 Kat\n",
      "221109-C Kat\n",
      "221110-R3 Kat\n",
      "221112-C Kat\n",
      "221108-RS Alex\n",
      "221109-RS Alex\n",
      "221110-E Alex\n",
      "221112-RS Alex\n",
      "221107-C Shaun\n",
      "221108-I Shaun\n",
      "221109-R3 Shaun\n",
      "221111-RS Shaun\n",
      "221106-R3 Kristen\n",
      "221108-C Kristen\n",
      "....\n"
     ]
    }
   ],
   "source": [
    "weekWds = today.siblings_iweek\n",
    "weekSlots = Slot.objects.filter(workday__in=weekWds).order_by('-employee')\n",
    "for slot in weekSlots[:20]:\n",
    "    print(slot)\n",
    "print(\"....\")"
   ]
  },
  {
   "cell_type": "code",
   "execution_count": 10,
   "id": "da43b2f5",
   "metadata": {},
   "outputs": [],
   "source": [
    "def getTradableSlots(slot):\n",
    "    print('INPUT: ', slot)\n",
    "    emp = slot.employee\n",
    "    sft = slot.shift\n",
    "    wd = slot.workday\n",
    "    weekdays = slot.workday.siblings_iweek\n",
    "    daysOn = Slot.objects.filter(workday__in = weekdays,employee = emp).values('workday').distinct()\n",
    "    daysOff = weekdays.exclude(pk__in=daysOn)\n",
    "    print('daysOff:',list(daysOff.values_list('date__day',flat=True)))\n",
    "    tenable = []\n",
    "    slotDaysOff = Slot.objects.filter(workday__in=daysOff, shift__in=emp.shifts_available.all()).order_by('workday')\n",
    "    print(slotDaysOff)\n",
    "    for slotB in slotDaysOff:\n",
    "        if emp in slot.fillableBy():\n",
    "            if slotB.employee in slot.fillableBy():\n",
    "                tenable.append(slotB)\n",
    "    print('tenableTrades:',len(tenable),[f'{i.shift}>{i.workday.date.day}' for i in tenable])\n",
    "    return tenable\n",
    "\n"
   ]
  },
  {
   "cell_type": "code",
   "execution_count": 11,
   "id": "cc9377c9",
   "metadata": {},
   "outputs": [
    {
     "name": "stdout",
     "output_type": "stream",
     "text": [
      "-------------\n",
      "0\n",
      "INPUT:  221026-OP Trisha\n",
      "daysOff: [23, 24, 25, 28, 29]\n",
      "<SlotManager [<Slot: 221023-MI Cheryl>, <Slot: 221023-7C Josh>, <Slot: 221023-7P Esperanza>, <Slot: 221023-EI David>, <Slot: 221023-N Amanda>, <Slot: 221024-MI Cheryl>, <Slot: 221024-S Josh>, <Slot: 221024-7C Jaden>, <Slot: 221024-7P Esperanza>, <Slot: 221024-OP Brittanie>, <Slot: 221024-EI Elisia>, <Slot: 221024-EP Nicki>, <Slot: 221024-N Amanda>, <Slot: 221025-MI Tiffany>, <Slot: 221025-S Jaden>, <Slot: 221025-7C Cheryl>, <Slot: 221025-7P Brianna>, <Slot: 221025-OP Sabrina>, <Slot: 221025-EI David>, <Slot: 221025-EP Nicki>, '...(remaining elements truncated)...']>\n",
      "tenableTrades: 5 ['7C>23', 'S>24', 'OP>24', 'S>28', 'OP>28']\n",
      "-------------\n",
      "0\n",
      "INPUT:  221027-S Trisha\n",
      "daysOff: [23, 24, 25, 28, 29]\n",
      "<SlotManager [<Slot: 221023-MI Cheryl>, <Slot: 221023-7C Josh>, <Slot: 221023-7P Esperanza>, <Slot: 221023-EI David>, <Slot: 221023-N Amanda>, <Slot: 221024-MI Cheryl>, <Slot: 221024-S Josh>, <Slot: 221024-7C Jaden>, <Slot: 221024-7P Esperanza>, <Slot: 221024-OP Brittanie>, <Slot: 221024-EI Elisia>, <Slot: 221024-EP Nicki>, <Slot: 221024-N Amanda>, <Slot: 221025-MI Tiffany>, <Slot: 221025-S Jaden>, <Slot: 221025-7C Cheryl>, <Slot: 221025-7P Brianna>, <Slot: 221025-OP Sabrina>, <Slot: 221025-EI David>, <Slot: 221025-EP Nicki>, '...(remaining elements truncated)...']>\n",
      "tenableTrades: 5 ['MI>25', '7P>25', '7P>28', 'EP>28', '7P>29']\n"
     ]
    }
   ],
   "source": [
    "slots = Slot.objects.filter(employee__name=\"Trisha\",workday__iweek=43,workday__date__year=2022)\n",
    "for slot in slots:\n",
    "    print('-------------')\n",
    "    print(slot.is_turnaround)\n",
    "    getTradableSlots(slot)"
   ]
  },
  {
   "cell_type": "code",
   "execution_count": 12,
   "id": "543fa934",
   "metadata": {},
   "outputs": [
    {
     "data": {
      "text/plain": [
       "<SlotManager [<Slot: 221016-MI Tiffany>, <Slot: 221016-I Lynlee>, <Slot: 221016-7P Brianna>, <Slot: 221016-C Carrie>, <Slot: 221016-EI Jaden>, <Slot: 221016-EP Elisia>, <Slot: 221016-R3 Andrew>, <Slot: 221016-N Michael>, <Slot: 221016-RN Mary>, <Slot: 221016-C3 Danica>, <Slot: 221016-RS Kristen>, <Slot: 221017-7P Brianna>, <Slot: 221017-OP Brittanie>, <Slot: 221017-MO Brianna S>, <Slot: 221017-N Michael>, <Slot: 221017-RN Mary>, <Slot: 221017-C3 Danica>, <Slot: 221017-S Trisha>, <Slot: 221017-I Doug>, <Slot: 221017-EI Cheryl>, '...(remaining elements truncated)...']>"
      ]
     },
     "execution_count": 12,
     "metadata": {},
     "output_type": "execute_result"
    }
   ],
   "source": [
    "wds = Workday.objects.filter(date__year=2022,ischedule=7)\n",
    "ss = Slot.objects.filter(workday__in=wds)\n",
    "ss"
   ]
  },
  {
   "cell_type": "code",
   "execution_count": 13,
   "id": "da3622f0",
   "metadata": {},
   "outputs": [],
   "source": [
    "for slot in Slot.objects.all():\n",
    "    slot.save()"
   ]
  },
  {
   "cell_type": "code",
   "execution_count": 14,
   "id": "be66339b",
   "metadata": {},
   "outputs": [
    {
     "name": "stdout",
     "output_type": "stream",
     "text": [
      "2022 10 30 None\n",
      "2022 10 31 None\n",
      "2022 11 01 None\n",
      "2022 11 02 None\n",
      "2022 11 03 None\n",
      "2022 11 04 None\n",
      "2022 11 05 None\n"
     ]
    }
   ],
   "source": [
    "for wd in Workday.objects.filter(iweek=44):\n",
    "    print(wd,wd.week)"
   ]
  },
  {
   "cell_type": "code",
   "execution_count": 15,
   "id": "14ec5ce1",
   "metadata": {},
   "outputs": [
    {
     "name": "stdout",
     "output_type": "stream",
     "text": [
      "TOTAL WORKDAYS: 366 \n"
     ]
    }
   ],
   "source": [
    "n = Workday.objects.all().count()\n",
    "print( f\"TOTAL WORKDAYS: {n} \" )"
   ]
  },
  {
   "cell_type": "code",
   "execution_count": 16,
   "id": "be12b210",
   "metadata": {},
   "outputs": [],
   "source": [
    "from django import forms\n",
    "import datetime as dt\n",
    "class ArticleForm(forms.Form):\n",
    "     title = forms.CharField()\n",
    "     pub_date = forms.DateField()"
   ]
  },
  {
   "cell_type": "code",
   "execution_count": 17,
   "id": "ea485bfd",
   "metadata": {},
   "outputs": [
    {
     "name": "stdout",
     "output_type": "stream",
     "text": [
      "Janet has 9 eggs left over after eating breakfast and baking muffins.\n",
      "Janet makes $18 selling her eggs.\n"
     ]
    }
   ],
   "source": [
    "\"\"\" \n",
    "Janet’s ducks lay 16 eggs per day. She eats three for breakfast \n",
    "every morning and bakes muffins for her friends every day with \n",
    "four. She sells the remainder for $2 per egg. How much does she\n",
    "make every day? SHOW YOUR CALCULATIONS\n",
    "\"\"\"\n",
    "\n",
    "# Define the number of eggs Janet's ducks lay per day.\n",
    "eggs_per_day = 16\n",
    "\n",
    "# Define the number of eggs Janet eats for breakfast every morning.\n",
    "eggs_for_breakfast = 3\n",
    "\n",
    "# Define the number of eggs Janet uses to bake muffins for her friends every day.\n",
    "eggs_for_muffins = 4\n",
    "\n",
    "# Define the price Janet sells her eggs for.\n",
    "eggs_price = 2\n",
    "\n",
    "# Calculate the number of eggs Janet has left over after eating breakfast and baking muffins.\n",
    "eggs_leftover = eggs_per_day - eggs_for_breakfast - eggs_for_muffins\n",
    "\n",
    "# Calculate the amount of money Janet makes selling her eggs.\n",
    "eggs_money = eggs_leftover * eggs_price\n",
    "\n",
    "# Print the number of eggs Janet has left over after eating breakfast and baking muffins.\n",
    "print(\"Janet has \" + str(eggs_leftover) + \" eggs left over after eating breakfast and baking muffins.\")\n",
    "\n",
    "# Print the amount of money Janet makes selling her eggs.\n",
    "print(\"Janet makes $\" + str(eggs_money) + \" selling her eggs.\")"
   ]
  },
  {
   "cell_type": "code",
   "execution_count": 18,
   "id": "5897b3e9",
   "metadata": {},
   "outputs": [
    {
     "data": {
      "text/plain": [
       "{}"
      ]
     },
     "execution_count": 18,
     "metadata": {},
     "output_type": "execute_result"
    }
   ],
   "source": [
    "def turnarounds_withTrades ():\n",
    "    tradeable = {}\n",
    "    tas = Slot.objects.filter(is_turnaround=True)|Slot.objects.filter(is_preturnaround=True)\n",
    "    slts = tas.filter(employee__evening_pref=True)\n",
    "    empl_wantsThisSwapped = slts.filter(shift__start__hour__lt=10)\n",
    "    for i in range(empl_wantsThisSwapped.count()):\n",
    "        s = empl_wantsThisSwapped[i]\n",
    "        if s.fillableBy().count() > 0:\n",
    "            if not tradeable.get('pref'):\n",
    "                tradeable['pref'] = []\n",
    "            tradeable['pref'] += [s]\n",
    "    empl_likesThisSlot = slts.filter(shift__start__hour__gte=10)\n",
    "    for i in range(empl_likesThisSlot.count()):\n",
    "        s = empl_likesThisSlot[i]\n",
    "        if s.fillableBy().count() > 0:\n",
    "            if not tradeable.get('nonpref'):\n",
    "                tradeable['nonpref'] = []\n",
    "            tradeable['nonpref'] += [s]\n",
    "    return tradeable\n",
    "    \n",
    "x = turnarounds_withTrades()\n",
    "x"
   ]
  },
  {
   "cell_type": "code",
   "execution_count": 19,
   "id": "b2317a75",
   "metadata": {},
   "outputs": [
    {
     "name": "stdout",
     "output_type": "stream",
     "text": [
      "None\n"
     ]
    }
   ],
   "source": [
    "t = {}\n",
    "a = t.get('a')\n",
    "print(a)"
   ]
  },
  {
   "cell_type": "code",
   "execution_count": 20,
   "id": "6e306435",
   "metadata": {},
   "outputs": [],
   "source": [
    "def weekSlots_for_Empl (yearN, weekN, employee):\n",
    "    slots = Slot.objects.filter(workday__iweek=weekN,workday__date__year=yearN,employee=employee)\n",
    "    for i in range(7):\n",
    "        s = slots.filter(workday__iweekday=i)\n",
    "        if s.exists() == False:\n",
    "            yield None\n",
    "        else:\n",
    "            yield s.first()\n",
    "            \n",
    "def display_weekSlots_for_Empl (yearN, weekN, employee):\n",
    "    slots = [slot for slot in weekSlots_for_Empl(yearN,weekN,employee)]\n",
    "    wds = 'SUN MON TUE WED THU FRI SAT'.split(' ')\n",
    "    empl = f'{employee}'\n",
    "    \n",
    "    print(f'{yearN}-Week_{weekN} employee schedule:')\n",
    "    print(f'_________ {empl} __________')\n",
    "    for i in range(7):\n",
    "        print(f'{wds[i]}: {slots[i]}')\n",
    "    print('==========================')"
   ]
  },
  {
   "cell_type": "code",
   "execution_count": 21,
   "id": "d4e49a7d",
   "metadata": {},
   "outputs": [
    {
     "name": "stdout",
     "output_type": "stream",
     "text": [
      "2022-Week_44 employee schedule:\n",
      "_________ Molly __________\n",
      "SUN: None\n",
      "MON: 221031-I Molly\n",
      "TUE: 221101-I Molly\n",
      "WED: 221102-C Molly\n",
      "THU: 221103-R3 Molly\n",
      "FRI: None\n",
      "SAT: None\n",
      "==========================\n",
      "2022-Week_44 employee schedule:\n",
      "_________ Josh __________\n",
      "SUN: None\n",
      "MON: None\n",
      "TUE: 221101-S Josh\n",
      "WED: None\n",
      "THU: 221103-S Josh\n",
      "FRI: 221104-7C Josh\n",
      "SAT: None\n",
      "==========================\n"
     ]
    }
   ],
   "source": [
    "slots = weekSlots_for_Empl(2022,44,Employee.objects.get(name='Josh'))\n",
    "slots = [slot for slot in slots]\n",
    "display_weekSlots_for_Empl(2022,44,Employee.objects.get(name='Molly'))\n",
    "display_weekSlots_for_Empl(2022,44,Employee.objects.get(name='Josh'))"
   ]
  },
  {
   "cell_type": "code",
   "execution_count": 22,
   "id": "af4ce5ce",
   "metadata": {},
   "outputs": [
    {
     "name": "stdout",
     "output_type": "stream",
     "text": [
      "COWORK DAYS FOR Josh and Nicki\n",
      "TOTAL FOR SCHEDULE: 7\n",
      "['2022-07-29', '2022-08-09', '2022-08-11', '2022-08-16', '2022-08-25', '2022-09-01', '2022-09-02']\n"
     ]
    }
   ],
   "source": [
    "def emp1_emp2_cowork_days (emp1,emp2,yearN,schN):\n",
    "    jtsSlots = Slot.objects.filter(employee=emp1,workday__date__year=yearN,workday__ischedule=schN)\n",
    "    nkiSlots = Slot.objects.filter(employee=emp2,workday__date__year=yearN,workday__ischedule=schN)\n",
    "    dates = jtsSlots.union(nkiSlots)\n",
    "    dates = dates.values('workday')\n",
    "    for d in dates:\n",
    "        if d in jtsSlots.values('workday'):\n",
    "            if d in nkiSlots.values('workday'):\n",
    "                yield d['workday']\n",
    "                # \"[207,217,223...]\"\n",
    "josh = Employee.objects.get(name=\"Josh\")    \n",
    "nicki = Employee.objects.get(name=\"Nicki\")      \n",
    "xs = emp1_emp2_cowork_days(josh,nicki,2022,5)\n",
    "days = Workday.objects.filter(pk__in=xs)\n",
    "\n",
    "\n",
    "print(f'COWORK DAYS FOR {josh} and {nicki}')\n",
    "print(\"TOTAL FOR SCHEDULE:\", days.count())\n",
    "print(list(days.values_list('slug',flat=True)))\n",
    "\n"
   ]
  },
  {
   "cell_type": "code",
   "execution_count": 23,
   "id": "cb5d595f",
   "metadata": {},
   "outputs": [
    {
     "name": "stdout",
     "output_type": "stream",
     "text": [
      "220729-7C Josh   |   220729-EI Nicki\n",
      "220809-S Josh   |   220809-EP Nicki\n",
      "220811-S Josh   |   220811-MI Nicki\n",
      "220816-EP Josh   |   220816-MI Nicki\n",
      "220825-S Josh   |   220825-EI Nicki\n",
      "220901-7C Josh   |   220901-EP Nicki\n",
      "220902-S Josh   |   220902-EI Nicki\n"
     ]
    }
   ],
   "source": [
    "josh_slots_w_nicki = Slot.objects.filter(workday__in=days,employee=josh)\n",
    "josh_slots_w_nicki \n",
    "for jslot in josh_slots_w_nicki:\n",
    "    nslot = Slot.objects.get(workday=jslot.workday,employee=nicki)\n",
    "    print(jslot,\"  |  \",nslot)"
   ]
  },
  {
   "attachments": {},
   "cell_type": "markdown",
   "id": "fb0c0eef",
   "metadata": {},
   "source": [
    "## Employee Training Comparisons"
   ]
  },
  {
   "cell_type": "code",
   "execution_count": 27,
   "id": "1a8a5476",
   "metadata": {},
   "outputs": [
    {
     "name": "stdout",
     "output_type": "stream",
     "text": [
      "Brittanie is trained for 1 shift(s).\n",
      "Brianna S is trained for 1 shift(s).\n",
      "Amanda is trained for 1 shift(s).\n",
      "Michael is trained for 1 shift(s).\n",
      "Mary is trained for 1 shift(s).\n",
      "Mark B is trained for 1 shift(s).\n",
      "Bara is trained for 1 shift(s).\n",
      "Corwin is trained for 1 shift(s).\n",
      "Mei is trained for 2 shift(s).\n",
      "Dianne is trained for 2 shift(s).\n",
      "Mona is trained for 3 shift(s).\n",
      "Tony is trained for 3 shift(s).\n",
      "Erin is trained for 3 shift(s).\n",
      "Brianna is trained for 4 shift(s).\n",
      "Elisia is trained for 4 shift(s).\n",
      "David is trained for 4 shift(s).\n",
      "Nicki is trained for 4 shift(s).\n",
      "Cheryl is trained for 4 shift(s).\n",
      "Jaden is trained for 5 shift(s).\n",
      "Leslie is trained for 5 shift(s).\n",
      "Tiffany is trained for 6 shift(s).\n",
      "Kat is trained for 6 shift(s).\n",
      "Esperanza is trained for 7 shift(s).\n",
      "Sam is trained for 7 shift(s).\n",
      "Kristen is trained for 7 shift(s).\n",
      "Josh is trained for 8 shift(s).\n",
      "Sabrina is trained for 8 shift(s).\n",
      "Molly is trained for 8 shift(s).\n",
      "Doug is trained for 8 shift(s).\n",
      "Carrie is trained for 8 shift(s).\n",
      "Carol is trained for 8 shift(s).\n",
      "Trisha is trained for 8 shift(s).\n",
      "Danica is trained for 8 shift(s).\n",
      "Andrew is trained for 8 shift(s).\n",
      "Alex is trained for 8 shift(s).\n",
      "Lynlee is trained for 9 shift(s).\n",
      "Shaun is trained for 9 shift(s).\n"
     ]
    }
   ],
   "source": [
    "vals = Employee.objects.annotate(n_shifts_trained=Count('shifts_trained')).order_by('n_shifts_trained').values_list('name','n_shifts_trained')\n",
    "for val in vals:\n",
    "    print (\"%s is trained for %s shift(s).\" % (val[0], val[1]))"
   ]
  }
 ],
 "metadata": {
  "kernelspec": {
   "display_name": "Python 3.8.13 64-bit ('shims')",
   "language": "python",
   "name": "python3"
  },
  "language_info": {
   "codemirror_mode": {
    "name": "ipython",
    "version": 3
   },
   "file_extension": ".py",
   "mimetype": "text/x-python",
   "name": "python",
   "nbconvert_exporter": "python",
   "pygments_lexer": "ipython3",
   "version": "3.8.13"
  },
  "vscode": {
   "interpreter": {
    "hash": "9ac03a0a6051494cc606d484d27d20fce22fb7b4d169f583271e11d5ba46a56e"
   }
  }
 },
 "nbformat": 4,
 "nbformat_minor": 5
}
