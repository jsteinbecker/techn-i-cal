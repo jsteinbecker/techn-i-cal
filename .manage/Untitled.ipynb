{
 "cells": [
  {
   "cell_type": "code",
   "execution_count": 1,
   "id": "c0a353bb",
   "metadata": {},
   "outputs": [],
   "source": [
    "import django \n",
    "import os\n",
    "os.environ[\"DJANGO_ALLOW_ASYNC_UNSAFE\"] = \"true\"\n",
    "django.setup()\n",
    "from sch.models import *\n",
    "import datetime as dt\n",
    "from django.db.models import CharField\n",
    "from sch.actions import *\n",
    "from sch.xviews import week"
   ]
  },
  {
   "cell_type": "code",
   "execution_count": 2,
   "id": "8cd541c6",
   "metadata": {
    "tags": []
   },
   "outputs": [],
   "source": [
    "from sch.actions import *\n",
    "from sch.xviews import week"
   ]
  },
  {
   "cell_type": "code",
   "execution_count": 3,
   "id": "019f99a9",
   "metadata": {},
   "outputs": [
    {
     "data": {
      "text/plain": [
       "<WorkdayManager [<Workday: 2022 10 16>, <Workday: 2022 10 17>, <Workday: 2022 10 18>, <Workday: 2022 10 19>, <Workday: 2022 10 20>, <Workday: 2022 10 21>, <Workday: 2022 10 22>]>"
      ]
     },
     "execution_count": 3,
     "metadata": {},
     "output_type": "execute_result"
    }
   ],
   "source": [
    "week.get_days(\"2022-W42\")"
   ]
  },
  {
   "cell_type": "code",
   "execution_count": 4,
   "id": "f6640332",
   "metadata": {},
   "outputs": [
    {
     "data": {
      "text/plain": [
       "<EmployeeManager [<Employee: Josh>, <Employee: Brianna>, <Employee: Danica>, <Employee: David>, <Employee: Nicki>, <Employee: Cheryl>]>"
      ]
     },
     "execution_count": 4,
     "metadata": {},
     "output_type": "execute_result"
    }
   ],
   "source": [
    "emps = Employee.objects.in_other_slot(workday=Workday.objects.get(slug='2022-10-31'),shift=Shift.objects.get(name='7C'))\n",
    "emps = emps.filter(shifts_trained=Shift.objects.get(name='7C'))\n",
    "emps"
   ]
  },
  {
   "cell_type": "code",
   "execution_count": 5,
   "id": "0a591e81",
   "metadata": {},
   "outputs": [
    {
     "data": {
      "text/plain": [
       "28"
      ]
     },
     "execution_count": 5,
     "metadata": {},
     "output_type": "execute_result"
    }
   ],
   "source": [
    "shiftsPerWeek = 0\n",
    "for sft in Shift.objects.filter(start__hour__gte=10, cls='CPhT').values_list('occur_days',flat=True):\n",
    "    shiftsPerWeek += len(sft)\n",
    "shiftsPerWeek"
   ]
  },
  {
   "cell_type": "code",
   "execution_count": 6,
   "id": "2215d9f9",
   "metadata": {},
   "outputs": [],
   "source": []
  },
  {
   "cell_type": "code",
   "execution_count": 22,
   "id": "db89552a",
   "metadata": {},
   "outputs": [
    {
     "data": {
      "text/plain": [
       "['Josh: 13.6% EVENINGS  +++',\n",
       " 'Sabrina: 27.0% EVENINGS  ++++++',\n",
       " 'Brianna: 0.0% EVENINGS  ',\n",
       " 'Molly: 17.7% EVENINGS  ++++',\n",
       " 'Doug: 30.4% EVENINGS  +++++++',\n",
       " 'Brittanie: 0.0% EVENINGS  ',\n",
       " 'Esperanza: 4.5% EVENINGS  +',\n",
       " 'Carrie: 34.4% EVENINGS  ++++++++',\n",
       " 'Elisia: 77.6% EVENINGS  +++++++++++++++++++',\n",
       " 'Jaden: 22.7% EVENINGS  +++++',\n",
       " 'Lynlee: 30.8% EVENINGS  +++++++',\n",
       " 'Carol: 46.9% EVENINGS  +++++++++++',\n",
       " 'Trisha: 25.7% EVENINGS  ++++++',\n",
       " 'Danica: 100.0% EVENINGS  +++++++++++++++++++++++++',\n",
       " 'Tiffany: 24.6% EVENINGS  ++++++',\n",
       " 'Brianna S: 0.0% EVENINGS  ',\n",
       " 'Amanda: 100.0% EVENINGS  +++++++++++++++++++++++++',\n",
       " 'Michael: 100.0% EVENINGS  +++++++++++++++++++++++++',\n",
       " 'Mona: 100.0% EVENINGS  +++++++++++++++++++++++++',\n",
       " 'Mary: 100.0% EVENINGS  +++++++++++++++++++++++++',\n",
       " 'Mark B: 100.0% EVENINGS  +++++++++++++++++++++++++',\n",
       " 'Andrew: 51.6% EVENINGS  ++++++++++++',\n",
       " 'Mei: 100.0% EVENINGS  +++++++++++++++++++++++++',\n",
       " 'Tony: 100.0% EVENINGS  +++++++++++++++++++++++++',\n",
       " 'Sam: 41.4% EVENINGS  ++++++++++',\n",
       " 'David: 61.0% EVENINGS  +++++++++++++++',\n",
       " 'Nicki: 61.2% EVENINGS  +++++++++++++++',\n",
       " 'Kristen: 57.4% EVENINGS  ++++++++++++++',\n",
       " 'Shaun: 36.8% EVENINGS  +++++++++',\n",
       " 'Alex: 55.6% EVENINGS  +++++++++++++',\n",
       " 'Leslie: 0.0% EVENINGS  ',\n",
       " 'Kat: 49.2% EVENINGS  ++++++++++++',\n",
       " 'Bara: 100.0% EVENINGS  +++++++++++++++++++++++++',\n",
       " 'Erin: 0.0% EVENINGS  ',\n",
       " 'Dianne: 100.0% EVENINGS  +++++++++++++++++++++++++',\n",
       " 'Cheryl: 41.8% EVENINGS  ++++++++++',\n",
       " 'Corwin: 0.0% EVENINGS  ']"
      ]
     },
     "execution_count": 22,
     "metadata": {},
     "output_type": "execute_result"
    }
   ],
   "source": [
    "NIGHT_PERCENTS = []\n",
    "for emp in Employee.objects.all():\n",
    "    if Slot.objects.filter(employee=emp).exists():\n",
    "        perc = round(Slot.objects.filter(employee=emp,shift__start__hour__gte=10).count()/Slot.objects.filter(employee=emp).count()*100, 1)\n",
    "        NIGHT_PERCENTS += [f\"{emp}: {perc}% EVENINGS  {int(perc/4) *'+'}\"]\n",
    "        \n",
    "NIGHT_PERCENTS\n",
    "        "
   ]
  },
  {
   "cell_type": "code",
   "execution_count": 8,
   "id": "c457a1da",
   "metadata": {},
   "outputs": [
    {
     "name": "stdout",
     "output_type": "stream",
     "text": [
      "221109-MI Jaden\n",
      "221109-7P Esperanza\n",
      "221109-7C Trisha\n",
      "221109-S Brianna\n",
      "221109-OP Brittanie\n",
      "221109-EI Danica\n",
      "221109-EP Elisia\n",
      "221109-3 Mona\n",
      "221109-N Amanda\n"
     ]
    }
   ],
   "source": [
    "today = Workday.objects.get(date=dt.date.today())\n",
    "today_slots = Slot.objects.filter(workday=today).order_by('shift__start')\n",
    "for slot in today_slots:\n",
    "    if slot.employee.cls == \"CPhT\":\n",
    "        print (slot)"
   ]
  },
  {
   "cell_type": "code",
   "execution_count": 9,
   "id": "f0150f4e",
   "metadata": {},
   "outputs": [
    {
     "name": "stdout",
     "output_type": "stream",
     "text": [
      "221106-RS Corwin\n",
      "221106-EP Cheryl\n",
      "221107-EP Cheryl\n",
      "221108-EP Cheryl\n",
      "221110-EP Cheryl\n",
      "221108-RS Erin\n",
      "221109-RS Erin\n",
      "221111-RS Erin\n",
      "221106-C Kat\n",
      "221110-PC Kat\n",
      "221111-M Kat\n",
      "221111-MI Leslie\n",
      "221107-M Alex\n",
      "221108-E Alex\n",
      "221110-E Alex\n",
      "221107-RS Shaun\n",
      "221108-I Shaun\n",
      "221109-PC Shaun\n",
      "221112-RS Shaun\n",
      "221108-PC Kristen\n"
     ]
    }
   ],
   "source": [
    "weekWds = today.siblings_iweek\n",
    "weekSlots = Slot.objects.filter(workday__in=weekWds).order_by('-employee')\n",
    "for slot in weekSlots[:20]:\n",
    "    print(slot)"
   ]
  },
  {
   "cell_type": "code",
   "execution_count": 10,
   "id": "da43b2f5",
   "metadata": {},
   "outputs": [],
   "source": [
    "def getTradableSlots(slot):\n",
    "    print('INPUT: ', slot)\n",
    "    emp = slot.employee\n",
    "    sft = slot.shift\n",
    "    wd = slot.workday\n",
    "    weekdays = slot.workday.siblings_iweek\n",
    "    daysOn = Slot.objects.filter(workday__in = weekdays,employee = emp).values('workday').distinct()\n",
    "    daysOff = weekdays.exclude(pk__in=daysOn)\n",
    "    print('daysOff:',list(daysOff.values_list('date__day',flat=True)))\n",
    "    tenable = []\n",
    "    slotDaysOff = Slot.objects.filter(workday__in=daysOff, shift__in=emp.shifts_available.all()).order_by('workday')\n",
    "    print(slotDaysOff)\n",
    "    for slotB in slotDaysOff:\n",
    "        if emp in slot.fillableBy():\n",
    "            if slotB.employee in slot.fillableBy():\n",
    "                tenable.append(slotB)\n",
    "    print('tenableTrades:',len(tenable),[f'{i.shift}>{i.workday.date.day}' for i in tenable])\n",
    "    return tenable\n",
    "\n"
   ]
  },
  {
   "cell_type": "code",
   "execution_count": 11,
   "id": "cc9377c9",
   "metadata": {},
   "outputs": [
    {
     "name": "stdout",
     "output_type": "stream",
     "text": [
      "-------------\n",
      "0\n",
      "INPUT:  221025-S Trisha\n",
      "daysOff: [23, 26, 28, 29]\n",
      "<SlotManager [<Slot: 221023-7C Josh>, <Slot: 221023-7P Esperanza>, <Slot: 221023-EP David>, <Slot: 221023-3 Mona>, <Slot: 221023-N Amanda>, <Slot: 221026-MI Brianna>, <Slot: 221026-S Jaden>, <Slot: 221026-7C Nicki>, <Slot: 221026-7P Josh>, <Slot: 221026-OP Brittanie>, <Slot: 221026-EI Danica>, <Slot: 221026-EP Elisia>, <Slot: 221026-3 Mona>, <Slot: 221026-N Amanda>, <Slot: 221028-MI Sabrina>, <Slot: 221028-S Esperanza>, <Slot: 221028-7C Cheryl>, <Slot: 221028-7P Brianna>, <Slot: 221028-OP Brittanie>, <Slot: 221028-EI Tiffany>, '...(remaining elements truncated)...']>\n",
      "tenableTrades: 13 ['7C>23', '7P>23', 'MI>26', 'S>26', '7P>26', 'EI>26', 'S>28', '7P>28', 'EI>28', '3>28', '7C>29', '7P>29', '3>29']\n",
      "-------------\n",
      "0\n",
      "INPUT:  221027-7P Trisha\n",
      "daysOff: [23, 26, 28, 29]\n",
      "<SlotManager [<Slot: 221023-7C Josh>, <Slot: 221023-7P Esperanza>, <Slot: 221023-EP David>, <Slot: 221023-3 Mona>, <Slot: 221023-N Amanda>, <Slot: 221026-MI Brianna>, <Slot: 221026-S Jaden>, <Slot: 221026-7C Nicki>, <Slot: 221026-7P Josh>, <Slot: 221026-OP Brittanie>, <Slot: 221026-EI Danica>, <Slot: 221026-EP Elisia>, <Slot: 221026-3 Mona>, <Slot: 221026-N Amanda>, <Slot: 221028-MI Sabrina>, <Slot: 221028-S Esperanza>, <Slot: 221028-7C Cheryl>, <Slot: 221028-7P Brianna>, <Slot: 221028-OP Brittanie>, <Slot: 221028-EI Tiffany>, '...(remaining elements truncated)...']>\n",
      "tenableTrades: 6 ['7P>23', 'MI>26', 'MI>28', 'S>28', '7P>28', '7P>29']\n",
      "-------------\n",
      "0\n",
      "INPUT:  221024-MI Trisha\n",
      "daysOff: [23, 26, 28, 29]\n",
      "<SlotManager [<Slot: 221023-7C Josh>, <Slot: 221023-7P Esperanza>, <Slot: 221023-EP David>, <Slot: 221023-3 Mona>, <Slot: 221023-N Amanda>, <Slot: 221026-MI Brianna>, <Slot: 221026-S Jaden>, <Slot: 221026-7C Nicki>, <Slot: 221026-7P Josh>, <Slot: 221026-OP Brittanie>, <Slot: 221026-EI Danica>, <Slot: 221026-EP Elisia>, <Slot: 221026-3 Mona>, <Slot: 221026-N Amanda>, <Slot: 221028-MI Sabrina>, <Slot: 221028-S Esperanza>, <Slot: 221028-7C Cheryl>, <Slot: 221028-7P Brianna>, <Slot: 221028-OP Brittanie>, <Slot: 221028-EI Tiffany>, '...(remaining elements truncated)...']>\n",
      "tenableTrades: 13 ['7C>23', '7P>23', 'MI>26', '7P>26', 'EI>26', 'EP>26', 'S>28', '7P>28', 'EI>28', '3>28', '7P>29', 'EP>29', '3>29']\n"
     ]
    }
   ],
   "source": [
    "slots = Slot.objects.filter(employee__name=\"Trisha\",workday__iweek=43,workday__date__year=2022)\n",
    "for slot in slots:\n",
    "    print('-------------')\n",
    "    print(slot.is_turnaround)\n",
    "    getTradableSlots(slot)"
   ]
  },
  {
   "cell_type": "code",
   "execution_count": 12,
   "id": "543fa934",
   "metadata": {},
   "outputs": [
    {
     "data": {
      "text/plain": [
       "<SlotManager [<Slot: 221016-MI Tiffany>, <Slot: 221016-7P Brianna>, <Slot: 221016-C Carrie>, <Slot: 221016-EI Jaden>, <Slot: 221016-EP Elisia>, <Slot: 221016-3 Danica>, <Slot: 221016-R3 Andrew>, <Slot: 221016-RN Mary>, <Slot: 221016-7C David>, <Slot: 221016-RS Shaun>, <Slot: 221017-7P Brianna>, <Slot: 221017-OP Brittanie>, <Slot: 221017-MO Brianna S>, <Slot: 221017-3 Danica>, <Slot: 221017-RN Mary>, <Slot: 221017-S Trisha>, <Slot: 221017-I Molly>, <Slot: 221017-EI Nicki>, <Slot: 221017-EP Cheryl>, <Slot: 221017-E Tony>, '...(remaining elements truncated)...']>"
      ]
     },
     "execution_count": 12,
     "metadata": {},
     "output_type": "execute_result"
    }
   ],
   "source": [
    "wds = Workday.objects.filter(date__year=2022,ischedule=7)\n",
    "ss = Slot.objects.filter(workday__in=wds)\n",
    "ss"
   ]
  },
  {
   "cell_type": "code",
   "execution_count": 13,
   "id": "da3622f0",
   "metadata": {},
   "outputs": [],
   "source": [
    "for slot in Slot.objects.all():\n",
    "    slot.save()"
   ]
  },
  {
   "cell_type": "code",
   "execution_count": 14,
   "id": "be66339b",
   "metadata": {},
   "outputs": [
    {
     "name": "stdout",
     "output_type": "stream",
     "text": [
      "2022 10 30 None\n",
      "2022 10 31 None\n",
      "2022 11 01 None\n",
      "2022 11 02 None\n",
      "2022 11 03 None\n",
      "2022 11 04 None\n",
      "2022 11 05 None\n"
     ]
    }
   ],
   "source": [
    "for wd in Workday.objects.filter(iweek=44):\n",
    "    print(wd,wd.week)"
   ]
  },
  {
   "cell_type": "code",
   "execution_count": 15,
   "id": "14ec5ce1",
   "metadata": {},
   "outputs": [
    {
     "data": {
      "text/plain": [
       "366"
      ]
     },
     "execution_count": 15,
     "metadata": {},
     "output_type": "execute_result"
    }
   ],
   "source": [
    "Workday.objects.all().count()"
   ]
  },
  {
   "cell_type": "code",
   "execution_count": 16,
   "id": "be12b210",
   "metadata": {},
   "outputs": [],
   "source": [
    "from django import forms\n",
    "import datetime as dt\n",
    "class ArticleForm(forms.Form):\n",
    "     title = forms.CharField()\n",
    "     pub_date = forms.DateField()"
   ]
  },
  {
   "cell_type": "code",
   "execution_count": 23,
   "id": "ea485bfd",
   "metadata": {},
   "outputs": [
    {
     "name": "stdout",
     "output_type": "stream",
     "text": [
      "Janet has 9 eggs left over after eating breakfast and baking muffins.\n",
      "Janet makes $18 selling her eggs.\n"
     ]
    }
   ],
   "source": [
    "\"\"\" \n",
    "Janet’s ducks lay 16 eggs per day. She eats three for breakfast \n",
    "every morning and bakes muffins for her friends every day with \n",
    "four. She sells the remainder for $2 per egg. How much does she\n",
    "make every day? SHOW YOUR CALCULATIONS\n",
    "\"\"\"\n",
    "\n",
    "# Define the number of eggs Janet's ducks lay per day.\n",
    "eggs_per_day = 16\n",
    "\n",
    "# Define the number of eggs Janet eats for breakfast every morning.\n",
    "eggs_for_breakfast = 3\n",
    "\n",
    "# Define the number of eggs Janet uses to bake muffins for her friends every day.\n",
    "eggs_for_muffins = 4\n",
    "\n",
    "# Define the price Janet sells her eggs for.\n",
    "eggs_price = 2\n",
    "\n",
    "# Calculate the number of eggs Janet has left over after eating breakfast and baking muffins.\n",
    "eggs_leftover = eggs_per_day - eggs_for_breakfast - eggs_for_muffins\n",
    "\n",
    "# Calculate the amount of money Janet makes selling her eggs.\n",
    "eggs_money = eggs_leftover * eggs_price\n",
    "\n",
    "# Print the number of eggs Janet has left over after eating breakfast and baking muffins.\n",
    "print(\"Janet has \" + str(eggs_leftover) + \" eggs left over after eating breakfast and baking muffins.\")\n",
    "\n",
    "# Print the amount of money Janet makes selling her eggs.\n",
    "print(\"Janet makes $\" + str(eggs_money) + \" selling her eggs.\")"
   ]
  },
  {
   "cell_type": "code",
   "execution_count": null,
   "id": "5897b3e9",
   "metadata": {},
   "outputs": [],
   "source": []
  },
  {
   "cell_type": "code",
   "execution_count": null,
   "id": "45e4264f",
   "metadata": {},
   "outputs": [],
   "source": []
  }
 ],
 "metadata": {
  "kernelspec": {
   "display_name": "Python 3.8.13 64-bit ('shims')",
   "language": "python",
   "name": "python3"
  },
  "language_info": {
   "codemirror_mode": {
    "name": "ipython",
    "version": 3
   },
   "file_extension": ".py",
   "mimetype": "text/x-python",
   "name": "python",
   "nbconvert_exporter": "python",
   "pygments_lexer": "ipython3",
   "version": "3.8.13"
  },
  "vscode": {
   "interpreter": {
    "hash": "9ac03a0a6051494cc606d484d27d20fce22fb7b4d169f583271e11d5ba46a56e"
   }
  }
 },
 "nbformat": 4,
 "nbformat_minor": 5
}
