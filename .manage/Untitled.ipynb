{
 "cells": [
  {
   "cell_type": "code",
   "execution_count": 1,
   "id": "c0a353bb",
   "metadata": {},
   "outputs": [],
   "source": [
    "import django \n",
    "import os\n",
    "os.environ[\"DJANGO_ALLOW_ASYNC_UNSAFE\"] = \"true\"\n",
    "django.setup()\n",
    "from sch.models import *\n",
    "import datetime as dt\n",
    "from django.db.models import CharField\n",
    "from sch.actions import *\n",
    "from sch.xviews import week"
   ]
  },
  {
   "cell_type": "code",
   "execution_count": 18,
   "id": "cb89688b",
   "metadata": {},
   "outputs": [
    {
     "name": "stdout",
     "output_type": "stream",
     "text": [
      "<EmployeeManager [<Employee: Mona>, <Employee: Danica>, <Employee: Josh>, <Employee: Tiffany>]>\n",
      "<SlotManager [{'employee': None}, {'employee': None}, {'employee': None}, {'employee': None}, {'employee': None}, {'employee': None}, {'employee': None}, {'employee': None}, {'employee': None}, {'employee': None}, {'employee': None}, {'employee': None}, {'employee': None}, {'employee': None}, {'employee': None}, {'employee': None}, {'employee': None}]>\n"
     ]
    },
    {
     "data": {
      "text/plain": [
       "<EmployeeManager []>"
      ]
     },
     "execution_count": 18,
     "metadata": {},
     "output_type": "execute_result"
    }
   ],
   "source": [
    "slot = s.slots.all()[200]\n",
    "slot.fillableBy()"
   ]
  },
  {
   "cell_type": "code",
   "execution_count": null,
   "id": "dafc3c07",
   "metadata": {},
   "outputs": [],
   "source": [
    "Schedule.objects.all"
   ]
  },
  {
   "cell_type": "code",
   "execution_count": null,
   "id": "8cd541c6",
   "metadata": {
    "tags": []
   },
   "outputs": [],
   "source": [
    "from sch.actions import *\n",
    "from sch.xviews import week"
   ]
  },
  {
   "cell_type": "code",
   "execution_count": null,
   "id": "019f99a9",
   "metadata": {},
   "outputs": [
    {
     "data": {
      "text/plain": [
       "<WorkdayManager []>"
      ]
     },
     "execution_count": 3,
     "metadata": {},
     "output_type": "execute_result"
    }
   ],
   "source": [
    "week.get_days(\"2022-W42\")"
   ]
  },
  {
   "cell_type": "code",
   "execution_count": null,
   "id": "f6640332",
   "metadata": {},
   "outputs": [
    {
     "ename": "DoesNotExist",
     "evalue": "Workday matching query does not exist.",
     "output_type": "error",
     "traceback": [
      "\u001b[0;31m---------------------------------------------------------------------------\u001b[0m",
      "\u001b[0;31mDoesNotExist\u001b[0m                              Traceback (most recent call last)",
      "\u001b[1;32m/workspace/techn-i-cal/.manage/Untitled.ipynb Cell 4\u001b[0m in \u001b[0;36m<cell line: 1>\u001b[0;34m()\u001b[0m\n\u001b[0;32m----> <a href='vscode-notebook-cell://ssh-remote%2B7b2275736572223a226a747362696f2d746563686e6963616c2d346e347175666736783970222c22686f73744e616d65223a226a747362696f2d746563686e6963616c2d346e3471756667367839702e7373682e77732d757337372e676974706f642e696f227d/workspace/techn-i-cal/.manage/Untitled.ipynb#W3sdnNjb2RlLXJlbW90ZQ%3D%3D?line=0'>1</a>\u001b[0m emps \u001b[39m=\u001b[39m Employee\u001b[39m.\u001b[39mobjects\u001b[39m.\u001b[39min_other_slot(workday\u001b[39m=\u001b[39mWorkday\u001b[39m.\u001b[39;49mobjects\u001b[39m.\u001b[39;49mget(slug\u001b[39m=\u001b[39;49m\u001b[39m'\u001b[39;49m\u001b[39m2022-10-31\u001b[39;49m\u001b[39m'\u001b[39;49m),shift\u001b[39m=\u001b[39mShift\u001b[39m.\u001b[39mobjects\u001b[39m.\u001b[39mget(name__contains\u001b[39m=\u001b[39m\u001b[39m'\u001b[39m\u001b[39m7C\u001b[39m\u001b[39m'\u001b[39m))\n\u001b[1;32m      <a href='vscode-notebook-cell://ssh-remote%2B7b2275736572223a226a747362696f2d746563686e6963616c2d346e347175666736783970222c22686f73744e616d65223a226a747362696f2d746563686e6963616c2d346e3471756667367839702e7373682e77732d757337372e676974706f642e696f227d/workspace/techn-i-cal/.manage/Untitled.ipynb#W3sdnNjb2RlLXJlbW90ZQ%3D%3D?line=1'>2</a>\u001b[0m emps \u001b[39m=\u001b[39m emps\u001b[39m.\u001b[39mfilter(shifts_trained\u001b[39m=\u001b[39mShift\u001b[39m.\u001b[39mobjects\u001b[39m.\u001b[39mget(name__contains\u001b[39m=\u001b[39m\u001b[39m'\u001b[39m\u001b[39m7C\u001b[39m\u001b[39m'\u001b[39m))\n\u001b[1;32m      <a href='vscode-notebook-cell://ssh-remote%2B7b2275736572223a226a747362696f2d746563686e6963616c2d346e347175666736783970222c22686f73744e616d65223a226a747362696f2d746563686e6963616c2d346e3471756667367839702e7373682e77732d757337372e676974706f642e696f227d/workspace/techn-i-cal/.manage/Untitled.ipynb#W3sdnNjb2RlLXJlbW90ZQ%3D%3D?line=2'>3</a>\u001b[0m emps\n",
      "File \u001b[0;32m/workspace/.pyenv_mirror/user/current/lib/python3.8/site-packages/django/db/models/manager.py:85\u001b[0m, in \u001b[0;36mBaseManager._get_queryset_methods.<locals>.create_method.<locals>.manager_method\u001b[0;34m(self, *args, **kwargs)\u001b[0m\n\u001b[1;32m     84\u001b[0m \u001b[39mdef\u001b[39;00m \u001b[39mmanager_method\u001b[39m(\u001b[39mself\u001b[39m, \u001b[39m*\u001b[39margs, \u001b[39m*\u001b[39m\u001b[39m*\u001b[39mkwargs):\n\u001b[0;32m---> 85\u001b[0m     \u001b[39mreturn\u001b[39;00m \u001b[39mgetattr\u001b[39;49m(\u001b[39mself\u001b[39;49m\u001b[39m.\u001b[39;49mget_queryset(), name)(\u001b[39m*\u001b[39;49margs, \u001b[39m*\u001b[39;49m\u001b[39m*\u001b[39;49mkwargs)\n",
      "File \u001b[0;32m/workspace/.pyenv_mirror/user/current/lib/python3.8/site-packages/django/db/models/query.py:650\u001b[0m, in \u001b[0;36mQuerySet.get\u001b[0;34m(self, *args, **kwargs)\u001b[0m\n\u001b[1;32m    648\u001b[0m     \u001b[39mreturn\u001b[39;00m clone\u001b[39m.\u001b[39m_result_cache[\u001b[39m0\u001b[39m]\n\u001b[1;32m    649\u001b[0m \u001b[39mif\u001b[39;00m \u001b[39mnot\u001b[39;00m num:\n\u001b[0;32m--> 650\u001b[0m     \u001b[39mraise\u001b[39;00m \u001b[39mself\u001b[39m\u001b[39m.\u001b[39mmodel\u001b[39m.\u001b[39mDoesNotExist(\n\u001b[1;32m    651\u001b[0m         \u001b[39m\"\u001b[39m\u001b[39m%s\u001b[39;00m\u001b[39m matching query does not exist.\u001b[39m\u001b[39m\"\u001b[39m \u001b[39m%\u001b[39m \u001b[39mself\u001b[39m\u001b[39m.\u001b[39mmodel\u001b[39m.\u001b[39m_meta\u001b[39m.\u001b[39mobject_name\n\u001b[1;32m    652\u001b[0m     )\n\u001b[1;32m    653\u001b[0m \u001b[39mraise\u001b[39;00m \u001b[39mself\u001b[39m\u001b[39m.\u001b[39mmodel\u001b[39m.\u001b[39mMultipleObjectsReturned(\n\u001b[1;32m    654\u001b[0m     \u001b[39m\"\u001b[39m\u001b[39mget() returned more than one \u001b[39m\u001b[39m%s\u001b[39;00m\u001b[39m -- it returned \u001b[39m\u001b[39m%s\u001b[39;00m\u001b[39m!\u001b[39m\u001b[39m\"\u001b[39m\n\u001b[1;32m    655\u001b[0m     \u001b[39m%\u001b[39m (\n\u001b[0;32m   (...)\u001b[0m\n\u001b[1;32m    658\u001b[0m     )\n\u001b[1;32m    659\u001b[0m )\n",
      "\u001b[0;31mDoesNotExist\u001b[0m: Workday matching query does not exist."
     ]
    }
   ],
   "source": [
    "emps = Employee.objects.in_other_slot(workday=Workday.objects.get(slug='2022-10-31'),shift=Shift.objects.get(name__contains='7C'))\n",
    "emps = emps.filter(shifts_trained=Shift.objects.get(name__contains='7C'))\n",
    "emps"
   ]
  },
  {
   "cell_type": "code",
   "execution_count": null,
   "id": "0a591e81",
   "metadata": {},
   "outputs": [
    {
     "data": {
      "text/plain": [
       "28"
      ]
     },
     "execution_count": 26,
     "metadata": {},
     "output_type": "execute_result"
    }
   ],
   "source": [
    "shiftsPerWeek = 0\n",
    "for sft in Shift.objects.filter(start__hour__gte=10, cls='CPhT').values_list('occur_days',flat=True):\n",
    "    shiftsPerWeek += len(sft)\n",
    "shiftsPerWeek"
   ]
  },
  {
   "attachments": {},
   "cell_type": "markdown",
   "id": "edc3f73a",
   "metadata": {},
   "source": [
    "## NIGHT PERCENTAGE OF TOTAL SHIFTS\""
   ]
  },
  {
   "cell_type": "code",
   "execution_count": null,
   "id": "db89552a",
   "metadata": {},
   "outputs": [
    {
     "data": {
      "text/plain": [
       "[]"
      ]
     },
     "execution_count": 27,
     "metadata": {},
     "output_type": "execute_result"
    }
   ],
   "source": [
    "NIGHT_PERCENTS = []\n",
    "for emp in Employee.objects.all():\n",
    "    if Slot.objects.filter(employee=emp).exists():\n",
    "        perc = round(Slot.objects.filter(employee=emp,shift__start__hour__gte=10).count()/Slot.objects.filter(employee=emp).count()*100, 1)\n",
    "        NIGHT_PERCENTS += [f\"{emp}: {perc}% EVENINGS  {int(perc/4) *'+'}\"]\n",
    "        \n",
    "NIGHT_PERCENTS\n",
    "        "
   ]
  },
  {
   "attachments": {},
   "cell_type": "markdown",
   "id": "397ed522",
   "metadata": {},
   "source": [
    "## SLOTS FROM A WEEK"
   ]
  },
  {
   "cell_type": "code",
   "execution_count": null,
   "id": "da43b2f5",
   "metadata": {},
   "outputs": [],
   "source": [
    "def getTradableSlots(slot):\n",
    "    print('INPUT: ', slot)\n",
    "    emp = slot.employee\n",
    "    sft = slot.shift\n",
    "    wd = slot.workday\n",
    "    weekdays = slot.workday.siblings_iweek\n",
    "    daysOn = Slot.objects.filter(workday__in = weekdays,employee = emp).values('workday').distinct()\n",
    "    daysOff = weekdays.exclude(pk__in=daysOn)\n",
    "    print('daysOff:',list(daysOff.values_list('date__day',flat=True)))\n",
    "    tenable = []\n",
    "    slotDaysOff = Slot.objects.filter(workday__in=daysOff, shift__in=emp.shifts_available.all()).order_by('workday')\n",
    "    print(slotDaysOff)\n",
    "    for slotB in slotDaysOff:\n",
    "        if emp in slot.fillableBy():\n",
    "            if slotB.employee in slot.fillableBy():\n",
    "                tenable.append(slotB)\n",
    "    print('tenableTrades:',len(tenable),[f'{i.shift}>{i.workday.date.day}' for i in tenable])\n",
    "    return tenable\n",
    "\n"
   ]
  },
  {
   "cell_type": "code",
   "execution_count": null,
   "id": "cc9377c9",
   "metadata": {},
   "outputs": [],
   "source": [
    "slots = Slot.objects.filter(employee__name=\"Trisha\",workday__iweek=43,workday__date__year=2022)\n",
    "for slot in slots:\n",
    "    print('-------------')\n",
    "    print(slot.is_turnaround)\n",
    "    getTradableSlots(slot)"
   ]
  },
  {
   "cell_type": "code",
   "execution_count": null,
   "id": "543fa934",
   "metadata": {},
   "outputs": [
    {
     "data": {
      "text/plain": [
       "<SlotManager [<Slot: 221016-tMI None>, <Slot: 221016-pI None>, <Slot: 221016-t7C None>, <Slot: 221016-t7P None>, <Slot: 221016-pC None>, <Slot: 221016-tEI None>, <Slot: 221016-tEP None>, <Slot: 221016-p3 None>, <Slot: 221016-tN None>, <Slot: 221016-pN None>, <Slot: 221016-pS None>, <Slot: 221016-pM None>, <Slot: 221016-t3 None>, <Slot: 221017-tMI None>, <Slot: 221017-tS None>, <Slot: 221017-pI None>, <Slot: 221017-t7C None>, <Slot: 221017-t7P None>, <Slot: 221017-pPC None>, <Slot: 221017-tOP None>, '...(remaining elements truncated)...']>"
      ]
     },
     "execution_count": 30,
     "metadata": {},
     "output_type": "execute_result"
    }
   ],
   "source": [
    "wds = Workday.objects.filter(date__year=2022,ischedule=7)\n",
    "ss = Slot.objects.filter(workday__in=wds)\n",
    "ss"
   ]
  },
  {
   "cell_type": "code",
   "execution_count": null,
   "id": "be66339b",
   "metadata": {},
   "outputs": [
    {
     "name": "stdout",
     "output_type": "stream",
     "text": [
      "2022 10 30 ~~~Week: WEEK-2022.44\n",
      "2022 10 31 ~~~Week: WEEK-2022.44\n",
      "2022 11 01 ~~~Week: WEEK-2022.44\n",
      "2022 11 02 ~~~Week: WEEK-2022.44\n",
      "2022 11 03 ~~~Week: WEEK-2022.44\n",
      "2022 11 04 ~~~Week: WEEK-2022.44\n",
      "2022 11 05 ~~~Week: WEEK-2022.44\n"
     ]
    }
   ],
   "source": [
    "for wd in Workday.objects.filter(iweek=44):\n",
    "    print(wd,\"~~~Week:\",wd.week)"
   ]
  },
  {
   "cell_type": "code",
   "execution_count": null,
   "id": "14ec5ce1",
   "metadata": {},
   "outputs": [
    {
     "name": "stdout",
     "output_type": "stream",
     "text": [
      "TOTAL WORKDAYS: 88 \n"
     ]
    }
   ],
   "source": [
    "n = Workday.objects.all().count()\n",
    "print( f\"TOTAL WORKDAYS: {n} \" )"
   ]
  },
  {
   "cell_type": "code",
   "execution_count": null,
   "id": "be12b210",
   "metadata": {},
   "outputs": [],
   "source": [
    "from django import forms\n",
    "import datetime as dt\n",
    "class ArticleForm(forms.Form):\n",
    "     title = forms.CharField()\n",
    "     pub_date = forms.DateField()"
   ]
  },
  {
   "cell_type": "code",
   "execution_count": null,
   "id": "ea485bfd",
   "metadata": {},
   "outputs": [
    {
     "name": "stdout",
     "output_type": "stream",
     "text": [
      "Janet has 9 eggs left over after eating breakfast and baking muffins.\n",
      "Janet makes $18 selling her eggs.\n"
     ]
    }
   ],
   "source": [
    "\"\"\" \n",
    "Janet’s ducks lay 16 eggs per day. She eats three for breakfast \n",
    "every morning and bakes muffins for her friends every day with \n",
    "four. She sells the remainder for $2 per egg. How much does she\n",
    "make every day? SHOW YOUR CALCULATIONS\n",
    "\"\"\"\n",
    "\n",
    "# Define the number of eggs Janet's ducks lay per day.\n",
    "eggs_per_day = 16\n",
    "\n",
    "# Define the number of eggs Janet eats for breakfast every morning.\n",
    "eggs_for_breakfast = 3\n",
    "\n",
    "# Define the number of eggs Janet uses to bake muffins for her friends every day.\n",
    "eggs_for_muffins = 4\n",
    "\n",
    "# Define the price Janet sells her eggs for.\n",
    "eggs_price = 2\n",
    "\n",
    "# Calculate the number of eggs Janet has left over after eating breakfast and baking muffins.\n",
    "eggs_leftover = eggs_per_day - eggs_for_breakfast - eggs_for_muffins\n",
    "\n",
    "# Calculate the amount of money Janet makes selling her eggs.\n",
    "eggs_money = eggs_leftover * eggs_price\n",
    "\n",
    "# Print the number of eggs Janet has left over after eating breakfast and baking muffins.\n",
    "print(\"Janet has \" + str(eggs_leftover) + \" eggs left over after eating breakfast and baking muffins.\")\n",
    "\n",
    "# Print the amount of money Janet makes selling her eggs.\n",
    "print(\"Janet makes $\" + str(eggs_money) + \" selling her eggs.\")"
   ]
  },
  {
   "cell_type": "code",
   "execution_count": null,
   "id": "5897b3e9",
   "metadata": {},
   "outputs": [
    {
     "data": {
      "text/plain": [
       "{}"
      ]
     },
     "execution_count": 35,
     "metadata": {},
     "output_type": "execute_result"
    }
   ],
   "source": [
    "def turnarounds_withTrades ():\n",
    "    tradeable = {}\n",
    "    tas = Slot.objects.filter(is_turnaround=True)|Slot.objects.filter(is_preturnaround=True)\n",
    "    slts = tas.filter(employee__evening_pref=True)\n",
    "    empl_wantsThisSwapped = slts.filter(shift__start__hour__lt=10)\n",
    "    for i in range(empl_wantsThisSwapped.count()):\n",
    "        s = empl_wantsThisSwapped[i]\n",
    "        if s.fillableBy().count() > 0:\n",
    "            if not tradeable.get('pref'):\n",
    "                tradeable['pref'] = []\n",
    "            tradeable['pref'] += [s]\n",
    "    empl_likesThisSlot = slts.filter(shift__start__hour__gte=10)\n",
    "    for i in range(empl_likesThisSlot.count()):\n",
    "        s = empl_likesThisSlot[i]\n",
    "        if s.fillableBy().count() > 0:\n",
    "            if not tradeable.get('nonpref'):\n",
    "                tradeable['nonpref'] = []\n",
    "            tradeable['nonpref'] += [s]\n",
    "    return tradeable\n",
    "    \n",
    "x = turnarounds_withTrades()\n",
    "x"
   ]
  },
  {
   "cell_type": "code",
   "execution_count": null,
   "id": "b2317a75",
   "metadata": {},
   "outputs": [
    {
     "name": "stdout",
     "output_type": "stream",
     "text": [
      "None\n"
     ]
    }
   ],
   "source": [
    "t = {}\n",
    "a = t.get('a')\n",
    "print(a)"
   ]
  },
  {
   "cell_type": "code",
   "execution_count": null,
   "id": "6e306435",
   "metadata": {},
   "outputs": [],
   "source": [
    "def weekSlots_for_Empl (yearN, weekN, employee):\n",
    "    slots = Slot.objects.filter(workday__iweek=weekN,workday__date__year=yearN,employee=employee)\n",
    "    for i in range(7):\n",
    "        s = slots.filter(workday__iweekday=i)\n",
    "        if s.exists() == False:\n",
    "            yield None\n",
    "        else:\n",
    "            yield s.first()\n",
    "            \n",
    "def display_weekSlots_for_Empl (yearN, weekN, employee):\n",
    "    slots = [slot for slot in weekSlots_for_Empl(yearN,weekN,employee)]\n",
    "    wds = 'SUN MON TUE WED THU FRI SAT'.split(' ')\n",
    "    empl = f'{employee}'\n",
    "    \n",
    "    print(f'{yearN}-Week_{weekN} employee schedule:')\n",
    "    print(f'_________ {empl} __________')\n",
    "    for i in range(7):\n",
    "        print(f'{wds[i]}: {slots[i]}')\n",
    "    print('==========================')"
   ]
  },
  {
   "cell_type": "code",
   "execution_count": null,
   "id": "d4e49a7d",
   "metadata": {},
   "outputs": [
    {
     "name": "stdout",
     "output_type": "stream",
     "text": [
      "2022-Week_44 employee schedule:\n",
      "_________ Molly __________\n",
      "SUN: None\n",
      "MON: None\n",
      "TUE: None\n",
      "WED: None\n",
      "THU: None\n",
      "FRI: None\n",
      "SAT: None\n",
      "==========================\n",
      "2022-Week_44 employee schedule:\n",
      "_________ Josh __________\n",
      "SUN: None\n",
      "MON: None\n",
      "TUE: None\n",
      "WED: None\n",
      "THU: None\n",
      "FRI: None\n",
      "SAT: None\n",
      "==========================\n"
     ]
    }
   ],
   "source": [
    "slots = weekSlots_for_Empl(2022,44,Employee.objects.get(name='Josh'))\n",
    "slots = [slot for slot in slots]\n",
    "display_weekSlots_for_Empl(2022,44,Employee.objects.get(name='Molly'))\n",
    "display_weekSlots_for_Empl(2022,44,Employee.objects.get(name='Josh'))"
   ]
  },
  {
   "cell_type": "code",
   "execution_count": null,
   "id": "af4ce5ce",
   "metadata": {},
   "outputs": [
    {
     "name": "stdout",
     "output_type": "stream",
     "text": [
      "COWORK DAYS FOR Josh and Nicki\n",
      "TOTAL FOR SCHEDULE: 0\n",
      "[]\n"
     ]
    }
   ],
   "source": [
    "def emp1_emp2_cowork_days (emp1,emp2,yearN,schN):\n",
    "    jtsSlots = Slot.objects.filter(employee=emp1,workday__date__year=yearN,workday__ischedule=schN)\n",
    "    nkiSlots = Slot.objects.filter(employee=emp2,workday__date__year=yearN,workday__ischedule=schN)\n",
    "    dates = jtsSlots.union(nkiSlots)\n",
    "    dates = dates.values('workday')\n",
    "    for d in dates:\n",
    "        if d in jtsSlots.values('workday'):\n",
    "            if d in nkiSlots.values('workday'):\n",
    "                yield d['workday']\n",
    "                # \"[207,217,223...]\"\n",
    "josh = Employee.objects.get(name=\"Josh\")    \n",
    "nicki = Employee.objects.get(name=\"Nicki\")      \n",
    "xs = emp1_emp2_cowork_days(josh,nicki,2022,5)\n",
    "days = Workday.objects.filter(pk__in=xs)\n",
    "\n",
    "\n",
    "print(f'COWORK DAYS FOR {josh} and {nicki}')\n",
    "print(\"TOTAL FOR SCHEDULE:\", days.count())\n",
    "print(list(days.values_list('slug',flat=True)))\n",
    "\n"
   ]
  },
  {
   "cell_type": "code",
   "execution_count": null,
   "id": "cb5d595f",
   "metadata": {},
   "outputs": [],
   "source": [
    "josh_slots_w_nicki = Slot.objects.filter(workday__in=days,employee=josh)\n",
    "josh_slots_w_nicki \n",
    "for jslot in josh_slots_w_nicki:\n",
    "    nslot = Slot.objects.get(workday=jslot.workday,employee=nicki)\n",
    "    print(jslot,\"  |  \",nslot)"
   ]
  },
  {
   "attachments": {},
   "cell_type": "markdown",
   "id": "fb0c0eef",
   "metadata": {},
   "source": [
    "## Employee Training Comparisons"
   ]
  },
  {
   "cell_type": "code",
   "execution_count": null,
   "id": "1a8a5476",
   "metadata": {},
   "outputs": [
    {
     "name": "stdout",
     "output_type": "stream",
     "text": [
      "Amanda is trained for 1 shift(s).\n",
      "Bara is trained for 1 shift(s).\n",
      "Brianna S is trained for 1 shift(s).\n",
      "Brittanie is trained for 1 shift(s).\n",
      "Corwin is trained for 1 shift(s).\n",
      "Mark B is trained for 1 shift(s).\n",
      "Mary is trained for 1 shift(s).\n",
      "Michael is trained for 1 shift(s).\n",
      "Dianne is trained for 2 shift(s).\n",
      "Mei is trained for 2 shift(s).\n",
      "Erin is trained for 3 shift(s).\n",
      "Kylee is trained for 3 shift(s).\n",
      "Mona is trained for 3 shift(s).\n",
      "Tony is trained for 3 shift(s).\n",
      "Brianna is trained for 4 shift(s).\n",
      "Cheryl is trained for 4 shift(s).\n",
      "David is trained for 4 shift(s).\n",
      "Elisia is trained for 4 shift(s).\n",
      "Nicki is trained for 4 shift(s).\n",
      "Jaden is trained for 5 shift(s).\n",
      "Leslie is trained for 5 shift(s).\n",
      "Kat is trained for 6 shift(s).\n",
      "Esperanza is trained for 7 shift(s).\n",
      "Kristen is trained for 7 shift(s).\n",
      "Sam is trained for 7 shift(s).\n",
      "Tiffany is trained for 7 shift(s).\n",
      "Alex is trained for 8 shift(s).\n",
      "Andrew is trained for 8 shift(s).\n",
      "Carol is trained for 8 shift(s).\n",
      "Carrie is trained for 8 shift(s).\n",
      "Danica is trained for 8 shift(s).\n",
      "Doug is trained for 8 shift(s).\n",
      "Molly is trained for 8 shift(s).\n",
      "Sabrina is trained for 8 shift(s).\n",
      "Trisha is trained for 8 shift(s).\n",
      "Josh is trained for 9 shift(s).\n",
      "Lynlee is trained for 9 shift(s).\n",
      "Shaun is trained for 9 shift(s).\n"
     ]
    }
   ],
   "source": [
    "vals = Employee.objects.annotate(n_shifts_trained=Count('shifts_trained')).order_by('n_shifts_trained').values_list('name','n_shifts_trained')\n",
    "for val in vals:\n",
    "    print (\"%s is trained for %s shift(s).\" % (val[0], val[1]))"
   ]
  },
  {
   "cell_type": "code",
   "execution_count": null,
   "id": "63cffd9f",
   "metadata": {},
   "outputs": [
    {
     "data": {
      "text/plain": [
       "(4, {'sch.Workday': 1, 'sch.Week': 1, 'sch.Period': 1, 'sch.Schedule': 1})"
      ]
     },
     "execution_count": 52,
     "metadata": {},
     "output_type": "execute_result"
    }
   ],
   "source": [
    "Schedule.objects.create()"
   ]
  },
  {
   "cell_type": "code",
   "execution_count": null,
   "id": "3c48d8b0",
   "metadata": {},
   "outputs": [
    {
     "name": "stdout",
     "output_type": "stream",
     "text": [
      "Josh                 4.63 yr. experience\n",
      "Sabrina              4.63 yr. experience\n",
      "Brianna              4.63 yr. experience\n",
      "Molly                5.24 yr. experience\n",
      "Doug                 15.75 yr. experience\n",
      "Brittanie            1.91 yr. experience\n",
      "Esperanza            1.07 yr. experience\n",
      "Carrie               4.63 yr. experience\n",
      "Elisia               0.15 yr. experience\n",
      "Jaden                0.32 yr. experience\n",
      "Lynlee               5.24 yr. experience\n",
      "Carol                4.63 yr. experience\n",
      "Trisha               4.63 yr. experience\n",
      "Danica               1.88 yr. experience\n",
      "Tiffany              1.07 yr. experience\n",
      "Brianna S            4.63 yr. experience\n",
      "Amanda               5.46 yr. experience\n",
      "Michael              4.63 yr. experience\n",
      "Mona                 4.63 yr. experience\n",
      "Mary                 4.63 yr. experience\n",
      "Mark B               4.63 yr. experience\n",
      "Andrew               4.63 yr. experience\n",
      "Mei                  4.63 yr. experience\n",
      "Tony                 13.39 yr. experience\n",
      "Sam                  4.63 yr. experience\n",
      "David                0.49 yr. experience\n",
      "Nicki                4.63 yr. experience\n",
      "Kristen              4.63 yr. experience\n",
      "Shaun                16.83 yr. experience\n",
      "Alex                 4.63 yr. experience\n",
      "Leslie               4.63 yr. experience\n",
      "Kat                  4.63 yr. experience\n",
      "Bara                 4.63 yr. experience\n",
      "Erin                 4.63 yr. experience\n",
      "Dianne               4.63 yr. experience\n",
      "Cheryl               0.65 yr. experience\n",
      "Corwin               4.63 yr. experience\n",
      "Kylee                4.63 yr. experience\n"
     ]
    }
   ],
   "source": [
    "for emp in Employee.objects.all():\n",
    "    print(f\"{emp.name.ljust(20)} {emp.yrs_experience} yr. experience\")"
   ]
  },
  {
   "cell_type": "code",
   "execution_count": null,
   "id": "d6f87d1f",
   "metadata": {},
   "outputs": [
    {
     "data": {
      "text/plain": [
       "datetime.date(2022, 6, 1)"
      ]
     },
     "execution_count": 29,
     "metadata": {},
     "output_type": "execute_result"
    }
   ],
   "source": [
    "b = Employee.objects.get(name=\"David\")\n",
    "b.hire_date = dt.date(2022,6,1)\n",
    "b.save()\n",
    "b.hire_date"
   ]
  },
  {
   "attachments": {},
   "cell_type": "markdown",
   "id": "095227c6",
   "metadata": {},
   "source": [
    "# Low Option Employees"
   ]
  },
  {
   "cell_type": "code",
   "execution_count": null,
   "id": "dd0ed6a5",
   "metadata": {},
   "outputs": [
    {
     "name": "stdout",
     "output_type": "stream",
     "text": [
      "Brittanie 1 <ShiftManager [<Shift: tOP>]>\n",
      "Brianna S 1 <ShiftManager [<Shift: pMO>]>\n",
      "Amanda 1 <ShiftManager [<Shift: tN>]>\n",
      "Michael 1 <ShiftManager [<Shift: tN>]>\n",
      "Mona 3 <ShiftManager [<Shift: tEI>, <Shift: tEP>, <Shift: t3>]>\n",
      "Mary 1 <ShiftManager [<Shift: pN>]>\n",
      "Mark B 1 <ShiftManager [<Shift: pN>]>\n",
      "Mei 2 <ShiftManager [<Shift: p3>, <Shift: pN>]>\n",
      "Tony 3 <ShiftManager [<Shift: pE>, <Shift: p3>, <Shift: pN>]>\n",
      "Corwin 1 <ShiftManager [<Shift: pS>]>\n"
     ]
    }
   ],
   "source": [
    "loe = Employee.objects.filter(fte__gt=0).filter(n_trained__lt=4)\n",
    "for l in loe:\n",
    "    print (l.name, l.n_trained, l.shifts_trained.all())"
   ]
  },
  {
   "cell_type": "code",
   "execution_count": null,
   "id": "034e536f",
   "metadata": {},
   "outputs": [
    {
     "data": {
      "text/plain": [
       "[(<Shift: tMI>, <Shift: tS>),\n",
       " (<Shift: tMI>, <Shift: t7C>),\n",
       " (<Shift: tMI>, <Shift: t7P>),\n",
       " (<Shift: tMI>, <Shift: tOP>),\n",
       " (<Shift: tMI>, <Shift: tEI>),\n",
       " (<Shift: tMI>, <Shift: tEP>),\n",
       " (<Shift: tMI>, <Shift: tN>),\n",
       " (<Shift: tMI>, <Shift: t3>),\n",
       " (<Shift: tS>, <Shift: tMI>),\n",
       " (<Shift: tS>, <Shift: t7C>),\n",
       " (<Shift: tS>, <Shift: t7P>),\n",
       " (<Shift: tS>, <Shift: tOP>),\n",
       " (<Shift: tS>, <Shift: tEI>),\n",
       " (<Shift: tS>, <Shift: tEP>),\n",
       " (<Shift: tS>, <Shift: tN>),\n",
       " (<Shift: tS>, <Shift: t3>),\n",
       " (<Shift: t7C>, <Shift: tMI>),\n",
       " (<Shift: t7C>, <Shift: tS>),\n",
       " (<Shift: t7C>, <Shift: t7P>),\n",
       " (<Shift: t7C>, <Shift: tOP>),\n",
       " (<Shift: t7C>, <Shift: tEI>),\n",
       " (<Shift: t7C>, <Shift: tEP>),\n",
       " (<Shift: t7C>, <Shift: tN>),\n",
       " (<Shift: t7C>, <Shift: t3>),\n",
       " (<Shift: t7P>, <Shift: tMI>),\n",
       " (<Shift: t7P>, <Shift: tS>),\n",
       " (<Shift: t7P>, <Shift: t7C>),\n",
       " (<Shift: t7P>, <Shift: tOP>),\n",
       " (<Shift: t7P>, <Shift: tEI>),\n",
       " (<Shift: t7P>, <Shift: tEP>),\n",
       " (<Shift: t7P>, <Shift: tN>),\n",
       " (<Shift: t7P>, <Shift: t3>),\n",
       " (<Shift: tOP>, <Shift: tMI>),\n",
       " (<Shift: tOP>, <Shift: tS>),\n",
       " (<Shift: tOP>, <Shift: t7C>),\n",
       " (<Shift: tOP>, <Shift: t7P>),\n",
       " (<Shift: tOP>, <Shift: tEI>),\n",
       " (<Shift: tOP>, <Shift: tEP>),\n",
       " (<Shift: tOP>, <Shift: tN>),\n",
       " (<Shift: tOP>, <Shift: t3>),\n",
       " (<Shift: tEI>, <Shift: tMI>),\n",
       " (<Shift: tEI>, <Shift: tS>),\n",
       " (<Shift: tEI>, <Shift: t7C>),\n",
       " (<Shift: tEI>, <Shift: t7P>),\n",
       " (<Shift: tEI>, <Shift: tOP>),\n",
       " (<Shift: tEI>, <Shift: tEP>),\n",
       " (<Shift: tEI>, <Shift: tN>),\n",
       " (<Shift: tEI>, <Shift: t3>),\n",
       " (<Shift: tEP>, <Shift: tMI>),\n",
       " (<Shift: tEP>, <Shift: tS>),\n",
       " (<Shift: tEP>, <Shift: t7C>),\n",
       " (<Shift: tEP>, <Shift: t7P>),\n",
       " (<Shift: tEP>, <Shift: tOP>),\n",
       " (<Shift: tEP>, <Shift: tEI>),\n",
       " (<Shift: tEP>, <Shift: tN>),\n",
       " (<Shift: tEP>, <Shift: t3>),\n",
       " (<Shift: tN>, <Shift: tMI>),\n",
       " (<Shift: tN>, <Shift: tS>),\n",
       " (<Shift: tN>, <Shift: t7C>),\n",
       " (<Shift: tN>, <Shift: t7P>),\n",
       " (<Shift: tN>, <Shift: tOP>),\n",
       " (<Shift: tN>, <Shift: tEI>),\n",
       " (<Shift: tN>, <Shift: tEP>),\n",
       " (<Shift: tN>, <Shift: t3>),\n",
       " (<Shift: t3>, <Shift: tMI>),\n",
       " (<Shift: t3>, <Shift: tS>),\n",
       " (<Shift: t3>, <Shift: t7C>),\n",
       " (<Shift: t3>, <Shift: t7P>),\n",
       " (<Shift: t3>, <Shift: tOP>),\n",
       " (<Shift: t3>, <Shift: tEI>),\n",
       " (<Shift: t3>, <Shift: tEP>),\n",
       " (<Shift: t3>, <Shift: tN>)]"
      ]
     },
     "execution_count": 40,
     "metadata": {},
     "output_type": "execute_result"
    }
   ],
   "source": [
    "import itertools as itr \n",
    "\n",
    "iters = list(itr.permutations(josh.shifts_available.all(), r=2))\n",
    "iters"
   ]
  },
  {
   "cell_type": "code",
   "execution_count": null,
   "id": "21f9f5ff",
   "metadata": {},
   "outputs": [],
   "source": []
  }
 ],
 "metadata": {
  "kernelspec": {
   "display_name": "Python 3.8.13 64-bit ('shims')",
   "language": "python",
   "name": "python3"
  },
  "language_info": {
   "codemirror_mode": {
    "name": "ipython",
    "version": 3
   },
   "file_extension": ".py",
   "mimetype": "text/x-python",
   "name": "python",
   "nbconvert_exporter": "python",
   "pygments_lexer": "ipython3",
   "version": "3.8.13"
  },
  "vscode": {
   "interpreter": {
    "hash": "9ac03a0a6051494cc606d484d27d20fce22fb7b4d169f583271e11d5ba46a56e"
   }
  }
 },
 "nbformat": 4,
 "nbformat_minor": 5
}
